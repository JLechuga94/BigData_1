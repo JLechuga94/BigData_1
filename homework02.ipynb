{
 "cells": [
  {
   "cell_type": "markdown",
   "metadata": {
    "format": "text/markdown"
   },
   "source": [
    "\n",
    "\n",
    "# Propaganda, start the `spark` session\n",
    "\n",
    "> For SQL users, Spark SQL provides state-of-the-art SQL performance and maintains compatibility with Shark/Hive. In particular, like Shark, Spark SQL supports all existing Hive data formats, user-defined functions (UDF), and the Hive metastore.\n",
    "\n",
    "> For Spark users, Spark SQL becomes the narrow-waist for manipulating (semi-) structured data as well as ingesting data from sources that provide schema, such as JSON, Parquet, Hive, or EDWs. It truly unifies SQL and sophisticated analysis, allowing users to mix and match SQL and more imperative programming APIs for advanced analytics.\n",
    "\n",
    "> For open source hackers, Spark SQL proposes a novel, elegant way of building query planners. It is incredibly easy to add new optimizations under this framework.\n",
    "\n",
    "> Internally, a structured query is a Catalyst tree of (logical and physical) relational operators and expressions.\n",
    "\n",
    "\n"
   ]
  },
  {
   "cell_type": "code",
   "execution_count": 1,
   "metadata": {
    "ExecuteTime": {
     "end_time": "2020-03-26T10:25:20.973724Z",
     "start_time": "2020-03-26T10:25:20.136593Z"
    },
    "autoscroll": "auto",
    "options": {
     "caption": false,
     "complete": true,
     "display_data": true,
     "display_stream": true,
     "dpi": 200,
     "echo": true,
     "evaluate": false,
     "f_env": null,
     "f_pos": "htpb",
     "f_size": [
      6,
      4
     ],
     "f_spines": true,
     "fig": true,
     "include": true,
     "name": null,
     "option_string": "evaluate=False",
     "results": "verbatim",
     "term": false,
     "wrap": "output"
    }
   },
   "outputs": [],
   "source": [
    "# import the usual suspects\n",
    "from IPython.core.interactiveshell import InteractiveShell\n",
    "InteractiveShell.ast_node_interactivity = \"all\"\n",
    "import pandas as pd\n",
    "import numpy as np\n",
    "import matplotlib.pyplot as plt\n",
    "import os\n",
    "from pathlib import Path\n",
    "import sys\n",
    "import timeit\n",
    "\n",
    "%matplotlib inline\n",
    "import seaborn as sns\n",
    "\n",
    "sns.set_context(\"notebook\", font_scale=1.2)"
   ]
  },
  {
   "cell_type": "markdown",
   "metadata": {
    "format": "text/markdown"
   },
   "source": [
    "During the session, we will use classes and functions exported by `pyspark`\n"
   ]
  },
  {
   "cell_type": "code",
   "execution_count": 2,
   "metadata": {
    "ExecuteTime": {
     "end_time": "2020-03-26T10:25:21.024900Z",
     "start_time": "2020-03-26T10:25:20.975615Z"
    },
    "autoscroll": "auto",
    "options": {
     "caption": false,
     "complete": true,
     "display_data": true,
     "display_stream": true,
     "dpi": 200,
     "echo": true,
     "evaluate": false,
     "f_env": null,
     "f_pos": "htpb",
     "f_size": [
      6,
      4
     ],
     "f_spines": true,
     "fig": true,
     "include": true,
     "name": null,
     "option_string": "evaluate=False",
     "results": "verbatim",
     "term": false,
     "wrap": "output"
    }
   },
   "outputs": [],
   "source": [
    "# spark\n",
    "from pyspark import SparkConf, SparkContext\n",
    "from pyspark.sql import SparkSession\n",
    "from pyspark.sql import Window\n",
    "from pyspark.sql.functions import col\n",
    "import pyspark.sql.functions as fn\n",
    "from pyspark.sql.catalog import Catalog\n",
    "from pyspark.sql.types import StructType, StructField\n",
    "from pyspark.sql.types import IntegerType, StringType"
   ]
  },
  {
   "cell_type": "markdown",
   "metadata": {},
   "source": [
    "Start the `SparkSession`"
   ]
  },
  {
   "cell_type": "code",
   "execution_count": 3,
   "metadata": {
    "ExecuteTime": {
     "end_time": "2020-03-26T10:25:23.848483Z",
     "start_time": "2020-03-26T10:25:21.200091Z"
    },
    "autoscroll": "auto",
    "options": {
     "caption": false,
     "complete": true,
     "display_data": true,
     "display_stream": true,
     "dpi": 200,
     "echo": true,
     "evaluate": false,
     "f_env": null,
     "f_pos": "htpb",
     "f_size": [
      6,
      4
     ],
     "f_spines": true,
     "fig": true,
     "include": true,
     "name": null,
     "option_string": "evaluate=False",
     "results": "verbatim",
     "term": false,
     "wrap": "output"
    }
   },
   "outputs": [],
   "source": [
    "conf = SparkConf().setAppName(\"Spark SQL Illustrations\")\n",
    "sc = SparkContext(conf=conf)\n",
    "\n",
    "spark = (SparkSession\n",
    "    .builder\n",
    "    .appName(\"Spark SQL\")\n",
    "    .getOrCreate()\n",
    ")"
   ]
  },
  {
   "cell_type": "markdown",
   "metadata": {
    "format": "text/markdown"
   },
   "source": [
    "US Baby Names 1880-2017\n",
    "=======================\n",
    "\n",
    "\n",
    "Description\n",
    ": US baby names provided by the SSA. \n",
    "\n",
    "This dataset contains all names used\n",
    "for at least 5 children of either sex during a year. \n",
    "\n",
    "\n",
    "The file is made of `1924665` lines and  4 columns.\n",
    "\n",
    "```\n",
    "|-- name: string (nullable = true)\n",
    "    |-- n: integer (nullable = true)\n",
    "    |-- sex: string (nullable = true)\n",
    "    |-- year: integer (nullable = true)\n",
    "```\n",
    "\n",
    "Each row indicates for a given name, sex, and year the number of babies \n",
    "of the given sex who were given that name during the given year. Names \n",
    "with less than 5 occurrences during the year were note recorded. \n",
    "\n",
    "|    name|  n|sex|year|\n",
    "|:--------|:---:|:---:|:----:|\n",
    "|  Emilia|112|  F|1985|\n",
    "|   Kelsi|112|  F|1985|\n",
    "|  Margot|112|  F|1985|\n",
    "|  Mariam|112|  F|1985|\n",
    "|Scarlett|112|  F|1985|\n",
    "\n",
    "First, we download the data if it's not there yet"
   ]
  },
  {
   "cell_type": "code",
   "execution_count": 4,
   "metadata": {
    "ExecuteTime": {
     "end_time": "2020-03-26T10:25:23.912328Z",
     "start_time": "2020-03-26T10:25:23.850000Z"
    }
   },
   "outputs": [],
   "source": [
    "import requests, zipfile, io\n",
    "from pathlib import Path\n",
    "\n",
    "path = Path('babynames_short.csv')\n",
    "if not path.exists():\n",
    "    url = \"https://stephanegaiffas.github.io/big_data_course/data/babynames_short.csv.zip\"\n",
    "    r = requests.get(url)\n",
    "    z = zipfile.ZipFile(io.BytesIO(r.content))\n",
    "    z.extractall(path='./')"
   ]
  },
  {
   "cell_type": "markdown",
   "metadata": {
    "format": "text/markdown"
   },
   "source": [
    "Load `babynames` from a `csv` file"
   ]
  },
  {
   "cell_type": "code",
   "execution_count": 5,
   "metadata": {
    "ExecuteTime": {
     "end_time": "2020-03-26T10:25:27.462016Z",
     "start_time": "2020-03-26T10:25:23.914097Z"
    },
    "autoscroll": "auto",
    "options": {
     "caption": false,
     "complete": true,
     "display_data": true,
     "display_stream": true,
     "dpi": 200,
     "echo": true,
     "evaluate": false,
     "f_env": null,
     "f_pos": "htpb",
     "f_size": [
      6,
      4
     ],
     "f_spines": true,
     "fig": true,
     "include": true,
     "name": null,
     "option_string": "evaluate=False",
     "results": "verbatim",
     "term": false,
     "wrap": "output"
    },
    "scrolled": false
   },
   "outputs": [
    {
     "name": "stdout",
     "output_type": "stream",
     "text": [
      "root\n",
      " |-- name: string (nullable = true)\n",
      " |-- n: integer (nullable = true)\n",
      " |-- sex: string (nullable = true)\n",
      " |-- year: double (nullable = true)\n",
      "\n"
     ]
    }
   ],
   "source": [
    "df_sp = spark.read\\\n",
    "             .format('csv')\\\n",
    "             .option(\"header\", \"true\")\\\n",
    "             .option(\"mode\", \"FAILFAST\")\\\n",
    "             .option(\"inferSchema\", \"true\")\\\n",
    "             .option(\"sep\", \",\")\\\n",
    "             .load(\"babynames_short.csv\")\n",
    "\n",
    "df_sp.printSchema()"
   ]
  },
  {
   "cell_type": "markdown",
   "metadata": {
    "format": "text/markdown"
   },
   "source": [
    "\n",
    "Ensure that the dataframe has the following schema:\n",
    "\n",
    "    root\n",
    "        |-- name: string (nullable = true)\n",
    "        |-- n: integer (nullable = true)\n",
    "        |-- sex: string (nullable = true)\n",
    "        |-- year: integer (nullable = true)\n",
    "\n",
    "\n"
   ]
  },
  {
   "cell_type": "markdown",
   "metadata": {
    "format": "text/markdown"
   },
   "source": [
    "SQL versus spark-Dataframe API\n",
    "=================================\n",
    "\n",
    ">  Dataset API vs SQL\n",
    "\n",
    "> Spark SQL supports two \"modes\" to write structured queries: Dataset API and SQL. SQL Mode is used to express structured queries using SQL statements using SparkSession.sql operator, expr standard function and spark-sql command-line tool.\n",
    "\n",
    "> Some structured queries can be expressed much easier using Dataset API, but there are some that are only possible in SQL. In other words, you may find mixing Dataset API and SQL modes challenging yet rewarding.\n",
    "\n",
    "> What is important, and one of the reasons why Spark SQL has been so successful, is that there is no performance difference between the modes. Whatever mode you use to write your structured queries, they all end up as a tree of Catalyst relational data structures. And, yes, you could consider writing structured queries using Catalyst directly, but that could quickly become unwieldy for maintenance (i.e. finding Spark SQL developers who could be comfortable with it as well as being fairly low-level and therefore possibly too dependent on a specific Spark SQL version).\n",
    "\n",
    "Warmup:  compute the 10 most popular names given to babies in year 2000.\n",
    "======================================================================\n",
    "\n",
    "## Using `spark.sql()`\n",
    "\n",
    "In order to use mode `sql`, create a temporary view from the `DataFrame`.\n",
    "\n",
    "1. What are temporary views made of?\n",
    "1. Are there other kind of views in spark's world?"
   ]
  },
  {
   "cell_type": "code",
   "execution_count": 6,
   "metadata": {
    "ExecuteTime": {
     "end_time": "2020-03-26T10:25:27.588099Z",
     "start_time": "2020-03-26T10:25:27.463486Z"
    },
    "autoscroll": "auto",
    "options": {
     "caption": false,
     "complete": true,
     "display_data": true,
     "display_stream": true,
     "dpi": 200,
     "echo": true,
     "evaluate": false,
     "f_env": null,
     "f_pos": "htpb",
     "f_size": [
      6,
      4
     ],
     "f_spines": true,
     "fig": true,
     "include": true,
     "name": null,
     "option_string": "evaluate=False",
     "results": "verbatim",
     "term": false,
     "wrap": "output"
    }
   },
   "outputs": [],
   "source": [
    "df_sp.createOrReplaceTempView(\"babynames\")"
   ]
  },
  {
   "cell_type": "code",
   "execution_count": 7,
   "metadata": {
    "ExecuteTime": {
     "end_time": "2020-03-26T10:25:27.854458Z",
     "start_time": "2020-03-26T10:25:27.589518Z"
    }
   },
   "outputs": [
    {
     "data": {
      "text/plain": [
       "[Table(name='babynames', database=None, description=None, tableType='TEMPORARY', isTemporary=True)]"
      ]
     },
     "execution_count": 7,
     "metadata": {},
     "output_type": "execute_result"
    }
   ],
   "source": [
    "# TODO: \n",
    "Catalog(spark).listTables()"
   ]
  },
  {
   "cell_type": "markdown",
   "metadata": {
    "format": "text/markdown"
   },
   "source": [
    "\n",
    "## A query is a plain SQL query embodied in a string.\n",
    "\n"
   ]
  },
  {
   "cell_type": "code",
   "execution_count": 8,
   "metadata": {
    "ExecuteTime": {
     "end_time": "2020-03-26T10:25:29.740772Z",
     "start_time": "2020-03-26T10:25:27.856168Z"
    },
    "autoscroll": "auto",
    "options": {
     "caption": false,
     "complete": true,
     "display_data": true,
     "display_stream": true,
     "dpi": 200,
     "echo": true,
     "evaluate": false,
     "f_env": null,
     "f_pos": "htpb",
     "f_size": [
      6,
      4
     ],
     "f_spines": true,
     "fig": true,
     "include": true,
     "name": null,
     "option_string": "evaluate=False",
     "results": "verbatim",
     "term": false,
     "wrap": "output"
    }
   },
   "outputs": [
    {
     "name": "stdout",
     "output_type": "stream",
     "text": [
      "+-----------+---+-----+\n",
      "|       name|sex|    n|\n",
      "+-----------+---+-----+\n",
      "|      Emily|  F|25953|\n",
      "|     Hannah|  F|23080|\n",
      "|    Madison|  F|19967|\n",
      "|     Ashley|  F|17997|\n",
      "|      Sarah|  F|17697|\n",
      "|     Alexis|  F|17629|\n",
      "|   Samantha|  F|17266|\n",
      "|    Jessica|  F|15709|\n",
      "|  Elizabeth|  F|15094|\n",
      "|     Taylor|  F|15078|\n",
      "|      Jacob|  M|34471|\n",
      "|    Michael|  M|32035|\n",
      "|    Matthew|  M|28572|\n",
      "|     Joshua|  M|27538|\n",
      "|Christopher|  M|24931|\n",
      "|   Nicholas|  M|24652|\n",
      "|     Andrew|  M|23639|\n",
      "|     Joseph|  M|22825|\n",
      "|     Daniel|  M|22312|\n",
      "|      Tyler|  M|21503|\n",
      "+-----------+---+-----+\n",
      "\n"
     ]
    }
   ],
   "source": [
    "query = \"\"\"\n",
    "SELECT name, sex, n\n",
    "FROM babynames\n",
    "WHERE year = {0} AND sex = '{1}'\n",
    "ORDER BY n DESC\n",
    "LIMIT 10\n",
    "\"\"\"\n",
    "\n",
    "female_names2000 = spark.sql(query.format(2000, \"F\"))\n",
    "male_names2000 = spark.sql(query.format(2000, \"M\"))\n",
    "\n",
    "female_names2000.union(male_names2000).show()"
   ]
  },
  {
   "cell_type": "markdown",
   "metadata": {
    "format": "text/markdown"
   },
   "source": [
    "\n",
    "> This phrasing is not consistent with the DRY principle. Fix this using formatted strings.\n",
    "\n",
    "## Using the dataframe/dataset API\n",
    "\n",
    "This can also be done using Spark SQL API.\n",
    "\n",
    "### Pedestrian approach\n",
    "\n",
    "1. First select `10` most popular names for girls in year `2000`, define `spark` dataframe\n",
    "`top10_2000_f`.\n",
    "1. Does the definition of `top10_2000_f` involve _transformations_, _actions_ or both?\n",
    "1. What is the type of the result returned by `top10_2000_f.take(2)`? the type of elements of the result?\n",
    "\n"
   ]
  },
  {
   "cell_type": "code",
   "execution_count": 9,
   "metadata": {
    "ExecuteTime": {
     "end_time": "2020-03-26T10:25:30.601185Z",
     "start_time": "2020-03-26T10:25:29.742707Z"
    },
    "autoscroll": "auto",
    "options": {
     "caption": false,
     "complete": true,
     "display_data": true,
     "display_stream": true,
     "dpi": 200,
     "echo": true,
     "evaluate": false,
     "f_env": null,
     "f_pos": "htpb",
     "f_size": [
      6,
      4
     ],
     "f_spines": true,
     "fig": true,
     "include": true,
     "name": null,
     "option_string": "evaluate=False",
     "results": "verbatim",
     "term": false,
     "wrap": "output"
    }
   },
   "outputs": [
    {
     "name": "stdout",
     "output_type": "stream",
     "text": [
      "+---------+-----+---+------+\n",
      "|     name|    n|sex|  year|\n",
      "+---------+-----+---+------+\n",
      "|    Emily|25953|  F|2000.0|\n",
      "|   Hannah|23080|  F|2000.0|\n",
      "|  Madison|19967|  F|2000.0|\n",
      "|   Ashley|17997|  F|2000.0|\n",
      "|    Sarah|17697|  F|2000.0|\n",
      "|   Alexis|17629|  F|2000.0|\n",
      "| Samantha|17266|  F|2000.0|\n",
      "|  Jessica|15709|  F|2000.0|\n",
      "|Elizabeth|15094|  F|2000.0|\n",
      "|   Taylor|15078|  F|2000.0|\n",
      "+---------+-----+---+------+\n",
      "\n"
     ]
    }
   ],
   "source": [
    "top10_2000_f = df_sp.where('sex = \"F\"').where('year = 2000').orderBy(df_sp.n.desc()).limit(10)\n",
    "\n",
    "top10_2000_f.show()"
   ]
  },
  {
   "cell_type": "markdown",
   "metadata": {
    "format": "text/markdown"
   },
   "source": [
    "1. Do the same thing for boys"
   ]
  },
  {
   "cell_type": "code",
   "execution_count": 10,
   "metadata": {
    "ExecuteTime": {
     "end_time": "2020-03-26T10:25:31.352175Z",
     "start_time": "2020-03-26T10:25:30.602673Z"
    },
    "autoscroll": "auto",
    "options": {
     "caption": false,
     "complete": true,
     "display_data": true,
     "display_stream": true,
     "dpi": 200,
     "echo": true,
     "evaluate": false,
     "f_env": null,
     "f_pos": "htpb",
     "f_size": [
      6,
      4
     ],
     "f_spines": true,
     "fig": true,
     "include": true,
     "name": null,
     "option_string": "evaluate=False",
     "results": "verbatim",
     "term": false,
     "wrap": "output"
    }
   },
   "outputs": [
    {
     "name": "stdout",
     "output_type": "stream",
     "text": [
      "+-----------+-----+---+------+\n",
      "|       name|    n|sex|  year|\n",
      "+-----------+-----+---+------+\n",
      "|      Jacob|34471|  M|2000.0|\n",
      "|    Michael|32035|  M|2000.0|\n",
      "|    Matthew|28572|  M|2000.0|\n",
      "|     Joshua|27538|  M|2000.0|\n",
      "|Christopher|24931|  M|2000.0|\n",
      "|   Nicholas|24652|  M|2000.0|\n",
      "|     Andrew|23639|  M|2000.0|\n",
      "|     Joseph|22825|  M|2000.0|\n",
      "|     Daniel|22312|  M|2000.0|\n",
      "|      Tyler|21503|  M|2000.0|\n",
      "+-----------+-----+---+------+\n",
      "\n"
     ]
    }
   ],
   "source": [
    "top10_2000_m = df_sp.where('sex = \"M\"').where('year = 2000').orderBy(df_sp.n.desc()).limit(10)\n",
    "\n",
    "top10_2000_m.show()"
   ]
  },
  {
   "cell_type": "markdown",
   "metadata": {
    "format": "text/markdown"
   },
   "source": [
    "\n",
    "1. Compute the _union_ of the two spark dataframes. Store the result in\n",
    "dataframe `top10_2000`\n",
    "\n"
   ]
  },
  {
   "cell_type": "code",
   "execution_count": 11,
   "metadata": {
    "ExecuteTime": {
     "end_time": "2020-03-26T10:25:32.845306Z",
     "start_time": "2020-03-26T10:25:31.353708Z"
    },
    "autoscroll": "auto",
    "options": {
     "caption": false,
     "complete": true,
     "display_data": true,
     "display_stream": true,
     "dpi": 200,
     "echo": true,
     "evaluate": false,
     "f_env": null,
     "f_pos": "htpb",
     "f_size": [
      6,
      4
     ],
     "f_spines": true,
     "fig": true,
     "include": true,
     "name": null,
     "option_string": "evaluate=False",
     "results": "verbatim",
     "term": false,
     "wrap": "output"
    }
   },
   "outputs": [
    {
     "name": "stdout",
     "output_type": "stream",
     "text": [
      "+-----------+-----+---+------+\n",
      "|       name|    n|sex|  year|\n",
      "+-----------+-----+---+------+\n",
      "|      Emily|25953|  F|2000.0|\n",
      "|     Hannah|23080|  F|2000.0|\n",
      "|    Madison|19967|  F|2000.0|\n",
      "|     Ashley|17997|  F|2000.0|\n",
      "|      Sarah|17697|  F|2000.0|\n",
      "|     Alexis|17629|  F|2000.0|\n",
      "|   Samantha|17266|  F|2000.0|\n",
      "|    Jessica|15709|  F|2000.0|\n",
      "|  Elizabeth|15094|  F|2000.0|\n",
      "|     Taylor|15078|  F|2000.0|\n",
      "|      Jacob|34471|  M|2000.0|\n",
      "|    Michael|32035|  M|2000.0|\n",
      "|    Matthew|28572|  M|2000.0|\n",
      "|     Joshua|27538|  M|2000.0|\n",
      "|Christopher|24931|  M|2000.0|\n",
      "|   Nicholas|24652|  M|2000.0|\n",
      "|     Andrew|23639|  M|2000.0|\n",
      "|     Joseph|22825|  M|2000.0|\n",
      "|     Daniel|22312|  M|2000.0|\n",
      "|      Tyler|21503|  M|2000.0|\n",
      "+-----------+-----+---+------+\n",
      "\n"
     ]
    }
   ],
   "source": [
    "top10_2000 = top10_2000_f.union(top10_2000_m)\n",
    "\n",
    "top10_2000.show()"
   ]
  },
  {
   "cell_type": "markdown",
   "metadata": {
    "format": "text/markdown"
   },
   "source": [
    "\n",
    "### Do it again, complying  with DRY principle\n",
    "\n"
   ]
  },
  {
   "cell_type": "code",
   "execution_count": 12,
   "metadata": {
    "ExecuteTime": {
     "end_time": "2020-03-26T10:25:34.239198Z",
     "start_time": "2020-03-26T10:25:32.847767Z"
    },
    "autoscroll": "auto",
    "options": {
     "caption": false,
     "complete": true,
     "display_data": true,
     "display_stream": true,
     "dpi": 200,
     "echo": true,
     "evaluate": false,
     "f_env": null,
     "f_pos": "htpb",
     "f_size": [
      6,
      4
     ],
     "f_spines": true,
     "fig": true,
     "include": true,
     "name": null,
     "option_string": "evaluate=False",
     "results": "verbatim",
     "term": false,
     "wrap": "output"
    }
   },
   "outputs": [
    {
     "name": "stdout",
     "output_type": "stream",
     "text": [
      "+-----------+-----+---+------+\n",
      "|       name|    n|sex|  year|\n",
      "+-----------+-----+---+------+\n",
      "|      Emily|25953|  F|2000.0|\n",
      "|     Hannah|23080|  F|2000.0|\n",
      "|    Madison|19967|  F|2000.0|\n",
      "|     Ashley|17997|  F|2000.0|\n",
      "|      Sarah|17697|  F|2000.0|\n",
      "|     Alexis|17629|  F|2000.0|\n",
      "|   Samantha|17266|  F|2000.0|\n",
      "|    Jessica|15709|  F|2000.0|\n",
      "|  Elizabeth|15094|  F|2000.0|\n",
      "|     Taylor|15078|  F|2000.0|\n",
      "|      Jacob|34471|  M|2000.0|\n",
      "|    Michael|32035|  M|2000.0|\n",
      "|    Matthew|28572|  M|2000.0|\n",
      "|     Joshua|27538|  M|2000.0|\n",
      "|Christopher|24931|  M|2000.0|\n",
      "|   Nicholas|24652|  M|2000.0|\n",
      "|     Andrew|23639|  M|2000.0|\n",
      "|     Joseph|22825|  M|2000.0|\n",
      "|     Daniel|22312|  M|2000.0|\n",
      "|      Tyler|21503|  M|2000.0|\n",
      "+-----------+-----+---+------+\n",
      "\n"
     ]
    }
   ],
   "source": [
    "# TODO: Not sure if this suffices as DRY enough\n",
    "condition = \"sex = '{0}' AND year = {1}\"\n",
    "top10_2000_m_DRY = df_sp.where(condition.format(\"M\", 2000)).orderBy(df_sp.n.desc()).limit(10)\n",
    "top10_2000_f_DRY = df_sp.where(condition.format(\"F\", 2000)).orderBy(df_sp.n.desc()).limit(10)\n",
    "top10_2000_DRY = top10_2000_f_DRY.union(top10_2000_m_DRY)\n",
    "\n",
    "top10_2000_DRY.show()"
   ]
  },
  {
   "cell_type": "markdown",
   "metadata": {},
   "source": [
    "1. Does the definition of top10_2000_f involve transformations_, _actions or both? MISSING!!!\n",
    "1. What is the type of the result returned by `top10_2000_f.take(2)`? List\n",
    "1. What is the type of elements of the result? pyspark.sql.types.Row"
   ]
  },
  {
   "cell_type": "code",
   "execution_count": 13,
   "metadata": {
    "ExecuteTime": {
     "end_time": "2020-03-26T10:25:35.683071Z",
     "start_time": "2020-03-26T10:25:34.240980Z"
    }
   },
   "outputs": [
    {
     "data": {
      "text/plain": [
       "list"
      ]
     },
     "execution_count": 13,
     "metadata": {},
     "output_type": "execute_result"
    },
    {
     "data": {
      "text/plain": [
       "pyspark.sql.types.Row"
      ]
     },
     "execution_count": 13,
     "metadata": {},
     "output_type": "execute_result"
    }
   ],
   "source": [
    "type(top10_2000_f.take(2))\n",
    "type(top10_2000_f.take(2)[0])"
   ]
  },
  {
   "cell_type": "markdown",
   "metadata": {
    "format": "text/markdown"
   },
   "source": [
    "\n",
    "\n",
    "Name portfolio through ages\n",
    "===========================\n",
    "\n",
    "1. Compute for each year and sex the number of distinct names given that year.\n",
    "\n"
   ]
  },
  {
   "cell_type": "code",
   "execution_count": 14,
   "metadata": {
    "ExecuteTime": {
     "end_time": "2020-03-26T10:25:37.061632Z",
     "start_time": "2020-03-26T10:25:35.684394Z"
    },
    "autoscroll": "auto",
    "options": {
     "caption": false,
     "complete": true,
     "display_data": true,
     "display_stream": true,
     "dpi": 200,
     "echo": true,
     "evaluate": false,
     "f_env": null,
     "f_pos": "htpb",
     "f_size": [
      6,
      4
     ],
     "f_spines": true,
     "fig": true,
     "include": true,
     "name": null,
     "option_string": "evaluate=False",
     "results": "verbatim",
     "term": false,
     "wrap": "output"
    }
   },
   "outputs": [
    {
     "name": "stdout",
     "output_type": "stream",
     "text": [
      "+------+---+----------+\n",
      "|  year|sex|n_distinct|\n",
      "+------+---+----------+\n",
      "|1880.0|  F|       942|\n",
      "|1880.0|  M|      1058|\n",
      "|1881.0|  F|       938|\n",
      "|1881.0|  M|       997|\n",
      "|1882.0|  F|      1028|\n",
      "|1882.0|  M|      1099|\n",
      "|1883.0|  F|      1054|\n",
      "|1883.0|  M|      1030|\n",
      "|1884.0|  F|      1172|\n",
      "|1884.0|  M|      1125|\n",
      "|1885.0|  F|      1197|\n",
      "|1885.0|  M|      1097|\n",
      "|1886.0|  F|      1282|\n",
      "|1886.0|  M|      1110|\n",
      "|1887.0|  F|      1306|\n",
      "|1887.0|  M|      1067|\n",
      "|1888.0|  F|      1474|\n",
      "|1888.0|  M|      1177|\n",
      "|1889.0|  F|      1479|\n",
      "|1889.0|  M|      1111|\n",
      "+------+---+----------+\n",
      "only showing top 20 rows\n",
      "\n"
     ]
    }
   ],
   "source": [
    "query_portfolio = \"\"\"\n",
    "SELECT year, sex, count(name) AS n_distinct\n",
    "FROM babynames\n",
    "GROUP BY year, sex\n",
    "ORDER BY year, sex\n",
    "\"\"\"\n",
    "\n",
    "spark.sql(query_portfolio).show(20)"
   ]
  },
  {
   "cell_type": "code",
   "execution_count": 15,
   "metadata": {
    "ExecuteTime": {
     "end_time": "2020-03-26T10:25:38.071238Z",
     "start_time": "2020-03-26T10:25:37.063224Z"
    }
   },
   "outputs": [
    {
     "name": "stdout",
     "output_type": "stream",
     "text": [
      "+------+---+----------+\n",
      "|  year|sex|n_distinct|\n",
      "+------+---+----------+\n",
      "|1880.0|  F|       942|\n",
      "|1880.0|  M|      1058|\n",
      "|1881.0|  F|       938|\n",
      "|1881.0|  M|       997|\n",
      "|1882.0|  F|      1028|\n",
      "|1882.0|  M|      1099|\n",
      "|1883.0|  F|      1054|\n",
      "|1883.0|  M|      1030|\n",
      "|1884.0|  F|      1172|\n",
      "|1884.0|  M|      1125|\n",
      "+------+---+----------+\n",
      "only showing top 10 rows\n",
      "\n"
     ]
    }
   ],
   "source": [
    "nb_names_year_sex = df_sp.groupby(col(\"year\"),col(\"sex\")).agg(fn.count(col(\"name\"))\\\n",
    "                                                              .alias(\"n_distinct\"))\\\n",
    "                                                              .orderBy(col(\"year\"),col(\"sex\")).show(10)"
   ]
  },
  {
   "cell_type": "code",
   "execution_count": 16,
   "metadata": {
    "ExecuteTime": {
     "end_time": "2020-03-26T10:25:44.685756Z",
     "start_time": "2020-03-26T10:25:43.771174Z"
    }
   },
   "outputs": [
    {
     "name": "stdout",
     "output_type": "stream",
     "text": [
      "+------+---+-----+\n",
      "|  year|sex|count|\n",
      "+------+---+-----+\n",
      "|1880.0|  F|  942|\n",
      "|1880.0|  M| 1058|\n",
      "|1881.0|  F|  938|\n",
      "|1881.0|  M|  997|\n",
      "|1882.0|  F| 1028|\n",
      "|1882.0|  M| 1099|\n",
      "|1883.0|  F| 1054|\n",
      "|1883.0|  M| 1030|\n",
      "|1884.0|  F| 1172|\n",
      "|1884.0|  M| 1125|\n",
      "+------+---+-----+\n",
      "only showing top 10 rows\n",
      "\n"
     ]
    }
   ],
   "source": [
    "nb_names_year_sex = df_sp.groupBy([df_sp.year, df_sp.sex]).count()\n",
    "nb_names_year_sex.orderBy(col(\"year\"),col(\"sex\")).show(10)"
   ]
  },
  {
   "cell_type": "markdown",
   "metadata": {
    "format": "text/markdown"
   },
   "source": [
    "1. Plot the evolution of the number of distinct names as a function of  `year`.\n",
    "Use some aesthetics to distinguish sexes."
   ]
  },
  {
   "cell_type": "code",
   "execution_count": 17,
   "metadata": {
    "ExecuteTime": {
     "end_time": "2020-03-26T10:25:46.407061Z",
     "start_time": "2020-03-26T10:25:45.291687Z"
    },
    "autoscroll": "auto",
    "options": {
     "caption": false,
     "complete": true,
     "display_data": true,
     "display_stream": true,
     "dpi": 200,
     "echo": true,
     "evaluate": false,
     "f_env": null,
     "f_pos": "htpb",
     "f_size": [
      6,
      4
     ],
     "f_spines": true,
     "fig": true,
     "include": true,
     "name": null,
     "option_string": "evaluate=False",
     "results": "verbatim",
     "term": false,
     "wrap": "output"
    }
   },
   "outputs": [
    {
     "data": {
      "text/plain": [
       "Text(0.5, 1.0, 'Number of distinct names with more than 5 ocurrences')"
      ]
     },
     "execution_count": 17,
     "metadata": {},
     "output_type": "execute_result"
    },
    {
     "data": {
      "text/plain": [
       "Text(0, 0.5, 'Number of distinct given names')"
      ]
     },
     "execution_count": 17,
     "metadata": {},
     "output_type": "execute_result"
    },
    {
     "data": {
      "image/png": "[encoded data removed]",
      "text/plain": [
       "<Figure size 432x288 with 1 Axes>"
      ]
     },
     "metadata": {},
     "output_type": "display_data"
    }
   ],
   "source": [
    "nb_names_year_sex_pd = nb_names_year_sex.toPandas()\n",
    "\n",
    "sns.set()\n",
    "g = sns.lineplot(x = \"year\",\n",
    "                 y = \"count\",\n",
    "                 hue = \"sex\",\n",
    "                 style = \"sex\",\n",
    "                 data = nb_names_year_sex_pd)\n",
    "\n",
    "g.set_title(\"Number of distinct names with more than 5 ocurrences\")\n",
    "plt.ylabel(\"Number of distinct given names\")\n",
    "plt.show(g)"
   ]
  },
  {
   "cell_type": "markdown",
   "metadata": {
    "format": "text/markdown"
   },
   "source": [
    "\n",
    "\n",
    "Assessing popularity through time\n",
    "=================================\n",
    "\n",
    "1. For each year and sex, compute the total number of births\n",
    "1. Plot the evolution of the sex ratio over time\n",
    "1. For each year, sex, and name compute the percentage of newborns\n",
    "given that name for that given year.\n",
    "\n",
    "\n",
    "> Use `Window` functions.\n",
    "\n"
   ]
  },
  {
   "cell_type": "code",
   "execution_count": 35,
   "metadata": {
    "ExecuteTime": {
     "end_time": "2020-03-26T10:49:31.103534Z",
     "start_time": "2020-03-26T10:49:30.343324Z"
    },
    "autoscroll": "auto",
    "options": {
     "caption": false,
     "complete": true,
     "display_data": true,
     "display_stream": true,
     "dpi": 200,
     "echo": true,
     "evaluate": false,
     "f_env": null,
     "f_pos": "htpb",
     "f_size": [
      6,
      4
     ],
     "f_spines": true,
     "fig": true,
     "include": true,
     "name": null,
     "option_string": "evaluate=False",
     "results": "verbatim",
     "term": false,
     "wrap": "output"
    }
   },
   "outputs": [
    {
     "name": "stdout",
     "output_type": "stream",
     "text": [
      "+------+---+------+\n",
      "|  year|sex| total|\n",
      "+------+---+------+\n",
      "|1880.0|  F| 90993|\n",
      "|1880.0|  M|110491|\n",
      "|1881.0|  F| 91953|\n",
      "|1881.0|  M|100743|\n",
      "|1882.0|  F|107847|\n",
      "|1882.0|  M|113686|\n",
      "|1883.0|  F|112319|\n",
      "|1883.0|  M|104627|\n",
      "|1884.0|  F|129020|\n",
      "|1884.0|  M|114442|\n",
      "|1885.0|  F|133055|\n",
      "|1885.0|  M|107799|\n",
      "|1886.0|  F|144533|\n",
      "|1886.0|  M|110784|\n",
      "|1887.0|  F|145981|\n",
      "|1887.0|  M|101413|\n",
      "|1888.0|  F|178622|\n",
      "|1888.0|  M|120851|\n",
      "|1889.0|  F|178366|\n",
      "|1889.0|  M|110580|\n",
      "+------+---+------+\n",
      "only showing top 20 rows\n",
      "\n"
     ]
    }
   ],
   "source": [
    "df_year_sex_births = df_sp.groupBy(col(\"year\"), col(\"sex\")).agg(fn.sum(col(\"n\")).alias(\"total\"))\\\n",
    "                    .orderBy(col(\"year\"),col(\"sex\"))                \n",
    "df_year_sex_births.show()"
   ]
  },
  {
   "cell_type": "code",
   "execution_count": 119,
   "metadata": {
    "ExecuteTime": {
     "end_time": "2020-03-26T14:28:12.864774Z",
     "start_time": "2020-03-26T14:28:10.681202Z"
    }
   },
   "outputs": [
    {
     "name": "stdout",
     "output_type": "stream",
     "text": [
      "+------+-------+-------+---------+\n",
      "|  year|      F|      M|sex_ratio|\n",
      "+------+-------+-------+---------+\n",
      "|1880.0|  90993| 110491|     1.21|\n",
      "|1881.0|  91953| 100743|      1.1|\n",
      "|1882.0| 107847| 113686|     1.05|\n",
      "|1883.0| 112319| 104627|     0.93|\n",
      "|1884.0| 129020| 114442|     0.89|\n",
      "|1885.0| 133055| 107799|     0.81|\n",
      "|1886.0| 144533| 110784|     0.77|\n",
      "|1887.0| 145981| 101413|     0.69|\n",
      "|1888.0| 178622| 120851|     0.68|\n",
      "|1889.0| 178366| 110580|     0.62|\n",
      "|1890.0| 190376| 111025|     0.58|\n",
      "|1891.0| 185481| 101191|     0.55|\n",
      "|1892.0| 212339| 122036|     0.57|\n",
      "|1893.0| 212905| 112318|     0.53|\n",
      "|1894.0| 222921| 115769|     0.52|\n",
      "|1895.0| 233627| 117395|      0.5|\n",
      "|1896.0| 237918| 119567|      0.5|\n",
      "|1897.0| 234200| 112757|     0.48|\n",
      "|1898.0| 258768| 122690|     0.47|\n",
      "|1899.0| 233023| 106210|     0.46|\n",
      "|1900.0| 299800| 150483|      0.5|\n",
      "|1901.0| 239345| 106469|     0.44|\n",
      "|1902.0| 264076| 122660|     0.46|\n",
      "|1903.0| 261971| 119233|     0.46|\n",
      "|1904.0| 275364| 128125|     0.47|\n",
      "|1905.0| 291619| 132312|     0.45|\n",
      "|1906.0| 295303| 133158|     0.45|\n",
      "|1907.0| 318566| 146829|     0.46|\n",
      "|1908.0| 334313| 154339|     0.46|\n",
      "|1909.0| 347230| 163998|     0.47|\n",
      "|1910.0| 396502| 194213|     0.49|\n",
      "|1911.0| 418309| 225970|     0.54|\n",
      "|1912.0| 558117| 429947|     0.77|\n",
      "|1913.0| 624545| 512566|     0.82|\n",
      "|1914.0| 761576| 654767|     0.86|\n",
      "|1915.0| 983867| 848594|     0.86|\n",
      "|1916.0|1044340| 890094|     0.85|\n",
      "|1917.0|1081282| 925502|     0.86|\n",
      "|1918.0|1157646|1013504|     0.88|\n",
      "|1919.0|1130130| 980136|     0.87|\n",
      "|1920.0|1198290|1064391|     0.89|\n",
      "|1921.0|1233048|1101463|     0.89|\n",
      "|1922.0|1200975|1088221|     0.91|\n",
      "|1923.0|1206369|1096158|     0.91|\n",
      "|1924.0|1248891|1132783|     0.91|\n",
      "|1925.0|1217382|1115944|     0.92|\n",
      "|1926.0|1185379|1110558|     0.94|\n",
      "|1927.0|1192399|1126875|     0.95|\n",
      "|1928.0|1153221|1107618|     0.96|\n",
      "|1929.0|1116517|1075534|     0.96|\n",
      "|1930.0|1125885|1097274|     0.97|\n",
      "|1931.0|1064620|1039451|     0.98|\n",
      "|1932.0|1067071|1044010|     0.98|\n",
      "|1933.0|1007826| 991315|     0.98|\n",
      "|1934.0|1044109|1032398|     0.99|\n",
      "|1935.0|1048493|1041103|     0.99|\n",
      "|1936.0|1040309|1037063|      1.0|\n",
      "|1937.0|1063918|1066452|      1.0|\n",
      "|1938.0|1103340|1108962|     1.01|\n",
      "|1939.0|1096596|1106680|     1.01|\n",
      "|1940.0|1143393|1158985|     1.01|\n",
      "|1941.0|1207984|1228076|     1.02|\n",
      "|1942.0|1350600|1380857|     1.02|\n",
      "|1943.0|1395165|1426962|     1.02|\n",
      "|1944.0|1327153|1362664|     1.03|\n",
      "|1945.0|1307020|1345618|     1.03|\n",
      "|1946.0|1571225|1623821|     1.03|\n",
      "|1947.0|1772694|1829338|     1.03|\n",
      "|1948.0|1697793|1754424|     1.03|\n",
      "|1949.0|1710832|1773699|     1.04|\n",
      "|1950.0|1713151|1790549|     1.05|\n",
      "|1951.0|1800880|1882982|     1.05|\n",
      "|1952.0|1854608|1944564|     1.05|\n",
      "|1953.0|1880924|1971304|     1.05|\n",
      "|1954.0|1941857|2038027|     1.05|\n",
      "|1955.0|1955034|2059007|     1.05|\n",
      "|1956.0|2007432|2113638|     1.05|\n",
      "|1957.0|2044249|2155758|     1.05|\n",
      "|1958.0|2010952|2120705|     1.05|\n",
      "|1959.0|2023092|2133342|     1.05|\n",
      "+------+-------+-------+---------+\n",
      "only showing top 80 rows\n",
      "\n"
     ]
    }
   ],
   "source": [
    "df_sex_ratio = df_year_sex_births.groupBy(\"year\").pivot(\"sex\").sum(\"total\")\\\n",
    "                .withColumn(\"sex_ratio\",fn.round(col(\"M\")/col(\"F\"),2)).orderBy(col(\"year\"))\n",
    "df_sex_ratio.show(80)"
   ]
  },
  {
   "cell_type": "code",
   "execution_count": 39,
   "metadata": {
    "ExecuteTime": {
     "end_time": "2020-03-26T10:50:18.940760Z",
     "start_time": "2020-03-26T10:50:18.572480Z"
    }
   },
   "outputs": [
    {
     "data": {
      "text/plain": [
       "Text(0.5, 1.0, 'Evolution of sex ratio over time')"
      ]
     },
     "execution_count": 39,
     "metadata": {},
     "output_type": "execute_result"
    },
    {
     "data": {
      "text/plain": [
       "Text(0, 0.5, 'Sex ratio value')"
      ]
     },
     "execution_count": 39,
     "metadata": {},
     "output_type": "execute_result"
    },
    {
     "data": {
      "text/plain": [
       "Text(0.5, 0, 'Year')"
      ]
     },
     "execution_count": 39,
     "metadata": {},
     "output_type": "execute_result"
    },
    {
     "data": {
      "image/png": "[encoded data removed]",
      "text/plain": [
       "<Figure size 432x288 with 1 Axes>"
      ]
     },
     "metadata": {},
     "output_type": "display_data"
    }
   ],
   "source": [
    "df_sex_ratio_pd = df_sex_ratio.toPandas()\n",
    "\n",
    "sns.set()\n",
    "g = sns.lineplot(x = \"year\",\n",
    "                 y = \"sex_ratio\",\n",
    "                 data = df_sex_ratio_pd)\n",
    "\n",
    "g.set_title(\"Evolution of sex ratio over time\")\n",
    "plt.ylabel(\"Sex ratio value\")\n",
    "plt.xlabel(\"Year\")\n",
    "plt.show(g)"
   ]
  },
  {
   "cell_type": "markdown",
   "metadata": {},
   "source": [
    "1. For each year, sex, and name compute the percentage of newborns given that name for that given year."
   ]
  },
  {
   "cell_type": "code",
   "execution_count": 135,
   "metadata": {
    "ExecuteTime": {
     "end_time": "2020-03-26T14:52:07.839782Z",
     "start_time": "2020-03-26T14:52:06.024375Z"
    }
   },
   "outputs": [
    {
     "name": "stdout",
     "output_type": "stream",
     "text": [
      "+---------+----+---+------+------------+----------+\n",
      "|     name|   n|sex|  year|total_births|percentage|\n",
      "+---------+----+---+------+------------+----------+\n",
      "|   Carrie| 949|  F|1880.0|      201484|     0.471|\n",
      "|    Clara|1226|  F|1880.0|      201484|    0.6085|\n",
      "|    Grace| 982|  F|1880.0|      201484|    0.4874|\n",
      "|      Ida|1472|  F|1880.0|      201484|    0.7306|\n",
      "|    Annie|1258|  F|1880.0|      201484|    0.6244|\n",
      "|     Cora|1045|  F|1880.0|      201484|    0.5187|\n",
      "|   Nellie| 995|  F|1880.0|      201484|    0.4938|\n",
      "|     Emma|2003|  F|1880.0|      201484|    0.9941|\n",
      "| Margaret|1578|  F|1880.0|      201484|    0.7832|\n",
      "|   Bertha|1320|  F|1880.0|      201484|    0.6551|\n",
      "|    Sarah|1288|  F|1880.0|      201484|    0.6393|\n",
      "|     Ella|1156|  F|1880.0|      201484|    0.5737|\n",
      "| Florence|1063|  F|1880.0|      201484|    0.5276|\n",
      "|   Martha|1040|  F|1880.0|      201484|    0.5162|\n",
      "|    Laura|1012|  F|1880.0|      201484|    0.5023|\n",
      "|     Mary|7065|  F|1880.0|      201484|    3.5065|\n",
      "|     Anna|2604|  F|1880.0|      201484|    1.2924|\n",
      "|Elizabeth|1939|  F|1880.0|      201484|    0.9624|\n",
      "|   Minnie|1746|  F|1880.0|      201484|    0.8666|\n",
      "|    Alice|1414|  F|1880.0|      201484|    0.7018|\n",
      "+---------+----+---+------+------------+----------+\n",
      "only showing top 20 rows\n",
      "\n"
     ]
    }
   ],
   "source": [
    "wintest = Window.partitionBy(\"year\")\n",
    "total = fn.sum(\"n\").over(wintest)\n",
    "percentage = fn.round(100*col(\"n\")/total,4)\n",
    "percentage_year_name = df_sp.withColumn(\"total_births\", total).withColumn(\"percentage\", percentage).orderBy(\"year\")\n",
    "percentage_year_name.show()"
   ]
  },
  {
   "cell_type": "code",
   "execution_count": 130,
   "metadata": {
    "ExecuteTime": {
     "end_time": "2020-03-26T14:32:36.060656Z",
     "start_time": "2020-03-26T14:32:36.053466Z"
    }
   },
   "outputs": [
    {
     "data": {
      "text/plain": [
       "3852228"
      ]
     },
     "execution_count": 130,
     "metadata": {},
     "output_type": "execute_result"
    },
    {
     "data": {
      "text/plain": [
       "0.0024815866272259834"
      ]
     },
     "execution_count": 130,
     "metadata": {},
     "output_type": "execute_result"
    }
   ],
   "source": [
    "1880924+1971304\n",
    "5/201484*100"
   ]
  },
  {
   "cell_type": "markdown",
   "metadata": {
    "format": "text/markdown"
   },
   "source": [
    "\n",
    "1. Compute for each year, sex and name  the `row_number`, `rank`, and `dense_rank`\n",
    "of the name within that year and sex category, when names are sorted by increasing popularity.\n",
    "\n"
   ]
  },
  {
   "cell_type": "code",
   "execution_count": 136,
   "metadata": {
    "ExecuteTime": {
     "end_time": "2020-03-26T14:52:14.030269Z",
     "start_time": "2020-03-26T14:52:10.482359Z"
    },
    "autoscroll": "auto",
    "options": {
     "caption": false,
     "complete": true,
     "display_data": true,
     "display_stream": true,
     "dpi": 200,
     "echo": true,
     "evaluate": false,
     "f_env": null,
     "f_pos": "htpb",
     "f_size": [
      6,
      4
     ],
     "f_spines": true,
     "fig": true,
     "include": true,
     "name": null,
     "option_string": "evaluate=False",
     "results": "verbatim",
     "term": false,
     "wrap": "output"
    }
   },
   "outputs": [
    {
     "name": "stdout",
     "output_type": "stream",
     "text": [
      "+-----------+---+---+------+------------+----------+----------+----+----------+\n",
      "|       name|  n|sex|  year|total_births|percentage|row_number|rank|dense_rank|\n",
      "+-----------+---+---+------+------------+----------+----------+----+----------+\n",
      "|      Handy|  5|  M|1880.0|      201484|    0.0025|       169|   1|         1|\n",
      "|    Mozella|  5|  F|1880.0|      201484|    0.0025|        72|   1|         1|\n",
      "|     Pollie|  5|  F|1880.0|      201484|    0.0025|        84|   1|         1|\n",
      "|        Ely|  5|  M|1880.0|      201484|    0.0025|       152|   1|         1|\n",
      "|      Flora|  5|  M|1880.0|      201484|    0.0025|       160|   1|         1|\n",
      "|       Hunt|  5|  M|1880.0|      201484|    0.0025|       182|   1|         1|\n",
      "|        Ula|  5|  F|1880.0|      201484|    0.0025|       103|   1|         1|\n",
      "|       Vann|  5|  M|1880.0|      201484|    0.0025|       249|   1|         1|\n",
      "|    Sampson|  5|  M|1880.0|      201484|    0.0025|       236|   1|         1|\n",
      "|      Tommy|  5|  M|1880.0|      201484|    0.0025|       247|   1|         1|\n",
      "|     Worthy|  5|  M|1880.0|      201484|    0.0025|       254|   1|         1|\n",
      "|       Chin|  5|  M|1880.0|      201484|    0.0025|       137|   1|         1|\n",
      "|    Mahalia|  5|  F|1880.0|      201484|    0.0025|        64|   1|         1|\n",
      "| Margaretta|  5|  F|1880.0|      201484|    0.0025|        68|   1|         1|\n",
      "|    Chesley|  5|  M|1880.0|      201484|    0.0025|       136|   1|         1|\n",
      "|  Margarita|  5|  F|1880.0|      201484|    0.0025|        69|   1|         1|\n",
      "|    Marilla|  5|  F|1880.0|      201484|    0.0025|        70|   1|         1|\n",
      "|       Duff|  5|  M|1880.0|      201484|    0.0025|       144|   1|         1|\n",
      "|       Omie|  5|  F|1880.0|      201484|    0.0025|        76|   1|         1|\n",
      "|      Edith|  5|  M|1880.0|      201484|    0.0025|       146|   1|         1|\n",
      "|       Elie|  5|  M|1880.0|      201484|    0.0025|       148|   1|         1|\n",
      "|      Elroy|  5|  M|1880.0|      201484|    0.0025|       151|   1|         1|\n",
      "|    Enrique|  5|  M|1880.0|      201484|    0.0025|       154|   1|         1|\n",
      "|       Esau|  5|  M|1880.0|      201484|    0.0025|       156|   1|         1|\n",
      "|     Halsey|  5|  M|1880.0|      201484|    0.0025|       168|   1|         1|\n",
      "|    Fleming|  5|  M|1880.0|      201484|    0.0025|       159|   1|         1|\n",
      "|      Dosha|  5|  F|1880.0|      201484|    0.0025|        20|   1|         1|\n",
      "|      Gorge|  5|  M|1880.0|      201484|    0.0025|       163|   1|         1|\n",
      "|   Gregorio|  5|  M|1880.0|      201484|    0.0025|       165|   1|         1|\n",
      "|   Gustavus|  5|  M|1880.0|      201484|    0.0025|       167|   1|         1|\n",
      "|       Harl|  5|  M|1880.0|      201484|    0.0025|       171|   1|         1|\n",
      "|    Hershel|  5|  M|1880.0|      201484|    0.0025|       175|   1|         1|\n",
      "|      Roena|  5|  F|1880.0|      201484|    0.0025|        87|   1|         1|\n",
      "|        Kit|  5|  M|1880.0|      201484|    0.0025|       195|   1|         1|\n",
      "|     Elaine|  5|  F|1880.0|      201484|    0.0025|        22|   1|         1|\n",
      "|   Humphrey|  5|  M|1880.0|      201484|    0.0025|       181|   1|         1|\n",
      "|      Jewel|  5|  M|1880.0|      201484|    0.0025|       188|   1|         1|\n",
      "|  Tennessee|  5|  F|1880.0|      201484|    0.0025|        97|   1|         1|\n",
      "|      Jabez|  5|  M|1880.0|      201484|    0.0025|       187|   1|         1|\n",
      "|      Kelly|  5|  M|1880.0|      201484|    0.0025|       194|   1|         1|\n",
      "|  Katherine|  5|  M|1880.0|      201484|    0.0025|       193|   1|         1|\n",
      "|     Malcom|  5|  M|1880.0|      201484|    0.0025|       207|   1|         1|\n",
      "|        Ena|  5|  F|1880.0|      201484|    0.0025|        27|   1|         1|\n",
      "|     Layton|  5|  M|1880.0|      201484|    0.0025|       199|   1|         1|\n",
      "|    Linwood|  5|  M|1880.0|      201484|    0.0025|       203|   1|         1|\n",
      "|     Thelma|  5|  F|1880.0|      201484|    0.0025|       101|   1|         1|\n",
      "|       Nate|  5|  M|1880.0|      201484|    0.0025|       218|   1|         1|\n",
      "|      Genie|  5|  F|1880.0|      201484|    0.0025|        31|   1|         1|\n",
      "|     Myrtle|  5|  M|1880.0|      201484|    0.0025|       217|   1|         1|\n",
      "|     Manson|  5|  M|1880.0|      201484|    0.0025|       209|   1|         1|\n",
      "|     Mattie|  5|  M|1880.0|      201484|    0.0025|       211|   1|         1|\n",
      "|      Miner|  5|  M|1880.0|      201484|    0.0025|       213|   1|         1|\n",
      "|     Moroni|  5|  M|1880.0|      201484|    0.0025|       215|   1|         1|\n",
      "|  Nathanial|  5|  M|1880.0|      201484|    0.0025|       219|   1|         1|\n",
      "|      Orrie|  5|  M|1880.0|      201484|    0.0025|       226|   1|         1|\n",
      "|      Estie|  5|  F|1880.0|      201484|    0.0025|        28|   1|         1|\n",
      "|    Phineas|  5|  M|1880.0|      201484|    0.0025|       229|   1|         1|\n",
      "|     Payton|  5|  M|1880.0|      201484|    0.0025|       227|   1|         1|\n",
      "|     Ransom|  5|  M|1880.0|      201484|    0.0025|       231|   1|         1|\n",
      "|      Ashby|  5|  M|1880.0|      201484|    0.0025|       117|   1|         1|\n",
      "|    Roswell|  5|  M|1880.0|      201484|    0.0025|       234|   1|         1|\n",
      "|     Barton|  5|  M|1880.0|      201484|    0.0025|       124|   1|         1|\n",
      "|     Santos|  5|  M|1880.0|      201484|    0.0025|       238|   1|         1|\n",
      "|    Aurthur|  5|  M|1880.0|      201484|    0.0025|       119|   1|         1|\n",
      "|   Starling|  5|  M|1880.0|      201484|    0.0025|       242|   1|         1|\n",
      "|   Spurgeon|  5|  M|1880.0|      201484|    0.0025|       241|   1|         1|\n",
      "|  Theophile|  5|  M|1880.0|      201484|    0.0025|       245|   1|         1|\n",
      "|    Unknown|  5|  M|1880.0|      201484|    0.0025|       248|   1|         1|\n",
      "|    Barnett|  5|  M|1880.0|      201484|    0.0025|       122|   1|         1|\n",
      "|     Tilmon|  5|  M|1880.0|      201484|    0.0025|       246|   1|         1|\n",
      "|Bartholomew|  5|  M|1880.0|      201484|    0.0025|       123|   1|         1|\n",
      "|      Lella|  5|  F|1880.0|      201484|    0.0025|        51|   1|         1|\n",
      "|     Judith|  5|  F|1880.0|      201484|    0.0025|        47|   1|         1|\n",
      "|       Judy|  5|  F|1880.0|      201484|    0.0025|        48|   1|         1|\n",
      "|      Junie|  5|  F|1880.0|      201484|    0.0025|        49|   1|         1|\n",
      "|      Celie|  5|  F|1880.0|      201484|    0.0025|        12|   1|         1|\n",
      "|   Adrienne|  5|  F|1880.0|      201484|    0.0025|         3|   1|         1|\n",
      "|        Wes|  5|  M|1880.0|      201484|    0.0025|       250|   1|         1|\n",
      "|    Lavonia|  5|  F|1880.0|      201484|    0.0025|        50|   1|         1|\n",
      "|      Edgar|  5|  F|1880.0|      201484|    0.0025|        21|   1|         1|\n",
      "|      Lemma|  5|  F|1880.0|      201484|    0.0025|        52|   1|         1|\n",
      "|  Charlotta|  5|  F|1880.0|      201484|    0.0025|        13|   1|         1|\n",
      "|      Letty|  5|  F|1880.0|      201484|    0.0025|        53|   1|         1|\n",
      "|      Linna|  5|  F|1880.0|      201484|    0.0025|        54|   1|         1|\n",
      "|     Littie|  5|  F|1880.0|      201484|    0.0025|        55|   1|         1|\n",
      "|      Clair|  5|  F|1880.0|      201484|    0.0025|        14|   1|         1|\n",
      "|     Lollie|  5|  F|1880.0|      201484|    0.0025|        56|   1|         1|\n",
      "|     Lorene|  5|  F|1880.0|      201484|    0.0025|        57|   1|         1|\n",
      "|      Louis|  5|  F|1880.0|      201484|    0.0025|        58|   1|         1|\n",
      "|       Love|  5|  F|1880.0|      201484|    0.0025|        59|   1|         1|\n",
      "|       Lynn|  5|  F|1880.0|      201484|    0.0025|        62|   1|         1|\n",
      "| Concepcion|  5|  F|1880.0|      201484|    0.0025|        15|   1|         1|\n",
      "|     Lovisa|  5|  F|1880.0|      201484|    0.0025|        60|   1|         1|\n",
      "|     Lucina|  5|  F|1880.0|      201484|    0.0025|        61|   1|         1|\n",
      "|   Cordella|  5|  F|1880.0|      201484|    0.0025|        16|   1|         1|\n",
      "|    Winston|  5|  M|1880.0|      201484|    0.0025|       251|   1|         1|\n",
      "|     Madora|  5|  F|1880.0|      201484|    0.0025|        63|   1|         1|\n",
      "|    Bradley|  5|  M|1880.0|      201484|    0.0025|       130|   1|         1|\n",
      "|     Woodie|  5|  M|1880.0|      201484|    0.0025|       253|   1|         1|\n",
      "|     Adelle|  5|  F|1880.0|      201484|    0.0025|         1|   1|         1|\n",
      "|       Wood|  5|  M|1880.0|      201484|    0.0025|       252|   1|         1|\n",
      "|       Alys|  5|  F|1880.0|      201484|    0.0025|         5|   1|         1|\n",
      "|       York|  5|  M|1880.0|      201484|    0.0025|       256|   1|         1|\n",
      "|     Wright|  5|  M|1880.0|      201484|    0.0025|       255|   1|         1|\n",
      "|   Bradford|  5|  M|1880.0|      201484|    0.0025|       129|   1|         1|\n",
      "|  Zachariah|  5|  M|1880.0|      201484|    0.0025|       257|   1|         1|\n",
      "|     Brooks|  5|  M|1880.0|      201484|    0.0025|       131|   1|         1|\n",
      "|    Manuela|  5|  F|1880.0|      201484|    0.0025|        66|   1|         1|\n",
      "|   Manervia|  5|  F|1880.0|      201484|    0.0025|        65|   1|         1|\n",
      "|       Buck|  5|  M|1880.0|      201484|    0.0025|       132|   1|         1|\n",
      "|  Albertine|  5|  F|1880.0|      201484|    0.0025|         4|   1|         1|\n",
      "|       Budd|  5|  M|1880.0|      201484|    0.0025|       133|   1|         1|\n",
      "|     Ceylon|  5|  M|1880.0|      201484|    0.0025|       134|   1|         1|\n",
      "|  Margarett|  5|  F|1880.0|      201484|    0.0025|        67|   1|         1|\n",
      "|        Ana|  5|  F|1880.0|      201484|    0.0025|         6|   1|         1|\n",
      "|   Chalmers|  5|  M|1880.0|      201484|    0.0025|       135|   1|         1|\n",
      "|    Corrine|  5|  F|1880.0|      201484|    0.0025|        17|   1|         1|\n",
      "|       Cleo|  5|  M|1880.0|      201484|    0.0025|       138|   1|         1|\n",
      "|   Crockett|  5|  M|1880.0|      201484|    0.0025|       139|   1|         1|\n",
      "|      Cyril|  5|  M|1880.0|      201484|    0.0025|       140|   1|         1|\n",
      "|      Daisy|  5|  M|1880.0|      201484|    0.0025|       141|   1|         1|\n",
      "|     Denver|  5|  M|1880.0|      201484|    0.0025|       142|   1|         1|\n",
      "|     Mignon|  5|  F|1880.0|      201484|    0.0025|        71|   1|         1|\n",
      "|        Dow|  5|  M|1880.0|      201484|    0.0025|       143|   1|         1|\n",
      "|       Edie|  5|  M|1880.0|      201484|    0.0025|       145|   1|         1|\n",
      "|     Delila|  5|  F|1880.0|      201484|    0.0025|        18|   1|         1|\n",
      "|    Natalie|  5|  F|1880.0|      201484|    0.0025|        73|   1|         1|\n",
      "|      Elick|  5|  M|1880.0|      201484|    0.0025|       147|   1|         1|\n",
      "|      Nelia|  5|  F|1880.0|      201484|    0.0025|        74|   1|         1|\n",
      "|      Eliga|  5|  M|1880.0|      201484|    0.0025|       149|   1|         1|\n",
      "|     Eliseo|  5|  M|1880.0|      201484|    0.0025|       150|   1|         1|\n",
      "|      Nolie|  5|  F|1880.0|      201484|    0.0025|        75|   1|         1|\n",
      "|      Ennis|  5|  M|1880.0|      201484|    0.0025|       153|   1|         1|\n",
      "|   Delphine|  5|  F|1880.0|      201484|    0.0025|        19|   1|         1|\n",
      "|       Opal|  5|  F|1880.0|      201484|    0.0025|        77|   1|         1|\n",
      "|    Erasmus|  5|  M|1880.0|      201484|    0.0025|       155|   1|         1|\n",
      "|      Ossie|  5|  F|1880.0|      201484|    0.0025|        78|   1|         1|\n",
      "|   Everette|  5|  M|1880.0|      201484|    0.0025|       157|   1|         1|\n",
      "|     Firman|  5|  M|1880.0|      201484|    0.0025|       158|   1|         1|\n",
      "|      Ottie|  5|  F|1880.0|      201484|    0.0025|        79|   1|         1|\n",
      "|    Ottilia|  5|  F|1880.0|      201484|    0.0025|        80|   1|         1|\n",
      "|    Gardner|  5|  M|1880.0|      201484|    0.0025|       161|   1|         1|\n",
      "|        Gee|  5|  M|1880.0|      201484|    0.0025|       162|   1|         1|\n",
      "|  Parthenia|  5|  F|1880.0|      201484|    0.0025|        81|   1|         1|\n",
      "|   Gottlieb|  5|  M|1880.0|      201484|    0.0025|       164|   1|         1|\n",
      "|   Penelope|  5|  F|1880.0|      201484|    0.0025|        82|   1|         1|\n",
      "|     Pinkey|  5|  F|1880.0|      201484|    0.0025|        83|   1|         1|\n",
      "|    Gregory|  5|  M|1880.0|      201484|    0.0025|       166|   1|         1|\n",
      "|      Adina|  5|  F|1880.0|      201484|    0.0025|         2|   1|         1|\n",
      "|   Araminta|  5|  F|1880.0|      201484|    0.0025|         7|   1|         1|\n",
      "|     Rennie|  5|  F|1880.0|      201484|    0.0025|        85|   1|         1|\n",
      "|     Hardie|  5|  M|1880.0|      201484|    0.0025|       170|   1|         1|\n",
      "|       Reta|  5|  F|1880.0|      201484|    0.0025|        86|   1|         1|\n",
      "|     Hayden|  5|  M|1880.0|      201484|    0.0025|       172|   1|         1|\n",
      "|       Hays|  5|  M|1880.0|      201484|    0.0025|       173|   1|         1|\n",
      "|     Hermon|  5|  M|1880.0|      201484|    0.0025|       174|   1|         1|\n",
      "|      Holly|  5|  M|1880.0|      201484|    0.0025|       176|   1|         1|\n",
      "|       Hoyt|  5|  M|1880.0|      201484|    0.0025|       178|   1|         1|\n",
      "|    Rosalee|  5|  F|1880.0|      201484|    0.0025|        88|   1|         1|\n",
      "|    Hosteen|  5|  M|1880.0|      201484|    0.0025|       177|   1|         1|\n",
      "|     Hudson|  5|  M|1880.0|      201484|    0.0025|       179|   1|         1|\n",
      "|   Roseanna|  5|  F|1880.0|      201484|    0.0025|        89|   1|         1|\n",
      "|     Ruthie|  5|  F|1880.0|      201484|    0.0025|        90|   1|         1|\n",
      "|       Huey|  5|  M|1880.0|      201484|    0.0025|       180|   1|         1|\n",
      "|      Sabra|  5|  F|1880.0|      201484|    0.0025|        91|   1|         1|\n",
      "|     Sannie|  5|  F|1880.0|      201484|    0.0025|        92|   1|         1|\n",
      "|      Hyrum|  5|  M|1880.0|      201484|    0.0025|       183|   1|         1|\n",
      "|      Irven|  5|  M|1880.0|      201484|    0.0025|       184|   1|         1|\n",
      "|      Elisa|  5|  F|1880.0|      201484|    0.0025|        23|   1|         1|\n",
      "|       Isam|  5|  M|1880.0|      201484|    0.0025|       185|   1|         1|\n",
      "|        Ivy|  5|  M|1880.0|      201484|    0.0025|       186|   1|         1|\n",
      "|     Selena|  5|  F|1880.0|      201484|    0.0025|        93|   1|         1|\n",
      "|      Sibyl|  5|  F|1880.0|      201484|    0.0025|        94|   1|         1|\n",
      "|      Tella|  5|  F|1880.0|      201484|    0.0025|        95|   1|         1|\n",
      "|      Jodie|  5|  M|1880.0|      201484|    0.0025|       189|   1|         1|\n",
      "|       Judd|  5|  M|1880.0|      201484|    0.0025|       190|   1|         1|\n",
      "|      Ellar|  5|  F|1880.0|      201484|    0.0025|        24|   1|         1|\n",
      "|    Julious|  5|  M|1880.0|      201484|    0.0025|       191|   1|         1|\n",
      "|    Justice|  5|  M|1880.0|      201484|    0.0025|       192|   1|         1|\n",
      "|     Tempie|  5|  F|1880.0|      201484|    0.0025|        96|   1|         1|\n",
      "|   Leonidas|  5|  M|1880.0|      201484|    0.0025|       200|   1|         1|\n",
      "|    Teressa|  5|  F|1880.0|      201484|    0.0025|        98|   1|         1|\n",
      "|     Arthur|  5|  F|1880.0|      201484|    0.0025|         8|   1|         1|\n",
      "|      Knute|  5|  M|1880.0|      201484|    0.0025|       196|   1|         1|\n",
      "|     Lavern|  5|  M|1880.0|      201484|    0.0025|       197|   1|         1|\n",
      "|     Lawyer|  5|  M|1880.0|      201484|    0.0025|       198|   1|         1|\n",
      "|      Texas|  5|  F|1880.0|      201484|    0.0025|        99|   1|         1|\n",
      "|      Lewie|  5|  M|1880.0|      201484|    0.0025|       201|   1|         1|\n",
      "|      Theda|  5|  F|1880.0|      201484|    0.0025|       100|   1|         1|\n",
      "|     Elmire|  5|  F|1880.0|      201484|    0.0025|        25|   1|         1|\n",
      "|     Lillie|  5|  M|1880.0|      201484|    0.0025|       202|   1|         1|\n",
      "|      Loran|  5|  M|1880.0|      201484|    0.0025|       204|   1|         1|\n",
      "|       Mace|  5|  M|1880.0|      201484|    0.0025|       206|   1|         1|\n",
      "|     Thursa|  5|  F|1880.0|      201484|    0.0025|       102|   1|         1|\n",
      "|      Lorin|  5|  M|1880.0|      201484|    0.0025|       205|   1|         1|\n",
      "|     Elvina|  5|  F|1880.0|      201484|    0.0025|        26|   1|         1|\n",
      "|   Georgina|  5|  F|1880.0|      201484|    0.0025|        32|   1|         1|\n",
      "|      Manly|  5|  M|1880.0|      201484|    0.0025|       208|   1|         1|\n",
      "|     Vannie|  5|  F|1880.0|      201484|    0.0025|       104|   1|         1|\n",
      "|   Matthias|  5|  M|1880.0|      201484|    0.0025|       210|   1|         1|\n",
      "|     Verona|  5|  F|1880.0|      201484|    0.0025|       105|   1|         1|\n",
      "|     Vertie|  5|  F|1880.0|      201484|    0.0025|       106|   1|         1|\n",
      "|     Merida|  5|  M|1880.0|      201484|    0.0025|       212|   1|         1|\n",
      "| Montgomery|  5|  M|1880.0|      201484|    0.0025|       214|   1|         1|\n",
      "|       Brad|  5|  M|1880.0|      201484|    0.0025|       128|   1|         1|\n",
      "|      Wilma|  5|  F|1880.0|      201484|    0.0025|       107|   1|         1|\n",
      "|         Ab|  5|  M|1880.0|      201484|    0.0025|       108|   1|         1|\n",
      "|    Murdock|  5|  M|1880.0|      201484|    0.0025|       216|   1|         1|\n",
      "|     Boston|  5|  M|1880.0|      201484|    0.0025|       127|   1|         1|\n",
      "|     Blaine|  5|  M|1880.0|      201484|    0.0025|       126|   1|         1|\n",
      "|      Glenn|  5|  F|1880.0|      201484|    0.0025|        33|   1|         1|\n",
      "|  Gwendolyn|  5|  F|1880.0|      201484|    0.0025|        36|   1|         1|\n",
      "|     Abbott|  5|  M|1880.0|      201484|    0.0025|       109|   1|         1|\n",
      "|       Nora|  5|  M|1880.0|      201484|    0.0025|       221|   1|         1|\n",
      "|    Agustus|  5|  M|1880.0|      201484|    0.0025|       110|   1|         1|\n",
      "|     Gracia|  5|  F|1880.0|      201484|    0.0025|        34|   1|         1|\n",
      "|     Nimrod|  5|  M|1880.0|      201484|    0.0025|       220|   1|         1|\n",
      "|     Norval|  5|  M|1880.0|      201484|    0.0025|       222|   1|         1|\n",
      "|      Orion|  5|  M|1880.0|      201484|    0.0025|       224|   1|         1|\n",
      "|   Albertus|  5|  M|1880.0|      201484|    0.0025|       111|   1|         1|\n",
      "|       Nova|  5|  M|1880.0|      201484|    0.0025|       223|   1|         1|\n",
      "|       Orla|  5|  M|1880.0|      201484|    0.0025|       225|   1|         1|\n",
      "|      Almer|  5|  M|1880.0|      201484|    0.0025|       112|   1|         1|\n",
      "|  Guadalupe|  5|  F|1880.0|      201484|    0.0025|        35|   1|         1|\n",
      "|        Icy|  5|  F|1880.0|      201484|    0.0025|        39|   1|         1|\n",
      "|     Honora|  5|  F|1880.0|      201484|    0.0025|        38|   1|         1|\n",
      "|     Birtha|  5|  F|1880.0|      201484|    0.0025|         9|   1|         1|\n",
      "|   Alphonso|  5|  M|1880.0|      201484|    0.0025|       113|   1|         1|\n",
      "|     Hassie|  5|  F|1880.0|      201484|    0.0025|        37|   1|         1|\n",
      "|      Alvia|  5|  M|1880.0|      201484|    0.0025|       114|   1|         1|\n",
      "|      Philo|  5|  M|1880.0|      201484|    0.0025|       228|   1|         1|\n",
      "|    Rowland|  5|  M|1880.0|      201484|    0.0025|       235|   1|         1|\n",
      "|    Presley|  5|  M|1880.0|      201484|    0.0025|       230|   1|         1|\n",
      "|      Artie|  5|  M|1880.0|      201484|    0.0025|       115|   1|         1|\n",
      "|      Arvid|  5|  M|1880.0|      201484|    0.0025|       116|   1|         1|\n",
      "|      Reece|  5|  M|1880.0|      201484|    0.0025|       232|   1|         1|\n",
      "|       Rene|  5|  M|1880.0|      201484|    0.0025|       233|   1|         1|\n",
      "|      Etter|  5|  F|1880.0|      201484|    0.0025|        29|   1|         1|\n",
      "|      Juana|  5|  F|1880.0|      201484|    0.0025|        46|   1|         1|\n",
      "|    Baldwin|  5|  M|1880.0|      201484|    0.0025|       121|   1|         1|\n",
      "|    Augusta|  5|  M|1880.0|      201484|    0.0025|       118|   1|         1|\n",
      "|     Samual|  5|  M|1880.0|      201484|    0.0025|       237|   1|         1|\n",
      "|   Schuyler|  5|  M|1880.0|      201484|    0.0025|       239|   1|         1|\n",
      "|      Bulah|  5|  F|1880.0|      201484|    0.0025|        10|   1|         1|\n",
      "|        Isa|  5|  F|1880.0|      201484|    0.0025|        40|   1|         1|\n",
      "|    Isadora|  5|  F|1880.0|      201484|    0.0025|        41|   1|         1|\n",
      "|       Babe|  5|  M|1880.0|      201484|    0.0025|       120|   1|         1|\n",
      "|   Sheppard|  5|  M|1880.0|      201484|    0.0025|       240|   1|         1|\n",
      "|      Jesse|  5|  F|1880.0|      201484|    0.0025|        42|   1|         1|\n",
      "|      Jewel|  5|  F|1880.0|      201484|    0.0025|        43|   1|         1|\n",
      "|    Fronnie|  5|  F|1880.0|      201484|    0.0025|        30|   1|         1|\n",
      "|        Joe|  5|  F|1880.0|      201484|    0.0025|        44|   1|         1|\n",
      "|   Johannah|  5|  F|1880.0|      201484|    0.0025|        45|   1|         1|\n",
      "|   Theadore|  5|  M|1880.0|      201484|    0.0025|       244|   1|         1|\n",
      "|   Sylvanus|  5|  M|1880.0|      201484|    0.0025|       243|   1|         1|\n",
      "|     Caddie|  5|  F|1880.0|      201484|    0.0025|        11|   1|         1|\n",
      "|     Bernie|  5|  M|1880.0|      201484|    0.0025|       125|   1|         1|\n",
      "|        Mai|  6|  F|1880.0|      201484|     0.003|       324| 258|         2|\n",
      "|    Classie|  6|  F|1880.0|      201484|     0.003|       281| 258|         2|\n",
      "|     Cherry|  6|  F|1880.0|      201484|     0.003|       279| 258|         2|\n",
      "|    Joeseph|  6|  M|1880.0|      201484|     0.003|       420| 258|         2|\n",
      "|    Camilla|  6|  F|1880.0|      201484|     0.003|       275| 258|         2|\n",
      "|       Gary|  6|  M|1880.0|      201484|     0.003|       404| 258|         2|\n",
      "|      Eliza|  6|  M|1880.0|      201484|     0.003|       396| 258|         2|\n",
      "|     Clemie|  6|  F|1880.0|      201484|     0.003|       283| 258|         2|\n",
      "|   Jennette|  6|  F|1880.0|      201484|     0.003|       311| 258|         2|\n",
      "|    Ballard|  6|  M|1880.0|      201484|     0.003|       373| 258|         2|\n",
      "|     Nellie|  6|  M|1880.0|      201484|     0.003|       428| 258|         2|\n",
      "|       Lacy|  6|  F|1880.0|      201484|     0.003|       314| 258|         2|\n",
      "|       Zeke|  6|  M|1880.0|      201484|     0.003|       455| 258|         2|\n",
      "|       Elam|  6|  M|1880.0|      201484|     0.003|       394| 258|         2|\n",
      "|     Gustaf|  6|  M|1880.0|      201484|     0.003|       406| 258|         2|\n",
      "|     Friend|  6|  M|1880.0|      201484|     0.003|       402| 258|         2|\n",
      "|   Clifford|  6|  F|1880.0|      201484|     0.003|       284| 258|         2|\n",
      "|     Odelia|  6|  F|1880.0|      201484|     0.003|       338| 258|         2|\n",
      "|     Author|  6|  M|1880.0|      201484|     0.003|       372| 258|         2|\n",
      "|     Debbie|  6|  F|1880.0|      201484|     0.003|       287| 258|         2|\n",
      "|       Eola|  6|  F|1880.0|      201484|     0.003|       295| 258|         2|\n",
      "|        Leo|  6|  F|1880.0|      201484|     0.003|       319| 258|         2|\n",
      "|      Netta|  6|  F|1880.0|      201484|     0.003|       335| 258|         2|\n",
      "|       Sada|  6|  F|1880.0|      201484|     0.003|       343| 258|         2|\n",
      "|      Andre|  6|  M|1880.0|      201484|     0.003|       363| 258|         2|\n",
      "|      Stacy|  6|  M|1880.0|      201484|     0.003|       444| 258|         2|\n",
      "|       Rafe|  6|  M|1880.0|      201484|     0.003|       434| 258|         2|\n",
      "|    Wilhelm|  6|  M|1880.0|      201484|     0.003|       452| 258|         2|\n",
      "|     Hallie|  6|  M|1880.0|      201484|     0.003|       407| 258|         2|\n",
      "|    Mitchel|  6|  M|1880.0|      201484|     0.003|       427| 258|         2|\n",
      "|     Auther|  6|  M|1880.0|      201484|     0.003|       371| 258|         2|\n",
      "|     Creola|  6|  F|1880.0|      201484|     0.003|       286| 258|         2|\n",
      "|   Eleanora|  6|  F|1880.0|      201484|     0.003|       293| 258|         2|\n",
      "|       Abby|  6|  F|1880.0|      201484|     0.003|       258| 258|         2|\n",
      "|    Maryann|  6|  F|1880.0|      201484|     0.003|       326| 258|         2|\n",
      "|    Sybilla|  6|  F|1880.0|      201484|     0.003|       346| 258|         2|\n",
      "|     Clarke|  6|  M|1880.0|      201484|     0.003|       378| 258|         2|\n",
      "|  Commodore|  6|  M|1880.0|      201484|     0.003|       381| 258|         2|\n",
      "|      Grace|  6|  M|1880.0|      201484|     0.003|       405| 258|         2|\n",
      "|       Alda|  6|  F|1880.0|      201484|     0.003|       261| 258|         2|\n",
      "|     Holmes|  6|  M|1880.0|      201484|     0.003|       414| 258|         2|\n",
      "|     Asbury|  6|  M|1880.0|      201484|     0.003|       368| 258|         2|\n",
      "|   Stanford|  6|  M|1880.0|      201484|     0.003|       445| 258|         2|\n",
      "|    Sanders|  6|  M|1880.0|      201484|     0.003|       442| 258|         2|\n",
      "|      Tracy|  6|  M|1880.0|      201484|     0.003|       449| 258|         2|\n",
      "|     Delmar|  6|  M|1880.0|      201484|     0.003|       388| 258|         2|\n",
      "|      Carey|  6|  F|1880.0|      201484|     0.003|       276| 258|         2|\n",
      "|     Eudora|  6|  F|1880.0|      201484|     0.003|       297| 258|         2|\n",
      "|   Lauretta|  6|  F|1880.0|      201484|     0.003|       316| 258|         2|\n",
      "|    Alpheus|  6|  M|1880.0|      201484|     0.003|       361| 258|         2|\n",
      "|      Adolf|  6|  M|1880.0|      201484|     0.003|       356| 258|         2|\n",
      "|      Edson|  6|  M|1880.0|      201484|     0.003|       393| 258|         2|\n",
      "|       Bama|  6|  F|1880.0|      201484|     0.003|       271| 258|         2|\n",
      "|    Freddie|  6|  F|1880.0|      201484|     0.003|       303| 258|         2|\n",
      "|      Lanie|  6|  F|1880.0|      201484|     0.003|       315| 258|         2|\n",
      "|      Melva|  6|  F|1880.0|      201484|     0.003|       327| 258|         2|\n",
      "|       Mima|  6|  F|1880.0|      201484|     0.003|       331| 258|         2|\n",
      "|       Thea|  6|  F|1880.0|      201484|     0.003|       347| 258|         2|\n",
      "|     Jessee|  6|  M|1880.0|      201484|     0.003|       419| 258|         2|\n",
      "|    Hillard|  6|  M|1880.0|      201484|     0.003|       412| 258|         2|\n",
      "|    Asberry|  6|  M|1880.0|      201484|     0.003|       367| 258|         2|\n",
      "|     Caesar|  6|  M|1880.0|      201484|     0.003|       375| 258|         2|\n",
      "|     Sammie|  6|  M|1880.0|      201484|     0.003|       441| 258|         2|\n",
      "|        Coy|  6|  M|1880.0|      201484|     0.003|       383| 258|         2|\n",
      "|       Doss|  6|  M|1880.0|      201484|     0.003|       391| 258|         2|\n",
      "|      Ernie|  6|  M|1880.0|      201484|     0.003|       399| 258|         2|\n",
      "|      Hence|  6|  M|1880.0|      201484|     0.003|       411| 258|         2|\n",
      "|       Hope|  6|  M|1880.0|      201484|     0.003|       415| 258|         2|\n",
      "|       Levy|  6|  M|1880.0|      201484|     0.003|       423| 258|         2|\n",
      "|     Rupert|  6|  M|1880.0|      201484|     0.003|       439| 258|         2|\n",
      "|    Soloman|  6|  M|1880.0|      201484|     0.003|       443| 258|         2|\n",
      "|      Clyda|  6|  F|1880.0|      201484|     0.003|       285| 258|         2|\n",
      "|    Fidelia|  6|  F|1880.0|      201484|     0.003|       302| 258|         2|\n",
      "|     Vernie|  6|  M|1880.0|      201484|     0.003|       450| 258|         2|\n",
      "|       Ivah|  6|  F|1880.0|      201484|     0.003|       309| 258|         2|\n",
      "|     Vallie|  6|  F|1880.0|      201484|     0.003|       349| 258|         2|\n",
      "|    Martina|  6|  F|1880.0|      201484|     0.003|       325| 258|         2|\n",
      "|     Nealie|  6|  F|1880.0|      201484|     0.003|       334| 258|         2|\n",
      "|     Sabina|  6|  F|1880.0|      201484|     0.003|       342| 258|         2|\n",
      "|     Armand|  6|  M|1880.0|      201484|     0.003|       366| 258|         2|\n",
      "|  Anastacio|  6|  M|1880.0|      201484|     0.003|       362| 258|         2|\n",
      "|     Lillis|  6|  F|1880.0|      201484|     0.003|       321| 258|         2|\n",
      "|     Harrie|  6|  M|1880.0|      201484|     0.003|       409| 258|         2|\n",
      "|       Cora|  6|  M|1880.0|      201484|     0.003|       382| 258|         2|\n",
      "|       Dora|  6|  M|1880.0|      201484|     0.003|       390| 258|         2|\n",
      "|      Elsie|  6|  M|1880.0|      201484|     0.003|       397| 258|         2|\n",
      "|      Garry|  6|  M|1880.0|      201484|     0.003|       403| 258|         2|\n",
      "|     Aileen|  6|  F|1880.0|      201484|     0.003|       259| 258|         2|\n",
      "|     Liller|  6|  F|1880.0|      201484|     0.003|       320| 258|         2|\n",
      "|       Alla|  6|  F|1880.0|      201484|     0.003|       262| 258|         2|\n",
      "|      Harry|  6|  F|1880.0|      201484|     0.003|       305| 258|         2|\n",
      "|      Golda|  6|  F|1880.0|      201484|     0.003|       304| 258|         2|\n",
      "|     Winona|  6|  F|1880.0|      201484|     0.003|       353| 258|         2|\n",
      "|     Hattie|  6|  M|1880.0|      201484|     0.003|       410| 258|         2|\n",
      "|     Hollie|  6|  M|1880.0|      201484|     0.003|       413| 258|         2|\n",
      "|      Cinda|  6|  F|1880.0|      201484|     0.003|       280| 258|         2|\n",
      "|      Noble|  6|  M|1880.0|      201484|     0.003|       429| 258|         2|\n",
      "|    Milford|  6|  M|1880.0|      201484|     0.003|       426| 258|         2|\n",
      "|     Redden|  6|  M|1880.0|      201484|     0.003|       435| 258|         2|\n",
      "|       Rube|  6|  M|1880.0|      201484|     0.003|       437| 258|         2|\n",
      "|    Stanton|  6|  M|1880.0|      201484|     0.003|       446| 258|         2|\n",
      "|    Willian|  6|  M|1880.0|      201484|     0.003|       453| 258|         2|\n",
      "|       Cruz|  6|  M|1880.0|      201484|     0.003|       384| 258|         2|\n",
      "|       Drew|  6|  M|1880.0|      201484|     0.003|       392| 258|         2|\n",
      "|       Mena|  6|  F|1880.0|      201484|     0.003|       328| 258|         2|\n",
      "|      Zelda|  6|  F|1880.0|      201484|     0.003|       354| 258|         2|\n",
      "|    Candido|  6|  M|1880.0|      201484|     0.003|       376| 258|         2|\n",
      "|       Ferd|  6|  M|1880.0|      201484|     0.003|       401| 258|         2|\n",
      "|    Ardelia|  6|  F|1880.0|      201484|     0.003|       265| 258|         2|\n",
      "|    Arvilla|  6|  F|1880.0|      201484|     0.003|       268| 258|         2|\n",
      "|      Ednah|  6|  F|1880.0|      201484|     0.003|       291| 258|         2|\n",
      "|    Evaline|  6|  F|1880.0|      201484|     0.003|       300| 258|         2|\n",
      "|   Kathryne|  6|  F|1880.0|      201484|     0.003|       313| 258|         2|\n",
      "|   Mercedes|  6|  F|1880.0|      201484|     0.003|       329| 258|         2|\n",
      "|    Phyllis|  6|  F|1880.0|      201484|     0.003|       340| 258|         2|\n",
      "|     Zilpha|  6|  F|1880.0|      201484|     0.003|       355| 258|         2|\n",
      "|      Arrie|  6|  F|1880.0|      201484|     0.003|       267| 258|         2|\n",
      "|       Cato|  6|  M|1880.0|      201484|     0.003|       377| 258|         2|\n",
      "|      Colin|  6|  M|1880.0|      201484|     0.003|       380| 258|         2|\n",
      "|    Evalena|  6|  F|1880.0|      201484|     0.003|       299| 258|         2|\n",
      "|      Viney|  6|  F|1880.0|      201484|     0.003|       351| 258|         2|\n",
      "|    Allison|  6|  M|1880.0|      201484|     0.003|       359| 258|         2|\n",
      "|     Michel|  6|  M|1880.0|      201484|     0.003|       425| 258|         2|\n",
      "|   Clemente|  6|  M|1880.0|      201484|     0.003|       379| 258|         2|\n",
      "|      Reese|  6|  M|1880.0|      201484|     0.003|       436| 258|         2|\n",
      "|      Elihu|  6|  M|1880.0|      201484|     0.003|       395| 258|         2|\n",
      "|        Oda|  6|  M|1880.0|      201484|     0.003|       431| 258|         2|\n",
      "|    Ardella|  6|  F|1880.0|      201484|     0.003|       266| 258|         2|\n",
      "|     Aurora|  6|  F|1880.0|      201484|     0.003|       270| 258|         2|\n",
      "|       Thad|  6|  M|1880.0|      201484|     0.003|       447| 258|         2|\n",
      "|   Celestia|  6|  F|1880.0|      201484|     0.003|       278| 258|         2|\n",
      "|   Claudine|  6|  F|1880.0|      201484|     0.003|       282| 258|         2|\n",
      "|     Electa|  6|  F|1880.0|      201484|     0.003|       294| 258|         2|\n",
      "|      Faith|  6|  F|1880.0|      201484|     0.003|       301| 258|         2|\n",
      "|    Hermine|  6|  F|1880.0|      201484|     0.003|       307| 258|         2|\n",
      "|     Leatha|  6|  F|1880.0|      201484|     0.003|       318| 258|         2|\n",
      "|     Monica|  6|  F|1880.0|      201484|     0.003|       333| 258|         2|\n",
      "|    Ottilie|  6|  F|1880.0|      201484|     0.003|       339| 258|         2|\n",
      "|      Venie|  6|  F|1880.0|      201484|     0.003|       350| 258|         2|\n",
      "|     Albion|  6|  M|1880.0|      201484|     0.003|       358| 258|         2|\n",
      "|  Arlington|  6|  M|1880.0|      201484|     0.003|       365| 258|         2|\n",
      "|     Joella|  6|  F|1880.0|      201484|     0.003|       312| 258|         2|\n",
      "|       Blas|  6|  M|1880.0|      201484|     0.003|       374| 258|         2|\n",
      "|        Dee|  6|  F|1880.0|      201484|     0.003|       288| 258|         2|\n",
      "|       Erie|  6|  M|1880.0|      201484|     0.003|       398| 258|         2|\n",
      "|       Alba|  6|  F|1880.0|      201484|     0.003|       260| 258|         2|\n",
      "|       Curt|  6|  M|1880.0|      201484|     0.003|       385| 258|         2|\n",
      "|      Damon|  6|  M|1880.0|      201484|     0.003|       386| 258|         2|\n",
      "| Wilhelmine|  6|  F|1880.0|      201484|     0.003|       352| 258|         2|\n",
      "|      Hyman|  6|  M|1880.0|      201484|     0.003|       416| 258|         2|\n",
      "|      Davie|  6|  M|1880.0|      201484|     0.003|       387| 258|         2|\n",
      "|       Bena|  6|  F|1880.0|      201484|     0.003|       272| 258|         2|\n",
      "|      Dinah|  6|  F|1880.0|      201484|     0.003|       289| 258|         2|\n",
      "|    Louetta|  6|  F|1880.0|      201484|     0.003|       322| 258|         2|\n",
      "|      Nolia|  6|  F|1880.0|      201484|     0.003|       336| 258|         2|\n",
      "|      Ethel|  6|  M|1880.0|      201484|     0.003|       400| 258|         2|\n",
      "|       Erie|  6|  F|1880.0|      201484|     0.003|       296| 258|         2|\n",
      "|    Ishmael|  6|  M|1880.0|      201484|     0.003|       417| 258|         2|\n",
      "|      Orren|  6|  M|1880.0|      201484|     0.003|       432| 258|         2|\n",
      "|    Alverta|  6|  F|1880.0|      201484|     0.003|       263| 258|         2|\n",
      "|     Doshia|  6|  F|1880.0|      201484|     0.003|       290| 258|         2|\n",
      "|        Ara|  6|  F|1880.0|      201484|     0.003|       264| 258|         2|\n",
      "|       Byrd|  6|  F|1880.0|      201484|     0.003|       273| 258|         2|\n",
      "|    Junious|  6|  M|1880.0|      201484|     0.003|       421| 258|         2|\n",
      "|       Kirk|  6|  M|1880.0|      201484|     0.003|       422| 258|         2|\n",
      "|       Obed|  6|  M|1880.0|      201484|     0.003|       430| 258|         2|\n",
      "|       Ruby|  6|  M|1880.0|      201484|     0.003|       438| 258|         2|\n",
      "|        Yee|  6|  M|1880.0|      201484|     0.003|       454| 258|         2|\n",
      "|      Albin|  6|  M|1880.0|      201484|     0.003|       357| 258|         2|\n",
      "|      Madie|  6|  F|1880.0|      201484|     0.003|       323| 258|         2|\n",
      "|     Sammie|  6|  F|1880.0|      201484|     0.003|       344| 258|         2|\n",
      "|      Nonie|  6|  F|1880.0|      201484|     0.003|       337| 258|         2|\n",
      "|      Alpha|  6|  M|1880.0|      201484|     0.003|       360| 258|         2|\n",
      "|      Asher|  6|  M|1880.0|      201484|     0.003|       369| 258|         2|\n",
      "|     Mervin|  6|  M|1880.0|      201484|     0.003|       424| 258|         2|\n",
      "|    Jarrett|  6|  M|1880.0|      201484|     0.003|       418| 258|         2|\n",
      "|    Hampton|  6|  M|1880.0|      201484|     0.003|       408| 258|         2|\n",
      "|      Ottis|  6|  M|1880.0|      201484|     0.003|       433| 258|         2|\n",
      "|    Salomon|  6|  M|1880.0|      201484|     0.003|       440| 258|         2|\n",
      "|    Wendell|  6|  M|1880.0|      201484|     0.003|       451| 258|         2|\n",
      "|      Calla|  6|  F|1880.0|      201484|     0.003|       274| 258|         2|\n",
      "|      Edyth|  6|  F|1880.0|      201484|     0.003|       292| 258|         2|\n",
      "|      Helma|  6|  F|1880.0|      201484|     0.003|       306| 258|         2|\n",
      "|     Hessie|  6|  F|1880.0|      201484|     0.003|       308| 258|         2|\n",
      "|      Minda|  6|  F|1880.0|      201484|     0.003|       332| 258|         2|\n",
      "|    Suzanne|  6|  F|1880.0|      201484|     0.003|       345| 258|         2|\n",
      "|    Tressie|  6|  F|1880.0|      201484|     0.003|       348| 258|         2|\n",
      "|   Augustin|  6|  M|1880.0|      201484|     0.003|       370| 258|         2|\n",
      "|      Annie|  6|  M|1880.0|      201484|     0.003|       364| 258|         2|\n",
      "|     Dexter|  6|  M|1880.0|      201484|     0.003|       389| 258|         2|\n",
      "|      Titus|  6|  M|1880.0|      201484|     0.003|       448| 258|         2|\n",
      "|  Augustine|  6|  F|1880.0|      201484|     0.003|       269| 258|         2|\n",
      "|   Carlotta|  6|  F|1880.0|      201484|     0.003|       277| 258|         2|\n",
      "|   Euphemia|  6|  F|1880.0|      201484|     0.003|       298| 258|         2|\n",
      "|    Janette|  6|  F|1880.0|      201484|     0.003|       310| 258|         2|\n",
      "|      Leana|  6|  F|1880.0|      201484|     0.003|       317| 258|         2|\n",
      "|      Merle|  6|  F|1880.0|      201484|     0.003|       330| 258|         2|\n",
      "|     Robbie|  6|  F|1880.0|      201484|     0.003|       341| 258|         2|\n",
      "|     Otelia|  7|  F|1880.0|      201484|    0.0035|       501| 456|         3|\n",
      "|     Neppie|  7|  F|1880.0|      201484|    0.0035|       497| 456|         3|\n",
      "|        Eve|  7|  F|1880.0|      201484|    0.0035|       473| 456|         3|\n",
      "|  Albertina|  7|  F|1880.0|      201484|    0.0035|       456| 456|         3|\n",
      "|      Carol|  7|  F|1880.0|      201484|    0.0035|       462| 456|         3|\n",
      "|    Eugenie|  7|  F|1880.0|      201484|    0.0035|       471| 456|         3|\n",
      "|     Albina|  7|  F|1880.0|      201484|    0.0035|       457| 456|         3|\n",
      "|       Onie|  7|  F|1880.0|      201484|    0.0035|       499| 456|         3|\n",
      "|     Doshie|  7|  F|1880.0|      201484|    0.0035|       468| 456|         3|\n",
      "|     Glenna|  7|  F|1880.0|      201484|    0.0035|       479| 456|         3|\n",
      "|      Alyce|  7|  F|1880.0|      201484|    0.0035|       458| 456|         3|\n",
      "|     Grayce|  7|  F|1880.0|      201484|    0.0035|       480| 456|         3|\n",
      "|  Geraldine|  7|  F|1880.0|      201484|    0.0035|       477| 456|         3|\n",
      "|       Katy|  7|  F|1880.0|      201484|    0.0035|       485| 456|         3|\n",
      "|    Delphia|  7|  F|1880.0|      201484|    0.0035|       466| 456|         3|\n",
      "|     Fronie|  7|  F|1880.0|      201484|    0.0035|       476| 456|         3|\n",
      "|   Florance|  7|  F|1880.0|      201484|    0.0035|       475| 456|         3|\n",
      "|     Leanna|  7|  F|1880.0|      201484|    0.0035|       487| 456|         3|\n",
      "|       Amie|  7|  F|1880.0|      201484|    0.0035|       459| 456|         3|\n",
      "|   Clarence|  7|  F|1880.0|      201484|    0.0035|       464| 456|         3|\n",
      "|     Leitha|  7|  F|1880.0|      201484|    0.0035|       488| 456|         3|\n",
      "|    Felicia|  7|  F|1880.0|      201484|    0.0035|       474| 456|         3|\n",
      "|       Gina|  7|  F|1880.0|      201484|    0.0035|       478| 456|         3|\n",
      "|     Maymie|  7|  F|1880.0|      201484|    0.0035|       494| 456|         3|\n",
      "|      Leone|  7|  F|1880.0|      201484|    0.0035|       489| 456|         3|\n",
      "|      Carra|  7|  F|1880.0|      201484|    0.0035|       463| 456|         3|\n",
      "|   Minervia|  7|  F|1880.0|      201484|    0.0035|       495| 456|         3|\n",
      "|     Angela|  7|  F|1880.0|      201484|    0.0035|       460| 456|         3|\n",
      "|     Hedwig|  7|  F|1880.0|      201484|    0.0035|       481| 456|         3|\n",
      "|       Etna|  7|  F|1880.0|      201484|    0.0035|       470| 456|         3|\n",
      "|    Jessica|  7|  F|1880.0|      201484|    0.0035|       482| 456|         3|\n",
      "|    Eulalia|  7|  F|1880.0|      201484|    0.0035|       472| 456|         3|\n",
      "|   Magdalen|  7|  F|1880.0|      201484|    0.0035|       493| 456|         3|\n",
      "|   Katheryn|  7|  F|1880.0|      201484|    0.0035|       484| 456|         3|\n",
      "|      Lular|  7|  F|1880.0|      201484|    0.0035|       492| 456|         3|\n",
      "|       Loma|  7|  F|1880.0|      201484|    0.0035|       491| 456|         3|\n",
      "|     Muriel|  7|  F|1880.0|      201484|    0.0035|       496| 456|         3|\n",
      "|     Dillie|  7|  F|1880.0|      201484|    0.0035|       467| 456|         3|\n",
      "|        Lea|  7|  F|1880.0|      201484|    0.0035|       486| 456|         3|\n",
      "|      Lidie|  7|  F|1880.0|      201484|    0.0035|       490| 456|         3|\n",
      "|      Annis|  7|  F|1880.0|      201484|    0.0035|       461| 456|         3|\n",
      "|     Jossie|  7|  F|1880.0|      201484|    0.0035|       483| 456|         3|\n",
      "|       Olie|  7|  F|1880.0|      201484|    0.0035|       498| 456|         3|\n",
      "|   Drucilla|  7|  F|1880.0|      201484|    0.0035|       469| 456|         3|\n",
      "|   Clarinda|  7|  F|1880.0|      201484|    0.0035|       465| 456|         3|\n",
      "+-----------+---+---+------+------------+----------+----------+----+----------+\n",
      "only showing top 500 rows\n",
      "\n"
     ]
    }
   ],
   "source": [
    "window2 = Window.partitionBy(\"year\").orderBy(\"percentage\")\n",
    "rank = fn.rank().over(window2)\n",
    "row_number = fn.row_number().over(window2)\n",
    "dense_rank = fn.dense_rank().over(window2)\n",
    "\n",
    "testeo = percentage_year_name.withColumn(\"row_number\", row_number)\\\n",
    ".withColumn(\"rank\", rank)\\\n",
    ".withColumn(\"dense_rank\", dense_rank)\\\n",
    ".orderBy(\"year\",\"percentage\")\n",
    "testeo.show(500)"
   ]
  },
  {
   "cell_type": "markdown",
   "metadata": {
    "format": "text/markdown"
   },
   "source": [
    "\n",
    "\n",
    "\n",
    "Evolution of top popular names through the century\n",
    "==================================================\n",
    "\n",
    "\n",
    "1. For each sex, select the ten most popular names in year 2000, and plot the proportion\n",
    "of newborns given that name over time. Take into account that some names might have\n",
    "zero occurrence during certain years.\n",
    "\n"
   ]
  },
  {
   "cell_type": "code",
   "execution_count": 157,
   "metadata": {
    "ExecuteTime": {
     "end_time": "2020-03-26T15:32:16.018852Z",
     "start_time": "2020-03-26T15:32:11.207480Z"
    },
    "autoscroll": "auto",
    "options": {
     "caption": false,
     "complete": true,
     "display_data": true,
     "display_stream": true,
     "dpi": 200,
     "echo": true,
     "evaluate": false,
     "f_env": null,
     "f_pos": "htpb",
     "f_size": [
      6,
      4
     ],
     "f_spines": true,
     "fig": true,
     "include": true,
     "name": null,
     "option_string": "evaluate=False",
     "results": "verbatim",
     "term": false,
     "wrap": "output"
    }
   },
   "outputs": [
    {
     "name": "stdout",
     "output_type": "stream",
     "text": [
      "+-----------+\n",
      "|       name|\n",
      "+-----------+\n",
      "|      Jacob|\n",
      "|    Michael|\n",
      "|    Matthew|\n",
      "|     Joshua|\n",
      "|Christopher|\n",
      "+-----------+\n",
      "\n",
      "+-----------+---+---+------+------------+----------+-----------+\n",
      "|       name|  n|sex|  year|total_births|percentage|       name|\n",
      "+-----------+---+---+------+------------+----------+-----------+\n",
      "|      Jacob|404|  M|1880.0|      201484|    0.2005|      Jacob|\n",
      "|    Michael|354|  M|1880.0|      201484|    0.1757|    Michael|\n",
      "|    Matthew|113|  M|1880.0|      201484|    0.0561|    Matthew|\n",
      "|Christopher| 95|  M|1880.0|      201484|    0.0472|Christopher|\n",
      "|     Joshua| 57|  M|1880.0|      201484|    0.0283|     Joshua|\n",
      "|      Jacob|381|  M|1881.0|      192696|    0.1977|      Jacob|\n",
      "|    Michael|298|  M|1881.0|      192696|    0.1546|    Michael|\n",
      "|    Matthew| 80|  M|1881.0|      192696|    0.0415|    Matthew|\n",
      "|Christopher| 68|  M|1881.0|      192696|    0.0353|Christopher|\n",
      "|     Joshua| 40|  M|1881.0|      192696|    0.0208|     Joshua|\n",
      "|      Jacob|390|  M|1882.0|      221533|     0.176|      Jacob|\n",
      "|    Michael|321|  M|1882.0|      221533|    0.1449|    Michael|\n",
      "|    Matthew|109|  M|1882.0|      221533|    0.0492|    Matthew|\n",
      "|Christopher| 89|  M|1882.0|      221533|    0.0402|Christopher|\n",
      "|     Joshua| 50|  M|1882.0|      221533|    0.0226|     Joshua|\n",
      "|      Jacob|356|  M|1883.0|      216946|    0.1641|      Jacob|\n",
      "|    Michael|307|  M|1883.0|      216946|    0.1415|    Michael|\n",
      "|Christopher| 89|  M|1883.0|      216946|     0.041|Christopher|\n",
      "|    Matthew| 86|  M|1883.0|      216946|    0.0396|    Matthew|\n",
      "|     Joshua| 55|  M|1883.0|      216946|    0.0254|     Joshua|\n",
      "+-----------+---+---+------+------------+----------+-----------+\n",
      "only showing top 20 rows\n",
      "\n"
     ]
    }
   ],
   "source": [
    "# TODO:\n",
    "\n",
    "male_pro = percentage_year_name.where('sex = \"M\"')\\\n",
    ".where('year = 2000').orderBy(percentage_year_name.percentage.desc()).select(\"name\").limit(5)\n",
    "\n",
    "female_pro = percentage_year_name.where('sex = \"F\"')\\\n",
    ".where('year = 2000').orderBy(percentage_year_name.percentage.desc()).limit(5)\n",
    "\n",
    "joined_df = percentage_year_name.join(male_pro, percentage_year_name.name == male_pro.name)\n",
    "male_pro.show()\n",
    "#female_pro.show()\n",
    "joined_df.show()\n"
   ]
  },
  {
   "cell_type": "code",
   "execution_count": 162,
   "metadata": {
    "ExecuteTime": {
     "end_time": "2020-03-26T15:34:35.689682Z",
     "start_time": "2020-03-26T15:34:28.203208Z"
    },
    "scrolled": true
   },
   "outputs": [
    {
     "data": {
      "text/plain": [
       "Text(0.5, 1.0, 'Evolution of sex ratio over time')"
      ]
     },
     "execution_count": 162,
     "metadata": {},
     "output_type": "execute_result"
    },
    {
     "data": {
      "text/plain": [
       "Text(0, 0.5, 'Sex ratio value')"
      ]
     },
     "execution_count": 162,
     "metadata": {},
     "output_type": "execute_result"
    },
    {
     "data": {
      "text/plain": [
       "Text(0.5, 0, 'Year')"
      ]
     },
     "execution_count": 162,
     "metadata": {},
     "output_type": "execute_result"
    },
    {
     "data": {
      "image/png": "[encoded data removed]",
      "text/plain": [
       "<Figure size 432x288 with 1 Axes>"
      ]
     },
     "metadata": {},
     "output_type": "display_data"
    }
   ],
   "source": [
    "joined_df_pd = joined_df.toPandas()\n",
    "\n",
    "sns.set()\n",
    "g = sns.barplot(x = \"year\",\n",
    "                 y = \"n\",\n",
    "                 data = joined_df_pd)\n",
    "\n",
    "g.set_title(\"Evolution of sex ratio over time\")\n",
    "plt.ylabel(\"Sex ratio value\")\n",
    "plt.xlabel(\"Year\")\n",
    "plt.show(g)"
   ]
  },
  {
   "cell_type": "code",
   "execution_count": 161,
   "metadata": {
    "ExecuteTime": {
     "end_time": "2020-03-26T15:33:56.964230Z",
     "start_time": "2020-03-26T15:33:56.946376Z"
    }
   },
   "outputs": [
    {
     "data": {
      "text/html": [
       "<div>\n",
       "<style scoped>\n",
       "    .dataframe tbody tr th:only-of-type {\n",
       "        vertical-align: middle;\n",
       "    }\n",
       "\n",
       "    .dataframe tbody tr th {\n",
       "        vertical-align: top;\n",
       "    }\n",
       "\n",
       "    .dataframe thead th {\n",
       "        text-align: right;\n",
       "    }\n",
       "</style>\n",
       "<table border=\"1\" class=\"dataframe\">\n",
       "  <thead>\n",
       "    <tr style=\"text-align: right;\">\n",
       "      <th></th>\n",
       "      <th>name</th>\n",
       "      <th>n</th>\n",
       "      <th>sex</th>\n",
       "      <th>year</th>\n",
       "      <th>total_births</th>\n",
       "      <th>percentage</th>\n",
       "      <th>name</th>\n",
       "    </tr>\n",
       "  </thead>\n",
       "  <tbody>\n",
       "    <tr>\n",
       "      <td>0</td>\n",
       "      <td>Jacob</td>\n",
       "      <td>404</td>\n",
       "      <td>M</td>\n",
       "      <td>1880.0</td>\n",
       "      <td>201484</td>\n",
       "      <td>0.2005</td>\n",
       "      <td>Jacob</td>\n",
       "    </tr>\n",
       "    <tr>\n",
       "      <td>1</td>\n",
       "      <td>Michael</td>\n",
       "      <td>354</td>\n",
       "      <td>M</td>\n",
       "      <td>1880.0</td>\n",
       "      <td>201484</td>\n",
       "      <td>0.1757</td>\n",
       "      <td>Michael</td>\n",
       "    </tr>\n",
       "    <tr>\n",
       "      <td>2</td>\n",
       "      <td>Matthew</td>\n",
       "      <td>113</td>\n",
       "      <td>M</td>\n",
       "      <td>1880.0</td>\n",
       "      <td>201484</td>\n",
       "      <td>0.0561</td>\n",
       "      <td>Matthew</td>\n",
       "    </tr>\n",
       "    <tr>\n",
       "      <td>3</td>\n",
       "      <td>Christopher</td>\n",
       "      <td>95</td>\n",
       "      <td>M</td>\n",
       "      <td>1880.0</td>\n",
       "      <td>201484</td>\n",
       "      <td>0.0472</td>\n",
       "      <td>Christopher</td>\n",
       "    </tr>\n",
       "    <tr>\n",
       "      <td>4</td>\n",
       "      <td>Joshua</td>\n",
       "      <td>57</td>\n",
       "      <td>M</td>\n",
       "      <td>1880.0</td>\n",
       "      <td>201484</td>\n",
       "      <td>0.0283</td>\n",
       "      <td>Joshua</td>\n",
       "    </tr>\n",
       "  </tbody>\n",
       "</table>\n",
       "</div>"
      ],
      "text/plain": [
       "          name    n sex    year  total_births  percentage         name\n",
       "0        Jacob  404   M  1880.0        201484      0.2005        Jacob\n",
       "1      Michael  354   M  1880.0        201484      0.1757      Michael\n",
       "2      Matthew  113   M  1880.0        201484      0.0561      Matthew\n",
       "3  Christopher   95   M  1880.0        201484      0.0472  Christopher\n",
       "4       Joshua   57   M  1880.0        201484      0.0283       Joshua"
      ]
     },
     "execution_count": 161,
     "metadata": {},
     "output_type": "execute_result"
    }
   ],
   "source": [
    "joined_df_pd.head()"
   ]
  },
  {
   "cell_type": "markdown",
   "metadata": {
    "format": "text/markdown"
   },
   "source": [
    "\n",
    "1. Use `explain()` to determine the joining strategy used by spark.\n",
    "\n",
    "\n",
    "Plot  the popularity of each of the top ten achievers from year 2000 with respect to time\n",
    "==================================================================================\n",
    "\n",
    "\n"
   ]
  },
  {
   "cell_type": "code",
   "execution_count": null,
   "metadata": {
    "ExecuteTime": {
     "end_time": "2020-03-09T13:25:00.680650Z",
     "start_time": "2020-03-09T13:25:00.677469Z"
    },
    "autoscroll": "auto",
    "options": {
     "caption": false,
     "complete": true,
     "display_data": true,
     "display_stream": true,
     "dpi": 200,
     "echo": true,
     "evaluate": false,
     "f_env": null,
     "f_pos": "htpb",
     "f_size": [
      6,
      4
     ],
     "f_spines": true,
     "fig": true,
     "include": true,
     "name": null,
     "option_string": "evaluate=False",
     "results": "verbatim",
     "term": false,
     "wrap": "output"
    }
   },
   "outputs": [],
   "source": [
    "# %%\n",
    "# TODO:\n",
    "# %%"
   ]
  },
  {
   "cell_type": "markdown",
   "metadata": {
    "format": "text/markdown"
   },
   "source": [
    "\n",
    "\n",
    "Plot the total popularity of the top ten achievers from year 2000 with respect to time\n",
    "==================================================================================\n",
    "\n",
    "\n"
   ]
  },
  {
   "cell_type": "code",
   "execution_count": null,
   "metadata": {
    "ExecuteTime": {
     "end_time": "2020-03-09T13:25:00.924571Z",
     "start_time": "2020-03-09T13:25:00.917339Z"
    },
    "autoscroll": "auto",
    "options": {
     "caption": false,
     "complete": true,
     "display_data": true,
     "display_stream": true,
     "dpi": 200,
     "echo": true,
     "evaluate": false,
     "f_env": null,
     "f_pos": "htpb",
     "f_size": [
      6,
      4
     ],
     "f_spines": true,
     "fig": true,
     "include": true,
     "name": null,
     "option_string": "evaluate=False",
     "results": "verbatim",
     "term": false,
     "wrap": "output"
    }
   },
   "outputs": [],
   "source": [
    "# %%\n",
    "# TODO:\n",
    "# %%"
   ]
  },
  {
   "cell_type": "markdown",
   "metadata": {
    "format": "text/markdown"
   },
   "source": [
    "\n",
    "\n",
    "Plot lorenz curves\n",
    "=====================\n",
    "\n",
    "Every year, the name counts define a discrete probability distribution.\n",
    "This distribution, just as income or wealth distribution,\n",
    "is (usually) far from being uniform. We want to assess how uneven it is.\n",
    "We use the tools developed in econometrics.\n",
    "\n",
    "Without loss of generality, that we handle a distribution over $1, \\ldots, n$\n",
    "where $n$ is the number of distinct names given during a year.\n",
    "We assume that frequencies $p_1, p_2, \\ldots, p_n$ are given in ascending order.\n",
    "\n",
    "The Lorenz function maps $[0, 1] \\to [0, 1]$.\n",
    "$$L(x) = \\sum_{i=1}^{\\lfloor nx \\rfloor} p_i$$.\n",
    "\n",
    "1. Design a query that adds a column \"lorenz\" to the dataframe , and for each\n",
    "row computes the value of the Lorenz function defined by `year`  and `sex`.\n",
    "\n",
    "\n"
   ]
  },
  {
   "cell_type": "code",
   "execution_count": null,
   "metadata": {
    "ExecuteTime": {
     "end_time": "2020-03-09T13:25:01.172487Z",
     "start_time": "2020-03-09T13:25:01.169864Z"
    },
    "autoscroll": "auto",
    "options": {
     "caption": false,
     "complete": true,
     "display_data": true,
     "display_stream": true,
     "dpi": 200,
     "echo": true,
     "evaluate": false,
     "f_env": null,
     "f_pos": "htpb",
     "f_size": [
      6,
      4
     ],
     "f_spines": true,
     "fig": true,
     "include": true,
     "name": null,
     "option_string": "evaluate=False",
     "results": "verbatim",
     "term": false,
     "wrap": "output"
    }
   },
   "outputs": [],
   "source": [
    "# TODO:"
   ]
  },
  {
   "cell_type": "markdown",
   "metadata": {
    "format": "text/markdown"
   },
   "source": [
    "\n",
    "\n",
    "1. Design a function that takes as input a `year` and plots the Lorenz curve\n",
    "for that year for both sexes.\n",
    "\n"
   ]
  },
  {
   "cell_type": "code",
   "execution_count": null,
   "metadata": {
    "ExecuteTime": {
     "end_time": "2020-03-09T13:25:01.435478Z",
     "start_time": "2020-03-09T13:25:01.432499Z"
    },
    "autoscroll": "auto",
    "options": {
     "caption": false,
     "complete": true,
     "display_data": true,
     "display_stream": true,
     "dpi": 200,
     "echo": true,
     "evaluate": false,
     "f_env": null,
     "f_pos": "htpb",
     "f_size": [
      6,
      4
     ],
     "f_spines": true,
     "fig": true,
     "include": true,
     "name": null,
     "option_string": "evaluate=False",
     "results": "verbatim",
     "term": false,
     "wrap": "output"
    }
   },
   "outputs": [],
   "source": [
    "# %%\n",
    "# TODO:\n",
    "# %%"
   ]
  },
  {
   "cell_type": "markdown",
   "metadata": {
    "format": "text/markdown"
   },
   "source": [
    "\n",
    "Gini index\n",
    "==========\n",
    "\n",
    "The [Gini index](https://en.wikipedia.org/wiki/Gini_coefficient) is twice the surface of the area comprised between curves $y=x$\n",
    "and $y=L(x)$.\n",
    "\n",
    "Choose a formula that allows you to compute it efficiently.\n",
    "\n",
    "$$G={\\frac {2\\sum _{i=1}^{n}iy_{i}}{n\\sum _{i=1}^{n}y_{i}}}-{\\frac {n+1}{n}}.$$\n",
    "\n",
    "1. Design a query that computes the Gini index of the `babynames` distribution\n",
    "for every `year` and `sex`.\n",
    "\n",
    "1. Plot Gini index over time\n",
    "\n",
    "\n"
   ]
  },
  {
   "cell_type": "code",
   "execution_count": null,
   "metadata": {
    "ExecuteTime": {
     "end_time": "2020-03-09T13:25:01.689514Z",
     "start_time": "2020-03-09T13:25:01.686509Z"
    },
    "autoscroll": "auto",
    "options": {
     "caption": false,
     "complete": true,
     "display_data": true,
     "display_stream": true,
     "dpi": 200,
     "echo": true,
     "evaluate": false,
     "f_env": null,
     "f_pos": "htpb",
     "f_size": [
      6,
      4
     ],
     "f_spines": true,
     "fig": true,
     "include": true,
     "name": null,
     "option_string": "evaluate=False",
     "results": "verbatim",
     "term": false,
     "wrap": "output"
    }
   },
   "outputs": [],
   "source": [
    "# TODO:"
   ]
  },
  {
   "cell_type": "markdown",
   "metadata": {
    "format": "text/markdown"
   },
   "source": [
    "\n",
    "\n"
   ]
  },
  {
   "cell_type": "code",
   "execution_count": null,
   "metadata": {
    "ExecuteTime": {
     "end_time": "2020-03-09T13:25:01.959724Z",
     "start_time": "2020-03-09T13:25:01.957043Z"
    },
    "autoscroll": "auto",
    "options": {
     "caption": false,
     "complete": true,
     "display_data": true,
     "display_stream": true,
     "dpi": 200,
     "echo": true,
     "evaluate": false,
     "f_env": null,
     "f_pos": "htpb",
     "f_size": [
      6,
      4
     ],
     "f_spines": true,
     "fig": true,
     "include": true,
     "name": null,
     "option_string": "evaluate=False",
     "results": "verbatim",
     "term": false,
     "wrap": "output"
    }
   },
   "outputs": [],
   "source": [
    "# %%\n",
    "# TODO:\n",
    "# %%"
   ]
  },
  {
   "cell_type": "markdown",
   "metadata": {
    "format": "text/markdown"
   },
   "source": [
    "\n",
    "\n",
    "\n",
    "Close the door, leave work area clean\n",
    "=====================================\n"
   ]
  },
  {
   "cell_type": "code",
   "execution_count": 163,
   "metadata": {
    "ExecuteTime": {
     "end_time": "2020-03-26T15:38:34.828583Z",
     "start_time": "2020-03-26T15:38:32.889569Z"
    }
   },
   "outputs": [],
   "source": [
    "spark.stop()"
   ]
  },
  {
   "cell_type": "code",
   "execution_count": null,
   "metadata": {},
   "outputs": [],
   "source": []
  }
 ],
 "metadata": {
  "kernel_info": {
   "name": "python3"
  },
  "kernelspec": {
   "display_name": "Python 3",
   "language": "python",
   "name": "python3"
  },
  "language_info": {
   "codemirror_mode": {
    "name": "ipython",
    "version": 3
   },
   "file_extension": ".py",
   "mimetype": "text/x-python",
   "name": "python",
   "nbconvert_exporter": "python",
   "pygments_lexer": "ipython3",
   "version": "3.7.5"
  },
  "toc": {
   "base_numbering": 1,
   "nav_menu": {},
   "number_sections": true,
   "sideBar": true,
   "skip_h1_title": false,
   "title_cell": "Table of Contents",
   "title_sidebar": "Contents",
   "toc_cell": false,
   "toc_position": {
    "height": "682.727px",
    "left": "119px",
    "top": "110.284px",
    "width": "165px"
   },
   "toc_section_display": true,
   "toc_window_display": true
  }
 },
 "nbformat": 4,
 "nbformat_minor": 1
}
