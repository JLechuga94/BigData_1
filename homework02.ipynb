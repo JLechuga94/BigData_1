{
 "cells": [
  {
   "cell_type": "markdown",
   "metadata": {
    "format": "text/markdown"
   },
   "source": [
    "\n",
    "\n",
    "# Propaganda, start the `spark` session\n",
    "\n",
    "> For SQL users, Spark SQL provides state-of-the-art SQL performance and maintains compatibility with Shark/Hive. In particular, like Shark, Spark SQL supports all existing Hive data formats, user-defined functions (UDF), and the Hive metastore.\n",
    "\n",
    "> For Spark users, Spark SQL becomes the narrow-waist for manipulating (semi-) structured data as well as ingesting data from sources that provide schema, such as JSON, Parquet, Hive, or EDWs. It truly unifies SQL and sophisticated analysis, allowing users to mix and match SQL and more imperative programming APIs for advanced analytics.\n",
    "\n",
    "> For open source hackers, Spark SQL proposes a novel, elegant way of building query planners. It is incredibly easy to add new optimizations under this framework.\n",
    "\n",
    "> Internally, a structured query is a Catalyst tree of (logical and physical) relational operators and expressions.\n",
    "\n",
    "\n"
   ]
  },
  {
   "cell_type": "code",
   "execution_count": 1,
   "metadata": {
    "ExecuteTime": {
     "end_time": "2020-03-31T18:05:14.390257Z",
     "start_time": "2020-03-31T18:05:13.532485Z"
    },
    "autoscroll": "auto",
    "options": {
     "caption": false,
     "complete": true,
     "display_data": true,
     "display_stream": true,
     "dpi": 200,
     "echo": true,
     "evaluate": false,
     "f_env": null,
     "f_pos": "htpb",
     "f_size": [
      6,
      4
     ],
     "f_spines": true,
     "fig": true,
     "include": true,
     "name": null,
     "option_string": "evaluate=False",
     "results": "verbatim",
     "term": false,
     "wrap": "output"
    }
   },
   "outputs": [],
   "source": [
    "# import the usual suspects\n",
    "from IPython.core.interactiveshell import InteractiveShell\n",
    "InteractiveShell.ast_node_interactivity = \"all\"\n",
    "import pandas as pd\n",
    "import numpy as np\n",
    "import matplotlib.pyplot as plt\n",
    "import os\n",
    "from pathlib import Path\n",
    "import sys\n",
    "import timeit\n",
    "\n",
    "%matplotlib inline\n",
    "import seaborn as sns\n",
    "\n",
    "sns.set_context(\"notebook\", font_scale=1.2)"
   ]
  },
  {
   "cell_type": "markdown",
   "metadata": {
    "format": "text/markdown"
   },
   "source": [
    "During the session, we will use classes and functions exported by `pyspark`\n"
   ]
  },
  {
   "cell_type": "code",
   "execution_count": 2,
   "metadata": {
    "ExecuteTime": {
     "end_time": "2020-03-31T18:05:14.497101Z",
     "start_time": "2020-03-31T18:05:14.445758Z"
    },
    "autoscroll": "auto",
    "options": {
     "caption": false,
     "complete": true,
     "display_data": true,
     "display_stream": true,
     "dpi": 200,
     "echo": true,
     "evaluate": false,
     "f_env": null,
     "f_pos": "htpb",
     "f_size": [
      6,
      4
     ],
     "f_spines": true,
     "fig": true,
     "include": true,
     "name": null,
     "option_string": "evaluate=False",
     "results": "verbatim",
     "term": false,
     "wrap": "output"
    }
   },
   "outputs": [],
   "source": [
    "# spark\n",
    "from pyspark import SparkConf, SparkContext\n",
    "from pyspark.sql import SparkSession\n",
    "from pyspark.sql import Window\n",
    "from pyspark.sql.functions import col\n",
    "import pyspark.sql.functions as fn\n",
    "from pyspark.sql.catalog import Catalog\n",
    "from pyspark.sql.types import StructType, StructField\n",
    "from pyspark.sql.types import IntegerType, StringType"
   ]
  },
  {
   "cell_type": "markdown",
   "metadata": {},
   "source": [
    "Start the `SparkSession`"
   ]
  },
  {
   "cell_type": "code",
   "execution_count": 3,
   "metadata": {
    "ExecuteTime": {
     "end_time": "2020-03-31T18:05:18.357818Z",
     "start_time": "2020-03-31T18:05:15.233022Z"
    },
    "autoscroll": "auto",
    "options": {
     "caption": false,
     "complete": true,
     "display_data": true,
     "display_stream": true,
     "dpi": 200,
     "echo": true,
     "evaluate": false,
     "f_env": null,
     "f_pos": "htpb",
     "f_size": [
      6,
      4
     ],
     "f_spines": true,
     "fig": true,
     "include": true,
     "name": null,
     "option_string": "evaluate=False",
     "results": "verbatim",
     "term": false,
     "wrap": "output"
    }
   },
   "outputs": [],
   "source": [
    "conf = SparkConf().setAppName(\"Spark SQL Illustrations\")\n",
    "\n",
    "sc = SparkContext(conf=conf)\n",
    "spark = (SparkSession\n",
    "    .builder\n",
    "    .appName(\"Spark SQL\")\n",
    "    .getOrCreate()\n",
    ")"
   ]
  },
  {
   "cell_type": "markdown",
   "metadata": {
    "format": "text/markdown"
   },
   "source": [
    "US Baby Names 1880-2017\n",
    "=======================\n",
    "\n",
    "\n",
    "Description\n",
    ": US baby names provided by the SSA. \n",
    "\n",
    "This dataset contains all names used\n",
    "for at least 5 children of either sex during a year. \n",
    "\n",
    "\n",
    "The file is made of `1924665` lines and  4 columns.\n",
    "\n",
    "```\n",
    "|-- name: string (nullable = true)\n",
    "    |-- n: integer (nullable = true)\n",
    "    |-- sex: string (nullable = true)\n",
    "    |-- year: integer (nullable = true)\n",
    "```\n",
    "\n",
    "Each row indicates for a given name, sex, and year the number of babies \n",
    "of the given sex who were given that name during the given year. Names \n",
    "with less than 5 occurrences during the year were note recorded. \n",
    "\n",
    "|    name|  n|sex|year|\n",
    "|:--------|:---:|:---:|:----:|\n",
    "|  Emilia|112|  F|1985|\n",
    "|   Kelsi|112|  F|1985|\n",
    "|  Margot|112|  F|1985|\n",
    "|  Mariam|112|  F|1985|\n",
    "|Scarlett|112|  F|1985|\n",
    "\n",
    "First, we download the data if it's not there yet"
   ]
  },
  {
   "cell_type": "code",
   "execution_count": 4,
   "metadata": {
    "ExecuteTime": {
     "end_time": "2020-03-31T18:05:18.435825Z",
     "start_time": "2020-03-31T18:05:18.359619Z"
    }
   },
   "outputs": [],
   "source": [
    "import requests, zipfile, io\n",
    "from pathlib import Path\n",
    "\n",
    "path = Path('babynames_short.csv')\n",
    "if not path.exists():\n",
    "    url = \"https://stephanegaiffas.github.io/big_data_course/data/babynames_short.csv.zip\"\n",
    "    r = requests.get(url)\n",
    "    z = zipfile.ZipFile(io.BytesIO(r.content))\n",
    "    z.extractall(path='./')"
   ]
  },
  {
   "cell_type": "markdown",
   "metadata": {
    "format": "text/markdown"
   },
   "source": [
    "Load `babynames` from a `csv` file"
   ]
  },
  {
   "cell_type": "code",
   "execution_count": 5,
   "metadata": {
    "ExecuteTime": {
     "end_time": "2020-03-31T18:05:22.892543Z",
     "start_time": "2020-03-31T18:05:18.438220Z"
    },
    "autoscroll": "auto",
    "options": {
     "caption": false,
     "complete": true,
     "display_data": true,
     "display_stream": true,
     "dpi": 200,
     "echo": true,
     "evaluate": false,
     "f_env": null,
     "f_pos": "htpb",
     "f_size": [
      6,
      4
     ],
     "f_spines": true,
     "fig": true,
     "include": true,
     "name": null,
     "option_string": "evaluate=False",
     "results": "verbatim",
     "term": false,
     "wrap": "output"
    },
    "scrolled": false
   },
   "outputs": [
    {
     "name": "stdout",
     "output_type": "stream",
     "text": [
      "root\n",
      " |-- name: string (nullable = true)\n",
      " |-- n: integer (nullable = true)\n",
      " |-- sex: string (nullable = true)\n",
      " |-- year: double (nullable = true)\n",
      "\n"
     ]
    }
   ],
   "source": [
    "df_sp = spark.read\\\n",
    "             .format('csv')\\\n",
    "             .option(\"header\", \"true\")\\\n",
    "             .option(\"mode\", \"FAILFAST\")\\\n",
    "             .option(\"inferSchema\", \"true\")\\\n",
    "             .option(\"sep\", \",\")\\\n",
    "             .load(\"babynames_short.csv\")\n",
    "\n",
    "df_sp.printSchema()"
   ]
  },
  {
   "cell_type": "markdown",
   "metadata": {
    "format": "text/markdown"
   },
   "source": [
    "\n",
    "Ensure that the dataframe has the following schema:\n",
    "\n",
    "    root\n",
    "        |-- name: string (nullable = true)\n",
    "        |-- n: integer (nullable = true)\n",
    "        |-- sex: string (nullable = true)\n",
    "        |-- year: integer (nullable = true)\n",
    "\n",
    "\n"
   ]
  },
  {
   "cell_type": "markdown",
   "metadata": {
    "format": "text/markdown"
   },
   "source": [
    "SQL versus spark-Dataframe API\n",
    "=================================\n",
    "\n",
    ">  Dataset API vs SQL\n",
    "\n",
    "> Spark SQL supports two \"modes\" to write structured queries: Dataset API and SQL. SQL Mode is used to express structured queries using SQL statements using SparkSession.sql operator, expr standard function and spark-sql command-line tool.\n",
    "\n",
    "> Some structured queries can be expressed much easier using Dataset API, but there are some that are only possible in SQL. In other words, you may find mixing Dataset API and SQL modes challenging yet rewarding.\n",
    "\n",
    "> What is important, and one of the reasons why Spark SQL has been so successful, is that there is no performance difference between the modes. Whatever mode you use to write your structured queries, they all end up as a tree of Catalyst relational data structures. And, yes, you could consider writing structured queries using Catalyst directly, but that could quickly become unwieldy for maintenance (i.e. finding Spark SQL developers who could be comfortable with it as well as being fairly low-level and therefore possibly too dependent on a specific Spark SQL version).\n",
    "\n",
    "Warmup:  compute the 10 most popular names given to babies in year 2000.\n",
    "======================================================================\n",
    "\n",
    "## Using `spark.sql()`\n",
    "\n",
    "In order to use mode `sql`, create a temporary view from the `DataFrame`.\n",
    "\n",
    "1. What are temporary views made of?\n",
    "1. Are there other kind of views in spark's world?"
   ]
  },
  {
   "cell_type": "code",
   "execution_count": 6,
   "metadata": {
    "ExecuteTime": {
     "end_time": "2020-03-31T18:05:23.065707Z",
     "start_time": "2020-03-31T18:05:22.894654Z"
    },
    "autoscroll": "auto",
    "options": {
     "caption": false,
     "complete": true,
     "display_data": true,
     "display_stream": true,
     "dpi": 200,
     "echo": true,
     "evaluate": false,
     "f_env": null,
     "f_pos": "htpb",
     "f_size": [
      6,
      4
     ],
     "f_spines": true,
     "fig": true,
     "include": true,
     "name": null,
     "option_string": "evaluate=False",
     "results": "verbatim",
     "term": false,
     "wrap": "output"
    }
   },
   "outputs": [],
   "source": [
    "df_sp.createOrReplaceTempView(\"babynames\")"
   ]
  },
  {
   "cell_type": "code",
   "execution_count": 7,
   "metadata": {
    "ExecuteTime": {
     "end_time": "2020-03-31T18:05:23.374635Z",
     "start_time": "2020-03-31T18:05:23.067615Z"
    }
   },
   "outputs": [
    {
     "data": {
      "text/plain": [
       "[Table(name='babynames', database=None, description=None, tableType='TEMPORARY', isTemporary=True)]"
      ]
     },
     "execution_count": 7,
     "metadata": {},
     "output_type": "execute_result"
    }
   ],
   "source": [
    "# TODO: \n",
    "Catalog(spark).listTables()"
   ]
  },
  {
   "cell_type": "markdown",
   "metadata": {
    "format": "text/markdown"
   },
   "source": [
    "\n",
    "## A query is a plain SQL query embodied in a string.\n",
    "\n"
   ]
  },
  {
   "cell_type": "code",
   "execution_count": 8,
   "metadata": {
    "ExecuteTime": {
     "end_time": "2020-03-31T18:05:25.683918Z",
     "start_time": "2020-03-31T18:05:23.377905Z"
    },
    "autoscroll": "auto",
    "options": {
     "caption": false,
     "complete": true,
     "display_data": true,
     "display_stream": true,
     "dpi": 200,
     "echo": true,
     "evaluate": false,
     "f_env": null,
     "f_pos": "htpb",
     "f_size": [
      6,
      4
     ],
     "f_spines": true,
     "fig": true,
     "include": true,
     "name": null,
     "option_string": "evaluate=False",
     "results": "verbatim",
     "term": false,
     "wrap": "output"
    }
   },
   "outputs": [
    {
     "name": "stdout",
     "output_type": "stream",
     "text": [
      "+-----------+---+-----+\n",
      "|       name|sex|    n|\n",
      "+-----------+---+-----+\n",
      "|      Emily|  F|25953|\n",
      "|     Hannah|  F|23080|\n",
      "|    Madison|  F|19967|\n",
      "|     Ashley|  F|17997|\n",
      "|      Sarah|  F|17697|\n",
      "|     Alexis|  F|17629|\n",
      "|   Samantha|  F|17266|\n",
      "|    Jessica|  F|15709|\n",
      "|  Elizabeth|  F|15094|\n",
      "|     Taylor|  F|15078|\n",
      "|      Jacob|  M|34471|\n",
      "|    Michael|  M|32035|\n",
      "|    Matthew|  M|28572|\n",
      "|     Joshua|  M|27538|\n",
      "|Christopher|  M|24931|\n",
      "|   Nicholas|  M|24652|\n",
      "|     Andrew|  M|23639|\n",
      "|     Joseph|  M|22825|\n",
      "|     Daniel|  M|22312|\n",
      "|      Tyler|  M|21503|\n",
      "+-----------+---+-----+\n",
      "\n"
     ]
    }
   ],
   "source": [
    "query = \"\"\"\n",
    "SELECT name, sex, n\n",
    "FROM babynames\n",
    "WHERE year = {0} AND sex = '{1}'\n",
    "ORDER BY n DESC\n",
    "LIMIT 10\n",
    "\"\"\"\n",
    "\n",
    "female_names2000 = spark.sql(query.format(2000, \"F\"))\n",
    "male_names2000 = spark.sql(query.format(2000, \"M\"))\n",
    "\n",
    "female_names2000.union(male_names2000).show()"
   ]
  },
  {
   "cell_type": "markdown",
   "metadata": {
    "format": "text/markdown"
   },
   "source": [
    "\n",
    "> This phrasing is not consistent with the DRY principle. Fix this using formatted strings.\n",
    "\n",
    "## Using the dataframe/dataset API\n",
    "\n",
    "This can also be done using Spark SQL API.\n",
    "\n",
    "### Pedestrian approach\n",
    "\n",
    "1. First select `10` most popular names for girls in year `2000`, define `spark` dataframe\n",
    "`top10_2000_f`.\n",
    "1. Does the definition of `top10_2000_f` involve _transformations_, _actions_ or both?\n",
    "1. What is the type of the result returned by `top10_2000_f.take(2)`? the type of elements of the result?\n",
    "\n"
   ]
  },
  {
   "cell_type": "code",
   "execution_count": 9,
   "metadata": {
    "ExecuteTime": {
     "end_time": "2020-03-31T18:05:26.771889Z",
     "start_time": "2020-03-31T18:05:25.686875Z"
    },
    "autoscroll": "auto",
    "options": {
     "caption": false,
     "complete": true,
     "display_data": true,
     "display_stream": true,
     "dpi": 200,
     "echo": true,
     "evaluate": false,
     "f_env": null,
     "f_pos": "htpb",
     "f_size": [
      6,
      4
     ],
     "f_spines": true,
     "fig": true,
     "include": true,
     "name": null,
     "option_string": "evaluate=False",
     "results": "verbatim",
     "term": false,
     "wrap": "output"
    }
   },
   "outputs": [
    {
     "name": "stdout",
     "output_type": "stream",
     "text": [
      "+---------+-----+---+------+\n",
      "|     name|    n|sex|  year|\n",
      "+---------+-----+---+------+\n",
      "|    Emily|25953|  F|2000.0|\n",
      "|   Hannah|23080|  F|2000.0|\n",
      "|  Madison|19967|  F|2000.0|\n",
      "|   Ashley|17997|  F|2000.0|\n",
      "|    Sarah|17697|  F|2000.0|\n",
      "|   Alexis|17629|  F|2000.0|\n",
      "| Samantha|17266|  F|2000.0|\n",
      "|  Jessica|15709|  F|2000.0|\n",
      "|Elizabeth|15094|  F|2000.0|\n",
      "|   Taylor|15078|  F|2000.0|\n",
      "+---------+-----+---+------+\n",
      "\n"
     ]
    }
   ],
   "source": [
    "top10_2000_f = df_sp.where('sex = \"F\"').where('year = 2000').orderBy(df_sp.n.desc()).limit(10)\n",
    "\n",
    "top10_2000_f.show()"
   ]
  },
  {
   "cell_type": "markdown",
   "metadata": {
    "format": "text/markdown"
   },
   "source": [
    "1. Do the same thing for boys"
   ]
  },
  {
   "cell_type": "code",
   "execution_count": 10,
   "metadata": {
    "ExecuteTime": {
     "end_time": "2020-03-31T18:05:27.790666Z",
     "start_time": "2020-03-31T18:05:26.773997Z"
    },
    "autoscroll": "auto",
    "options": {
     "caption": false,
     "complete": true,
     "display_data": true,
     "display_stream": true,
     "dpi": 200,
     "echo": true,
     "evaluate": false,
     "f_env": null,
     "f_pos": "htpb",
     "f_size": [
      6,
      4
     ],
     "f_spines": true,
     "fig": true,
     "include": true,
     "name": null,
     "option_string": "evaluate=False",
     "results": "verbatim",
     "term": false,
     "wrap": "output"
    }
   },
   "outputs": [
    {
     "name": "stdout",
     "output_type": "stream",
     "text": [
      "+-----------+-----+---+------+\n",
      "|       name|    n|sex|  year|\n",
      "+-----------+-----+---+------+\n",
      "|      Jacob|34471|  M|2000.0|\n",
      "|    Michael|32035|  M|2000.0|\n",
      "|    Matthew|28572|  M|2000.0|\n",
      "|     Joshua|27538|  M|2000.0|\n",
      "|Christopher|24931|  M|2000.0|\n",
      "|   Nicholas|24652|  M|2000.0|\n",
      "|     Andrew|23639|  M|2000.0|\n",
      "|     Joseph|22825|  M|2000.0|\n",
      "|     Daniel|22312|  M|2000.0|\n",
      "|      Tyler|21503|  M|2000.0|\n",
      "+-----------+-----+---+------+\n",
      "\n"
     ]
    }
   ],
   "source": [
    "top10_2000_m = df_sp.where('sex = \"M\"').where('year = 2000').orderBy(df_sp.n.desc()).limit(10)\n",
    "\n",
    "top10_2000_m.show()"
   ]
  },
  {
   "cell_type": "markdown",
   "metadata": {
    "format": "text/markdown"
   },
   "source": [
    "\n",
    "1. Compute the _union_ of the two spark dataframes. Store the result in\n",
    "dataframe `top10_2000`\n",
    "\n"
   ]
  },
  {
   "cell_type": "code",
   "execution_count": 11,
   "metadata": {
    "ExecuteTime": {
     "end_time": "2020-03-31T18:05:29.558236Z",
     "start_time": "2020-03-31T18:05:27.792679Z"
    },
    "autoscroll": "auto",
    "options": {
     "caption": false,
     "complete": true,
     "display_data": true,
     "display_stream": true,
     "dpi": 200,
     "echo": true,
     "evaluate": false,
     "f_env": null,
     "f_pos": "htpb",
     "f_size": [
      6,
      4
     ],
     "f_spines": true,
     "fig": true,
     "include": true,
     "name": null,
     "option_string": "evaluate=False",
     "results": "verbatim",
     "term": false,
     "wrap": "output"
    }
   },
   "outputs": [
    {
     "name": "stdout",
     "output_type": "stream",
     "text": [
      "+-----------+-----+---+------+\n",
      "|       name|    n|sex|  year|\n",
      "+-----------+-----+---+------+\n",
      "|      Emily|25953|  F|2000.0|\n",
      "|     Hannah|23080|  F|2000.0|\n",
      "|    Madison|19967|  F|2000.0|\n",
      "|     Ashley|17997|  F|2000.0|\n",
      "|      Sarah|17697|  F|2000.0|\n",
      "|     Alexis|17629|  F|2000.0|\n",
      "|   Samantha|17266|  F|2000.0|\n",
      "|    Jessica|15709|  F|2000.0|\n",
      "|  Elizabeth|15094|  F|2000.0|\n",
      "|     Taylor|15078|  F|2000.0|\n",
      "|      Jacob|34471|  M|2000.0|\n",
      "|    Michael|32035|  M|2000.0|\n",
      "|    Matthew|28572|  M|2000.0|\n",
      "|     Joshua|27538|  M|2000.0|\n",
      "|Christopher|24931|  M|2000.0|\n",
      "|   Nicholas|24652|  M|2000.0|\n",
      "|     Andrew|23639|  M|2000.0|\n",
      "|     Joseph|22825|  M|2000.0|\n",
      "|     Daniel|22312|  M|2000.0|\n",
      "|      Tyler|21503|  M|2000.0|\n",
      "+-----------+-----+---+------+\n",
      "\n"
     ]
    }
   ],
   "source": [
    "top10_2000 = top10_2000_f.union(top10_2000_m)\n",
    "\n",
    "top10_2000.show()"
   ]
  },
  {
   "cell_type": "markdown",
   "metadata": {
    "format": "text/markdown"
   },
   "source": [
    "\n",
    "### Do it again, complying  with DRY principle\n",
    "\n"
   ]
  },
  {
   "cell_type": "code",
   "execution_count": 12,
   "metadata": {
    "ExecuteTime": {
     "end_time": "2020-03-31T18:05:31.278891Z",
     "start_time": "2020-03-31T18:05:29.561554Z"
    },
    "autoscroll": "auto",
    "options": {
     "caption": false,
     "complete": true,
     "display_data": true,
     "display_stream": true,
     "dpi": 200,
     "echo": true,
     "evaluate": false,
     "f_env": null,
     "f_pos": "htpb",
     "f_size": [
      6,
      4
     ],
     "f_spines": true,
     "fig": true,
     "include": true,
     "name": null,
     "option_string": "evaluate=False",
     "results": "verbatim",
     "term": false,
     "wrap": "output"
    }
   },
   "outputs": [
    {
     "name": "stdout",
     "output_type": "stream",
     "text": [
      "+-----------+-----+---+------+\n",
      "|       name|    n|sex|  year|\n",
      "+-----------+-----+---+------+\n",
      "|      Emily|25953|  F|2000.0|\n",
      "|     Hannah|23080|  F|2000.0|\n",
      "|    Madison|19967|  F|2000.0|\n",
      "|     Ashley|17997|  F|2000.0|\n",
      "|      Sarah|17697|  F|2000.0|\n",
      "|     Alexis|17629|  F|2000.0|\n",
      "|   Samantha|17266|  F|2000.0|\n",
      "|    Jessica|15709|  F|2000.0|\n",
      "|  Elizabeth|15094|  F|2000.0|\n",
      "|     Taylor|15078|  F|2000.0|\n",
      "|      Jacob|34471|  M|2000.0|\n",
      "|    Michael|32035|  M|2000.0|\n",
      "|    Matthew|28572|  M|2000.0|\n",
      "|     Joshua|27538|  M|2000.0|\n",
      "|Christopher|24931|  M|2000.0|\n",
      "|   Nicholas|24652|  M|2000.0|\n",
      "|     Andrew|23639|  M|2000.0|\n",
      "|     Joseph|22825|  M|2000.0|\n",
      "|     Daniel|22312|  M|2000.0|\n",
      "|      Tyler|21503|  M|2000.0|\n",
      "+-----------+-----+---+------+\n",
      "\n"
     ]
    }
   ],
   "source": [
    "# TODO: Not sure if this suffices as DRY enough\n",
    "condition = \"sex = '{0}' AND year = {1}\"\n",
    "top10_2000_m_DRY = df_sp.where(condition.format(\"M\", 2000)).orderBy(df_sp.n.desc()).limit(10)\n",
    "top10_2000_f_DRY = df_sp.where(condition.format(\"F\", 2000)).orderBy(df_sp.n.desc()).limit(10)\n",
    "top10_2000_DRY = top10_2000_f_DRY.union(top10_2000_m_DRY)\n",
    "\n",
    "top10_2000_DRY.show()"
   ]
  },
  {
   "cell_type": "markdown",
   "metadata": {},
   "source": [
    "1. Does the definition of top10_2000_f involve transformations_, _actions or both?\n",
    "\n",
    "It only involves actions since we are not creating a new data frame, as per the transformation operations are union(), map(), filter() etc"
   ]
  },
  {
   "cell_type": "markdown",
   "metadata": {},
   "source": [
    "1. What is the type of the result returned by `top10_2000_f.take(2)`? List\n",
    "1. What is the type of elements of the result? pyspark.sql.types.Row"
   ]
  },
  {
   "cell_type": "code",
   "execution_count": 13,
   "metadata": {
    "ExecuteTime": {
     "end_time": "2020-03-31T18:05:33.107904Z",
     "start_time": "2020-03-31T18:05:31.281899Z"
    }
   },
   "outputs": [
    {
     "data": {
      "text/plain": [
       "list"
      ]
     },
     "execution_count": 13,
     "metadata": {},
     "output_type": "execute_result"
    },
    {
     "data": {
      "text/plain": [
       "pyspark.sql.types.Row"
      ]
     },
     "execution_count": 13,
     "metadata": {},
     "output_type": "execute_result"
    }
   ],
   "source": [
    "type(top10_2000_f.take(2))\n",
    "type(top10_2000_f.take(2)[0])"
   ]
  },
  {
   "cell_type": "markdown",
   "metadata": {
    "format": "text/markdown"
   },
   "source": [
    "\n",
    "\n",
    "Name portfolio through ages\n",
    "===========================\n",
    "\n",
    "1. Compute for each year and sex the number of distinct names given that year.\n",
    "\n"
   ]
  },
  {
   "cell_type": "code",
   "execution_count": 14,
   "metadata": {
    "ExecuteTime": {
     "end_time": "2020-03-31T18:05:34.805651Z",
     "start_time": "2020-03-31T18:05:33.109789Z"
    },
    "autoscroll": "auto",
    "options": {
     "caption": false,
     "complete": true,
     "display_data": true,
     "display_stream": true,
     "dpi": 200,
     "echo": true,
     "evaluate": false,
     "f_env": null,
     "f_pos": "htpb",
     "f_size": [
      6,
      4
     ],
     "f_spines": true,
     "fig": true,
     "include": true,
     "name": null,
     "option_string": "evaluate=False",
     "results": "verbatim",
     "term": false,
     "wrap": "output"
    }
   },
   "outputs": [
    {
     "name": "stdout",
     "output_type": "stream",
     "text": [
      "+------+---+----------+\n",
      "|  year|sex|n_distinct|\n",
      "+------+---+----------+\n",
      "|1880.0|  F|       942|\n",
      "|1880.0|  M|      1058|\n",
      "|1881.0|  F|       938|\n",
      "|1881.0|  M|       997|\n",
      "|1882.0|  F|      1028|\n",
      "|1882.0|  M|      1099|\n",
      "|1883.0|  F|      1054|\n",
      "|1883.0|  M|      1030|\n",
      "|1884.0|  F|      1172|\n",
      "|1884.0|  M|      1125|\n",
      "|1885.0|  F|      1197|\n",
      "|1885.0|  M|      1097|\n",
      "|1886.0|  F|      1282|\n",
      "|1886.0|  M|      1110|\n",
      "|1887.0|  F|      1306|\n",
      "|1887.0|  M|      1067|\n",
      "|1888.0|  F|      1474|\n",
      "|1888.0|  M|      1177|\n",
      "|1889.0|  F|      1479|\n",
      "|1889.0|  M|      1111|\n",
      "+------+---+----------+\n",
      "only showing top 20 rows\n",
      "\n"
     ]
    }
   ],
   "source": [
    "query_portfolio = \"\"\"\n",
    "SELECT year, sex, count(name) AS n_distinct\n",
    "FROM babynames\n",
    "GROUP BY year, sex\n",
    "ORDER BY year, sex\n",
    "\"\"\"\n",
    "\n",
    "spark.sql(query_portfolio).show(20)"
   ]
  },
  {
   "cell_type": "code",
   "execution_count": 15,
   "metadata": {
    "ExecuteTime": {
     "end_time": "2020-03-31T18:05:36.097930Z",
     "start_time": "2020-03-31T18:05:34.808404Z"
    }
   },
   "outputs": [
    {
     "name": "stdout",
     "output_type": "stream",
     "text": [
      "+------+---+----------+\n",
      "|  year|sex|n_distinct|\n",
      "+------+---+----------+\n",
      "|1880.0|  F|       942|\n",
      "|1880.0|  M|      1058|\n",
      "|1881.0|  F|       938|\n",
      "|1881.0|  M|       997|\n",
      "|1882.0|  F|      1028|\n",
      "|1882.0|  M|      1099|\n",
      "|1883.0|  F|      1054|\n",
      "|1883.0|  M|      1030|\n",
      "|1884.0|  F|      1172|\n",
      "|1884.0|  M|      1125|\n",
      "+------+---+----------+\n",
      "only showing top 10 rows\n",
      "\n"
     ]
    }
   ],
   "source": [
    "nb_names_year_sex = df_sp.groupby(col(\"year\"),col(\"sex\")).agg(fn.count(col(\"name\"))\\\n",
    "                                                              .alias(\"n_distinct\"))\\\n",
    "                                                              .orderBy(col(\"year\"),col(\"sex\")).show(10)"
   ]
  },
  {
   "cell_type": "code",
   "execution_count": 16,
   "metadata": {
    "ExecuteTime": {
     "end_time": "2020-03-31T18:05:37.299630Z",
     "start_time": "2020-03-31T18:05:36.100879Z"
    }
   },
   "outputs": [
    {
     "name": "stdout",
     "output_type": "stream",
     "text": [
      "+------+---+-----+\n",
      "|  year|sex|count|\n",
      "+------+---+-----+\n",
      "|1880.0|  F|  942|\n",
      "|1880.0|  M| 1058|\n",
      "|1881.0|  F|  938|\n",
      "|1881.0|  M|  997|\n",
      "|1882.0|  F| 1028|\n",
      "|1882.0|  M| 1099|\n",
      "|1883.0|  F| 1054|\n",
      "|1883.0|  M| 1030|\n",
      "|1884.0|  F| 1172|\n",
      "|1884.0|  M| 1125|\n",
      "+------+---+-----+\n",
      "only showing top 10 rows\n",
      "\n"
     ]
    }
   ],
   "source": [
    "nb_names_year_sex = df_sp.groupBy([df_sp.year, df_sp.sex]).count()\n",
    "nb_names_year_sex.orderBy(col(\"year\"),col(\"sex\")).show(10)"
   ]
  },
  {
   "cell_type": "markdown",
   "metadata": {
    "format": "text/markdown"
   },
   "source": [
    "1. Plot the evolution of the number of distinct names as a function of  `year`.\n",
    "Use some aesthetics to distinguish sexes."
   ]
  },
  {
   "cell_type": "code",
   "execution_count": 17,
   "metadata": {
    "ExecuteTime": {
     "end_time": "2020-03-31T18:05:38.737819Z",
     "start_time": "2020-03-31T18:05:37.302298Z"
    },
    "autoscroll": "auto",
    "options": {
     "caption": false,
     "complete": true,
     "display_data": true,
     "display_stream": true,
     "dpi": 200,
     "echo": true,
     "evaluate": false,
     "f_env": null,
     "f_pos": "htpb",
     "f_size": [
      6,
      4
     ],
     "f_spines": true,
     "fig": true,
     "include": true,
     "name": null,
     "option_string": "evaluate=False",
     "results": "verbatim",
     "term": false,
     "wrap": "output"
    }
   },
   "outputs": [
    {
     "data": {
      "text/plain": [
       "Text(0.5, 1.0, 'Number of distinct names with more than 5 ocurrences')"
      ]
     },
     "execution_count": 17,
     "metadata": {},
     "output_type": "execute_result"
    },
    {
     "data": {
      "text/plain": [
       "Text(0, 0.5, 'Number of distinct given names')"
      ]
     },
     "execution_count": 17,
     "metadata": {},
     "output_type": "execute_result"
    },
    {
     "data": {
      "image/png": "[encoded data removed]",
      "text/plain": [
       "<Figure size 432x288 with 1 Axes>"
      ]
     },
     "metadata": {},
     "output_type": "display_data"
    }
   ],
   "source": [
    "nb_names_year_sex_pd = nb_names_year_sex.toPandas()\n",
    "\n",
    "sns.set()\n",
    "g = sns.lineplot(x = \"year\",\n",
    "                 y = \"count\",\n",
    "                 hue = \"sex\",\n",
    "                 style = \"sex\",\n",
    "                 data = nb_names_year_sex_pd)\n",
    "\n",
    "g.set_title(\"Number of distinct names with more than 5 ocurrences\")\n",
    "plt.ylabel(\"Number of distinct given names\")\n",
    "plt.show(g)"
   ]
  },
  {
   "cell_type": "markdown",
   "metadata": {
    "format": "text/markdown"
   },
   "source": [
    "\n",
    "\n",
    "Assessing popularity through time\n",
    "=================================\n",
    "\n",
    "1. For each year and sex, compute the total number of births\n",
    "1. Plot the evolution of the sex ratio over time\n",
    "1. For each year, sex, and name compute the percentage of newborns\n",
    "given that name for that given year.\n",
    "\n",
    "\n",
    "> Use `Window` functions.\n",
    "\n"
   ]
  },
  {
   "cell_type": "code",
   "execution_count": 18,
   "metadata": {
    "ExecuteTime": {
     "end_time": "2020-03-31T18:05:40.008237Z",
     "start_time": "2020-03-31T18:05:38.741181Z"
    },
    "autoscroll": "auto",
    "options": {
     "caption": false,
     "complete": true,
     "display_data": true,
     "display_stream": true,
     "dpi": 200,
     "echo": true,
     "evaluate": false,
     "f_env": null,
     "f_pos": "htpb",
     "f_size": [
      6,
      4
     ],
     "f_spines": true,
     "fig": true,
     "include": true,
     "name": null,
     "option_string": "evaluate=False",
     "results": "verbatim",
     "term": false,
     "wrap": "output"
    }
   },
   "outputs": [
    {
     "name": "stdout",
     "output_type": "stream",
     "text": [
      "+------+---+------+\n",
      "|  year|sex| total|\n",
      "+------+---+------+\n",
      "|1880.0|  F| 90993|\n",
      "|1880.0|  M|110491|\n",
      "|1881.0|  F| 91953|\n",
      "|1881.0|  M|100743|\n",
      "|1882.0|  F|107847|\n",
      "|1882.0|  M|113686|\n",
      "|1883.0|  F|112319|\n",
      "|1883.0|  M|104627|\n",
      "|1884.0|  F|129020|\n",
      "|1884.0|  M|114442|\n",
      "|1885.0|  F|133055|\n",
      "|1885.0|  M|107799|\n",
      "|1886.0|  F|144533|\n",
      "|1886.0|  M|110784|\n",
      "|1887.0|  F|145981|\n",
      "|1887.0|  M|101413|\n",
      "|1888.0|  F|178622|\n",
      "|1888.0|  M|120851|\n",
      "|1889.0|  F|178366|\n",
      "|1889.0|  M|110580|\n",
      "+------+---+------+\n",
      "only showing top 20 rows\n",
      "\n"
     ]
    }
   ],
   "source": [
    "df_year_sex_births = df_sp.groupBy(col(\"year\"), col(\"sex\")).agg(fn.sum(col(\"n\")).alias(\"total\"))\\\n",
    "                    .orderBy(col(\"year\"),col(\"sex\"))                \n",
    "df_year_sex_births.show()"
   ]
  },
  {
   "cell_type": "code",
   "execution_count": 19,
   "metadata": {
    "ExecuteTime": {
     "end_time": "2020-03-31T18:05:44.171554Z",
     "start_time": "2020-03-31T18:05:40.011587Z"
    }
   },
   "outputs": [
    {
     "name": "stdout",
     "output_type": "stream",
     "text": [
      "+------+------+------+---------+\n",
      "|  year|     F|     M|sex_ratio|\n",
      "+------+------+------+---------+\n",
      "|1880.0| 90993|110491|     1.21|\n",
      "|1881.0| 91953|100743|      1.1|\n",
      "|1882.0|107847|113686|     1.05|\n",
      "|1883.0|112319|104627|     0.93|\n",
      "|1884.0|129020|114442|     0.89|\n",
      "|1885.0|133055|107799|     0.81|\n",
      "|1886.0|144533|110784|     0.77|\n",
      "|1887.0|145981|101413|     0.69|\n",
      "|1888.0|178622|120851|     0.68|\n",
      "|1889.0|178366|110580|     0.62|\n",
      "|1890.0|190376|111025|     0.58|\n",
      "|1891.0|185481|101191|     0.55|\n",
      "|1892.0|212339|122036|     0.57|\n",
      "|1893.0|212905|112318|     0.53|\n",
      "|1894.0|222921|115769|     0.52|\n",
      "|1895.0|233627|117395|      0.5|\n",
      "|1896.0|237918|119567|      0.5|\n",
      "|1897.0|234200|112757|     0.48|\n",
      "|1898.0|258768|122690|     0.47|\n",
      "|1899.0|233023|106210|     0.46|\n",
      "+------+------+------+---------+\n",
      "only showing top 20 rows\n",
      "\n"
     ]
    }
   ],
   "source": [
    "df_sex_ratio = df_year_sex_births.groupBy(\"year\").pivot(\"sex\").sum(\"total\")\\\n",
    "                .withColumn(\"sex_ratio\",fn.round(col(\"M\")/col(\"F\"),2)).orderBy(col(\"year\"))\n",
    "df_sex_ratio.show(20)"
   ]
  },
  {
   "cell_type": "markdown",
   "metadata": {},
   "source": [
    "2. Plot the evolution of the sex ratio over time"
   ]
  },
  {
   "cell_type": "code",
   "execution_count": 20,
   "metadata": {
    "ExecuteTime": {
     "end_time": "2020-03-31T18:05:46.722646Z",
     "start_time": "2020-03-31T18:05:44.175075Z"
    }
   },
   "outputs": [
    {
     "data": {
      "text/plain": [
       "Text(0.5, 1.0, 'Evolution of sex ratio over time')"
      ]
     },
     "execution_count": 20,
     "metadata": {},
     "output_type": "execute_result"
    },
    {
     "data": {
      "text/plain": [
       "Text(0, 0.5, 'Sex ratio value')"
      ]
     },
     "execution_count": 20,
     "metadata": {},
     "output_type": "execute_result"
    },
    {
     "data": {
      "text/plain": [
       "Text(0.5, 0, 'Year')"
      ]
     },
     "execution_count": 20,
     "metadata": {},
     "output_type": "execute_result"
    },
    {
     "data": {
      "image/png": "[encoded data removed]",
      "text/plain": [
       "<Figure size 432x288 with 1 Axes>"
      ]
     },
     "metadata": {},
     "output_type": "display_data"
    }
   ],
   "source": [
    "df_sex_ratio_pd = df_sex_ratio.toPandas()\n",
    "\n",
    "sns.set()\n",
    "g = sns.lineplot(x = \"year\",\n",
    "                 y = \"sex_ratio\",\n",
    "                 data = df_sex_ratio_pd)\n",
    "\n",
    "g.set_title(\"Evolution of sex ratio over time\")\n",
    "plt.ylabel(\"Sex ratio value\")\n",
    "plt.xlabel(\"Year\")\n",
    "plt.show(g)"
   ]
  },
  {
   "cell_type": "markdown",
   "metadata": {},
   "source": [
    "3. For each year, sex, and name compute the percentage of newborns given that name for that given year."
   ]
  },
  {
   "cell_type": "code",
   "execution_count": 21,
   "metadata": {
    "ExecuteTime": {
     "end_time": "2020-03-31T18:05:46.821776Z",
     "start_time": "2020-03-31T18:05:46.724695Z"
    }
   },
   "outputs": [],
   "source": [
    "wintest = Window.partitionBy(\"year\")\n",
    "total = fn.sum(\"n\").over(wintest)\n",
    "percentage = fn.round(100*col(\"n\")/total,4)\n",
    "percentage_year_name = df_sp.withColumn(\"total_births\", total).withColumn(\"percentage\", percentage).orderBy(\"year\")\n",
    "#percentage_year_name.show()\n"
   ]
  },
  {
   "cell_type": "code",
   "execution_count": 22,
   "metadata": {
    "ExecuteTime": {
     "end_time": "2020-03-31T18:05:49.594722Z",
     "start_time": "2020-03-31T18:05:46.823894Z"
    }
   },
   "outputs": [
    {
     "name": "stdout",
     "output_type": "stream",
     "text": [
      "+---------+-----+---+------+------------+----------+\n",
      "|     name|    n|sex|  year|total_births|percentage|\n",
      "+---------+-----+---+------+------------+----------+\n",
      "|     Mary|11754|  F|1888.0|      299473|    3.9249|\n",
      "|     Anna| 4982|  F|1888.0|      299473|    1.6636|\n",
      "|Elizabeth| 3224|  F|1888.0|      299473|    1.0766|\n",
      "|     Emma| 3087|  F|1888.0|      299473|    1.0308|\n",
      "| Margaret| 2904|  F|1888.0|      299473|    0.9697|\n",
      "|   Minnie| 2654|  F|1888.0|      299473|    0.8862|\n",
      "|   Bertha| 2450|  F|1888.0|      299473|    0.8181|\n",
      "| Florence| 2444|  F|1888.0|      299473|    0.8161|\n",
      "|    Ethel| 2374|  F|1888.0|      299473|    0.7927|\n",
      "|   Bessie| 2278|  F|1888.0|      299473|    0.7607|\n",
      "|    Clara| 2230|  F|1888.0|      299473|    0.7446|\n",
      "|      Ida| 2229|  F|1888.0|      299473|    0.7443|\n",
      "|    Alice| 2202|  F|1888.0|      299473|    0.7353|\n",
      "|    Annie| 2188|  F|1888.0|      299473|    0.7306|\n",
      "|    Grace| 2090|  F|1888.0|      299473|    0.6979|\n",
      "|    Helen| 1847|  F|1888.0|      299473|    0.6168|\n",
      "|    Mabel| 1830|  F|1888.0|      299473|    0.6111|\n",
      "|     Ella| 1774|  F|1888.0|      299473|    0.5924|\n",
      "|   Martha| 1769|  F|1888.0|      299473|    0.5907|\n",
      "|    Sarah| 1755|  F|1888.0|      299473|     0.586|\n",
      "+---------+-----+---+------+------------+----------+\n",
      "only showing top 20 rows\n",
      "\n",
      "+-----------------+\n",
      "|  sum(percentage)|\n",
      "+-----------------+\n",
      "|99.99870000000041|\n",
      "+-----------------+\n",
      "\n"
     ]
    }
   ],
   "source": [
    "#This is just for verification purposes\n",
    "orwell = percentage_year_name.where(\"year = 1888\")\n",
    "orwell.show()\n",
    "orwell.agg(fn.sum(\"percentage\")).show() # This value doesn't add up exactly to 100% because of the round operation and 4 decimal points limit"
   ]
  },
  {
   "cell_type": "markdown",
   "metadata": {
    "format": "text/markdown"
   },
   "source": [
    "\n",
    "1. Compute for each year, sex and name  the `row_number`, `rank`, and `dense_rank`\n",
    "of the name within that year and sex category, when names are sorted by increasing popularity.\n",
    "\n"
   ]
  },
  {
   "cell_type": "code",
   "execution_count": 23,
   "metadata": {
    "ExecuteTime": {
     "end_time": "2020-03-31T18:05:55.566590Z",
     "start_time": "2020-03-31T18:05:49.597510Z"
    },
    "autoscroll": "auto",
    "options": {
     "caption": false,
     "complete": true,
     "display_data": true,
     "display_stream": true,
     "dpi": 200,
     "echo": true,
     "evaluate": false,
     "f_env": null,
     "f_pos": "htpb",
     "f_size": [
      6,
      4
     ],
     "f_spines": true,
     "fig": true,
     "include": true,
     "name": null,
     "option_string": "evaluate=False",
     "results": "verbatim",
     "term": false,
     "wrap": "output"
    }
   },
   "outputs": [
    {
     "name": "stdout",
     "output_type": "stream",
     "text": [
      "+---------+---+---+------+------------+----------+----------+----+----------+\n",
      "|     name|  n|sex|  year|total_births|percentage|row_number|rank|dense_rank|\n",
      "+---------+---+---+------+------------+----------+----------+----+----------+\n",
      "|       Ab|  5|  M|1880.0|      201484|    0.0025|       108|   1|         1|\n",
      "|   Abbott|  5|  M|1880.0|      201484|    0.0025|       109|   1|         1|\n",
      "|   Adelle|  5|  F|1880.0|      201484|    0.0025|         1|   1|         1|\n",
      "|    Adina|  5|  F|1880.0|      201484|    0.0025|         2|   1|         1|\n",
      "| Adrienne|  5|  F|1880.0|      201484|    0.0025|         3|   1|         1|\n",
      "|  Agustus|  5|  M|1880.0|      201484|    0.0025|       110|   1|         1|\n",
      "|Albertine|  5|  F|1880.0|      201484|    0.0025|         4|   1|         1|\n",
      "| Albertus|  5|  M|1880.0|      201484|    0.0025|       111|   1|         1|\n",
      "|    Almer|  5|  M|1880.0|      201484|    0.0025|       112|   1|         1|\n",
      "| Alphonso|  5|  M|1880.0|      201484|    0.0025|       113|   1|         1|\n",
      "|    Alvia|  5|  M|1880.0|      201484|    0.0025|       114|   1|         1|\n",
      "|     Alys|  5|  F|1880.0|      201484|    0.0025|         5|   1|         1|\n",
      "|      Ana|  5|  F|1880.0|      201484|    0.0025|         6|   1|         1|\n",
      "| Araminta|  5|  F|1880.0|      201484|    0.0025|         7|   1|         1|\n",
      "|   Arthur|  5|  F|1880.0|      201484|    0.0025|         8|   1|         1|\n",
      "|    Artie|  5|  M|1880.0|      201484|    0.0025|       115|   1|         1|\n",
      "|    Arvid|  5|  M|1880.0|      201484|    0.0025|       116|   1|         1|\n",
      "|    Ashby|  5|  M|1880.0|      201484|    0.0025|       117|   1|         1|\n",
      "|  Augusta|  5|  M|1880.0|      201484|    0.0025|       118|   1|         1|\n",
      "|  Aurthur|  5|  M|1880.0|      201484|    0.0025|       119|   1|         1|\n",
      "+---------+---+---+------+------------+----------+----------+----+----------+\n",
      "only showing top 20 rows\n",
      "\n"
     ]
    }
   ],
   "source": [
    "window2 = Window.partitionBy(\"year\").orderBy(\"percentage\")\n",
    "rank = fn.rank().over(window2)\n",
    "row_number = fn.row_number().over(window2)\n",
    "dense_rank = fn.dense_rank().over(window2)\n",
    "\n",
    "testeo = percentage_year_name.withColumn(\"row_number\", row_number)\\\n",
    ".withColumn(\"rank\", rank)\\\n",
    ".withColumn(\"dense_rank\", dense_rank)\\\n",
    ".orderBy([\"year\",\"percentage\",\"name\"], ascending=[1,1,1])\n",
    "testeo.show(20)"
   ]
  },
  {
   "cell_type": "markdown",
   "metadata": {
    "format": "text/markdown"
   },
   "source": [
    "\n",
    "\n",
    "\n",
    "Evolution of top popular names through the century\n",
    "==================================================\n",
    "\n",
    "\n",
    "1. For each sex, select the ten most popular names in year 2000, and plot the proportion\n",
    "of newborns given that name over time. Take into account that some names might have\n",
    "zero occurrence during certain years.\n",
    "\n"
   ]
  },
  {
   "cell_type": "code",
   "execution_count": 85,
   "metadata": {
    "ExecuteTime": {
     "end_time": "2020-04-01T00:27:38.978686Z",
     "start_time": "2020-04-01T00:27:32.427496Z"
    },
    "autoscroll": "auto",
    "options": {
     "caption": false,
     "complete": true,
     "display_data": true,
     "display_stream": true,
     "dpi": 200,
     "echo": true,
     "evaluate": false,
     "f_env": null,
     "f_pos": "htpb",
     "f_size": [
      6,
      4
     ],
     "f_spines": true,
     "fig": true,
     "include": true,
     "name": null,
     "option_string": "evaluate=False",
     "results": "verbatim",
     "term": false,
     "wrap": "output"
    }
   },
   "outputs": [
    {
     "name": "stdout",
     "output_type": "stream",
     "text": [
      "+-----------+---+---+------+\n",
      "|       name|sex|  n|  year|\n",
      "+-----------+---+---+------+\n",
      "|      Jacob|  M|404|1880.0|\n",
      "|    Michael|  M|354|1880.0|\n",
      "|    Matthew|  M|113|1880.0|\n",
      "|     Joshua|  M| 57|1880.0|\n",
      "|Christopher|  M| 95|1880.0|\n",
      "|      Jacob|  M|381|1881.0|\n",
      "|     Joshua|  M| 40|1881.0|\n",
      "|    Michael|  M|298|1881.0|\n",
      "|Christopher|  M| 68|1881.0|\n",
      "|    Matthew|  M| 80|1881.0|\n",
      "|    Michael|  M|321|1882.0|\n",
      "|     Joshua|  M| 50|1882.0|\n",
      "|    Matthew|  M|109|1882.0|\n",
      "|      Jacob|  M|390|1882.0|\n",
      "|Christopher|  M| 89|1882.0|\n",
      "|     Joshua|  M| 55|1883.0|\n",
      "|    Matthew|  M| 86|1883.0|\n",
      "|      Jacob|  M|356|1883.0|\n",
      "|Christopher|  M| 89|1883.0|\n",
      "|    Michael|  M|307|1883.0|\n",
      "+-----------+---+---+------+\n",
      "only showing top 20 rows\n",
      "\n",
      "+------+---+----+------+\n",
      "|  name|sex|   n|  year|\n",
      "+------+---+----+------+\n",
      "|Hannah|  F| 221|1880.0|\n",
      "| Emily|  F| 210|1880.0|\n",
      "| Sarah|  F|1288|1880.0|\n",
      "| Sarah|  F|1226|1881.0|\n",
      "|Hannah|  F| 196|1881.0|\n",
      "| Emily|  F| 244|1881.0|\n",
      "|Hannah|  F| 214|1882.0|\n",
      "| Emily|  F| 272|1882.0|\n",
      "| Sarah|  F|1410|1882.0|\n",
      "|Hannah|  F| 209|1883.0|\n",
      "| Emily|  F| 342|1883.0|\n",
      "| Sarah|  F|1359|1883.0|\n",
      "| Emily|  F| 364|1884.0|\n",
      "| Sarah|  F|1518|1884.0|\n",
      "|Hannah|  F| 275|1884.0|\n",
      "| Sarah|  F|1424|1885.0|\n",
      "| Emily|  F| 346|1885.0|\n",
      "|Hannah|  F| 236|1885.0|\n",
      "| Sarah|  F|1569|1886.0|\n",
      "| Emily|  F| 369|1886.0|\n",
      "+------+---+----+------+\n",
      "only showing top 20 rows\n",
      "\n"
     ]
    }
   ],
   "source": [
    "# TODO:\n",
    "winwin = Window.partitionBy(\"year\")\n",
    "\n",
    "male_pro = df_sp.where('sex = \"M\" AND year = 2000').orderBy(df_sp.n.desc()).select(\"name\",\"sex\").limit(5)\n",
    "\n",
    "female_pro = df_sp.where('sex = \"F\" AND year = 2000').orderBy(df_sp.n.desc()).select(\"name\", \"sex\").limit(5)\n",
    "\n",
    "male_joined = df_sp.join(male_pro, [\"name\", \"sex\"]).orderBy(\"year\")\n",
    "female_joined = df_sp.join(female_pro, [\"name\", \"sex\"]).orderBy(\"year\")\n",
    "\n",
    "male_joined.show()\n",
    "female_joined.show()"
   ]
  },
  {
   "cell_type": "code",
   "execution_count": 84,
   "metadata": {
    "ExecuteTime": {
     "end_time": "2020-04-01T00:21:51.440792Z",
     "start_time": "2020-04-01T00:21:48.420268Z"
    }
   },
   "outputs": [
    {
     "data": {
      "text/plain": [
       "['Jacob', 'Michael', 'Matthew', 'Joshua', 'Christopher']"
      ]
     },
     "execution_count": 84,
     "metadata": {},
     "output_type": "execute_result"
    },
    {
     "data": {
      "text/plain": [
       "['Emily', 'Hannah', 'Madison', 'Ashley', 'Sarah']"
      ]
     },
     "execution_count": 84,
     "metadata": {},
     "output_type": "execute_result"
    }
   ],
   "source": [
    "male_names = [row[\"name\"] for row in male_pro.collect()]\n",
    "female_names = [row[\"name\"] for row in female_pro.collect()]\n",
    "male_names\n",
    "female_names"
   ]
  },
  {
   "cell_type": "code",
   "execution_count": 74,
   "metadata": {
    "ExecuteTime": {
     "end_time": "2020-04-01T00:10:19.846253Z",
     "start_time": "2020-04-01T00:08:42.893331Z"
    }
   },
   "outputs": [
    {
     "data": {
      "text/plain": [
       "Text(0.5, 1.0, 'Jacob popularity distribution over the years')"
      ]
     },
     "execution_count": 74,
     "metadata": {},
     "output_type": "execute_result"
    },
    {
     "data": {
      "text/plain": [
       "Text(0.5, 1.0, 'Michael popularity distribution over the years')"
      ]
     },
     "execution_count": 74,
     "metadata": {},
     "output_type": "execute_result"
    },
    {
     "data": {
      "text/plain": [
       "Text(0.5, 1.0, 'Matthew popularity distribution over the years')"
      ]
     },
     "execution_count": 74,
     "metadata": {},
     "output_type": "execute_result"
    },
    {
     "data": {
      "text/plain": [
       "Text(0.5, 1.0, 'Joshua popularity distribution over the years')"
      ]
     },
     "execution_count": 74,
     "metadata": {},
     "output_type": "execute_result"
    },
    {
     "data": {
      "text/plain": [
       "Text(0.5, 1.0, 'Christopher popularity distribution over the years')"
      ]
     },
     "execution_count": 74,
     "metadata": {},
     "output_type": "execute_result"
    },
    {
     "data": {
      "text/plain": [
       "Text(0.5, 1.0, 'Emily popularity distribution over the years')"
      ]
     },
     "execution_count": 74,
     "metadata": {},
     "output_type": "execute_result"
    },
    {
     "data": {
      "text/plain": [
       "Text(0.5, 1.0, 'Hannah popularity distribution over the years')"
      ]
     },
     "execution_count": 74,
     "metadata": {},
     "output_type": "execute_result"
    },
    {
     "data": {
      "text/plain": [
       "Text(0.5, 1.0, 'Madison popularity distribution over the years')"
      ]
     },
     "execution_count": 74,
     "metadata": {},
     "output_type": "execute_result"
    },
    {
     "data": {
      "text/plain": [
       "Text(0.5, 1.0, 'Ashley popularity distribution over the years')"
      ]
     },
     "execution_count": 74,
     "metadata": {},
     "output_type": "execute_result"
    },
    {
     "data": {
      "text/plain": [
       "Text(0.5, 1.0, 'Sarah popularity distribution over the years')"
      ]
     },
     "execution_count": 74,
     "metadata": {},
     "output_type": "execute_result"
    },
    {
     "data": {
      "image/png": "[encoded data removed]",
      "text/plain": [
       "<Figure size 1080x2880 with 10 Axes>"
      ]
     },
     "metadata": {},
     "output_type": "display_data"
    }
   ],
   "source": [
    "fig, axes = plt.subplots(nrows=5 , ncols=2, figsize=(15, 40))\n",
    "\n",
    "for i, name in enumerate(male_names):\n",
    "    #name = str(name)\n",
    "    sns.scatterplot(x = \"year\", y = \"n\", data = male_joined.where('name = \"{0}\"'.format(name)).toPandas(), ax=axes[i,0])\\\n",
    "    .set_title(\"{0} popularity distribution over the years\".format(name))\n",
    "\n",
    "for i, name in enumerate(female_names):\n",
    "    #name = str(name)\n",
    "    sns.scatterplot(x = \"year\", y = \"n\", data = female_joined.where('name = \"{0}\"'.format(name)).toPandas(), ax=axes[i,1])\\\n",
    "    .set_title(\"{0} popularity distribution over the years\".format(name))\n",
    "\n",
    "plt.show()"
   ]
  },
  {
   "cell_type": "code",
   "execution_count": 86,
   "metadata": {
    "ExecuteTime": {
     "end_time": "2020-04-01T00:29:53.437922Z",
     "start_time": "2020-04-01T00:29:53.433535Z"
    },
    "scrolled": true
   },
   "outputs": [],
   "source": [
    "#fig, axes = plt.subplots(figsize=(5, 5))\n",
    "#sns.scatterplot(x = \"year\", y = \"percentage\", data = zoe1)\n",
    "#plt.show()"
   ]
  },
  {
   "cell_type": "markdown",
   "metadata": {
    "format": "text/markdown"
   },
   "source": [
    "\n",
    "1. Use `explain()` to determine the joining strategy used by spark.\n",
    "\n",
    "\n",
    "Plot  the popularity of each of the top ten achievers from year 2000 with respect to time\n",
    "==================================================================================\n",
    "\n",
    "\n"
   ]
  },
  {
   "cell_type": "code",
   "execution_count": null,
   "metadata": {
    "ExecuteTime": {
     "end_time": "2020-03-09T13:25:00.680650Z",
     "start_time": "2020-03-09T13:25:00.677469Z"
    },
    "autoscroll": "auto",
    "options": {
     "caption": false,
     "complete": true,
     "display_data": true,
     "display_stream": true,
     "dpi": 200,
     "echo": true,
     "evaluate": false,
     "f_env": null,
     "f_pos": "htpb",
     "f_size": [
      6,
      4
     ],
     "f_spines": true,
     "fig": true,
     "include": true,
     "name": null,
     "option_string": "evaluate=False",
     "results": "verbatim",
     "term": false,
     "wrap": "output"
    }
   },
   "outputs": [],
   "source": [
    "# %%\n",
    "# TODO:\n",
    "# %%"
   ]
  },
  {
   "cell_type": "markdown",
   "metadata": {
    "format": "text/markdown"
   },
   "source": [
    "\n",
    "\n",
    "Plot the total popularity of the top ten achievers from year 2000 with respect to time\n",
    "==================================================================================\n",
    "\n",
    "\n"
   ]
  },
  {
   "cell_type": "code",
   "execution_count": null,
   "metadata": {
    "ExecuteTime": {
     "end_time": "2020-03-09T13:25:00.924571Z",
     "start_time": "2020-03-09T13:25:00.917339Z"
    },
    "autoscroll": "auto",
    "options": {
     "caption": false,
     "complete": true,
     "display_data": true,
     "display_stream": true,
     "dpi": 200,
     "echo": true,
     "evaluate": false,
     "f_env": null,
     "f_pos": "htpb",
     "f_size": [
      6,
      4
     ],
     "f_spines": true,
     "fig": true,
     "include": true,
     "name": null,
     "option_string": "evaluate=False",
     "results": "verbatim",
     "term": false,
     "wrap": "output"
    }
   },
   "outputs": [],
   "source": [
    "# %%\n",
    "# TODO:\n",
    "# %%"
   ]
  },
  {
   "cell_type": "markdown",
   "metadata": {
    "format": "text/markdown"
   },
   "source": [
    "\n",
    "\n",
    "Plot lorenz curves\n",
    "=====================\n",
    "\n",
    "Every year, the name counts define a discrete probability distribution.\n",
    "This distribution, just as income or wealth distribution,\n",
    "is (usually) far from being uniform. We want to assess how uneven it is.\n",
    "We use the tools developed in econometrics.\n",
    "\n",
    "Without loss of generality, that we handle a distribution over $1, \\ldots, n$\n",
    "where $n$ is the number of distinct names given during a year.\n",
    "We assume that frequencies $p_1, p_2, \\ldots, p_n$ are given in ascending order.\n",
    "\n",
    "The Lorenz function maps $[0, 1] \\to [0, 1]$.\n",
    "$$L(x) = \\sum_{i=1}^{\\lfloor nx \\rfloor} p_i$$.\n",
    "\n",
    "1. Design a query that adds a column \"lorenz\" to the dataframe , and for each\n",
    "row computes the value of the Lorenz function defined by `year`  and `sex`.\n",
    "\n",
    "\n"
   ]
  },
  {
   "cell_type": "code",
   "execution_count": null,
   "metadata": {
    "ExecuteTime": {
     "end_time": "2020-03-09T13:25:01.172487Z",
     "start_time": "2020-03-09T13:25:01.169864Z"
    },
    "autoscroll": "auto",
    "options": {
     "caption": false,
     "complete": true,
     "display_data": true,
     "display_stream": true,
     "dpi": 200,
     "echo": true,
     "evaluate": false,
     "f_env": null,
     "f_pos": "htpb",
     "f_size": [
      6,
      4
     ],
     "f_spines": true,
     "fig": true,
     "include": true,
     "name": null,
     "option_string": "evaluate=False",
     "results": "verbatim",
     "term": false,
     "wrap": "output"
    }
   },
   "outputs": [],
   "source": [
    "# TODO:"
   ]
  },
  {
   "cell_type": "markdown",
   "metadata": {
    "format": "text/markdown"
   },
   "source": [
    "\n",
    "\n",
    "1. Design a function that takes as input a `year` and plots the Lorenz curve\n",
    "for that year for both sexes.\n",
    "\n"
   ]
  },
  {
   "cell_type": "code",
   "execution_count": null,
   "metadata": {
    "ExecuteTime": {
     "end_time": "2020-03-09T13:25:01.435478Z",
     "start_time": "2020-03-09T13:25:01.432499Z"
    },
    "autoscroll": "auto",
    "options": {
     "caption": false,
     "complete": true,
     "display_data": true,
     "display_stream": true,
     "dpi": 200,
     "echo": true,
     "evaluate": false,
     "f_env": null,
     "f_pos": "htpb",
     "f_size": [
      6,
      4
     ],
     "f_spines": true,
     "fig": true,
     "include": true,
     "name": null,
     "option_string": "evaluate=False",
     "results": "verbatim",
     "term": false,
     "wrap": "output"
    }
   },
   "outputs": [],
   "source": [
    "# %%\n",
    "# TODO:\n",
    "# %%"
   ]
  },
  {
   "cell_type": "markdown",
   "metadata": {
    "format": "text/markdown"
   },
   "source": [
    "\n",
    "Gini index\n",
    "==========\n",
    "\n",
    "The [Gini index](https://en.wikipedia.org/wiki/Gini_coefficient) is twice the surface of the area comprised between curves $y=x$\n",
    "and $y=L(x)$.\n",
    "\n",
    "Choose a formula that allows you to compute it efficiently.\n",
    "\n",
    "$$G={\\frac {2\\sum _{i=1}^{n}iy_{i}}{n\\sum _{i=1}^{n}y_{i}}}-{\\frac {n+1}{n}}.$$\n",
    "\n",
    "1. Design a query that computes the Gini index of the `babynames` distribution\n",
    "for every `year` and `sex`.\n",
    "\n",
    "1. Plot Gini index over time\n",
    "\n",
    "\n"
   ]
  },
  {
   "cell_type": "code",
   "execution_count": null,
   "metadata": {
    "ExecuteTime": {
     "end_time": "2020-03-09T13:25:01.689514Z",
     "start_time": "2020-03-09T13:25:01.686509Z"
    },
    "autoscroll": "auto",
    "options": {
     "caption": false,
     "complete": true,
     "display_data": true,
     "display_stream": true,
     "dpi": 200,
     "echo": true,
     "evaluate": false,
     "f_env": null,
     "f_pos": "htpb",
     "f_size": [
      6,
      4
     ],
     "f_spines": true,
     "fig": true,
     "include": true,
     "name": null,
     "option_string": "evaluate=False",
     "results": "verbatim",
     "term": false,
     "wrap": "output"
    }
   },
   "outputs": [],
   "source": [
    "# TODO:"
   ]
  },
  {
   "cell_type": "markdown",
   "metadata": {
    "format": "text/markdown"
   },
   "source": [
    "\n",
    "\n"
   ]
  },
  {
   "cell_type": "code",
   "execution_count": null,
   "metadata": {
    "ExecuteTime": {
     "end_time": "2020-03-09T13:25:01.959724Z",
     "start_time": "2020-03-09T13:25:01.957043Z"
    },
    "autoscroll": "auto",
    "options": {
     "caption": false,
     "complete": true,
     "display_data": true,
     "display_stream": true,
     "dpi": 200,
     "echo": true,
     "evaluate": false,
     "f_env": null,
     "f_pos": "htpb",
     "f_size": [
      6,
      4
     ],
     "f_spines": true,
     "fig": true,
     "include": true,
     "name": null,
     "option_string": "evaluate=False",
     "results": "verbatim",
     "term": false,
     "wrap": "output"
    }
   },
   "outputs": [],
   "source": [
    "# %%\n",
    "# TODO:\n",
    "# %%"
   ]
  },
  {
   "cell_type": "markdown",
   "metadata": {
    "format": "text/markdown"
   },
   "source": [
    "\n",
    "\n",
    "\n",
    "Close the door, leave work area clean\n",
    "=====================================\n"
   ]
  },
  {
   "cell_type": "code",
   "execution_count": 87,
   "metadata": {
    "ExecuteTime": {
     "end_time": "2020-04-01T00:30:07.369072Z",
     "start_time": "2020-04-01T00:30:06.032649Z"
    }
   },
   "outputs": [],
   "source": [
    "spark.stop()"
   ]
  }
 ],
 "metadata": {
  "kernel_info": {
   "name": "python3"
  },
  "kernelspec": {
   "display_name": "Python 3",
   "language": "python",
   "name": "python3"
  },
  "language_info": {
   "codemirror_mode": {
    "name": "ipython",
    "version": 3
   },
   "file_extension": ".py",
   "mimetype": "text/x-python",
   "name": "python",
   "nbconvert_exporter": "python",
   "pygments_lexer": "ipython3",
   "version": "3.7.5"
  },
  "toc": {
   "base_numbering": 1,
   "nav_menu": {},
   "number_sections": true,
   "sideBar": true,
   "skip_h1_title": false,
   "title_cell": "Table of Contents",
   "title_sidebar": "Contents",
   "toc_cell": false,
   "toc_position": {
    "height": "682.727px",
    "left": "119px",
    "top": "110.284px",
    "width": "411.179px"
   },
   "toc_section_display": true,
   "toc_window_display": true
  }
 },
 "nbformat": 4,
 "nbformat_minor": 1
}
