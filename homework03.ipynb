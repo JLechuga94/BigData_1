{
 "cells": [
  {
   "cell_type": "markdown",
   "metadata": {
    "nteract": {
     "transient": {
      "deleting": false
     }
    }
   },
   "source": [
    "# New York taxis trips\n",
    "\n",
    "This homework is about New York taxi trips. Here is something from [Todd Schneider](https://toddwschneider.com/posts/analyzing-1-1-billion-nyc-taxi-and-uber-trips-with-a-vengeance/):\n",
    "\n",
    "> The New York City Taxi & Limousine Commission has released a  detailed historical dataset covering over 1 billion individual taxi trips in the city from January 2009 through December 2019. \n",
    "Taken as a whole, the detailed trip-level data is more than just a vast list of taxi pickup and drop off coordinates: it's a story of a City. \n",
    "How bad is the rush hour traffic from Midtown to JFK? \n",
    "Where does the Bridge and Tunnel crowd hang out on Saturday nights?\n",
    "What time do investment bankers get to work? How has Uber changed the landscape for taxis?\n",
    "The dataset addresses all of these questions and many more.\n",
    "\n",
    "The NY taxi trips dataset has been plowed by series of distinguished data scientists.\n",
    "The dataset is available from on Amazon S3 (Amazon's cloud storage service).\n",
    "The link for each file has the following form:\n",
    "\n",
    "    https://s3.amazonaws.com/nyc-tlc/trip+data/yellow_tripdata_{year}-{month}.csv\n",
    "\n",
    "There is one CSV file for each NY taxi service (`yellow`, `green`, `fhv`) and each calendar month (replacing `{year}` and `{month}` by the desired ones).\n",
    "Each file is moderately large, a few gigabytes. \n",
    "The full dataset is relatively large if it has to be handled on a laptop (several hundred gigabytes).\n",
    "\n",
    "You will focus on the `yellow` taxi service and a pair of months, from year 2015 and from year 2018. \n",
    "Between those two years, for hire vehicles services have taken off and carved a huge marketshare.\n",
    "\n",
    "Whatever the framework you use, `CSV` files prove hard to handle. \n",
    "After downloading the appropriate files (this takes time, but this is routine), a first step will consist in converting the csv files into a more Spark friendly format such as `parquet`.\n",
    "\n",
    "Saving into one of those formats require decisions about bucketing, partitioning and so on. Such decisions influence performance. It is your call.\n",
    "Many people have been working on this dataset, to cite but a few:\n",
    "\n",
    "\n",
    "- [1 billion trips with a vengeance](https://toddwschneider.com/posts/analyzing-1-1-billion-nyc-taxi-and-uber-trips-with-a-vengeance/)\n",
    "- [1 billion trips with R and SQL ](http://freerangestats.info/blog/2019/12/22/nyc-taxis-sql)\n",
    "- [1 billion trips with redshift](https://tech.marksblogg.com/billion-nyc-taxi-rides-redshift.html)\n",
    "- [nyc-taxi](https://github.com/fmaletski/nyc-taxi-map)"
   ]
  },
  {
   "cell_type": "markdown",
   "metadata": {},
   "source": [
    "Depending on your internet connection, **download the files** corresponding to **\"yellow\" taxis** for the years 2015 and 2018. Download **at least one month** (the same) for 2015 and 2018, if you can download all of them.\n",
    "\n",
    "**Hint.** The 12 csv for 2015 are about 23GB in total, but the corresponding parquet file, if you can create it for all 12 months, is only about 3GB."
   ]
  },
  {
   "cell_type": "markdown",
   "metadata": {},
   "source": [
    "You **might** need the following stuff in order to work with GPS coordinates and to plot things easily."
   ]
  },
  {
   "cell_type": "code",
   "execution_count": 1,
   "metadata": {
    "ExecuteTime": {
     "end_time": "2020-06-02T21:24:57.042671Z",
     "start_time": "2020-06-02T21:24:31.241367Z"
    }
   },
   "outputs": [
    {
     "name": "stdout",
     "output_type": "stream",
     "text": [
      "Collecting geojson\n",
      "  Downloading geojson-2.5.0-py2.py3-none-any.whl (14 kB)\n",
      "Collecting geopandas\n",
      "  Downloading geopandas-0.7.0-py2.py3-none-any.whl (928 kB)\n",
      "\u001b[K     |████████████████████████████████| 928 kB 10.6 MB/s eta 0:00:01\n",
      "\u001b[?25hCollecting plotly\n",
      "  Downloading plotly-4.8.1-py2.py3-none-any.whl (11.5 MB)\n",
      "\u001b[K     |████████████████████████████████| 11.5 MB 16.2 MB/s eta 0:00:01\n",
      "\u001b[?25hCollecting geopy\n",
      "  Downloading geopy-1.22.0-py2.py3-none-any.whl (113 kB)\n",
      "\u001b[K     |████████████████████████████████| 113 kB 17.1 MB/s eta 0:00:01\n",
      "\u001b[?25hRequirement already satisfied: pandas>=0.23.0 in /usr/local/lib/python3.7/dist-packages (from geopandas) (0.25.1)\n",
      "Collecting fiona\n",
      "  Downloading Fiona-1.8.13.post1-cp37-cp37m-manylinux1_x86_64.whl (14.7 MB)\n",
      "\u001b[K     |████████████████████████████████| 14.7 MB 11.8 MB/s eta 0:00:01\n",
      "\u001b[?25hCollecting pyproj>=2.2.0\n",
      "  Downloading pyproj-2.6.1.post1-cp37-cp37m-manylinux2010_x86_64.whl (10.9 MB)\n",
      "\u001b[K     |████████████████████████████████| 10.9 MB 10.1 MB/s eta 0:00:01\n",
      "\u001b[?25hCollecting shapely\n",
      "  Downloading Shapely-1.7.0-cp37-cp37m-manylinux1_x86_64.whl (1.8 MB)\n",
      "\u001b[K     |████████████████████████████████| 1.8 MB 21.4 MB/s eta 0:00:01\n",
      "\u001b[?25hCollecting retrying>=1.3.3\n",
      "  Downloading retrying-1.3.3.tar.gz (10 kB)\n",
      "Requirement already satisfied: six in /usr/lib/python3/dist-packages (from plotly) (1.11.0)\n",
      "Collecting geographiclib<2,>=1.49\n",
      "  Downloading geographiclib-1.50-py3-none-any.whl (38 kB)\n",
      "Requirement already satisfied: numpy>=1.13.3 in /usr/local/lib/python3.7/dist-packages (from pandas>=0.23.0->geopandas) (1.17.2)\n",
      "Requirement already satisfied: python-dateutil>=2.6.1 in /usr/local/lib/python3.7/dist-packages (from pandas>=0.23.0->geopandas) (2.8.0)\n",
      "Requirement already satisfied: pytz>=2017.2 in /usr/local/lib/python3.7/dist-packages (from pandas>=0.23.0->geopandas) (2019.3)\n",
      "Collecting click-plugins>=1.0\n",
      "  Downloading click_plugins-1.1.1-py2.py3-none-any.whl (7.5 kB)\n",
      "Collecting munch\n",
      "  Downloading munch-2.5.0-py2.py3-none-any.whl (10 kB)\n",
      "Requirement already satisfied: click<8,>=4.0 in /usr/local/lib/python3.7/dist-packages (from fiona->geopandas) (7.0)\n",
      "Collecting cligj>=0.5\n",
      "  Downloading cligj-0.5.0-py3-none-any.whl (5.7 kB)\n",
      "Requirement already satisfied: attrs>=17 in /usr/local/lib/python3.7/dist-packages (from fiona->geopandas) (19.2.0)\n",
      "Building wheels for collected packages: retrying\n",
      "  Building wheel for retrying (setup.py) ... \u001b[?25ldone\n",
      "\u001b[?25h  Created wheel for retrying: filename=retrying-1.3.3-py3-none-any.whl size=9530 sha256=9336724ba54790bd86e9fc3fc0f0151f9f4b067c105f565a154b72ea7c8103d0\n",
      "  Stored in directory: /root/.cache/pip/wheels/f9/8d/8d/f6af3f7f9eea3553bc2fe6d53e4b287dad18b06a861ac56ddf\n",
      "Successfully built retrying\n",
      "Installing collected packages: geojson, click-plugins, munch, cligj, fiona, pyproj, shapely, geopandas, retrying, plotly, geographiclib, geopy\n",
      "Successfully installed click-plugins-1.1.1 cligj-0.5.0 fiona-1.8.13.post1 geographiclib-1.50 geojson-2.5.0 geopandas-0.7.0 geopy-1.22.0 munch-2.5.0 plotly-4.8.1 pyproj-2.6.1.post1 retrying-1.3.3 shapely-1.7.0\n",
      "\u001b[33mWARNING: You are using pip version 20.0.2; however, version 20.1.1 is available.\n",
      "You should consider upgrading via the '/usr/bin/python3 -m pip install --upgrade pip' command.\u001b[0m\n"
     ]
    }
   ],
   "source": [
    "!pip install geojson geopandas plotly geopy"
   ]
  },
  {
   "cell_type": "code",
   "execution_count": 2,
   "metadata": {
    "ExecuteTime": {
     "end_time": "2020-06-01T10:47:12.402859Z",
     "start_time": "2020-06-01T10:47:09.543812Z"
    },
    "scrolled": true
   },
   "outputs": [
    {
     "name": "stdout",
     "output_type": "stream",
     "text": [
      "Collecting ipyleaflet\n",
      "  Downloading ipyleaflet-0.13.0-py2.py3-none-any.whl (5.1 MB)\n",
      "\u001b[K     |████████████████████████████████| 5.1 MB 8.9 MB/s eta 0:00:01\n",
      "\u001b[?25hCollecting traittypes<3,>=0.2.1\n",
      "  Downloading traittypes-0.2.1-py2.py3-none-any.whl (8.6 kB)\n",
      "Requirement already satisfied: ipywidgets<8,>=7.5.0 in /usr/local/lib/python3.7/dist-packages (from ipyleaflet) (7.5.1)\n",
      "Collecting branca<0.4,>=0.3.1\n",
      "  Downloading branca-0.3.1-py3-none-any.whl (25 kB)\n",
      "Requirement already satisfied: traitlets>=4.2.2 in /usr/local/lib/python3.7/dist-packages (from traittypes<3,>=0.2.1->ipyleaflet) (4.3.2)\n",
      "Requirement already satisfied: ipython>=4.0.0; python_version >= \"3.3\" in /usr/local/lib/python3.7/dist-packages (from ipywidgets<8,>=7.5.0->ipyleaflet) (7.8.0)\n",
      "Requirement already satisfied: ipykernel>=4.5.1 in /usr/local/lib/python3.7/dist-packages (from ipywidgets<8,>=7.5.0->ipyleaflet) (5.1.2)\n",
      "Requirement already satisfied: widgetsnbextension~=3.5.0 in /usr/local/lib/python3.7/dist-packages (from ipywidgets<8,>=7.5.0->ipyleaflet) (3.5.1)\n",
      "Requirement already satisfied: nbformat>=4.2.0 in /usr/local/lib/python3.7/dist-packages (from ipywidgets<8,>=7.5.0->ipyleaflet) (4.4.0)\n",
      "Requirement already satisfied: jinja2 in /usr/local/lib/python3.7/dist-packages (from branca<0.4,>=0.3.1->ipyleaflet) (2.10.1)\n",
      "Requirement already satisfied: six in /usr/lib/python3/dist-packages (from branca<0.4,>=0.3.1->ipyleaflet) (1.11.0)\n",
      "Requirement already satisfied: decorator in /usr/local/lib/python3.7/dist-packages (from traitlets>=4.2.2->traittypes<3,>=0.2.1->ipyleaflet) (4.4.0)\n",
      "Requirement already satisfied: ipython-genutils in /usr/local/lib/python3.7/dist-packages (from traitlets>=4.2.2->traittypes<3,>=0.2.1->ipyleaflet) (0.2.0)\n",
      "Requirement already satisfied: pexpect; sys_platform != \"win32\" in /usr/local/lib/python3.7/dist-packages (from ipython>=4.0.0; python_version >= \"3.3\"->ipywidgets<8,>=7.5.0->ipyleaflet) (4.7.0)\n",
      "Requirement already satisfied: pickleshare in /usr/local/lib/python3.7/dist-packages (from ipython>=4.0.0; python_version >= \"3.3\"->ipywidgets<8,>=7.5.0->ipyleaflet) (0.7.5)\n",
      "Requirement already satisfied: jedi>=0.10 in /usr/local/lib/python3.7/dist-packages (from ipython>=4.0.0; python_version >= \"3.3\"->ipywidgets<8,>=7.5.0->ipyleaflet) (0.15.1)\n",
      "Requirement already satisfied: pygments in /usr/local/lib/python3.7/dist-packages (from ipython>=4.0.0; python_version >= \"3.3\"->ipywidgets<8,>=7.5.0->ipyleaflet) (2.4.2)\n",
      "Requirement already satisfied: setuptools>=18.5 in /usr/local/lib/python3.7/dist-packages (from ipython>=4.0.0; python_version >= \"3.3\"->ipywidgets<8,>=7.5.0->ipyleaflet) (45.1.0)\n",
      "Requirement already satisfied: prompt-toolkit<2.1.0,>=2.0.0 in /usr/local/lib/python3.7/dist-packages (from ipython>=4.0.0; python_version >= \"3.3\"->ipywidgets<8,>=7.5.0->ipyleaflet) (2.0.9)\n",
      "Requirement already satisfied: backcall in /usr/local/lib/python3.7/dist-packages (from ipython>=4.0.0; python_version >= \"3.3\"->ipywidgets<8,>=7.5.0->ipyleaflet) (0.1.0)\n",
      "Requirement already satisfied: jupyter-client in /usr/local/lib/python3.7/dist-packages (from ipykernel>=4.5.1->ipywidgets<8,>=7.5.0->ipyleaflet) (5.3.3)\n",
      "Requirement already satisfied: tornado>=4.2 in /usr/local/lib/python3.7/dist-packages (from ipykernel>=4.5.1->ipywidgets<8,>=7.5.0->ipyleaflet) (6.0.3)\n",
      "Requirement already satisfied: notebook>=4.4.1 in /usr/local/lib/python3.7/dist-packages (from widgetsnbextension~=3.5.0->ipywidgets<8,>=7.5.0->ipyleaflet) (6.0.1)\n",
      "Requirement already satisfied: jsonschema!=2.5.0,>=2.4 in /usr/local/lib/python3.7/dist-packages (from nbformat>=4.2.0->ipywidgets<8,>=7.5.0->ipyleaflet) (3.0.2)\n",
      "Requirement already satisfied: jupyter-core in /usr/local/lib/python3.7/dist-packages (from nbformat>=4.2.0->ipywidgets<8,>=7.5.0->ipyleaflet) (4.5.0)\n",
      "Requirement already satisfied: MarkupSafe>=0.23 in /usr/local/lib/python3.7/dist-packages (from jinja2->branca<0.4,>=0.3.1->ipyleaflet) (1.1.1)\n",
      "Requirement already satisfied: ptyprocess>=0.5 in /usr/local/lib/python3.7/dist-packages (from pexpect; sys_platform != \"win32\"->ipython>=4.0.0; python_version >= \"3.3\"->ipywidgets<8,>=7.5.0->ipyleaflet) (0.6.0)\n",
      "Requirement already satisfied: parso>=0.5.0 in /usr/local/lib/python3.7/dist-packages (from jedi>=0.10->ipython>=4.0.0; python_version >= \"3.3\"->ipywidgets<8,>=7.5.0->ipyleaflet) (0.5.1)\n",
      "Requirement already satisfied: wcwidth in /usr/local/lib/python3.7/dist-packages (from prompt-toolkit<2.1.0,>=2.0.0->ipython>=4.0.0; python_version >= \"3.3\"->ipywidgets<8,>=7.5.0->ipyleaflet) (0.1.7)\n",
      "Requirement already satisfied: pyzmq>=13 in /usr/local/lib/python3.7/dist-packages (from jupyter-client->ipykernel>=4.5.1->ipywidgets<8,>=7.5.0->ipyleaflet) (18.1.0)\n",
      "Requirement already satisfied: python-dateutil>=2.1 in /usr/local/lib/python3.7/dist-packages (from jupyter-client->ipykernel>=4.5.1->ipywidgets<8,>=7.5.0->ipyleaflet) (2.8.0)\n",
      "Requirement already satisfied: Send2Trash in /usr/local/lib/python3.7/dist-packages (from notebook>=4.4.1->widgetsnbextension~=3.5.0->ipywidgets<8,>=7.5.0->ipyleaflet) (1.5.0)\n",
      "Requirement already satisfied: terminado>=0.8.1 in /usr/local/lib/python3.7/dist-packages (from notebook>=4.4.1->widgetsnbextension~=3.5.0->ipywidgets<8,>=7.5.0->ipyleaflet) (0.8.2)\n",
      "Requirement already satisfied: prometheus-client in /usr/local/lib/python3.7/dist-packages (from notebook>=4.4.1->widgetsnbextension~=3.5.0->ipywidgets<8,>=7.5.0->ipyleaflet) (0.7.1)\n",
      "Requirement already satisfied: nbconvert in /usr/local/lib/python3.7/dist-packages (from notebook>=4.4.1->widgetsnbextension~=3.5.0->ipywidgets<8,>=7.5.0->ipyleaflet) (5.6.0)\n",
      "Requirement already satisfied: pyrsistent>=0.14.0 in /usr/local/lib/python3.7/dist-packages (from jsonschema!=2.5.0,>=2.4->nbformat>=4.2.0->ipywidgets<8,>=7.5.0->ipyleaflet) (0.15.4)\n",
      "Requirement already satisfied: attrs>=17.4.0 in /usr/local/lib/python3.7/dist-packages (from jsonschema!=2.5.0,>=2.4->nbformat>=4.2.0->ipywidgets<8,>=7.5.0->ipyleaflet) (19.2.0)\n",
      "Requirement already satisfied: entrypoints>=0.2.2 in /usr/local/lib/python3.7/dist-packages (from nbconvert->notebook>=4.4.1->widgetsnbextension~=3.5.0->ipywidgets<8,>=7.5.0->ipyleaflet) (0.3)\n",
      "Requirement already satisfied: mistune<2,>=0.8.1 in /usr/local/lib/python3.7/dist-packages (from nbconvert->notebook>=4.4.1->widgetsnbextension~=3.5.0->ipywidgets<8,>=7.5.0->ipyleaflet) (0.8.4)\n",
      "Requirement already satisfied: bleach in /usr/local/lib/python3.7/dist-packages (from nbconvert->notebook>=4.4.1->widgetsnbextension~=3.5.0->ipywidgets<8,>=7.5.0->ipyleaflet) (3.1.0)\n",
      "Requirement already satisfied: pandocfilters>=1.4.1 in /usr/local/lib/python3.7/dist-packages (from nbconvert->notebook>=4.4.1->widgetsnbextension~=3.5.0->ipywidgets<8,>=7.5.0->ipyleaflet) (1.4.2)\n",
      "Requirement already satisfied: testpath in /usr/local/lib/python3.7/dist-packages (from nbconvert->notebook>=4.4.1->widgetsnbextension~=3.5.0->ipywidgets<8,>=7.5.0->ipyleaflet) (0.4.2)\n",
      "Requirement already satisfied: defusedxml in /usr/local/lib/python3.7/dist-packages (from nbconvert->notebook>=4.4.1->widgetsnbextension~=3.5.0->ipywidgets<8,>=7.5.0->ipyleaflet) (0.6.0)\n",
      "Requirement already satisfied: webencodings in /usr/local/lib/python3.7/dist-packages (from bleach->nbconvert->notebook>=4.4.1->widgetsnbextension~=3.5.0->ipywidgets<8,>=7.5.0->ipyleaflet) (0.5.1)\n",
      "Installing collected packages: traittypes, branca, ipyleaflet\n",
      "Successfully installed branca-0.3.1 ipyleaflet-0.13.0 traittypes-0.2.1\n",
      "\u001b[33mWARNING: You are using pip version 20.0.2; however, version 20.1.1 is available.\n",
      "You should consider upgrading via the '/usr/bin/python3 -m pip install --upgrade pip' command.\u001b[0m\n"
     ]
    }
   ],
   "source": [
    "!pip install ipyleaflet"
   ]
  },
  {
   "cell_type": "code",
   "execution_count": 1,
   "metadata": {
    "ExecuteTime": {
     "end_time": "2020-06-03T10:15:14.012200Z",
     "start_time": "2020-06-03T10:15:13.114868Z"
    }
   },
   "outputs": [],
   "source": [
    "#This is only to output every operation line in each block\n",
    "from IPython.core.interactiveshell import InteractiveShell\n",
    "InteractiveShell.ast_node_interactivity = \"all\"\n",
    "\n",
    "# import the usual suspects\n",
    "import pandas as pd\n",
    "import numpy as np\n",
    "import matplotlib.pyplot as plt\n",
    "import os\n",
    "from pathlib import Path\n",
    "import sys\n",
    "import timeit\n",
    "\n",
    "%matplotlib inline\n",
    "import seaborn as sns\n",
    "\n",
    "sns.set_context(\"notebook\", font_scale=1.2)\n",
    "\n",
    "# spark\n",
    "from pyspark import SparkConf, SparkContext\n",
    "from pyspark.sql.functions import year, month, dayofmonth\n",
    "from pyspark.sql import SparkSession\n",
    "from pyspark.sql import Window\n",
    "from pyspark.sql.functions import col\n",
    "import pyspark.sql.functions as fn\n",
    "from pyspark.sql.catalog import Catalog\n",
    "from pyspark.sql.types import StructType, StructField\n",
    "from pyspark.sql.types import IntegerType, StringType"
   ]
  },
  {
   "cell_type": "code",
   "execution_count": 3,
   "metadata": {
    "ExecuteTime": {
     "end_time": "2020-06-03T10:16:00.945029Z",
     "start_time": "2020-06-03T10:15:57.735109Z"
    }
   },
   "outputs": [],
   "source": [
    "conf = SparkConf().setAppName(\"NYC Taxis\")\n",
    "\n",
    "#Setting the amount of RAM memory for every executor in the Spark session to 12gb\n",
    "# Normally we dont want to use all available memory in our computer but at least 1gb less than the max we have\n",
    "# In my case I have 15,5 gb of RAM so using 12gb allows for 3.5gb for the rest of the processes being run\n",
    "sc = SparkContext(conf=conf)"
   ]
  },
  {
   "cell_type": "code",
   "execution_count": 8,
   "metadata": {
    "ExecuteTime": {
     "end_time": "2020-06-03T10:16:39.487475Z",
     "start_time": "2020-06-03T10:16:39.299179Z"
    }
   },
   "outputs": [],
   "source": [
    "spark = (SparkSession\n",
    "     .builder\n",
    "     .config(\"spark.executor.memory\", \"12gb\")\n",
    "     .config(\"spark.driver.memory\", \"12gb\")   \n",
    "     .appName(\"NYC_Analysis\")\n",
    "     .getOrCreate())"
   ]
  },
  {
   "cell_type": "code",
   "execution_count": 7,
   "metadata": {
    "ExecuteTime": {
     "end_time": "2020-06-03T10:16:35.104974Z",
     "start_time": "2020-06-03T10:16:34.757907Z"
    }
   },
   "outputs": [],
   "source": [
    "spark.stop()"
   ]
  },
  {
   "cell_type": "markdown",
   "metadata": {},
   "source": [
    "For this homework **we will let you decide on the tools to use** (expected for Spark) and to **find out information all by yourself** (but don't hesitate to ask questions on the `slack` channel)."
   ]
  },
  {
   "cell_type": "markdown",
   "metadata": {
    "nteract": {
     "transient": {
      "deleting": false
     }
    }
   },
   "source": [
    "# Loading data as parquet files\n",
    "\n",
    "We want to organize the data on a per year and per service basis. \n",
    "We want to end up with one `parquet` file for each year and each taxi service, since parquet is much better than CSV files.\n",
    "\n",
    "**Hint.** Depending on your internet connection and your laptop, you can use only the \"yellow\" service and use one month of 2015 and 2018\n",
    "\n",
    "CSV files can contain corrupted lines. You may have to work in order to perform ETL (Extract-Transform-Load) in order obtain a properly typed data frame.\n",
    "\n",
    "You are invited to proceed as follows:\n",
    "\n",
    "1. Try to read the CSV file without imposing a schema. \n",
    "1. Inspect the inferred schema. Do you agree with Spark's typing decision?\n",
    "1. Eventually correct the schema and read again the data\n",
    "1. Save the data into parquet files\n",
    "1. In the rest of your work, **you will only use the parquet files you created**, not the csv files (don't forget to choose a partitioning column and a number of partitions when creating the parquet files).\n",
    "\n",
    "**Hint.** Don't forget to ask `Spark` to use all the memory and ressources from your computer.\n",
    "\n",
    "**Hint.** Don't foreget that you should specify a partitioning column and a number of partitions when creating the parquet files.\n",
    "\n",
    "**Hint.** Note that the schemas of the 2015 and 2018 data are different...\n",
    "\n",
    "**Hint.** When working on this, ask you and answer to the following questions:\n",
    "\n",
    "1. What is the `StorageLevel` of the dataframe after reading the csv files?\n",
    "1. What is the number of partitions of the dataframe? \n",
    "1. Is it possible to tune this number at loading time? \n",
    "1. Why would we want to modify the number of partitions when creating the parquet files?"
   ]
  },
  {
   "cell_type": "code",
   "execution_count": 29,
   "metadata": {
    "ExecuteTime": {
     "end_time": "2020-06-02T22:29:13.654369Z",
     "start_time": "2020-06-02T22:26:14.720586Z"
    }
   },
   "outputs": [
    {
     "name": "stdout",
     "output_type": "stream",
     "text": [
      "root\n",
      " |-- VendorID: integer (nullable = true)\n",
      " |-- tpep_pickup_datetime: timestamp (nullable = true)\n",
      " |-- tpep_dropoff_datetime: timestamp (nullable = true)\n",
      " |-- passenger_count: integer (nullable = true)\n",
      " |-- trip_distance: double (nullable = true)\n",
      " |-- pickup_longitude: double (nullable = true)\n",
      " |-- pickup_latitude: double (nullable = true)\n",
      " |-- RateCodeID: integer (nullable = true)\n",
      " |-- store_and_fwd_flag: string (nullable = true)\n",
      " |-- dropoff_longitude: double (nullable = true)\n",
      " |-- dropoff_latitude: double (nullable = true)\n",
      " |-- payment_type: integer (nullable = true)\n",
      " |-- fare_amount: double (nullable = true)\n",
      " |-- extra: double (nullable = true)\n",
      " |-- mta_tax: double (nullable = true)\n",
      " |-- tip_amount: double (nullable = true)\n",
      " |-- tolls_amount: double (nullable = true)\n",
      " |-- improvement_surcharge: double (nullable = true)\n",
      " |-- total_amount: double (nullable = true)\n",
      "\n",
      "root\n",
      " |-- VendorID: integer (nullable = true)\n",
      " |-- tpep_pickup_datetime: timestamp (nullable = true)\n",
      " |-- tpep_dropoff_datetime: timestamp (nullable = true)\n",
      " |-- passenger_count: integer (nullable = true)\n",
      " |-- trip_distance: double (nullable = true)\n",
      " |-- pickup_longitude: double (nullable = true)\n",
      " |-- pickup_latitude: double (nullable = true)\n",
      " |-- RatecodeID: integer (nullable = true)\n",
      " |-- store_and_fwd_flag: string (nullable = true)\n",
      " |-- dropoff_longitude: double (nullable = true)\n",
      " |-- dropoff_latitude: double (nullable = true)\n",
      " |-- payment_type: integer (nullable = true)\n",
      " |-- fare_amount: double (nullable = true)\n",
      " |-- extra: double (nullable = true)\n",
      " |-- mta_tax: double (nullable = true)\n",
      " |-- tip_amount: double (nullable = true)\n",
      " |-- tolls_amount: double (nullable = true)\n",
      " |-- improvement_surcharge: double (nullable = true)\n",
      " |-- total_amount: double (nullable = true)\n",
      "\n"
     ]
    }
   ],
   "source": [
    "df_2015_06 = spark.read\\\n",
    "             .format('csv')\\\n",
    "             .option(\"header\", \"true\")\\\n",
    "             .option(\"mode\", \"FAILFAST\")\\\n",
    "             .option(\"inferSchema\", \"true\")\\\n",
    "             .option(\"sep\", \",\")\\\n",
    "             .load(\"yellow_tripdata_2015-06.csv\")\n",
    "\n",
    "df_2015_07 = spark.read\\\n",
    "             .format('csv')\\\n",
    "             .option(\"header\", \"true\")\\\n",
    "             .option(\"mode\", \"FAILFAST\")\\\n",
    "             .option(\"inferSchema\", \"true\")\\\n",
    "             .option(\"sep\", \",\")\\\n",
    "             .load(\"yellow_tripdata_2015-07.csv\")\n",
    "\n",
    "df_2015_06.printSchema()\n",
    "df_2015_07.printSchema()"
   ]
  },
  {
   "cell_type": "code",
   "execution_count": 30,
   "metadata": {
    "ExecuteTime": {
     "end_time": "2020-06-02T22:30:02.245320Z",
     "start_time": "2020-06-02T22:29:56.271299Z"
    }
   },
   "outputs": [
    {
     "data": {
      "text/plain": [
       "12324935"
      ]
     },
     "execution_count": 30,
     "metadata": {},
     "output_type": "execute_result"
    },
    {
     "data": {
      "text/plain": [
       "11562783"
      ]
     },
     "execution_count": 30,
     "metadata": {},
     "output_type": "execute_result"
    }
   ],
   "source": [
    "df_2015_06.count()\n",
    "df_2015_07.count()"
   ]
  },
  {
   "cell_type": "code",
   "execution_count": 31,
   "metadata": {
    "ExecuteTime": {
     "end_time": "2020-06-02T22:31:22.060544Z",
     "start_time": "2020-06-02T22:30:07.853105Z"
    }
   },
   "outputs": [
    {
     "name": "stdout",
     "output_type": "stream",
     "text": [
      "root\n",
      " |-- VendorID: integer (nullable = true)\n",
      " |-- tpep_pickup_datetime: timestamp (nullable = true)\n",
      " |-- tpep_dropoff_datetime: timestamp (nullable = true)\n",
      " |-- passenger_count: integer (nullable = true)\n",
      " |-- trip_distance: double (nullable = true)\n",
      " |-- RatecodeID: integer (nullable = true)\n",
      " |-- store_and_fwd_flag: string (nullable = true)\n",
      " |-- PULocationID: integer (nullable = true)\n",
      " |-- DOLocationID: integer (nullable = true)\n",
      " |-- payment_type: integer (nullable = true)\n",
      " |-- fare_amount: double (nullable = true)\n",
      " |-- extra: double (nullable = true)\n",
      " |-- mta_tax: double (nullable = true)\n",
      " |-- tip_amount: double (nullable = true)\n",
      " |-- tolls_amount: double (nullable = true)\n",
      " |-- improvement_surcharge: double (nullable = true)\n",
      " |-- total_amount: double (nullable = true)\n",
      "\n",
      "root\n",
      " |-- VendorID: integer (nullable = true)\n",
      " |-- tpep_pickup_datetime: timestamp (nullable = true)\n",
      " |-- tpep_dropoff_datetime: timestamp (nullable = true)\n",
      " |-- passenger_count: integer (nullable = true)\n",
      " |-- trip_distance: double (nullable = true)\n",
      " |-- RatecodeID: integer (nullable = true)\n",
      " |-- store_and_fwd_flag: string (nullable = true)\n",
      " |-- PULocationID: integer (nullable = true)\n",
      " |-- DOLocationID: integer (nullable = true)\n",
      " |-- payment_type: integer (nullable = true)\n",
      " |-- fare_amount: double (nullable = true)\n",
      " |-- extra: double (nullable = true)\n",
      " |-- mta_tax: double (nullable = true)\n",
      " |-- tip_amount: double (nullable = true)\n",
      " |-- tolls_amount: double (nullable = true)\n",
      " |-- improvement_surcharge: double (nullable = true)\n",
      " |-- total_amount: double (nullable = true)\n",
      "\n"
     ]
    }
   ],
   "source": [
    "df_2018_06 = spark.read\\\n",
    "             .format('csv')\\\n",
    "             .option(\"header\", \"true\")\\\n",
    "             .option(\"mode\", \"FAILFAST\")\\\n",
    "             .option(\"inferSchema\", \"true\")\\\n",
    "             .option(\"sep\", \",\")\\\n",
    "             .load(\"yellow_tripdata_2018-06.csv\")\n",
    "\n",
    "df_2018_07 = spark.read\\\n",
    "             .format('csv')\\\n",
    "             .option(\"header\", \"true\")\\\n",
    "             .option(\"mode\", \"FAILFAST\")\\\n",
    "             .option(\"inferSchema\", \"true\")\\\n",
    "             .option(\"sep\", \",\")\\\n",
    "             .load(\"yellow_tripdata_2018-07.csv\")\n",
    "\n",
    "df_2018_06.printSchema()\n",
    "df_2018_07.printSchema()"
   ]
  },
  {
   "cell_type": "code",
   "execution_count": 51,
   "metadata": {
    "ExecuteTime": {
     "end_time": "2020-06-02T23:10:05.791847Z",
     "start_time": "2020-06-02T23:09:32.914550Z"
    }
   },
   "outputs": [
    {
     "name": "stdout",
     "output_type": "stream",
     "text": [
      "root\n",
      " |-- VendorID: integer (nullable = true)\n",
      " |-- tpep_pickup_datetime: timestamp (nullable = true)\n",
      " |-- tpep_dropoff_datetime: timestamp (nullable = true)\n",
      " |-- passenger_count: integer (nullable = true)\n",
      " |-- trip_distance: double (nullable = true)\n",
      " |-- RatecodeID: integer (nullable = true)\n",
      " |-- store_and_fwd_flag: string (nullable = true)\n",
      " |-- PULocationID: integer (nullable = true)\n",
      " |-- DOLocationID: integer (nullable = true)\n",
      " |-- payment_type: integer (nullable = true)\n",
      " |-- fare_amount: double (nullable = true)\n",
      " |-- extra: double (nullable = true)\n",
      " |-- mta_tax: double (nullable = true)\n",
      " |-- tip_amount: double (nullable = true)\n",
      " |-- tolls_amount: double (nullable = true)\n",
      " |-- improvement_surcharge: double (nullable = true)\n",
      " |-- total_amount: double (nullable = true)\n",
      "\n"
     ]
    }
   ],
   "source": [
    "df_2018_01 = spark.read\\\n",
    "             .format('csv')\\\n",
    "             .option(\"header\", \"true\")\\\n",
    "             .option(\"mode\", \"FAILFAST\")\\\n",
    "             .option(\"inferSchema\", \"true\")\\\n",
    "             .option(\"sep\", \",\")\\\n",
    "             .load(\"yellow_tripdata_2018-01.csv\")\n",
    "df_2018_01.printSchema()"
   ]
  },
  {
   "cell_type": "code",
   "execution_count": 32,
   "metadata": {
    "ExecuteTime": {
     "end_time": "2020-06-02T22:32:32.296849Z",
     "start_time": "2020-06-02T22:32:29.362315Z"
    }
   },
   "outputs": [
    {
     "data": {
      "text/plain": [
       "8713831"
      ]
     },
     "execution_count": 32,
     "metadata": {},
     "output_type": "execute_result"
    },
    {
     "data": {
      "text/plain": [
       "7849748"
      ]
     },
     "execution_count": 32,
     "metadata": {},
     "output_type": "execute_result"
    }
   ],
   "source": [
    "df_2018_06.count()\n",
    "df_2018_07.count()"
   ]
  },
  {
   "cell_type": "code",
   "execution_count": 33,
   "metadata": {
    "ExecuteTime": {
     "end_time": "2020-06-02T22:32:48.910807Z",
     "start_time": "2020-06-02T22:32:48.904122Z"
    }
   },
   "outputs": [],
   "source": [
    "# Dataframe union for year 2015 months June and July, the join is done with the left part being the bigger dataframe\n",
    "df_2015 = df_2015_06.union(df_2015_07)"
   ]
  },
  {
   "cell_type": "code",
   "execution_count": 45,
   "metadata": {
    "ExecuteTime": {
     "end_time": "2020-06-02T22:37:18.090109Z",
     "start_time": "2020-06-02T22:37:18.085531Z"
    }
   },
   "outputs": [],
   "source": [
    "# Dataframe union for year 2018 months June and July, the join is done with the left part being the bigger dataframe\n",
    "df_2018 = df_2018_06.union(df_2018_07)"
   ]
  },
  {
   "cell_type": "code",
   "execution_count": 35,
   "metadata": {
    "ExecuteTime": {
     "end_time": "2020-06-02T22:32:57.282794Z",
     "start_time": "2020-06-02T22:32:51.832176Z"
    }
   },
   "outputs": [
    {
     "data": {
      "text/plain": [
       "23887718"
      ]
     },
     "execution_count": 35,
     "metadata": {},
     "output_type": "execute_result"
    },
    {
     "data": {
      "text/plain": [
       "Row(VendorID=2, tpep_pickup_datetime=datetime.datetime(2015, 6, 2, 11, 19, 29), tpep_dropoff_datetime=datetime.datetime(2015, 6, 2, 11, 47, 52), passenger_count=1, trip_distance=1.63, pickup_longitude=-73.95442962646484, pickup_latitude=40.76414108276367, RateCodeID=1, store_and_fwd_flag='N', dropoff_longitude=-73.9747543334961, dropoff_latitude=40.754093170166016, payment_type=2, fare_amount=17.0, extra=0.0, mta_tax=0.5, tip_amount=0.0, tolls_amount=0.0, improvement_surcharge=0.3, total_amount=17.8)"
      ]
     },
     "execution_count": 35,
     "metadata": {},
     "output_type": "execute_result"
    }
   ],
   "source": [
    "df_2015.count()\n",
    "df_2015.head()"
   ]
  },
  {
   "cell_type": "code",
   "execution_count": 37,
   "metadata": {
    "ExecuteTime": {
     "end_time": "2020-06-02T22:33:09.568817Z",
     "start_time": "2020-06-02T22:33:06.619023Z"
    }
   },
   "outputs": [
    {
     "data": {
      "text/plain": [
       "16563579"
      ]
     },
     "execution_count": 37,
     "metadata": {},
     "output_type": "execute_result"
    },
    {
     "data": {
      "text/plain": [
       "Row(VendorID=1, tpep_pickup_datetime=datetime.datetime(2018, 6, 1, 0, 15, 40), tpep_dropoff_datetime=datetime.datetime(2018, 6, 1, 0, 16, 46), passenger_count=1, trip_distance=0.0, RatecodeID=1, store_and_fwd_flag='N', PULocationID=145, DOLocationID=145, payment_type=2, fare_amount=3.0, extra=0.5, mta_tax=0.5, tip_amount=0.0, tolls_amount=0.0, improvement_surcharge=0.3, total_amount=4.3)"
      ]
     },
     "execution_count": 37,
     "metadata": {},
     "output_type": "execute_result"
    }
   ],
   "source": [
    "df_2018.count()\n",
    "df_2018.head()"
   ]
  },
  {
   "cell_type": "code",
   "execution_count": 38,
   "metadata": {
    "ExecuteTime": {
     "end_time": "2020-06-02T22:33:56.021007Z",
     "start_time": "2020-06-02T22:33:32.425709Z"
    }
   },
   "outputs": [
    {
     "name": "stdout",
     "output_type": "stream",
     "text": [
      "+--------+\n",
      "|VendorID|\n",
      "+--------+\n",
      "|       1|\n",
      "|       2|\n",
      "+--------+\n",
      "\n",
      "+---------------+\n",
      "|passenger_count|\n",
      "+---------------+\n",
      "|              1|\n",
      "|              6|\n",
      "|              3|\n",
      "|              5|\n",
      "|              9|\n",
      "|              4|\n",
      "|              8|\n",
      "|              7|\n",
      "|              2|\n",
      "|              0|\n",
      "+---------------+\n",
      "\n"
     ]
    }
   ],
   "source": [
    "df_2015.select('VendorID').distinct().show()\n",
    "df_2015.select('passenger_count').distinct().show()"
   ]
  },
  {
   "cell_type": "code",
   "execution_count": 39,
   "metadata": {
    "ExecuteTime": {
     "end_time": "2020-06-02T22:34:17.793140Z",
     "start_time": "2020-06-02T22:34:04.839804Z"
    }
   },
   "outputs": [
    {
     "name": "stdout",
     "output_type": "stream",
     "text": [
      "+--------+\n",
      "|VendorID|\n",
      "+--------+\n",
      "|       1|\n",
      "|       4|\n",
      "|       2|\n",
      "+--------+\n",
      "\n",
      "+---------------+\n",
      "|passenger_count|\n",
      "+---------------+\n",
      "|              1|\n",
      "|              6|\n",
      "|              3|\n",
      "|              5|\n",
      "|              9|\n",
      "|              4|\n",
      "|              8|\n",
      "|              7|\n",
      "|              2|\n",
      "|              0|\n",
      "+---------------+\n",
      "\n"
     ]
    }
   ],
   "source": [
    "df_2018.select('VendorID').distinct().show()\n",
    "df_2018.select('passenger_count').distinct().show()"
   ]
  },
  {
   "cell_type": "code",
   "execution_count": 53,
   "metadata": {
    "ExecuteTime": {
     "end_time": "2020-06-02T23:12:51.551868Z",
     "start_time": "2020-06-02T23:12:42.686083Z"
    },
    "scrolled": true
   },
   "outputs": [
    {
     "name": "stdout",
     "output_type": "stream",
     "text": [
      "+-----+\n",
      "|Month|\n",
      "+-----+\n",
      "|   12|\n",
      "|    1|\n",
      "|    7|\n",
      "|    2|\n",
      "+-----+\n",
      "\n"
     ]
    }
   ],
   "source": [
    "# Dataframe for months January year 2018\n",
    "df_2018_01.select('Month').distinct().show()"
   ]
  },
  {
   "cell_type": "code",
   "execution_count": 94,
   "metadata": {
    "ExecuteTime": {
     "end_time": "2020-06-03T00:08:46.680650Z",
     "start_time": "2020-06-03T00:08:19.293960Z"
    }
   },
   "outputs": [
    {
     "name": "stdout",
     "output_type": "stream",
     "text": [
      "+--------+---------------+---+-----+----+---------------------+-------------+------------+\n",
      "|VendorID|passenger_count|Day|Month|Year|tpep_dropoff_datetime|trip_distance|payment_type|\n",
      "+--------+---------------+---+-----+----+---------------------+-------------+------------+\n",
      "|       2|              1|  1|    2|2018|  2018-02-01 00:11:25|         1.25|           2|\n",
      "|       2|              1|  1|    2|2018|  2018-02-01 01:51:53|         6.12|           1|\n",
      "|       2|              1|  1|    2|2018|  2018-02-01 04:30:44|         5.97|           1|\n",
      "|       2|              1|  1|    2|2018|  2018-02-01 07:28:56|         1.25|           2|\n",
      "|       2|              2|  1|    2|2018|  2018-02-01 07:52:38|         3.07|           1|\n",
      "|       2|              1|  1|    2|2018|  2018-02-01 08:15:34|         0.91|           1|\n",
      "|       2|              1|  1|    2|2018|  2018-02-01 08:32:54|         1.99|           1|\n",
      "|       2|              1|  1|    2|2018|  2018-02-01 09:05:34|         5.15|           1|\n",
      "|       2|              1|  1|    2|2018|  2018-02-01 09:47:33|         4.63|           1|\n",
      "|       2|              1|  1|    2|2018|  2018-02-01 09:54:56|         0.49|           1|\n",
      "|       2|              2|  1|    2|2018|  2018-02-01 11:02:03|          3.5|           1|\n",
      "|       2|              1|  1|    2|2018|  2018-02-01 11:22:26|         1.09|           1|\n",
      "|       2|              1|  1|    2|2018|  2018-02-01 11:46:13|         3.48|           2|\n",
      "|       2|              2|  1|    2|2018|  2018-02-01 12:33:41|         3.24|           1|\n",
      "|       2|              2|  1|    2|2018|  2018-02-01 12:56:26|         1.77|           2|\n",
      "|       2|              1|  1|    2|2018|  2018-02-01 13:03:28|         0.48|           1|\n",
      "|       2|              1|  1|    2|2018|  2018-02-01 13:54:29|         1.07|           2|\n",
      "|       2|              1|  1|    2|2018|  2018-02-01 14:24:35|         1.45|           2|\n",
      "|       2|              1|  1|    2|2018|  2018-02-01 14:42:50|         1.94|           1|\n",
      "|       2|              1|  1|    2|2018|  2018-02-01 15:10:39|          2.6|           1|\n",
      "+--------+---------------+---+-----+----+---------------------+-------------+------------+\n",
      "only showing top 20 rows\n",
      "\n"
     ]
    }
   ],
   "source": [
    "df_2018_01.where(\"Month = 2\").select(\"VendorID\", \"passenger_count\", \"Day\", \"Month\", \"Year\", \"tpep_dropoff_datetime\", \"trip_distance\", \"payment_type\" ).show(20)"
   ]
  },
  {
   "cell_type": "code",
   "execution_count": 48,
   "metadata": {
    "ExecuteTime": {
     "end_time": "2020-06-02T22:42:58.831800Z",
     "start_time": "2020-06-02T22:42:37.476304Z"
    },
    "scrolled": true
   },
   "outputs": [
    {
     "name": "stdout",
     "output_type": "stream",
     "text": [
      "+-----+\n",
      "|Month|\n",
      "+-----+\n",
      "|   12|\n",
      "|    1|\n",
      "|    6|\n",
      "|    3|\n",
      "|    5|\n",
      "|    9|\n",
      "|    4|\n",
      "|    8|\n",
      "|    7|\n",
      "|   10|\n",
      "|   11|\n",
      "|    2|\n",
      "+-----+\n",
      "\n"
     ]
    }
   ],
   "source": [
    "# Dataframe for months June and July year 2018\n",
    "df_2018.select('Month').distinct().show()"
   ]
  },
  {
   "cell_type": "code",
   "execution_count": 58,
   "metadata": {
    "ExecuteTime": {
     "end_time": "2020-06-02T23:16:48.565871Z",
     "start_time": "2020-06-02T23:16:24.070493Z"
    }
   },
   "outputs": [
    {
     "name": "stdout",
     "output_type": "stream",
     "text": [
      "+--------+---------------+---+-----+----+---------------------+-------------+------------+\n",
      "|VendorID|passenger_count|Day|Month|Year|tpep_dropoff_datetime|trip_distance|payment_type|\n",
      "+--------+---------------+---+-----+----+---------------------+-------------+------------+\n",
      "|       2|              1| 31|   12|2008|  2008-12-31 14:21:38|         9.79|           1|\n",
      "|       2|              5| 31|   12|2008|  2008-12-31 15:55:02|         1.74|           1|\n",
      "|       2|              1| 14|   10|2018|  2018-10-14 17:53:44|         2.37|           2|\n",
      "|       2|              1| 14|   10|2018|  2018-10-14 18:06:49|         1.64|           1|\n",
      "|       2|              1| 14|   10|2018|  2018-10-14 18:12:04|         0.61|           2|\n",
      "|       2|              1|  5|   11|2018|  2018-11-05 00:34:24|         3.14|           1|\n",
      "|       2|              1|  5|   11|2018|  2018-11-05 00:57:51|         1.54|           1|\n",
      "|       2|              1| 26|   11|2018|  2018-11-26 08:47:22|         2.09|           1|\n",
      "|       2|              1| 26|   11|2018|  2018-11-26 08:57:00|          0.7|           2|\n",
      "|       2|              1| 26|   11|2018|  2018-11-26 09:10:01|         1.84|           2|\n",
      "|       2|              1| 17|   12|2018|  2018-12-17 16:42:50|         1.53|           1|\n",
      "|       2|              5| 31|   12|2008|  2008-12-31 17:38:19|          5.2|           2|\n",
      "|       2|              2| 17|   12|2018|  2018-12-17 17:10:27|         0.91|           2|\n",
      "|       2|              1| 31|   12|2008|  2008-12-31 07:44:54|         0.86|           1|\n",
      "|       2|              2| 31|   12|2008|  2008-12-31 13:46:51|          1.8|           1|\n",
      "|       2|              1| 18|   10|2018|  2018-10-18 17:24:40|         1.32|           2|\n",
      "|       2|              1| 18|   10|2018|  2018-10-18 17:34:47|         0.76|           1|\n",
      "|       2|              1| 18|   10|2018|  2018-10-18 17:42:27|         1.01|           1|\n",
      "|       2|              1| 18|   10|2018|  2018-10-18 23:59:49|         1.55|           1|\n",
      "|       2|              1|  9|   11|2018|  2018-11-09 00:06:01|         1.07|           1|\n",
      "+--------+---------------+---+-----+----+---------------------+-------------+------------+\n",
      "only showing top 20 rows\n",
      "\n"
     ]
    }
   ],
   "source": [
    "# Data from 2018 is corrupt as fuck, the supposed data for months June July contains information for all 12 months\n",
    "# There are also values for 2008 wtf\n",
    "df_2018.where(\"Month > 9\").select(\"VendorID\", \"passenger_count\", \"Day\", \"Month\", \"Year\", \"tpep_dropoff_datetime\", \"trip_distance\", \"payment_type\" ).show(20)"
   ]
  },
  {
   "cell_type": "code",
   "execution_count": 55,
   "metadata": {
    "ExecuteTime": {
     "end_time": "2020-06-02T23:15:17.529547Z",
     "start_time": "2020-06-02T23:15:17.405713Z"
    }
   },
   "outputs": [
    {
     "name": "stdout",
     "output_type": "stream",
     "text": [
      "+--------+---------------+---+-----+----+---------------------+-------------+------------+\n",
      "|VendorID|passenger_count|Day|Month|Year|tpep_dropoff_datetime|trip_distance|payment_type|\n",
      "+--------+---------------+---+-----+----+---------------------+-------------+------------+\n",
      "|       2|              1|  2|    6|2015|  2015-06-02 11:47:52|         1.63|           2|\n",
      "|       2|              1|  2|    6|2015|  2015-06-02 11:27:56|         0.46|           1|\n",
      "|       2|              1|  2|    6|2015|  2015-06-02 11:30:30|         0.87|           1|\n",
      "|       2|              1|  2|    6|2015|  2015-06-02 11:39:02|         2.13|           1|\n",
      "|       1|              1|  2|    6|2015|  2015-06-02 11:32:49|          1.4|           2|\n",
      "|       1|              1|  2|    6|2015|  2015-06-02 11:28:48|          1.4|           1|\n",
      "|       1|              1|  2|    6|2015|  2015-06-02 11:38:46|          1.8|           1|\n",
      "|       1|              4|  2|    6|2015|  2015-06-02 12:36:46|         11.9|           1|\n",
      "|       2|              1|  2|    6|2015|  2015-06-02 11:45:19|         1.27|           2|\n",
      "|       1|              1|  2|    6|2015|  2015-06-02 11:23:50|          0.6|           1|\n",
      "|       2|              3|  2|    6|2015|  2015-06-02 11:19:43|         0.01|           2|\n",
      "|       2|              1|  2|    6|2015|  2015-06-02 11:36:43|         1.65|           1|\n",
      "|       2|              1|  2|    6|2015|  2015-06-02 11:34:34|         1.14|           2|\n",
      "|       1|              2|  2|    6|2015|  2015-06-02 11:23:56|          0.5|           1|\n",
      "|       2|              1|  2|    6|2015|  2015-06-02 11:29:59|         1.28|           2|\n",
      "|       1|              2|  2|    6|2015|  2015-06-02 11:22:33|          0.6|           2|\n",
      "|       2|              1|  2|    6|2015|  2015-06-02 11:38:10|         1.41|           1|\n",
      "|       1|              1|  2|    6|2015|  2015-06-02 11:30:31|          0.7|           2|\n",
      "|       1|              1|  2|    6|2015|  2015-06-02 11:42:03|          1.9|           1|\n",
      "|       1|              1|  2|    6|2015|  2015-06-02 11:26:48|          1.1|           2|\n",
      "+--------+---------------+---+-----+----+---------------------+-------------+------------+\n",
      "only showing top 20 rows\n",
      "\n"
     ]
    }
   ],
   "source": [
    "df_2015 = df_2015.withColumn(\"Day\", fn.dayofmonth(\"tpep_pickup_datetime\")).withColumn(\"Month\", fn.month(\"tpep_pickup_datetime\")).withColumn(\"Year\", fn.year(\"tpep_pickup_datetime\"))\n",
    "df_2015.select(\"VendorID\", \"passenger_count\", \"Day\", \"Month\", \"Year\",\"tpep_dropoff_datetime\", \"trip_distance\", \"payment_type\" )\\\n",
    ".show()"
   ]
  },
  {
   "cell_type": "code",
   "execution_count": 56,
   "metadata": {
    "ExecuteTime": {
     "end_time": "2020-06-02T23:15:42.335467Z",
     "start_time": "2020-06-02T23:15:42.256384Z"
    }
   },
   "outputs": [
    {
     "name": "stdout",
     "output_type": "stream",
     "text": [
      "+--------+---------------+---+-----+----+---------------------+-------------+------------+\n",
      "|VendorID|passenger_count|Day|Month|Year|tpep_dropoff_datetime|trip_distance|payment_type|\n",
      "+--------+---------------+---+-----+----+---------------------+-------------+------------+\n",
      "|       1|              1|  1|    1|2018|  2018-01-01 00:24:23|          0.5|           2|\n",
      "|       1|              1|  1|    1|2018|  2018-01-01 01:03:05|          2.7|           2|\n",
      "|       1|              2|  1|    1|2018|  2018-01-01 00:14:21|          0.8|           1|\n",
      "|       1|              1|  1|    1|2018|  2018-01-01 00:52:51|         10.2|           2|\n",
      "|       1|              2|  1|    1|2018|  2018-01-01 00:27:06|          2.5|           1|\n",
      "|       1|              3|  1|    1|2018|  2018-01-01 00:32:48|          0.5|           2|\n",
      "|       1|              2|  1|    1|2018|  2018-01-01 00:48:24|          1.7|           1|\n",
      "|       1|              1|  1|    1|2018|  2018-01-01 00:51:53|          0.7|           1|\n",
      "|       1|              1|  1|    1|2018|  2018-01-01 01:01:05|          1.0|           1|\n",
      "|       1|              1|  1|    1|2018|  2018-01-01 00:22:24|          0.7|           2|\n",
      "|       1|              1|  1|    1|2018|  2018-01-01 00:46:49|          0.6|           1|\n",
      "|       1|              1|  1|    1|2018|  2018-01-01 01:17:33|          3.5|           2|\n",
      "|       2|              1|  1|    1|2018|  2018-01-01 00:22:05|         1.04|           2|\n",
      "|       2|              1|  1|    1|2018|  2018-01-01 00:34:20|         1.22|           2|\n",
      "|       2|              1|  1|    1|2018|  2018-01-01 00:53:43|         1.92|           2|\n",
      "|       1|              1|  1|    1|2018|  2018-01-01 00:52:59|          5.7|           1|\n",
      "|       2|              1|  1|    1|2018|  2018-01-01 01:13:20|         3.74|           1|\n",
      "|       1|              2|  1|    1|2018|  2018-01-01 00:25:58|          0.6|           1|\n",
      "|       1|              1|  1|    1|2018|  2018-01-01 01:07:56|         10.9|           2|\n",
      "|       2|              5|  1|    1|2018|  2018-01-01 00:21:38|         1.22|           2|\n",
      "+--------+---------------+---+-----+----+---------------------+-------------+------------+\n",
      "only showing top 20 rows\n",
      "\n"
     ]
    }
   ],
   "source": [
    "df_2018_01 = df_2018_01.withColumn(\"Day\", fn.dayofmonth(\"tpep_pickup_datetime\")).withColumn(\"Month\", fn.month(\"tpep_pickup_datetime\")).withColumn(\"Year\", fn.year(\"tpep_pickup_datetime\"))\n",
    "df_2018_01.select(\"VendorID\", \"passenger_count\", \"Day\", \"Month\",\"Year\", \"tpep_dropoff_datetime\", \"trip_distance\", \"payment_type\" )\\\n",
    ".show()"
   ]
  },
  {
   "cell_type": "code",
   "execution_count": 57,
   "metadata": {
    "ExecuteTime": {
     "end_time": "2020-06-02T23:16:03.032907Z",
     "start_time": "2020-06-02T23:16:02.935557Z"
    }
   },
   "outputs": [
    {
     "name": "stdout",
     "output_type": "stream",
     "text": [
      "+--------+---------------+---+-----+----+---------------------+-------------+------------+\n",
      "|VendorID|passenger_count|Day|Month|Year|tpep_dropoff_datetime|trip_distance|payment_type|\n",
      "+--------+---------------+---+-----+----+---------------------+-------------+------------+\n",
      "|       1|              1|  1|    6|2018|  2018-06-01 00:16:46|          0.0|           2|\n",
      "|       1|              1|  1|    6|2018|  2018-06-01 00:09:18|          1.0|           1|\n",
      "|       1|              1|  1|    6|2018|  2018-06-01 00:29:46|          3.3|           2|\n",
      "|       1|              3|  1|    6|2018|  2018-06-01 00:51:29|          0.0|           2|\n",
      "|       1|              1|  1|    6|2018|  2018-06-01 00:55:10|          0.0|           2|\n",
      "|       1|              1|  1|    6|2018|  2018-06-01 00:24:01|          2.0|           1|\n",
      "|       1|              2|  1|    6|2018|  2018-06-01 00:13:01|          1.5|           1|\n",
      "|       1|              1|  1|    6|2018|  2018-06-01 00:16:52|          0.7|           1|\n",
      "|       1|              1|  1|    6|2018|  2018-06-01 01:08:43|          5.7|           2|\n",
      "|       2|              1|  1|    6|2018|  2018-06-01 00:23:16|         0.85|           2|\n",
      "|       2|              1|  1|    6|2018|  2018-06-01 00:47:24|         6.25|           1|\n",
      "|       1|              1|  1|    6|2018|  2018-06-01 00:57:23|          3.5|           1|\n",
      "|       1|              1|  1|    6|2018|  2018-06-01 00:40:07|          3.0|           1|\n",
      "|       1|              4|  1|    6|2018|  2018-06-01 01:08:33|          2.6|           2|\n",
      "|       1|              1|  1|    6|2018|  2018-06-01 00:39:17|         10.0|           2|\n",
      "|       1|              1|  1|    6|2018|  2018-06-01 00:51:15|          4.6|           1|\n",
      "|       2|              1|  1|    6|2018|  2018-06-01 00:08:05|         0.75|           1|\n",
      "|       2|              1|  1|    6|2018|  2018-06-01 00:52:20|         3.94|           1|\n",
      "|       1|              1|  1|    6|2018|  2018-06-01 00:30:01|          1.4|           1|\n",
      "|       1|              2|  1|    6|2018|  2018-06-01 00:26:26|          0.0|           2|\n",
      "+--------+---------------+---+-----+----+---------------------+-------------+------------+\n",
      "only showing top 20 rows\n",
      "\n"
     ]
    }
   ],
   "source": [
    "df_2018 = df_2018.withColumn(\"Day\", fn.dayofmonth(\"tpep_pickup_datetime\")).withColumn(\"Month\", fn.month(\"tpep_pickup_datetime\")).withColumn(\"Year\", fn.year(\"tpep_pickup_datetime\"))\n",
    "df_2018.select(\"VendorID\", \"passenger_count\", \"Day\", \"Month\", \"Year\", \"tpep_dropoff_datetime\", \"trip_distance\", \"payment_type\" )\\\n",
    ".show()"
   ]
  },
  {
   "cell_type": "code",
   "execution_count": 28,
   "metadata": {
    "ExecuteTime": {
     "end_time": "2020-06-02T22:17:48.028216Z",
     "start_time": "2020-06-02T22:14:40.229612Z"
    }
   },
   "outputs": [],
   "source": [
    "#Ok so this line does a nice job creating the parquet files dividing into month, day and then passenger count for 2015\n",
    "df_2015.repartition(\"Month\", \"Day\", \"passenger_count\").write.partitionBy(\"Month\", \"Day\", \"passenger_count\").parquet(\"parquets/yellow_tripdata_2015.parquet\")"
   ]
  },
  {
   "cell_type": "code",
   "execution_count": 47,
   "metadata": {
    "ExecuteTime": {
     "end_time": "2020-06-02T22:38:39.051753Z",
     "start_time": "2020-06-02T22:37:36.797314Z"
    }
   },
   "outputs": [],
   "source": [
    "#Ok so this line does a nice job creating the parquet files dividing into month, day and then passenger count for 2018\n",
    "# The data is corrupt as fuck so the amount of files created are more than expected\n",
    "df_2018.repartition(\"Month\", \"Day\", \"passenger_count\").write.partitionBy(\"Month\", \"Day\", \"passenger_count\").parquet(\"parquets/yellow_tripdata_2018.parquet\")"
   ]
  },
  {
   "cell_type": "markdown",
   "metadata": {
    "nteract": {
     "transient": {
      "deleting": false
     }
    }
   },
   "source": [
    "# Investigate (at least) one month of data in 2015\n",
    "\n",
    "From now on, you will be using **the parquet files you created for 2015**.\n",
    "\n",
    "We shall visualize several features of taxi traffic during one calendar month\n",
    "in 2015 and the same calendar month in 2018.\n",
    "\n",
    "**Hint.** In order to build appealing graphics, you may stick to `matplotlib + seaborn`, you can use also\n",
    "`plotly`, which is used a lot to build interactive graphics, but you can use whatever you want."
   ]
  },
  {
   "cell_type": "code",
   "execution_count": 10,
   "metadata": {
    "ExecuteTime": {
     "end_time": "2020-06-03T10:23:55.000688Z",
     "start_time": "2020-06-03T10:23:52.351569Z"
    }
   },
   "outputs": [],
   "source": [
    "df_2015_Ju = pd.read_parquet(\"parquets/yellow_tripdata_2015.parquet/Month=6\")"
   ]
  },
  {
   "cell_type": "code",
   "execution_count": 12,
   "metadata": {
    "ExecuteTime": {
     "end_time": "2020-06-03T10:24:20.555136Z",
     "start_time": "2020-06-03T10:24:20.546760Z"
    }
   },
   "outputs": [
    {
     "data": {
      "text/plain": [
       "(12324935, 20)"
      ]
     },
     "execution_count": 12,
     "metadata": {},
     "output_type": "execute_result"
    }
   ],
   "source": [
    "df_2015_Ju.shape"
   ]
  },
  {
   "cell_type": "code",
   "execution_count": 8,
   "metadata": {
    "ExecuteTime": {
     "end_time": "2020-06-03T09:18:36.004401Z",
     "start_time": "2020-06-03T09:18:31.683250Z"
    }
   },
   "outputs": [],
   "source": [
    "df_2015_June = spark.read.parquet(\"parquets/yellow_tripdata_2015.parquet/Month=6\")"
   ]
  },
  {
   "cell_type": "code",
   "execution_count": 9,
   "metadata": {
    "ExecuteTime": {
     "end_time": "2020-06-03T09:18:40.503039Z",
     "start_time": "2020-06-03T09:18:38.279672Z"
    }
   },
   "outputs": [
    {
     "name": "stdout",
     "output_type": "stream",
     "text": [
      "+--------+---------------+------------------+------------------+------------------+------------------+\n",
      "|VendorID|passenger_count|  pickup_longitude|   pickup_latitude| dropoff_longitude|  dropoff_latitude|\n",
      "+--------+---------------+------------------+------------------+------------------+------------------+\n",
      "|       2|              1|-73.98194885253906| 40.76292037963867|-73.87245178222656| 40.77444839477539|\n",
      "|       1|              1|-74.00081634521484| 40.72571563720703|-73.95389556884766| 40.74709701538086|\n",
      "|       2|              1|-73.97613525390625| 40.77626037597656|-73.97965240478516|  40.7661247253418|\n",
      "|       1|              1|-73.99519348144531|   40.719970703125|-73.98892211914062|40.758583068847656|\n",
      "|       1|              1|-73.98103332519531| 40.77992630004883|-73.99503326416016| 40.74294662475586|\n",
      "|       2|              1|-73.97734069824219| 40.74668884277344| -73.9788818359375| 40.72010040283203|\n",
      "|       2|              1|-73.99907684326172| 40.73405456542969|-73.97447967529297| 40.75239181518555|\n",
      "|       1|              1|-73.95012664794922|40.725982666015625|-73.96459197998047|40.687313079833984|\n",
      "|       1|              1|-73.97962951660156|40.781105041503906|-73.97213745117188|  40.7565803527832|\n",
      "|       1|              1|-73.98407745361328| 40.74923324584961|-73.98705291748047| 40.74065399169922|\n",
      "|       1|              1|-73.97789764404297| 40.75801086425781|-73.98230743408203| 40.75127029418945|\n",
      "|       1|              1|-73.77666473388672|40.645355224609375|-73.78024291992188|40.667449951171875|\n",
      "|       2|              1|  -73.800537109375| 40.64607620239258|-73.98185729980469| 40.74977493286133|\n",
      "|       2|              1| -73.9815902709961| 40.77361297607422|-73.95982360839844| 40.80048370361328|\n",
      "|       2|              1|-73.97718811035156|40.766029357910156|-73.95477294921875| 40.76565933227539|\n",
      "|       2|              1|-73.94015502929688|40.712093353271484|-73.91168975830078| 40.72100830078125|\n",
      "|       1|              1| -73.9456558227539|40.778045654296875|-73.95631408691406| 40.77170181274414|\n",
      "|       2|              1|-74.01385498046875| 40.71529769897461| -74.0005874633789| 40.72718811035156|\n",
      "|       2|              1|-73.99516296386719| 40.74517822265625|-74.01217651367188| 40.70753860473633|\n",
      "|       1|              1|-73.98065185546875| 40.72966766357422| -73.9344253540039| 40.79234313964844|\n",
      "+--------+---------------+------------------+------------------+------------------+------------------+\n",
      "only showing top 20 rows\n",
      "\n"
     ]
    }
   ],
   "source": [
    "df_2015_June.select(\"VendorID\", \"passenger_count\", \"pickup_longitude\",\"pickup_latitude\", \"dropoff_longitude\", \"dropoff_latitude\").show()"
   ]
  },
  {
   "cell_type": "markdown",
   "metadata": {},
   "source": [
    "The following longitudes and lattitudes encompass Newark and JFK airports, Northern Manhattan and Verazzano bridge."
   ]
  },
  {
   "cell_type": "code",
   "execution_count": 16,
   "metadata": {
    "ExecuteTime": {
     "end_time": "2020-06-03T09:33:46.899649Z",
     "start_time": "2020-06-03T09:33:46.892709Z"
    },
    "jupyter": {
     "outputs_hidden": false,
     "source_hidden": false
    },
    "nteract": {
     "transient": {
      "deleting": false
     }
    }
   },
   "outputs": [],
   "source": [
    "long_min = -74.10\n",
    "long_max = -73.70\n",
    "lat_min = 40.58\n",
    "lat_max = 40.90"
   ]
  },
  {
   "cell_type": "markdown",
   "metadata": {},
   "source": [
    "1. Using these boundaries, **filter the 2015 data** (using pickup and dropoff longitude and latitude) and count the number of trips for each value of `passenger_count` and make a plot of that."
   ]
  },
  {
   "cell_type": "code",
   "execution_count": 17,
   "metadata": {
    "ExecuteTime": {
     "end_time": "2020-06-03T09:33:51.480352Z",
     "start_time": "2020-06-03T09:33:51.437271Z"
    }
   },
   "outputs": [],
   "source": [
    "query1 = \"(pickup_longitude BETWEEN {0} AND {1} AND pickup_latitude BETWEEN {2} AND {3}) AND (dropoff_longitude BETWEEN {0} AND {1} AND dropoff_latitude BETWEEN {2} AND {3})\".format(long_min, long_max, lat_min, lat_max)\n",
    "df_coordinates = df_2015_June.where(query1)"
   ]
  },
  {
   "cell_type": "code",
   "execution_count": 12,
   "metadata": {
    "ExecuteTime": {
     "end_time": "2020-06-03T09:19:00.472810Z",
     "start_time": "2020-06-03T09:18:55.219591Z"
    }
   },
   "outputs": [],
   "source": [
    "filtered_count = df_coordinates.groupBy(\"passenger_count\").count().toPandas()"
   ]
  },
  {
   "cell_type": "code",
   "execution_count": 13,
   "metadata": {
    "ExecuteTime": {
     "end_time": "2020-06-03T09:19:06.045122Z",
     "start_time": "2020-06-03T09:19:05.174093Z"
    }
   },
   "outputs": [
    {
     "data": {
      "text/html": [
       "<div>\n",
       "<style scoped>\n",
       "    .dataframe tbody tr th:only-of-type {\n",
       "        vertical-align: middle;\n",
       "    }\n",
       "\n",
       "    .dataframe tbody tr th {\n",
       "        vertical-align: top;\n",
       "    }\n",
       "\n",
       "    .dataframe thead th {\n",
       "        text-align: right;\n",
       "    }\n",
       "</style>\n",
       "<table border=\"1\" class=\"dataframe\">\n",
       "  <thead>\n",
       "    <tr style=\"text-align: right;\">\n",
       "      <th></th>\n",
       "      <th>passenger_count</th>\n",
       "      <th>count</th>\n",
       "    </tr>\n",
       "  </thead>\n",
       "  <tbody>\n",
       "    <tr>\n",
       "      <td>0</td>\n",
       "      <td>1</td>\n",
       "      <td>8517735</td>\n",
       "    </tr>\n",
       "    <tr>\n",
       "      <td>1</td>\n",
       "      <td>6</td>\n",
       "      <td>427582</td>\n",
       "    </tr>\n",
       "    <tr>\n",
       "      <td>2</td>\n",
       "      <td>3</td>\n",
       "      <td>514124</td>\n",
       "    </tr>\n",
       "    <tr>\n",
       "      <td>3</td>\n",
       "      <td>5</td>\n",
       "      <td>667755</td>\n",
       "    </tr>\n",
       "    <tr>\n",
       "      <td>4</td>\n",
       "      <td>9</td>\n",
       "      <td>14</td>\n",
       "    </tr>\n",
       "    <tr>\n",
       "      <td>5</td>\n",
       "      <td>4</td>\n",
       "      <td>243582</td>\n",
       "    </tr>\n",
       "    <tr>\n",
       "      <td>6</td>\n",
       "      <td>8</td>\n",
       "      <td>3</td>\n",
       "    </tr>\n",
       "    <tr>\n",
       "      <td>7</td>\n",
       "      <td>7</td>\n",
       "      <td>18</td>\n",
       "    </tr>\n",
       "    <tr>\n",
       "      <td>8</td>\n",
       "      <td>2</td>\n",
       "      <td>1714304</td>\n",
       "    </tr>\n",
       "    <tr>\n",
       "      <td>9</td>\n",
       "      <td>0</td>\n",
       "      <td>1406</td>\n",
       "    </tr>\n",
       "  </tbody>\n",
       "</table>\n",
       "</div>"
      ],
      "text/plain": [
       "   passenger_count    count\n",
       "0                1  8517735\n",
       "1                6   427582\n",
       "2                3   514124\n",
       "3                5   667755\n",
       "4                9       14\n",
       "5                4   243582\n",
       "6                8        3\n",
       "7                7       18\n",
       "8                2  1714304\n",
       "9                0     1406"
      ]
     },
     "execution_count": 13,
     "metadata": {},
     "output_type": "execute_result"
    },
    {
     "data": {
      "text/plain": [
       "Text(0, 0.5, 'Number of trips')"
      ]
     },
     "execution_count": 13,
     "metadata": {},
     "output_type": "execute_result"
    },
    {
     "data": {
      "text/plain": [
       "Text(0.5, 0, 'Number of passengers')"
      ]
     },
     "execution_count": 13,
     "metadata": {},
     "output_type": "execute_result"
    },
    {
     "data": {
      "image/png": "[encoded data removed]",
      "text/plain": [
       "<Figure size 1080x720 with 1 Axes>"
      ]
     },
     "metadata": {
      "needs_background": "light"
     },
     "output_type": "display_data"
    }
   ],
   "source": [
    "filtered_count\n",
    "\n",
    "fig = plt.figure(figsize=(15,10))\n",
    "sns.set()\n",
    "g = sns.barplot(x = \"passenger_count\", y = \"count\", data = filtered_count)\n",
    "\n",
    "#g.set_title(\"Number of trips for each passenger count\")\n",
    "plt.ylabel(\"Number of trips\")\n",
    "plt.xlabel(\"Number of passengers\")\n",
    "plt.show(g)"
   ]
  },
  {
   "cell_type": "markdown",
   "metadata": {
    "nteract": {
     "transient": {
      "deleting": false
     }
    }
   },
   "source": [
    "Trips with $0$ or larger than $7$ passengers are pretty rare.\n",
    "We suspect these to be outliers. \n",
    "We need to explore these trips further in order order to understand what might be wrong\n",
    "with them"
   ]
  },
  {
   "cell_type": "code",
   "execution_count": 18,
   "metadata": {
    "ExecuteTime": {
     "end_time": "2020-06-03T09:35:25.115020Z",
     "start_time": "2020-06-03T09:35:23.605016Z"
    }
   },
   "outputs": [],
   "source": [
    "zero_passenger_df = df_2015_June.where(\"passenger_count = 0\").toPandas()\n",
    "plus6_passenger_df = df_2015_June.where(\"passenger_count > 6\").toPandas()"
   ]
  },
  {
   "cell_type": "markdown",
   "metadata": {},
   "source": [
    "1. What's special with trips with zero passengers?"
   ]
  },
  {
   "cell_type": "code",
   "execution_count": 15,
   "metadata": {
    "ExecuteTime": {
     "end_time": "2020-06-03T09:19:12.694419Z",
     "start_time": "2020-06-03T09:19:12.621392Z"
    }
   },
   "outputs": [
    {
     "data": {
      "text/html": [
       "<div>\n",
       "<style scoped>\n",
       "    .dataframe tbody tr th:only-of-type {\n",
       "        vertical-align: middle;\n",
       "    }\n",
       "\n",
       "    .dataframe tbody tr th {\n",
       "        vertical-align: top;\n",
       "    }\n",
       "\n",
       "    .dataframe thead th {\n",
       "        text-align: right;\n",
       "    }\n",
       "</style>\n",
       "<table border=\"1\" class=\"dataframe\">\n",
       "  <thead>\n",
       "    <tr style=\"text-align: right;\">\n",
       "      <th></th>\n",
       "      <th>VendorID</th>\n",
       "      <th>tpep_pickup_datetime</th>\n",
       "      <th>tpep_dropoff_datetime</th>\n",
       "      <th>trip_distance</th>\n",
       "      <th>pickup_longitude</th>\n",
       "      <th>pickup_latitude</th>\n",
       "      <th>RateCodeID</th>\n",
       "      <th>store_and_fwd_flag</th>\n",
       "      <th>dropoff_longitude</th>\n",
       "      <th>dropoff_latitude</th>\n",
       "      <th>payment_type</th>\n",
       "      <th>fare_amount</th>\n",
       "      <th>extra</th>\n",
       "      <th>mta_tax</th>\n",
       "      <th>tip_amount</th>\n",
       "      <th>tolls_amount</th>\n",
       "      <th>improvement_surcharge</th>\n",
       "      <th>total_amount</th>\n",
       "      <th>Day</th>\n",
       "      <th>passenger_count</th>\n",
       "    </tr>\n",
       "  </thead>\n",
       "  <tbody>\n",
       "    <tr>\n",
       "      <td>0</td>\n",
       "      <td>1</td>\n",
       "      <td>2015-06-09 00:17:15</td>\n",
       "      <td>2015-06-09 00:17:18</td>\n",
       "      <td>0.00</td>\n",
       "      <td>-73.987358</td>\n",
       "      <td>40.731770</td>\n",
       "      <td>5</td>\n",
       "      <td>N</td>\n",
       "      <td>-73.987350</td>\n",
       "      <td>40.731777</td>\n",
       "      <td>1</td>\n",
       "      <td>20.80</td>\n",
       "      <td>0.0</td>\n",
       "      <td>0.0</td>\n",
       "      <td>1.50</td>\n",
       "      <td>0.0</td>\n",
       "      <td>0.3</td>\n",
       "      <td>22.60</td>\n",
       "      <td>9</td>\n",
       "      <td>0</td>\n",
       "    </tr>\n",
       "    <tr>\n",
       "      <td>1</td>\n",
       "      <td>1</td>\n",
       "      <td>2015-06-09 00:31:34</td>\n",
       "      <td>2015-06-09 00:35:37</td>\n",
       "      <td>0.70</td>\n",
       "      <td>0.000000</td>\n",
       "      <td>0.000000</td>\n",
       "      <td>1</td>\n",
       "      <td>N</td>\n",
       "      <td>0.000000</td>\n",
       "      <td>0.000000</td>\n",
       "      <td>1</td>\n",
       "      <td>5.00</td>\n",
       "      <td>0.5</td>\n",
       "      <td>0.5</td>\n",
       "      <td>1.50</td>\n",
       "      <td>0.0</td>\n",
       "      <td>0.3</td>\n",
       "      <td>7.80</td>\n",
       "      <td>9</td>\n",
       "      <td>0</td>\n",
       "    </tr>\n",
       "    <tr>\n",
       "      <td>2</td>\n",
       "      <td>1</td>\n",
       "      <td>2015-06-09 01:37:51</td>\n",
       "      <td>2015-06-09 01:49:06</td>\n",
       "      <td>2.70</td>\n",
       "      <td>0.000000</td>\n",
       "      <td>0.000000</td>\n",
       "      <td>1</td>\n",
       "      <td>Y</td>\n",
       "      <td>0.000000</td>\n",
       "      <td>0.000000</td>\n",
       "      <td>1</td>\n",
       "      <td>11.00</td>\n",
       "      <td>0.5</td>\n",
       "      <td>0.5</td>\n",
       "      <td>2.45</td>\n",
       "      <td>0.0</td>\n",
       "      <td>0.3</td>\n",
       "      <td>14.75</td>\n",
       "      <td>9</td>\n",
       "      <td>0</td>\n",
       "    </tr>\n",
       "    <tr>\n",
       "      <td>3</td>\n",
       "      <td>2</td>\n",
       "      <td>2015-06-09 01:28:03</td>\n",
       "      <td>2015-06-09 01:42:52</td>\n",
       "      <td>5.42</td>\n",
       "      <td>-73.991493</td>\n",
       "      <td>40.750088</td>\n",
       "      <td>5</td>\n",
       "      <td>N</td>\n",
       "      <td>-74.043991</td>\n",
       "      <td>40.786510</td>\n",
       "      <td>1</td>\n",
       "      <td>40.00</td>\n",
       "      <td>0.0</td>\n",
       "      <td>0.0</td>\n",
       "      <td>4.00</td>\n",
       "      <td>0.0</td>\n",
       "      <td>0.3</td>\n",
       "      <td>44.30</td>\n",
       "      <td>9</td>\n",
       "      <td>0</td>\n",
       "    </tr>\n",
       "    <tr>\n",
       "      <td>4</td>\n",
       "      <td>1</td>\n",
       "      <td>2015-06-09 02:02:50</td>\n",
       "      <td>2015-06-09 02:54:45</td>\n",
       "      <td>17.60</td>\n",
       "      <td>0.000000</td>\n",
       "      <td>0.000000</td>\n",
       "      <td>1</td>\n",
       "      <td>Y</td>\n",
       "      <td>0.000000</td>\n",
       "      <td>0.000000</td>\n",
       "      <td>1</td>\n",
       "      <td>54.00</td>\n",
       "      <td>0.5</td>\n",
       "      <td>0.5</td>\n",
       "      <td>5.00</td>\n",
       "      <td>0.0</td>\n",
       "      <td>0.3</td>\n",
       "      <td>60.30</td>\n",
       "      <td>9</td>\n",
       "      <td>0</td>\n",
       "    </tr>\n",
       "    <tr>\n",
       "      <td>...</td>\n",
       "      <td>...</td>\n",
       "      <td>...</td>\n",
       "      <td>...</td>\n",
       "      <td>...</td>\n",
       "      <td>...</td>\n",
       "      <td>...</td>\n",
       "      <td>...</td>\n",
       "      <td>...</td>\n",
       "      <td>...</td>\n",
       "      <td>...</td>\n",
       "      <td>...</td>\n",
       "      <td>...</td>\n",
       "      <td>...</td>\n",
       "      <td>...</td>\n",
       "      <td>...</td>\n",
       "      <td>...</td>\n",
       "      <td>...</td>\n",
       "      <td>...</td>\n",
       "      <td>...</td>\n",
       "      <td>...</td>\n",
       "    </tr>\n",
       "    <tr>\n",
       "      <td>1549</td>\n",
       "      <td>1</td>\n",
       "      <td>2015-06-24 22:33:24</td>\n",
       "      <td>2015-06-24 22:47:58</td>\n",
       "      <td>4.50</td>\n",
       "      <td>-73.988609</td>\n",
       "      <td>40.751278</td>\n",
       "      <td>5</td>\n",
       "      <td>N</td>\n",
       "      <td>-74.044800</td>\n",
       "      <td>40.743198</td>\n",
       "      <td>1</td>\n",
       "      <td>0.01</td>\n",
       "      <td>0.0</td>\n",
       "      <td>0.0</td>\n",
       "      <td>0.00</td>\n",
       "      <td>0.0</td>\n",
       "      <td>0.3</td>\n",
       "      <td>0.31</td>\n",
       "      <td>24</td>\n",
       "      <td>0</td>\n",
       "    </tr>\n",
       "    <tr>\n",
       "      <td>1550</td>\n",
       "      <td>1</td>\n",
       "      <td>2015-06-24 23:05:43</td>\n",
       "      <td>2015-06-24 23:11:39</td>\n",
       "      <td>1.10</td>\n",
       "      <td>-73.985756</td>\n",
       "      <td>40.756668</td>\n",
       "      <td>1</td>\n",
       "      <td>N</td>\n",
       "      <td>-73.987610</td>\n",
       "      <td>40.744144</td>\n",
       "      <td>2</td>\n",
       "      <td>6.00</td>\n",
       "      <td>0.5</td>\n",
       "      <td>0.5</td>\n",
       "      <td>0.00</td>\n",
       "      <td>0.0</td>\n",
       "      <td>0.3</td>\n",
       "      <td>7.30</td>\n",
       "      <td>24</td>\n",
       "      <td>0</td>\n",
       "    </tr>\n",
       "    <tr>\n",
       "      <td>1551</td>\n",
       "      <td>1</td>\n",
       "      <td>2015-06-24 22:45:52</td>\n",
       "      <td>2015-06-24 23:00:48</td>\n",
       "      <td>0.60</td>\n",
       "      <td>-73.988426</td>\n",
       "      <td>40.756374</td>\n",
       "      <td>1</td>\n",
       "      <td>N</td>\n",
       "      <td>-73.983902</td>\n",
       "      <td>40.759686</td>\n",
       "      <td>2</td>\n",
       "      <td>10.00</td>\n",
       "      <td>0.5</td>\n",
       "      <td>0.5</td>\n",
       "      <td>0.00</td>\n",
       "      <td>0.0</td>\n",
       "      <td>0.3</td>\n",
       "      <td>11.30</td>\n",
       "      <td>24</td>\n",
       "      <td>0</td>\n",
       "    </tr>\n",
       "    <tr>\n",
       "      <td>1552</td>\n",
       "      <td>1</td>\n",
       "      <td>2015-06-24 23:12:40</td>\n",
       "      <td>2015-06-24 23:27:09</td>\n",
       "      <td>3.10</td>\n",
       "      <td>0.000000</td>\n",
       "      <td>0.000000</td>\n",
       "      <td>1</td>\n",
       "      <td>N</td>\n",
       "      <td>-74.007591</td>\n",
       "      <td>40.705975</td>\n",
       "      <td>1</td>\n",
       "      <td>12.50</td>\n",
       "      <td>0.5</td>\n",
       "      <td>0.5</td>\n",
       "      <td>2.75</td>\n",
       "      <td>0.0</td>\n",
       "      <td>0.3</td>\n",
       "      <td>16.55</td>\n",
       "      <td>24</td>\n",
       "      <td>0</td>\n",
       "    </tr>\n",
       "    <tr>\n",
       "      <td>1553</td>\n",
       "      <td>1</td>\n",
       "      <td>2015-06-24 23:20:01</td>\n",
       "      <td>2015-06-24 23:23:55</td>\n",
       "      <td>0.50</td>\n",
       "      <td>-73.994759</td>\n",
       "      <td>40.724960</td>\n",
       "      <td>1</td>\n",
       "      <td>N</td>\n",
       "      <td>-74.002205</td>\n",
       "      <td>40.729496</td>\n",
       "      <td>1</td>\n",
       "      <td>4.50</td>\n",
       "      <td>0.5</td>\n",
       "      <td>0.5</td>\n",
       "      <td>1.00</td>\n",
       "      <td>0.0</td>\n",
       "      <td>0.3</td>\n",
       "      <td>6.80</td>\n",
       "      <td>24</td>\n",
       "      <td>0</td>\n",
       "    </tr>\n",
       "  </tbody>\n",
       "</table>\n",
       "<p>1554 rows × 20 columns</p>\n",
       "</div>"
      ],
      "text/plain": [
       "      VendorID tpep_pickup_datetime tpep_dropoff_datetime  trip_distance  \\\n",
       "0            1  2015-06-09 00:17:15   2015-06-09 00:17:18           0.00   \n",
       "1            1  2015-06-09 00:31:34   2015-06-09 00:35:37           0.70   \n",
       "2            1  2015-06-09 01:37:51   2015-06-09 01:49:06           2.70   \n",
       "3            2  2015-06-09 01:28:03   2015-06-09 01:42:52           5.42   \n",
       "4            1  2015-06-09 02:02:50   2015-06-09 02:54:45          17.60   \n",
       "...        ...                  ...                   ...            ...   \n",
       "1549         1  2015-06-24 22:33:24   2015-06-24 22:47:58           4.50   \n",
       "1550         1  2015-06-24 23:05:43   2015-06-24 23:11:39           1.10   \n",
       "1551         1  2015-06-24 22:45:52   2015-06-24 23:00:48           0.60   \n",
       "1552         1  2015-06-24 23:12:40   2015-06-24 23:27:09           3.10   \n",
       "1553         1  2015-06-24 23:20:01   2015-06-24 23:23:55           0.50   \n",
       "\n",
       "      pickup_longitude  pickup_latitude  RateCodeID store_and_fwd_flag  \\\n",
       "0           -73.987358        40.731770           5                  N   \n",
       "1             0.000000         0.000000           1                  N   \n",
       "2             0.000000         0.000000           1                  Y   \n",
       "3           -73.991493        40.750088           5                  N   \n",
       "4             0.000000         0.000000           1                  Y   \n",
       "...                ...              ...         ...                ...   \n",
       "1549        -73.988609        40.751278           5                  N   \n",
       "1550        -73.985756        40.756668           1                  N   \n",
       "1551        -73.988426        40.756374           1                  N   \n",
       "1552          0.000000         0.000000           1                  N   \n",
       "1553        -73.994759        40.724960           1                  N   \n",
       "\n",
       "      dropoff_longitude  dropoff_latitude  payment_type  fare_amount  extra  \\\n",
       "0            -73.987350         40.731777             1        20.80    0.0   \n",
       "1              0.000000          0.000000             1         5.00    0.5   \n",
       "2              0.000000          0.000000             1        11.00    0.5   \n",
       "3            -74.043991         40.786510             1        40.00    0.0   \n",
       "4              0.000000          0.000000             1        54.00    0.5   \n",
       "...                 ...               ...           ...          ...    ...   \n",
       "1549         -74.044800         40.743198             1         0.01    0.0   \n",
       "1550         -73.987610         40.744144             2         6.00    0.5   \n",
       "1551         -73.983902         40.759686             2        10.00    0.5   \n",
       "1552         -74.007591         40.705975             1        12.50    0.5   \n",
       "1553         -74.002205         40.729496             1         4.50    0.5   \n",
       "\n",
       "      mta_tax  tip_amount  tolls_amount  improvement_surcharge  total_amount  \\\n",
       "0         0.0        1.50           0.0                    0.3         22.60   \n",
       "1         0.5        1.50           0.0                    0.3          7.80   \n",
       "2         0.5        2.45           0.0                    0.3         14.75   \n",
       "3         0.0        4.00           0.0                    0.3         44.30   \n",
       "4         0.5        5.00           0.0                    0.3         60.30   \n",
       "...       ...         ...           ...                    ...           ...   \n",
       "1549      0.0        0.00           0.0                    0.3          0.31   \n",
       "1550      0.5        0.00           0.0                    0.3          7.30   \n",
       "1551      0.5        0.00           0.0                    0.3         11.30   \n",
       "1552      0.5        2.75           0.0                    0.3         16.55   \n",
       "1553      0.5        1.00           0.0                    0.3          6.80   \n",
       "\n",
       "      Day  passenger_count  \n",
       "0       9                0  \n",
       "1       9                0  \n",
       "2       9                0  \n",
       "3       9                0  \n",
       "4       9                0  \n",
       "...   ...              ...  \n",
       "1549   24                0  \n",
       "1550   24                0  \n",
       "1551   24                0  \n",
       "1552   24                0  \n",
       "1553   24                0  \n",
       "\n",
       "[1554 rows x 20 columns]"
      ]
     },
     "execution_count": 15,
     "metadata": {},
     "output_type": "execute_result"
    }
   ],
   "source": [
    "zero_passenger_df"
   ]
  },
  {
   "cell_type": "markdown",
   "metadata": {},
   "source": [
    "2. What's special with trips with more than $6$ passengers?"
   ]
  },
  {
   "cell_type": "code",
   "execution_count": 11,
   "metadata": {
    "ExecuteTime": {
     "end_time": "2020-06-03T01:06:17.300901Z",
     "start_time": "2020-06-03T01:06:17.277013Z"
    }
   },
   "outputs": [
    {
     "data": {
      "text/html": [
       "<div>\n",
       "<style scoped>\n",
       "    .dataframe tbody tr th:only-of-type {\n",
       "        vertical-align: middle;\n",
       "    }\n",
       "\n",
       "    .dataframe tbody tr th {\n",
       "        vertical-align: top;\n",
       "    }\n",
       "\n",
       "    .dataframe thead th {\n",
       "        text-align: right;\n",
       "    }\n",
       "</style>\n",
       "<table border=\"1\" class=\"dataframe\">\n",
       "  <thead>\n",
       "    <tr style=\"text-align: right;\">\n",
       "      <th></th>\n",
       "      <th>VendorID</th>\n",
       "      <th>tpep_pickup_datetime</th>\n",
       "      <th>tpep_dropoff_datetime</th>\n",
       "      <th>trip_distance</th>\n",
       "      <th>pickup_longitude</th>\n",
       "      <th>pickup_latitude</th>\n",
       "      <th>RateCodeID</th>\n",
       "      <th>store_and_fwd_flag</th>\n",
       "      <th>dropoff_longitude</th>\n",
       "      <th>dropoff_latitude</th>\n",
       "      <th>payment_type</th>\n",
       "      <th>fare_amount</th>\n",
       "      <th>extra</th>\n",
       "      <th>mta_tax</th>\n",
       "      <th>tip_amount</th>\n",
       "      <th>tolls_amount</th>\n",
       "      <th>improvement_surcharge</th>\n",
       "      <th>total_amount</th>\n",
       "      <th>Day</th>\n",
       "      <th>passenger_count</th>\n",
       "    </tr>\n",
       "  </thead>\n",
       "  <tbody>\n",
       "    <tr>\n",
       "      <td>0</td>\n",
       "      <td>2</td>\n",
       "      <td>2015-06-07 10:57:37</td>\n",
       "      <td>2015-06-07 10:57:42</td>\n",
       "      <td>0.00</td>\n",
       "      <td>-73.965828</td>\n",
       "      <td>40.795212</td>\n",
       "      <td>5</td>\n",
       "      <td>N</td>\n",
       "      <td>-73.965828</td>\n",
       "      <td>40.795212</td>\n",
       "      <td>2</td>\n",
       "      <td>7.20</td>\n",
       "      <td>0.0</td>\n",
       "      <td>0.5</td>\n",
       "      <td>0.00</td>\n",
       "      <td>0.00</td>\n",
       "      <td>0.3</td>\n",
       "      <td>8.00</td>\n",
       "      <td>7</td>\n",
       "      <td>7</td>\n",
       "    </tr>\n",
       "    <tr>\n",
       "      <td>1</td>\n",
       "      <td>2</td>\n",
       "      <td>2015-06-07 10:57:37</td>\n",
       "      <td>2015-06-07 10:57:42</td>\n",
       "      <td>0.00</td>\n",
       "      <td>-73.965828</td>\n",
       "      <td>40.795212</td>\n",
       "      <td>5</td>\n",
       "      <td>N</td>\n",
       "      <td>-73.965828</td>\n",
       "      <td>40.795212</td>\n",
       "      <td>3</td>\n",
       "      <td>-7.20</td>\n",
       "      <td>0.0</td>\n",
       "      <td>-0.5</td>\n",
       "      <td>0.00</td>\n",
       "      <td>0.00</td>\n",
       "      <td>-0.3</td>\n",
       "      <td>-8.00</td>\n",
       "      <td>7</td>\n",
       "      <td>7</td>\n",
       "    </tr>\n",
       "    <tr>\n",
       "      <td>2</td>\n",
       "      <td>2</td>\n",
       "      <td>2015-06-07 13:49:07</td>\n",
       "      <td>2015-06-07 15:08:06</td>\n",
       "      <td>39.85</td>\n",
       "      <td>-73.871040</td>\n",
       "      <td>40.773750</td>\n",
       "      <td>5</td>\n",
       "      <td>N</td>\n",
       "      <td>-74.047852</td>\n",
       "      <td>40.781754</td>\n",
       "      <td>1</td>\n",
       "      <td>70.00</td>\n",
       "      <td>0.0</td>\n",
       "      <td>0.5</td>\n",
       "      <td>19.97</td>\n",
       "      <td>29.04</td>\n",
       "      <td>0.3</td>\n",
       "      <td>119.81</td>\n",
       "      <td>7</td>\n",
       "      <td>7</td>\n",
       "    </tr>\n",
       "    <tr>\n",
       "      <td>3</td>\n",
       "      <td>2</td>\n",
       "      <td>2015-06-07 23:16:57</td>\n",
       "      <td>2015-06-07 23:16:59</td>\n",
       "      <td>0.00</td>\n",
       "      <td>0.000000</td>\n",
       "      <td>0.000000</td>\n",
       "      <td>5</td>\n",
       "      <td>N</td>\n",
       "      <td>-73.974197</td>\n",
       "      <td>40.778740</td>\n",
       "      <td>1</td>\n",
       "      <td>70.00</td>\n",
       "      <td>0.0</td>\n",
       "      <td>0.5</td>\n",
       "      <td>0.00</td>\n",
       "      <td>0.00</td>\n",
       "      <td>0.3</td>\n",
       "      <td>70.80</td>\n",
       "      <td>7</td>\n",
       "      <td>7</td>\n",
       "    </tr>\n",
       "    <tr>\n",
       "      <td>4</td>\n",
       "      <td>2</td>\n",
       "      <td>2015-06-07 03:27:48</td>\n",
       "      <td>2015-06-07 03:32:31</td>\n",
       "      <td>0.00</td>\n",
       "      <td>-73.996292</td>\n",
       "      <td>40.753616</td>\n",
       "      <td>5</td>\n",
       "      <td>N</td>\n",
       "      <td>-73.996346</td>\n",
       "      <td>40.753643</td>\n",
       "      <td>2</td>\n",
       "      <td>90.00</td>\n",
       "      <td>0.0</td>\n",
       "      <td>0.0</td>\n",
       "      <td>0.00</td>\n",
       "      <td>0.00</td>\n",
       "      <td>0.3</td>\n",
       "      <td>90.30</td>\n",
       "      <td>7</td>\n",
       "      <td>9</td>\n",
       "    </tr>\n",
       "    <tr>\n",
       "      <td>5</td>\n",
       "      <td>2</td>\n",
       "      <td>2015-06-07 03:27:48</td>\n",
       "      <td>2015-06-07 03:32:31</td>\n",
       "      <td>0.00</td>\n",
       "      <td>-73.996292</td>\n",
       "      <td>40.753616</td>\n",
       "      <td>5</td>\n",
       "      <td>N</td>\n",
       "      <td>-73.996346</td>\n",
       "      <td>40.753643</td>\n",
       "      <td>3</td>\n",
       "      <td>-90.00</td>\n",
       "      <td>0.0</td>\n",
       "      <td>0.0</td>\n",
       "      <td>0.00</td>\n",
       "      <td>0.00</td>\n",
       "      <td>-0.3</td>\n",
       "      <td>-90.30</td>\n",
       "      <td>7</td>\n",
       "      <td>9</td>\n",
       "    </tr>\n",
       "    <tr>\n",
       "      <td>6</td>\n",
       "      <td>2</td>\n",
       "      <td>2015-06-03 17:33:24</td>\n",
       "      <td>2015-06-03 17:33:29</td>\n",
       "      <td>0.00</td>\n",
       "      <td>-74.177727</td>\n",
       "      <td>40.690384</td>\n",
       "      <td>5</td>\n",
       "      <td>N</td>\n",
       "      <td>-74.177750</td>\n",
       "      <td>40.690403</td>\n",
       "      <td>1</td>\n",
       "      <td>70.00</td>\n",
       "      <td>0.0</td>\n",
       "      <td>0.0</td>\n",
       "      <td>0.00</td>\n",
       "      <td>0.00</td>\n",
       "      <td>0.3</td>\n",
       "      <td>70.30</td>\n",
       "      <td>3</td>\n",
       "      <td>7</td>\n",
       "    </tr>\n",
       "    <tr>\n",
       "      <td>7</td>\n",
       "      <td>2</td>\n",
       "      <td>2015-06-03 19:53:11</td>\n",
       "      <td>2015-06-03 19:53:15</td>\n",
       "      <td>0.03</td>\n",
       "      <td>0.000000</td>\n",
       "      <td>0.000000</td>\n",
       "      <td>5</td>\n",
       "      <td>N</td>\n",
       "      <td>0.000000</td>\n",
       "      <td>0.000000</td>\n",
       "      <td>2</td>\n",
       "      <td>70.00</td>\n",
       "      <td>0.0</td>\n",
       "      <td>0.0</td>\n",
       "      <td>0.00</td>\n",
       "      <td>0.00</td>\n",
       "      <td>0.3</td>\n",
       "      <td>70.30</td>\n",
       "      <td>3</td>\n",
       "      <td>7</td>\n",
       "    </tr>\n",
       "    <tr>\n",
       "      <td>8</td>\n",
       "      <td>1</td>\n",
       "      <td>2015-06-03 20:49:12</td>\n",
       "      <td>2015-06-03 20:56:50</td>\n",
       "      <td>0.80</td>\n",
       "      <td>-73.977844</td>\n",
       "      <td>40.758900</td>\n",
       "      <td>1</td>\n",
       "      <td>N</td>\n",
       "      <td>-73.988213</td>\n",
       "      <td>40.756008</td>\n",
       "      <td>2</td>\n",
       "      <td>6.00</td>\n",
       "      <td>0.5</td>\n",
       "      <td>0.5</td>\n",
       "      <td>0.00</td>\n",
       "      <td>0.00</td>\n",
       "      <td>0.3</td>\n",
       "      <td>7.30</td>\n",
       "      <td>3</td>\n",
       "      <td>7</td>\n",
       "    </tr>\n",
       "    <tr>\n",
       "      <td>9</td>\n",
       "      <td>2</td>\n",
       "      <td>2015-06-21 04:57:33</td>\n",
       "      <td>2015-06-21 04:57:37</td>\n",
       "      <td>0.00</td>\n",
       "      <td>-73.994164</td>\n",
       "      <td>40.732151</td>\n",
       "      <td>5</td>\n",
       "      <td>N</td>\n",
       "      <td>-73.994164</td>\n",
       "      <td>40.732151</td>\n",
       "      <td>1</td>\n",
       "      <td>7.77</td>\n",
       "      <td>0.0</td>\n",
       "      <td>0.5</td>\n",
       "      <td>0.05</td>\n",
       "      <td>0.00</td>\n",
       "      <td>0.0</td>\n",
       "      <td>8.32</td>\n",
       "      <td>21</td>\n",
       "      <td>8</td>\n",
       "    </tr>\n",
       "  </tbody>\n",
       "</table>\n",
       "</div>"
      ],
      "text/plain": [
       "   VendorID tpep_pickup_datetime tpep_dropoff_datetime  trip_distance  \\\n",
       "0         2  2015-06-07 10:57:37   2015-06-07 10:57:42           0.00   \n",
       "1         2  2015-06-07 10:57:37   2015-06-07 10:57:42           0.00   \n",
       "2         2  2015-06-07 13:49:07   2015-06-07 15:08:06          39.85   \n",
       "3         2  2015-06-07 23:16:57   2015-06-07 23:16:59           0.00   \n",
       "4         2  2015-06-07 03:27:48   2015-06-07 03:32:31           0.00   \n",
       "5         2  2015-06-07 03:27:48   2015-06-07 03:32:31           0.00   \n",
       "6         2  2015-06-03 17:33:24   2015-06-03 17:33:29           0.00   \n",
       "7         2  2015-06-03 19:53:11   2015-06-03 19:53:15           0.03   \n",
       "8         1  2015-06-03 20:49:12   2015-06-03 20:56:50           0.80   \n",
       "9         2  2015-06-21 04:57:33   2015-06-21 04:57:37           0.00   \n",
       "\n",
       "   pickup_longitude  pickup_latitude  RateCodeID store_and_fwd_flag  \\\n",
       "0        -73.965828        40.795212           5                  N   \n",
       "1        -73.965828        40.795212           5                  N   \n",
       "2        -73.871040        40.773750           5                  N   \n",
       "3          0.000000         0.000000           5                  N   \n",
       "4        -73.996292        40.753616           5                  N   \n",
       "5        -73.996292        40.753616           5                  N   \n",
       "6        -74.177727        40.690384           5                  N   \n",
       "7          0.000000         0.000000           5                  N   \n",
       "8        -73.977844        40.758900           1                  N   \n",
       "9        -73.994164        40.732151           5                  N   \n",
       "\n",
       "   dropoff_longitude  dropoff_latitude  payment_type  fare_amount  extra  \\\n",
       "0         -73.965828         40.795212             2         7.20    0.0   \n",
       "1         -73.965828         40.795212             3        -7.20    0.0   \n",
       "2         -74.047852         40.781754             1        70.00    0.0   \n",
       "3         -73.974197         40.778740             1        70.00    0.0   \n",
       "4         -73.996346         40.753643             2        90.00    0.0   \n",
       "5         -73.996346         40.753643             3       -90.00    0.0   \n",
       "6         -74.177750         40.690403             1        70.00    0.0   \n",
       "7           0.000000          0.000000             2        70.00    0.0   \n",
       "8         -73.988213         40.756008             2         6.00    0.5   \n",
       "9         -73.994164         40.732151             1         7.77    0.0   \n",
       "\n",
       "   mta_tax  tip_amount  tolls_amount  improvement_surcharge  total_amount  \\\n",
       "0      0.5        0.00          0.00                    0.3          8.00   \n",
       "1     -0.5        0.00          0.00                   -0.3         -8.00   \n",
       "2      0.5       19.97         29.04                    0.3        119.81   \n",
       "3      0.5        0.00          0.00                    0.3         70.80   \n",
       "4      0.0        0.00          0.00                    0.3         90.30   \n",
       "5      0.0        0.00          0.00                   -0.3        -90.30   \n",
       "6      0.0        0.00          0.00                    0.3         70.30   \n",
       "7      0.0        0.00          0.00                    0.3         70.30   \n",
       "8      0.5        0.00          0.00                    0.3          7.30   \n",
       "9      0.5        0.05          0.00                    0.0          8.32   \n",
       "\n",
       "   Day  passenger_count  \n",
       "0    7                7  \n",
       "1    7                7  \n",
       "2    7                7  \n",
       "3    7                7  \n",
       "4    7                9  \n",
       "5    7                9  \n",
       "6    3                7  \n",
       "7    3                7  \n",
       "8    3                7  \n",
       "9   21                8  "
      ]
     },
     "execution_count": 11,
     "metadata": {},
     "output_type": "execute_result"
    }
   ],
   "source": [
    "plus6_passenger_df.head(10)"
   ]
  },
  {
   "cell_type": "markdown",
   "metadata": {},
   "source": [
    "3. What is the largest distance travelled during this month? Is it the first taxi on the moon?"
   ]
  },
  {
   "cell_type": "code",
   "execution_count": 14,
   "metadata": {
    "ExecuteTime": {
     "end_time": "2020-06-03T00:55:36.395171Z",
     "start_time": "2020-06-03T00:55:35.629637Z"
    }
   },
   "outputs": [
    {
     "name": "stdout",
     "output_type": "stream",
     "text": [
      "Largest distance travelled this month: 10,083,318.0 miles\n",
      "Distance from Earth to the Moon: 238,900 miles\n"
     ]
    }
   ],
   "source": [
    "max_distance = df_coordinates.agg({\"trip_distance\": \"max\"}).collect()[0][0]\n",
    "print(\"Largest distance travelled this month: {:,} miles\".format(max_distance))\n",
    "print(\"Distance from Earth to the Moon: 238,900 miles\")"
   ]
  },
  {
   "cell_type": "markdown",
   "metadata": {},
   "source": [
    "4. Plot the distribution of the `trip_distance` (using an histogram for instance) during year 2015. Focus on trips with non-zero trip distance and trip distance less than 30 miles."
   ]
  },
  {
   "cell_type": "code",
   "execution_count": 9,
   "metadata": {
    "ExecuteTime": {
     "end_time": "2020-06-03T10:21:30.313301Z",
     "start_time": "2020-06-03T10:21:30.292825Z"
    }
   },
   "outputs": [
    {
     "ename": "NameError",
     "evalue": "name 'df_2015_June' is not defined",
     "output_type": "error",
     "traceback": [
      "\u001b[0;31m---------------------------------------------------------------------------\u001b[0m",
      "\u001b[0;31mNameError\u001b[0m                                 Traceback (most recent call last)",
      "\u001b[0;32m<ipython-input-9-319f41d8b3b5>\u001b[0m in \u001b[0;36m<module>\u001b[0;34m\u001b[0m\n\u001b[0;32m----> 1\u001b[0;31m \u001b[0mdistance_travelling\u001b[0m \u001b[0;34m=\u001b[0m \u001b[0mdf_2015_June\u001b[0m\u001b[0;34m.\u001b[0m\u001b[0mwhere\u001b[0m\u001b[0;34m(\u001b[0m\u001b[0;34m\"trip_distance BETWEEN 0 AND 30\"\u001b[0m\u001b[0;34m)\u001b[0m\u001b[0;34m\u001b[0m\u001b[0;34m\u001b[0m\u001b[0m\n\u001b[0m",
      "\u001b[0;31mNameError\u001b[0m: name 'df_2015_June' is not defined"
     ]
    }
   ],
   "source": [
    "distance_travelling = df_2015_Ju.where(\"trip_distance BETWEEN 0 AND 30\")"
   ]
  },
  {
   "cell_type": "code",
   "execution_count": 20,
   "metadata": {
    "ExecuteTime": {
     "end_time": "2020-06-03T09:37:47.869515Z",
     "start_time": "2020-06-03T09:37:47.051211Z"
    }
   },
   "outputs": [
    {
     "data": {
      "text/plain": [
       "pyspark.sql.dataframe.DataFrame"
      ]
     },
     "execution_count": 20,
     "metadata": {},
     "output_type": "execute_result"
    },
    {
     "data": {
      "text/plain": [
       "12320256"
      ]
     },
     "execution_count": 20,
     "metadata": {},
     "output_type": "execute_result"
    }
   ],
   "source": [
    "type(distance_travelling)\n",
    "distance_travelling.count()"
   ]
  },
  {
   "cell_type": "code",
   "execution_count": 115,
   "metadata": {
    "ExecuteTime": {
     "end_time": "2020-06-03T00:30:08.283243Z",
     "start_time": "2020-06-03T00:30:07.920496Z"
    }
   },
   "outputs": [
    {
     "ename": "TypeError",
     "evalue": "'Column' object is not callable",
     "output_type": "error",
     "traceback": [
      "\u001b[0;31m---------------------------------------------------------------------------\u001b[0m",
      "\u001b[0;31mTypeError\u001b[0m                                 Traceback (most recent call last)",
      "\u001b[0;32m<ipython-input-115-b5a02841867a>\u001b[0m in \u001b[0;36m<module>\u001b[0;34m\u001b[0m\n\u001b[1;32m      1\u001b[0m \u001b[0mfig\u001b[0m \u001b[0;34m=\u001b[0m \u001b[0mplt\u001b[0m\u001b[0;34m.\u001b[0m\u001b[0mfigure\u001b[0m\u001b[0;34m(\u001b[0m\u001b[0mfigsize\u001b[0m\u001b[0;34m=\u001b[0m\u001b[0;34m(\u001b[0m\u001b[0;36m15\u001b[0m\u001b[0;34m,\u001b[0m\u001b[0;36m10\u001b[0m\u001b[0;34m)\u001b[0m\u001b[0;34m)\u001b[0m\u001b[0;34m\u001b[0m\u001b[0;34m\u001b[0m\u001b[0m\n\u001b[1;32m      2\u001b[0m \u001b[0msns\u001b[0m\u001b[0;34m.\u001b[0m\u001b[0mset\u001b[0m\u001b[0;34m(\u001b[0m\u001b[0;34m)\u001b[0m\u001b[0;34m\u001b[0m\u001b[0;34m\u001b[0m\u001b[0m\n\u001b[0;32m----> 3\u001b[0;31m \u001b[0mg\u001b[0m \u001b[0;34m=\u001b[0m \u001b[0msns\u001b[0m\u001b[0;34m.\u001b[0m\u001b[0mdistplot\u001b[0m\u001b[0;34m(\u001b[0m\u001b[0mdf_coordinates\u001b[0m\u001b[0;34m[\u001b[0m\u001b[0;34m\"trip_distance\"\u001b[0m\u001b[0;34m]\u001b[0m\u001b[0;34m)\u001b[0m\u001b[0;34m\u001b[0m\u001b[0;34m\u001b[0m\u001b[0m\n\u001b[0m\u001b[1;32m      4\u001b[0m \u001b[0;34m\u001b[0m\u001b[0m\n\u001b[1;32m      5\u001b[0m \u001b[0mg\u001b[0m\u001b[0;34m.\u001b[0m\u001b[0mset_title\u001b[0m\u001b[0;34m(\u001b[0m\u001b[0;34m\"Trip distance distribution\"\u001b[0m\u001b[0;34m)\u001b[0m\u001b[0;34m\u001b[0m\u001b[0;34m\u001b[0m\u001b[0m\n",
      "\u001b[0;32m/usr/local/lib/python3.7/dist-packages/seaborn/distributions.py\u001b[0m in \u001b[0;36mdistplot\u001b[0;34m(a, bins, hist, kde, rug, fit, hist_kws, kde_kws, rug_kws, fit_kws, color, vertical, norm_hist, axlabel, label, ax)\u001b[0m\n\u001b[1;32m    196\u001b[0m             \u001b[0mline\u001b[0m\u001b[0;34m,\u001b[0m \u001b[0;34m=\u001b[0m \u001b[0max\u001b[0m\u001b[0;34m.\u001b[0m\u001b[0mplot\u001b[0m\u001b[0;34m(\u001b[0m\u001b[0;36m0\u001b[0m\u001b[0;34m,\u001b[0m \u001b[0ma\u001b[0m\u001b[0;34m.\u001b[0m\u001b[0mmean\u001b[0m\u001b[0;34m(\u001b[0m\u001b[0;34m)\u001b[0m\u001b[0;34m)\u001b[0m\u001b[0;34m\u001b[0m\u001b[0;34m\u001b[0m\u001b[0m\n\u001b[1;32m    197\u001b[0m         \u001b[0;32melse\u001b[0m\u001b[0;34m:\u001b[0m\u001b[0;34m\u001b[0m\u001b[0;34m\u001b[0m\u001b[0m\n\u001b[0;32m--> 198\u001b[0;31m             \u001b[0mline\u001b[0m\u001b[0;34m,\u001b[0m \u001b[0;34m=\u001b[0m \u001b[0max\u001b[0m\u001b[0;34m.\u001b[0m\u001b[0mplot\u001b[0m\u001b[0;34m(\u001b[0m\u001b[0ma\u001b[0m\u001b[0;34m.\u001b[0m\u001b[0mmean\u001b[0m\u001b[0;34m(\u001b[0m\u001b[0;34m)\u001b[0m\u001b[0;34m,\u001b[0m \u001b[0;36m0\u001b[0m\u001b[0;34m)\u001b[0m\u001b[0;34m\u001b[0m\u001b[0;34m\u001b[0m\u001b[0m\n\u001b[0m\u001b[1;32m    199\u001b[0m         \u001b[0mcolor\u001b[0m \u001b[0;34m=\u001b[0m \u001b[0mline\u001b[0m\u001b[0;34m.\u001b[0m\u001b[0mget_color\u001b[0m\u001b[0;34m(\u001b[0m\u001b[0;34m)\u001b[0m\u001b[0;34m\u001b[0m\u001b[0;34m\u001b[0m\u001b[0m\n\u001b[1;32m    200\u001b[0m         \u001b[0mline\u001b[0m\u001b[0;34m.\u001b[0m\u001b[0mremove\u001b[0m\u001b[0;34m(\u001b[0m\u001b[0;34m)\u001b[0m\u001b[0;34m\u001b[0m\u001b[0;34m\u001b[0m\u001b[0m\n",
      "\u001b[0;32m/usr/local/lib/python3.7/dist-packages/numpy/core/_methods.py\u001b[0m in \u001b[0;36m_mean\u001b[0;34m(a, axis, dtype, out, keepdims)\u001b[0m\n\u001b[1;32m    159\u001b[0m             \u001b[0mret\u001b[0m \u001b[0;34m=\u001b[0m \u001b[0marr\u001b[0m\u001b[0;34m.\u001b[0m\u001b[0mdtype\u001b[0m\u001b[0;34m.\u001b[0m\u001b[0mtype\u001b[0m\u001b[0;34m(\u001b[0m\u001b[0mret\u001b[0m \u001b[0;34m/\u001b[0m \u001b[0mrcount\u001b[0m\u001b[0;34m)\u001b[0m\u001b[0;34m\u001b[0m\u001b[0;34m\u001b[0m\u001b[0m\n\u001b[1;32m    160\u001b[0m         \u001b[0;32melse\u001b[0m\u001b[0;34m:\u001b[0m\u001b[0;34m\u001b[0m\u001b[0;34m\u001b[0m\u001b[0m\n\u001b[0;32m--> 161\u001b[0;31m             \u001b[0mret\u001b[0m \u001b[0;34m=\u001b[0m \u001b[0mret\u001b[0m\u001b[0;34m.\u001b[0m\u001b[0mdtype\u001b[0m\u001b[0;34m.\u001b[0m\u001b[0mtype\u001b[0m\u001b[0;34m(\u001b[0m\u001b[0mret\u001b[0m \u001b[0;34m/\u001b[0m \u001b[0mrcount\u001b[0m\u001b[0;34m)\u001b[0m\u001b[0;34m\u001b[0m\u001b[0;34m\u001b[0m\u001b[0m\n\u001b[0m\u001b[1;32m    162\u001b[0m     \u001b[0;32melse\u001b[0m\u001b[0;34m:\u001b[0m\u001b[0;34m\u001b[0m\u001b[0;34m\u001b[0m\u001b[0m\n\u001b[1;32m    163\u001b[0m         \u001b[0mret\u001b[0m \u001b[0;34m=\u001b[0m \u001b[0mret\u001b[0m \u001b[0;34m/\u001b[0m \u001b[0mrcount\u001b[0m\u001b[0;34m\u001b[0m\u001b[0;34m\u001b[0m\u001b[0m\n",
      "\u001b[0;31mTypeError\u001b[0m: 'Column' object is not callable"
     ]
    },
    {
     "data": {
      "image/png": "[encoded data removed]",
      "text/plain": [
       "<Figure size 1080x720 with 1 Axes>"
      ]
     },
     "metadata": {},
     "output_type": "display_data"
    }
   ],
   "source": [
    "fig = plt.figure(figsize=(15,10))\n",
    "sns.set()\n",
    "g = sns.distplot(df_coordinates[\"trip_distance\"])\n",
    "\n",
    "g.set_title(\"Trip distance distribution\")\n",
    "plt.ylabel(\"Number of trips\")\n",
    "plt.show(g)"
   ]
  },
  {
   "cell_type": "markdown",
   "metadata": {},
   "source": [
    "Let's look at what Spark does for these computations\n",
    "\n",
    "1. Use the `explain` method or have a look at the [Spark UI](http://localhost:4040/SQL/) to analyze the job. You should be able to assess \n",
    "    - Parsed Logical Plan\n",
    "    - Analyzed Logical Plan\n",
    "    - Optimized Logical Plan\n",
    "    - Physical Plan\n",
    "1. Do the Analyzed Logical Plan and Optimized Logical Plan differ? Spot the differences if any. How would a RDBMS proceed with such a query?\n",
    "1. How does the physical plan differ from the Optimized Logical Plan? What are the keywords you would not expects in a RDBMS? What is their meaning? \n",
    "1. Inspect the stages on [Spark UI](http://localhost:4040/stages/stage). How many *stages* are necessary to complete the Spark job? What are the roles of `HashAggregate` and `Exchange hashpartitioning`?\n",
    "1. Does the physical plan perform `shuffle` operations? If yes how many?\n",
    "1. What are tasks with respect to stages (in Spark language)? How many tasks are your stages made of?"
   ]
  },
  {
   "cell_type": "markdown",
   "metadata": {
    "nteract": {
     "transient": {
      "deleting": false
     }
    }
   },
   "source": [
    "Now, compute the following and produce relevant plots:\n",
    "\n",
    "1. Break down the trip distance distribution for each day of week\n",
    "1. Count the number of distinct pickup location\n",
    "1. Compute and display tips and profits as a function of the pickup location"
   ]
  },
  {
   "cell_type": "markdown",
   "metadata": {
    "nteract": {
     "transient": {
      "deleting": false
     }
    }
   },
   "source": [
    "# Investigate one month of trips data in 2015 and 2018\n",
    "\n",
    " Consider one month of trips data from `yellow` taxis for each year\n",
    "\n",
    "1. Filter and cache/persist the result\n",
    "\n",
    "## Assessing seasonalities and looking at time series\n",
    "\n",
    "Compute and plot the following time series indexed by day of the week and hour of day:\n",
    "\n",
    "1. The number of pickups\n",
    "1. The average fare\n",
    "1. The average trip duration\n",
    "1. Plot the average number of ongoing trips\n",
    "\n",
    "## Rides to the airports\n",
    "\n",
    "In order to find the longitude and lattitude of JFK and Newark airport as well as the longitude and magnitudes \n",
    "of Manhattan, you can use a service like [geojson.io](http://geojson.io/).\n",
    "Plot the following time series, indexed the day of the week and hour of the day\n",
    "\n",
    "1. Median duration of taxi trip leaving Midtown (Southern Manhattan) headed for JFK Airport\n",
    "1. Median taxi duration of trip leaving from JFK Airport to Midtown (Southern Manhattan)\n",
    "\n",
    "## Geographic information\n",
    "\n",
    "For this, you will need to find tools to display maps and to build choropeth maps.\n",
    "We let you look and find relevant tools to do this.\n",
    "\n",
    "1. Build a heatmap where color is a function of\n",
    "    1. number of `pickups`\n",
    "    2. number of `dropoffs`\n",
    "    3. number of `pickups` with dropoff at some airport (JFK, LaGuardia, Newark)\n",
    "2. Build a choropeth map where color is a function of\n",
    "    1. number of pickups in the area\n",
    "    1. ratio of number of payments by card/number of cash payments for pickups in the area\n",
    "    2. ratio of total fare/trip duration for dropoff in the area\n",
    "3. Build an interactive chorophet with a slider allowing the user to select an `hour of day` and where the color is a function of\n",
    "    1. average number of dropoffs in the area during that hour the day\n",
    "    2. average ratio of tip over total fare amount for pickups in the area at given hour of the day"
   ]
  },
  {
   "cell_type": "code",
   "execution_count": 6,
   "metadata": {
    "ExecuteTime": {
     "end_time": "2020-06-03T09:17:53.512570Z",
     "start_time": "2020-06-03T09:17:53.094586Z"
    }
   },
   "outputs": [],
   "source": [
    "spark.stop()"
   ]
  }
 ],
 "metadata": {
  "kernelspec": {
   "display_name": "Python 3",
   "language": "python",
   "name": "python3"
  },
  "language_info": {
   "codemirror_mode": {
    "name": "ipython",
    "version": 3
   },
   "file_extension": ".py",
   "mimetype": "text/x-python",
   "name": "python",
   "nbconvert_exporter": "python",
   "pygments_lexer": "ipython3",
   "version": "3.7.5"
  },
  "toc": {
   "base_numbering": 1,
   "nav_menu": {},
   "number_sections": true,
   "sideBar": true,
   "skip_h1_title": false,
   "title_cell": "Table of Contents",
   "title_sidebar": "Contents",
   "toc_cell": false,
   "toc_position": {
    "height": "calc(100% - 180px)",
    "left": "10px",
    "top": "150px",
    "width": "218.4103240966797px"
   },
   "toc_section_display": true,
   "toc_window_display": true
  }
 },
 "nbformat": 4,
 "nbformat_minor": 1
}
