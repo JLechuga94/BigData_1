{
 "cells": [
  {
   "cell_type": "markdown",
   "metadata": {
    "nteract": {
     "transient": {
      "deleting": false
     }
    }
   },
   "source": [
    "# New York taxis trips\n",
    "\n",
    "This homework is about New York taxi trips. Here is something from [Todd Schneider](https://toddwschneider.com/posts/analyzing-1-1-billion-nyc-taxi-and-uber-trips-with-a-vengeance/):\n",
    "\n",
    "> The New York City Taxi & Limousine Commission has released a  detailed historical dataset covering over 1 billion individual taxi trips in the city from January 2009 through December 2019. \n",
    "Taken as a whole, the detailed trip-level data is more than just a vast list of taxi pickup and drop off coordinates: it's a story of a City. \n",
    "How bad is the rush hour traffic from Midtown to JFK? \n",
    "Where does the Bridge and Tunnel crowd hang out on Saturday nights?\n",
    "What time do investment bankers get to work? How has Uber changed the landscape for taxis?\n",
    "The dataset addresses all of these questions and many more.\n",
    "\n",
    "The NY taxi trips dataset has been plowed by series of distinguished data scientists.\n",
    "The dataset is available from on Amazon S3 (Amazon's cloud storage service).\n",
    "The link for each file has the following form:\n",
    "\n",
    "    https://s3.amazonaws.com/nyc-tlc/trip+data/yellow_tripdata_{year}-{month}.csv\n",
    "\n",
    "There is one CSV file for each NY taxi service (`yellow`, `green`, `fhv`) and each calendar month (replacing `{year}` and `{month}` by the desired ones).\n",
    "Each file is moderately large, a few gigabytes. \n",
    "The full dataset is relatively large if it has to be handled on a laptop (several hundred gigabytes).\n",
    "\n",
    "You will focus on the `yellow` taxi service and a pair of months, from year 2015 and from year 2018. \n",
    "Between those two years, for hire vehicles services have taken off and carved a huge marketshare.\n",
    "\n",
    "Whatever the framework you use, `CSV` files prove hard to handle. \n",
    "After downloading the appropriate files (this takes time, but this is routine), a first step will consist in converting the csv files into a more Spark friendly format such as `parquet`.\n",
    "\n",
    "Saving into one of those formats require decisions about bucketing, partitioning and so on. Such decisions influence performance. It is your call.\n",
    "Many people have been working on this dataset, to cite but a few:\n",
    "\n",
    "\n",
    "- [1 billion trips with a vengeance](https://toddwschneider.com/posts/analyzing-1-1-billion-nyc-taxi-and-uber-trips-with-a-vengeance/)\n",
    "- [1 billion trips with R and SQL ](http://freerangestats.info/blog/2019/12/22/nyc-taxis-sql)\n",
    "- [1 billion trips with redshift](https://tech.marksblogg.com/billion-nyc-taxi-rides-redshift.html)\n",
    "- [nyc-taxi](https://github.com/fmaletski/nyc-taxi-map)"
   ]
  },
  {
   "cell_type": "markdown",
   "metadata": {},
   "source": [
    "Depending on your internet connection, **download the files** corresponding to **\"yellow\" taxis** for the years 2015 and 2018. Download **at least one month** (the same) for 2015 and 2018, if you can download all of them.\n",
    "\n",
    "**Hint.** The 12 csv for 2015 are about 23GB in total, but the corresponding parquet file, if you can create it for all 12 months, is only about 3GB."
   ]
  },
  {
   "cell_type": "markdown",
   "metadata": {},
   "source": [
    "You **might** need the following stuff in order to work with GPS coordinates and to plot things easily."
   ]
  },
  {
   "cell_type": "code",
   "execution_count": 20,
   "metadata": {
    "ExecuteTime": {
     "end_time": "2020-06-03T17:54:00.198680Z",
     "start_time": "2020-06-03T17:53:40.664624Z"
    }
   },
   "outputs": [
    {
     "name": "stdout",
     "output_type": "stream",
     "text": [
      "Collecting geojson\n",
      "  Downloading geojson-2.5.0-py2.py3-none-any.whl (14 kB)\n",
      "Collecting geopandas\n",
      "  Downloading geopandas-0.7.0-py2.py3-none-any.whl (928 kB)\n",
      "\u001b[K     |████████████████████████████████| 928 kB 7.1 MB/s eta 0:00:01\n",
      "\u001b[?25hCollecting plotly\n",
      "  Downloading plotly-4.8.1-py2.py3-none-any.whl (11.5 MB)\n",
      "\u001b[K     |████████████████████████████████| 11.5 MB 2.0 MB/s eta 0:00:01\n",
      "\u001b[?25hCollecting geopy\n",
      "  Downloading geopy-1.22.0-py2.py3-none-any.whl (113 kB)\n",
      "\u001b[K     |████████████████████████████████| 113 kB 11.7 MB/s eta 0:00:01\n",
      "\u001b[?25hCollecting shapely\n",
      "  Downloading Shapely-1.7.0-cp37-cp37m-manylinux1_x86_64.whl (1.8 MB)\n",
      "\u001b[K     |████████████████████████████████| 1.8 MB 8.1 MB/s eta 0:00:01\n",
      "\u001b[?25hRequirement already satisfied: pandas>=0.23.0 in /usr/local/lib/python3.7/dist-packages (from geopandas) (0.25.1)\n",
      "Collecting pyproj>=2.2.0\n",
      "  Downloading pyproj-2.6.1.post1-cp37-cp37m-manylinux2010_x86_64.whl (10.9 MB)\n",
      "\u001b[K     |████████████████████████████████| 10.9 MB 8.6 MB/s eta 0:00:01\n",
      "\u001b[?25hCollecting fiona\n",
      "  Downloading Fiona-1.8.13.post1-cp37-cp37m-manylinux1_x86_64.whl (14.7 MB)\n",
      "\u001b[K     |████████████████████████████████| 14.7 MB 10.3 MB/s eta 0:00:01\n",
      "\u001b[?25hCollecting retrying>=1.3.3\n",
      "  Downloading retrying-1.3.3.tar.gz (10 kB)\n",
      "Requirement already satisfied: six in /usr/lib/python3/dist-packages (from plotly) (1.11.0)\n",
      "Collecting geographiclib<2,>=1.49\n",
      "  Downloading geographiclib-1.50-py3-none-any.whl (38 kB)\n",
      "Requirement already satisfied: pytz>=2017.2 in /usr/local/lib/python3.7/dist-packages (from pandas>=0.23.0->geopandas) (2019.3)\n",
      "Requirement already satisfied: numpy>=1.13.3 in /usr/local/lib/python3.7/dist-packages (from pandas>=0.23.0->geopandas) (1.17.2)\n",
      "Requirement already satisfied: python-dateutil>=2.6.1 in /usr/local/lib/python3.7/dist-packages (from pandas>=0.23.0->geopandas) (2.8.0)\n",
      "Requirement already satisfied: attrs>=17 in /usr/local/lib/python3.7/dist-packages (from fiona->geopandas) (19.2.0)\n",
      "Collecting munch\n",
      "  Downloading munch-2.5.0-py2.py3-none-any.whl (10 kB)\n",
      "Collecting cligj>=0.5\n",
      "  Downloading cligj-0.5.0-py3-none-any.whl (5.7 kB)\n",
      "Requirement already satisfied: click<8,>=4.0 in /usr/local/lib/python3.7/dist-packages (from fiona->geopandas) (7.0)\n",
      "Collecting click-plugins>=1.0\n",
      "  Downloading click_plugins-1.1.1-py2.py3-none-any.whl (7.5 kB)\n",
      "Building wheels for collected packages: retrying\n",
      "  Building wheel for retrying (setup.py) ... \u001b[?25ldone\n",
      "\u001b[?25h  Created wheel for retrying: filename=retrying-1.3.3-py3-none-any.whl size=9530 sha256=982f012d8133ccc68eafa14ea99e14c42c2d67e1dd5c03eacd5b00239bd1174c\n",
      "  Stored in directory: /root/.cache/pip/wheels/f9/8d/8d/f6af3f7f9eea3553bc2fe6d53e4b287dad18b06a861ac56ddf\n",
      "Successfully built retrying\n",
      "Installing collected packages: geojson, shapely, pyproj, munch, cligj, click-plugins, fiona, geopandas, retrying, plotly, geographiclib, geopy\n",
      "Successfully installed click-plugins-1.1.1 cligj-0.5.0 fiona-1.8.13.post1 geographiclib-1.50 geojson-2.5.0 geopandas-0.7.0 geopy-1.22.0 munch-2.5.0 plotly-4.8.1 pyproj-2.6.1.post1 retrying-1.3.3 shapely-1.7.0\n",
      "\u001b[33mWARNING: You are using pip version 20.0.2; however, version 20.1.1 is available.\n",
      "You should consider upgrading via the '/usr/bin/python3 -m pip install --upgrade pip' command.\u001b[0m\n"
     ]
    }
   ],
   "source": [
    "!pip install geojson geopandas plotly geopy"
   ]
  },
  {
   "cell_type": "code",
   "execution_count": 2,
   "metadata": {
    "ExecuteTime": {
     "end_time": "2020-06-01T10:47:12.402859Z",
     "start_time": "2020-06-01T10:47:09.543812Z"
    },
    "scrolled": true
   },
   "outputs": [
    {
     "name": "stdout",
     "output_type": "stream",
     "text": [
      "Collecting ipyleaflet\n",
      "  Downloading ipyleaflet-0.13.0-py2.py3-none-any.whl (5.1 MB)\n",
      "\u001b[K     |████████████████████████████████| 5.1 MB 8.9 MB/s eta 0:00:01\n",
      "\u001b[?25hCollecting traittypes<3,>=0.2.1\n",
      "  Downloading traittypes-0.2.1-py2.py3-none-any.whl (8.6 kB)\n",
      "Requirement already satisfied: ipywidgets<8,>=7.5.0 in /usr/local/lib/python3.7/dist-packages (from ipyleaflet) (7.5.1)\n",
      "Collecting branca<0.4,>=0.3.1\n",
      "  Downloading branca-0.3.1-py3-none-any.whl (25 kB)\n",
      "Requirement already satisfied: traitlets>=4.2.2 in /usr/local/lib/python3.7/dist-packages (from traittypes<3,>=0.2.1->ipyleaflet) (4.3.2)\n",
      "Requirement already satisfied: ipython>=4.0.0; python_version >= \"3.3\" in /usr/local/lib/python3.7/dist-packages (from ipywidgets<8,>=7.5.0->ipyleaflet) (7.8.0)\n",
      "Requirement already satisfied: ipykernel>=4.5.1 in /usr/local/lib/python3.7/dist-packages (from ipywidgets<8,>=7.5.0->ipyleaflet) (5.1.2)\n",
      "Requirement already satisfied: widgetsnbextension~=3.5.0 in /usr/local/lib/python3.7/dist-packages (from ipywidgets<8,>=7.5.0->ipyleaflet) (3.5.1)\n",
      "Requirement already satisfied: nbformat>=4.2.0 in /usr/local/lib/python3.7/dist-packages (from ipywidgets<8,>=7.5.0->ipyleaflet) (4.4.0)\n",
      "Requirement already satisfied: jinja2 in /usr/local/lib/python3.7/dist-packages (from branca<0.4,>=0.3.1->ipyleaflet) (2.10.1)\n",
      "Requirement already satisfied: six in /usr/lib/python3/dist-packages (from branca<0.4,>=0.3.1->ipyleaflet) (1.11.0)\n",
      "Requirement already satisfied: decorator in /usr/local/lib/python3.7/dist-packages (from traitlets>=4.2.2->traittypes<3,>=0.2.1->ipyleaflet) (4.4.0)\n",
      "Requirement already satisfied: ipython-genutils in /usr/local/lib/python3.7/dist-packages (from traitlets>=4.2.2->traittypes<3,>=0.2.1->ipyleaflet) (0.2.0)\n",
      "Requirement already satisfied: pexpect; sys_platform != \"win32\" in /usr/local/lib/python3.7/dist-packages (from ipython>=4.0.0; python_version >= \"3.3\"->ipywidgets<8,>=7.5.0->ipyleaflet) (4.7.0)\n",
      "Requirement already satisfied: pickleshare in /usr/local/lib/python3.7/dist-packages (from ipython>=4.0.0; python_version >= \"3.3\"->ipywidgets<8,>=7.5.0->ipyleaflet) (0.7.5)\n",
      "Requirement already satisfied: jedi>=0.10 in /usr/local/lib/python3.7/dist-packages (from ipython>=4.0.0; python_version >= \"3.3\"->ipywidgets<8,>=7.5.0->ipyleaflet) (0.15.1)\n",
      "Requirement already satisfied: pygments in /usr/local/lib/python3.7/dist-packages (from ipython>=4.0.0; python_version >= \"3.3\"->ipywidgets<8,>=7.5.0->ipyleaflet) (2.4.2)\n",
      "Requirement already satisfied: setuptools>=18.5 in /usr/local/lib/python3.7/dist-packages (from ipython>=4.0.0; python_version >= \"3.3\"->ipywidgets<8,>=7.5.0->ipyleaflet) (45.1.0)\n",
      "Requirement already satisfied: prompt-toolkit<2.1.0,>=2.0.0 in /usr/local/lib/python3.7/dist-packages (from ipython>=4.0.0; python_version >= \"3.3\"->ipywidgets<8,>=7.5.0->ipyleaflet) (2.0.9)\n",
      "Requirement already satisfied: backcall in /usr/local/lib/python3.7/dist-packages (from ipython>=4.0.0; python_version >= \"3.3\"->ipywidgets<8,>=7.5.0->ipyleaflet) (0.1.0)\n",
      "Requirement already satisfied: jupyter-client in /usr/local/lib/python3.7/dist-packages (from ipykernel>=4.5.1->ipywidgets<8,>=7.5.0->ipyleaflet) (5.3.3)\n",
      "Requirement already satisfied: tornado>=4.2 in /usr/local/lib/python3.7/dist-packages (from ipykernel>=4.5.1->ipywidgets<8,>=7.5.0->ipyleaflet) (6.0.3)\n",
      "Requirement already satisfied: notebook>=4.4.1 in /usr/local/lib/python3.7/dist-packages (from widgetsnbextension~=3.5.0->ipywidgets<8,>=7.5.0->ipyleaflet) (6.0.1)\n",
      "Requirement already satisfied: jsonschema!=2.5.0,>=2.4 in /usr/local/lib/python3.7/dist-packages (from nbformat>=4.2.0->ipywidgets<8,>=7.5.0->ipyleaflet) (3.0.2)\n",
      "Requirement already satisfied: jupyter-core in /usr/local/lib/python3.7/dist-packages (from nbformat>=4.2.0->ipywidgets<8,>=7.5.0->ipyleaflet) (4.5.0)\n",
      "Requirement already satisfied: MarkupSafe>=0.23 in /usr/local/lib/python3.7/dist-packages (from jinja2->branca<0.4,>=0.3.1->ipyleaflet) (1.1.1)\n",
      "Requirement already satisfied: ptyprocess>=0.5 in /usr/local/lib/python3.7/dist-packages (from pexpect; sys_platform != \"win32\"->ipython>=4.0.0; python_version >= \"3.3\"->ipywidgets<8,>=7.5.0->ipyleaflet) (0.6.0)\n",
      "Requirement already satisfied: parso>=0.5.0 in /usr/local/lib/python3.7/dist-packages (from jedi>=0.10->ipython>=4.0.0; python_version >= \"3.3\"->ipywidgets<8,>=7.5.0->ipyleaflet) (0.5.1)\n",
      "Requirement already satisfied: wcwidth in /usr/local/lib/python3.7/dist-packages (from prompt-toolkit<2.1.0,>=2.0.0->ipython>=4.0.0; python_version >= \"3.3\"->ipywidgets<8,>=7.5.0->ipyleaflet) (0.1.7)\n",
      "Requirement already satisfied: pyzmq>=13 in /usr/local/lib/python3.7/dist-packages (from jupyter-client->ipykernel>=4.5.1->ipywidgets<8,>=7.5.0->ipyleaflet) (18.1.0)\n",
      "Requirement already satisfied: python-dateutil>=2.1 in /usr/local/lib/python3.7/dist-packages (from jupyter-client->ipykernel>=4.5.1->ipywidgets<8,>=7.5.0->ipyleaflet) (2.8.0)\n",
      "Requirement already satisfied: Send2Trash in /usr/local/lib/python3.7/dist-packages (from notebook>=4.4.1->widgetsnbextension~=3.5.0->ipywidgets<8,>=7.5.0->ipyleaflet) (1.5.0)\n",
      "Requirement already satisfied: terminado>=0.8.1 in /usr/local/lib/python3.7/dist-packages (from notebook>=4.4.1->widgetsnbextension~=3.5.0->ipywidgets<8,>=7.5.0->ipyleaflet) (0.8.2)\n",
      "Requirement already satisfied: prometheus-client in /usr/local/lib/python3.7/dist-packages (from notebook>=4.4.1->widgetsnbextension~=3.5.0->ipywidgets<8,>=7.5.0->ipyleaflet) (0.7.1)\n",
      "Requirement already satisfied: nbconvert in /usr/local/lib/python3.7/dist-packages (from notebook>=4.4.1->widgetsnbextension~=3.5.0->ipywidgets<8,>=7.5.0->ipyleaflet) (5.6.0)\n",
      "Requirement already satisfied: pyrsistent>=0.14.0 in /usr/local/lib/python3.7/dist-packages (from jsonschema!=2.5.0,>=2.4->nbformat>=4.2.0->ipywidgets<8,>=7.5.0->ipyleaflet) (0.15.4)\n",
      "Requirement already satisfied: attrs>=17.4.0 in /usr/local/lib/python3.7/dist-packages (from jsonschema!=2.5.0,>=2.4->nbformat>=4.2.0->ipywidgets<8,>=7.5.0->ipyleaflet) (19.2.0)\n",
      "Requirement already satisfied: entrypoints>=0.2.2 in /usr/local/lib/python3.7/dist-packages (from nbconvert->notebook>=4.4.1->widgetsnbextension~=3.5.0->ipywidgets<8,>=7.5.0->ipyleaflet) (0.3)\n",
      "Requirement already satisfied: mistune<2,>=0.8.1 in /usr/local/lib/python3.7/dist-packages (from nbconvert->notebook>=4.4.1->widgetsnbextension~=3.5.0->ipywidgets<8,>=7.5.0->ipyleaflet) (0.8.4)\n",
      "Requirement already satisfied: bleach in /usr/local/lib/python3.7/dist-packages (from nbconvert->notebook>=4.4.1->widgetsnbextension~=3.5.0->ipywidgets<8,>=7.5.0->ipyleaflet) (3.1.0)\n",
      "Requirement already satisfied: pandocfilters>=1.4.1 in /usr/local/lib/python3.7/dist-packages (from nbconvert->notebook>=4.4.1->widgetsnbextension~=3.5.0->ipywidgets<8,>=7.5.0->ipyleaflet) (1.4.2)\n",
      "Requirement already satisfied: testpath in /usr/local/lib/python3.7/dist-packages (from nbconvert->notebook>=4.4.1->widgetsnbextension~=3.5.0->ipywidgets<8,>=7.5.0->ipyleaflet) (0.4.2)\n",
      "Requirement already satisfied: defusedxml in /usr/local/lib/python3.7/dist-packages (from nbconvert->notebook>=4.4.1->widgetsnbextension~=3.5.0->ipywidgets<8,>=7.5.0->ipyleaflet) (0.6.0)\n",
      "Requirement already satisfied: webencodings in /usr/local/lib/python3.7/dist-packages (from bleach->nbconvert->notebook>=4.4.1->widgetsnbextension~=3.5.0->ipywidgets<8,>=7.5.0->ipyleaflet) (0.5.1)\n",
      "Installing collected packages: traittypes, branca, ipyleaflet\n",
      "Successfully installed branca-0.3.1 ipyleaflet-0.13.0 traittypes-0.2.1\n",
      "\u001b[33mWARNING: You are using pip version 20.0.2; however, version 20.1.1 is available.\n",
      "You should consider upgrading via the '/usr/bin/python3 -m pip install --upgrade pip' command.\u001b[0m\n"
     ]
    }
   ],
   "source": [
    "!pip install ipyleaflet"
   ]
  },
  {
   "cell_type": "code",
   "execution_count": 2,
   "metadata": {
    "ExecuteTime": {
     "end_time": "2020-06-03T16:40:49.076540Z",
     "start_time": "2020-06-03T16:40:47.583505Z"
    }
   },
   "outputs": [],
   "source": [
    "#This is only to output every operation line in each block\n",
    "from IPython.core.interactiveshell import InteractiveShell\n",
    "InteractiveShell.ast_node_interactivity = \"all\"\n",
    "\n",
    "# import the usual suspects\n",
    "import pandas as pd\n",
    "import numpy as np\n",
    "import matplotlib.pyplot as plt\n",
    "import os\n",
    "from pathlib import Path\n",
    "import sys\n",
    "import timeit\n",
    "\n",
    "%matplotlib inline\n",
    "import seaborn as sns\n",
    "\n",
    "sns.set_context(\"notebook\", font_scale=1.2)\n",
    "\n",
    "# spark\n",
    "from pyspark import SparkConf, SparkContext\n",
    "from pyspark.sql.functions import year, month, dayofmonth\n",
    "from pyspark.sql import SparkSession\n",
    "from pyspark.sql import Window\n",
    "from pyspark.sql.functions import col\n",
    "import pyspark.sql.functions as fn\n",
    "from pyspark.sql.catalog import Catalog\n",
    "from pyspark.sql.types import StructType, StructField\n",
    "from pyspark.sql.types import IntegerType, StringType"
   ]
  },
  {
   "cell_type": "code",
   "execution_count": 3,
   "metadata": {
    "ExecuteTime": {
     "end_time": "2020-06-03T16:40:53.683624Z",
     "start_time": "2020-06-03T16:40:49.969426Z"
    }
   },
   "outputs": [],
   "source": [
    "conf = SparkConf().setAppName(\"NYC Taxis\")\n",
    "\n",
    "#Setting the amount of RAM memory for every executor in the Spark session to 12gb\n",
    "# Normally we dont want to use all available memory in our computer but at least 1gb less than the max we have\n",
    "# In my case I have 15,5 gb of RAM so using 12gb allows for 3.5gb for the rest of the processes being run\n",
    "sc = SparkContext(conf=conf)"
   ]
  },
  {
   "cell_type": "code",
   "execution_count": 6,
   "metadata": {
    "ExecuteTime": {
     "end_time": "2020-06-03T16:41:13.826753Z",
     "start_time": "2020-06-03T16:41:13.616510Z"
    }
   },
   "outputs": [],
   "source": [
    "spark = (SparkSession\n",
    "     .builder\n",
    "     .config(\"spark.executor.memory\", \"12gb\")\n",
    "     .config(\"spark.driver.memory\", \"12gb\")   \n",
    "     .appName(\"NYC_Analysis\")\n",
    "     .getOrCreate())"
   ]
  },
  {
   "cell_type": "code",
   "execution_count": 5,
   "metadata": {
    "ExecuteTime": {
     "end_time": "2020-06-03T16:41:12.682871Z",
     "start_time": "2020-06-03T16:41:12.394264Z"
    }
   },
   "outputs": [],
   "source": [
    "spark.stop()"
   ]
  },
  {
   "cell_type": "markdown",
   "metadata": {},
   "source": [
    "For this homework **we will let you decide on the tools to use** (expected for Spark) and to **find out information all by yourself** (but don't hesitate to ask questions on the `slack` channel)."
   ]
  },
  {
   "cell_type": "markdown",
   "metadata": {
    "nteract": {
     "transient": {
      "deleting": false
     }
    }
   },
   "source": [
    "# Loading data as parquet files\n",
    "\n",
    "We want to organize the data on a per year and per service basis. \n",
    "We want to end up with one `parquet` file for each year and each taxi service, since parquet is much better than CSV files.\n",
    "\n",
    "**Hint.** Depending on your internet connection and your laptop, you can use only the \"yellow\" service and use one month of 2015 and 2018\n",
    "\n",
    "CSV files can contain corrupted lines. You may have to work in order to perform ETL (Extract-Transform-Load) in order obtain a properly typed data frame.\n",
    "\n",
    "You are invited to proceed as follows:\n",
    "\n",
    "1. Try to read the CSV file without imposing a schema. \n",
    "1. Inspect the inferred schema. Do you agree with Spark's typing decision?\n",
    "1. Eventually correct the schema and read again the data\n",
    "1. Save the data into parquet files\n",
    "1. In the rest of your work, **you will only use the parquet files you created**, not the csv files (don't forget to choose a partitioning column and a number of partitions when creating the parquet files).\n",
    "\n",
    "**Hint.** Don't forget to ask `Spark` to use all the memory and ressources from your computer.\n",
    "\n",
    "**Hint.** Don't foreget that you should specify a partitioning column and a number of partitions when creating the parquet files.\n",
    "\n",
    "**Hint.** Note that the schemas of the 2015 and 2018 data are different...\n",
    "\n",
    "**Hint.** When working on this, ask you and answer to the following questions:\n",
    "\n",
    "1. What is the `StorageLevel` of the dataframe after reading the csv files?\n",
    "1. What is the number of partitions of the dataframe? \n",
    "1. Is it possible to tune this number at loading time? \n",
    "1. Why would we want to modify the number of partitions when creating the parquet files?"
   ]
  },
  {
   "cell_type": "code",
   "execution_count": 29,
   "metadata": {
    "ExecuteTime": {
     "end_time": "2020-06-02T22:29:13.654369Z",
     "start_time": "2020-06-02T22:26:14.720586Z"
    }
   },
   "outputs": [
    {
     "name": "stdout",
     "output_type": "stream",
     "text": [
      "root\n",
      " |-- VendorID: integer (nullable = true)\n",
      " |-- tpep_pickup_datetime: timestamp (nullable = true)\n",
      " |-- tpep_dropoff_datetime: timestamp (nullable = true)\n",
      " |-- passenger_count: integer (nullable = true)\n",
      " |-- trip_distance: double (nullable = true)\n",
      " |-- pickup_longitude: double (nullable = true)\n",
      " |-- pickup_latitude: double (nullable = true)\n",
      " |-- RateCodeID: integer (nullable = true)\n",
      " |-- store_and_fwd_flag: string (nullable = true)\n",
      " |-- dropoff_longitude: double (nullable = true)\n",
      " |-- dropoff_latitude: double (nullable = true)\n",
      " |-- payment_type: integer (nullable = true)\n",
      " |-- fare_amount: double (nullable = true)\n",
      " |-- extra: double (nullable = true)\n",
      " |-- mta_tax: double (nullable = true)\n",
      " |-- tip_amount: double (nullable = true)\n",
      " |-- tolls_amount: double (nullable = true)\n",
      " |-- improvement_surcharge: double (nullable = true)\n",
      " |-- total_amount: double (nullable = true)\n",
      "\n",
      "root\n",
      " |-- VendorID: integer (nullable = true)\n",
      " |-- tpep_pickup_datetime: timestamp (nullable = true)\n",
      " |-- tpep_dropoff_datetime: timestamp (nullable = true)\n",
      " |-- passenger_count: integer (nullable = true)\n",
      " |-- trip_distance: double (nullable = true)\n",
      " |-- pickup_longitude: double (nullable = true)\n",
      " |-- pickup_latitude: double (nullable = true)\n",
      " |-- RatecodeID: integer (nullable = true)\n",
      " |-- store_and_fwd_flag: string (nullable = true)\n",
      " |-- dropoff_longitude: double (nullable = true)\n",
      " |-- dropoff_latitude: double (nullable = true)\n",
      " |-- payment_type: integer (nullable = true)\n",
      " |-- fare_amount: double (nullable = true)\n",
      " |-- extra: double (nullable = true)\n",
      " |-- mta_tax: double (nullable = true)\n",
      " |-- tip_amount: double (nullable = true)\n",
      " |-- tolls_amount: double (nullable = true)\n",
      " |-- improvement_surcharge: double (nullable = true)\n",
      " |-- total_amount: double (nullable = true)\n",
      "\n"
     ]
    }
   ],
   "source": [
    "df_2015_06 = spark.read\\\n",
    "             .format('csv')\\\n",
    "             .option(\"header\", \"true\")\\\n",
    "             .option(\"mode\", \"FAILFAST\")\\\n",
    "             .option(\"inferSchema\", \"true\")\\\n",
    "             .option(\"sep\", \",\")\\\n",
    "             .load(\"yellow_tripdata_2015-06.csv\")\n",
    "\n",
    "df_2015_07 = spark.read\\\n",
    "             .format('csv')\\\n",
    "             .option(\"header\", \"true\")\\\n",
    "             .option(\"mode\", \"FAILFAST\")\\\n",
    "             .option(\"inferSchema\", \"true\")\\\n",
    "             .option(\"sep\", \",\")\\\n",
    "             .load(\"yellow_tripdata_2015-07.csv\")\n",
    "\n",
    "df_2015_06.printSchema()\n",
    "df_2015_07.printSchema()"
   ]
  },
  {
   "cell_type": "code",
   "execution_count": 30,
   "metadata": {
    "ExecuteTime": {
     "end_time": "2020-06-02T22:30:02.245320Z",
     "start_time": "2020-06-02T22:29:56.271299Z"
    }
   },
   "outputs": [
    {
     "data": {
      "text/plain": [
       "12324935"
      ]
     },
     "execution_count": 30,
     "metadata": {},
     "output_type": "execute_result"
    },
    {
     "data": {
      "text/plain": [
       "11562783"
      ]
     },
     "execution_count": 30,
     "metadata": {},
     "output_type": "execute_result"
    }
   ],
   "source": [
    "df_2015_06.count()\n",
    "df_2015_07.count()"
   ]
  },
  {
   "cell_type": "code",
   "execution_count": 31,
   "metadata": {
    "ExecuteTime": {
     "end_time": "2020-06-02T22:31:22.060544Z",
     "start_time": "2020-06-02T22:30:07.853105Z"
    }
   },
   "outputs": [
    {
     "name": "stdout",
     "output_type": "stream",
     "text": [
      "root\n",
      " |-- VendorID: integer (nullable = true)\n",
      " |-- tpep_pickup_datetime: timestamp (nullable = true)\n",
      " |-- tpep_dropoff_datetime: timestamp (nullable = true)\n",
      " |-- passenger_count: integer (nullable = true)\n",
      " |-- trip_distance: double (nullable = true)\n",
      " |-- RatecodeID: integer (nullable = true)\n",
      " |-- store_and_fwd_flag: string (nullable = true)\n",
      " |-- PULocationID: integer (nullable = true)\n",
      " |-- DOLocationID: integer (nullable = true)\n",
      " |-- payment_type: integer (nullable = true)\n",
      " |-- fare_amount: double (nullable = true)\n",
      " |-- extra: double (nullable = true)\n",
      " |-- mta_tax: double (nullable = true)\n",
      " |-- tip_amount: double (nullable = true)\n",
      " |-- tolls_amount: double (nullable = true)\n",
      " |-- improvement_surcharge: double (nullable = true)\n",
      " |-- total_amount: double (nullable = true)\n",
      "\n",
      "root\n",
      " |-- VendorID: integer (nullable = true)\n",
      " |-- tpep_pickup_datetime: timestamp (nullable = true)\n",
      " |-- tpep_dropoff_datetime: timestamp (nullable = true)\n",
      " |-- passenger_count: integer (nullable = true)\n",
      " |-- trip_distance: double (nullable = true)\n",
      " |-- RatecodeID: integer (nullable = true)\n",
      " |-- store_and_fwd_flag: string (nullable = true)\n",
      " |-- PULocationID: integer (nullable = true)\n",
      " |-- DOLocationID: integer (nullable = true)\n",
      " |-- payment_type: integer (nullable = true)\n",
      " |-- fare_amount: double (nullable = true)\n",
      " |-- extra: double (nullable = true)\n",
      " |-- mta_tax: double (nullable = true)\n",
      " |-- tip_amount: double (nullable = true)\n",
      " |-- tolls_amount: double (nullable = true)\n",
      " |-- improvement_surcharge: double (nullable = true)\n",
      " |-- total_amount: double (nullable = true)\n",
      "\n"
     ]
    }
   ],
   "source": [
    "df_2018_06 = spark.read\\\n",
    "             .format('csv')\\\n",
    "             .option(\"header\", \"true\")\\\n",
    "             .option(\"mode\", \"FAILFAST\")\\\n",
    "             .option(\"inferSchema\", \"true\")\\\n",
    "             .option(\"sep\", \",\")\\\n",
    "             .load(\"yellow_tripdata_2018-06.csv\")\n",
    "\n",
    "df_2018_07 = spark.read\\\n",
    "             .format('csv')\\\n",
    "             .option(\"header\", \"true\")\\\n",
    "             .option(\"mode\", \"FAILFAST\")\\\n",
    "             .option(\"inferSchema\", \"true\")\\\n",
    "             .option(\"sep\", \",\")\\\n",
    "             .load(\"yellow_tripdata_2018-07.csv\")\n",
    "\n",
    "df_2018_06.printSchema()\n",
    "df_2018_07.printSchema()"
   ]
  },
  {
   "cell_type": "code",
   "execution_count": 51,
   "metadata": {
    "ExecuteTime": {
     "end_time": "2020-06-02T23:10:05.791847Z",
     "start_time": "2020-06-02T23:09:32.914550Z"
    }
   },
   "outputs": [
    {
     "name": "stdout",
     "output_type": "stream",
     "text": [
      "root\n",
      " |-- VendorID: integer (nullable = true)\n",
      " |-- tpep_pickup_datetime: timestamp (nullable = true)\n",
      " |-- tpep_dropoff_datetime: timestamp (nullable = true)\n",
      " |-- passenger_count: integer (nullable = true)\n",
      " |-- trip_distance: double (nullable = true)\n",
      " |-- RatecodeID: integer (nullable = true)\n",
      " |-- store_and_fwd_flag: string (nullable = true)\n",
      " |-- PULocationID: integer (nullable = true)\n",
      " |-- DOLocationID: integer (nullable = true)\n",
      " |-- payment_type: integer (nullable = true)\n",
      " |-- fare_amount: double (nullable = true)\n",
      " |-- extra: double (nullable = true)\n",
      " |-- mta_tax: double (nullable = true)\n",
      " |-- tip_amount: double (nullable = true)\n",
      " |-- tolls_amount: double (nullable = true)\n",
      " |-- improvement_surcharge: double (nullable = true)\n",
      " |-- total_amount: double (nullable = true)\n",
      "\n"
     ]
    }
   ],
   "source": [
    "df_2018_01 = spark.read\\\n",
    "             .format('csv')\\\n",
    "             .option(\"header\", \"true\")\\\n",
    "             .option(\"mode\", \"FAILFAST\")\\\n",
    "             .option(\"inferSchema\", \"true\")\\\n",
    "             .option(\"sep\", \",\")\\\n",
    "             .load(\"yellow_tripdata_2018-01.csv\")\n",
    "df_2018_01.printSchema()"
   ]
  },
  {
   "cell_type": "code",
   "execution_count": 32,
   "metadata": {
    "ExecuteTime": {
     "end_time": "2020-06-02T22:32:32.296849Z",
     "start_time": "2020-06-02T22:32:29.362315Z"
    }
   },
   "outputs": [
    {
     "data": {
      "text/plain": [
       "8713831"
      ]
     },
     "execution_count": 32,
     "metadata": {},
     "output_type": "execute_result"
    },
    {
     "data": {
      "text/plain": [
       "7849748"
      ]
     },
     "execution_count": 32,
     "metadata": {},
     "output_type": "execute_result"
    }
   ],
   "source": [
    "df_2018_06.count()\n",
    "df_2018_07.count()"
   ]
  },
  {
   "cell_type": "code",
   "execution_count": 33,
   "metadata": {
    "ExecuteTime": {
     "end_time": "2020-06-02T22:32:48.910807Z",
     "start_time": "2020-06-02T22:32:48.904122Z"
    }
   },
   "outputs": [],
   "source": [
    "# Dataframe union for year 2015 months June and July, the join is done with the left part being the bigger dataframe\n",
    "df_2015 = df_2015_06.union(df_2015_07)"
   ]
  },
  {
   "cell_type": "code",
   "execution_count": 45,
   "metadata": {
    "ExecuteTime": {
     "end_time": "2020-06-02T22:37:18.090109Z",
     "start_time": "2020-06-02T22:37:18.085531Z"
    }
   },
   "outputs": [],
   "source": [
    "# Dataframe union for year 2018 months June and July, the join is done with the left part being the bigger dataframe\n",
    "df_2018 = df_2018_06.union(df_2018_07)"
   ]
  },
  {
   "cell_type": "code",
   "execution_count": 35,
   "metadata": {
    "ExecuteTime": {
     "end_time": "2020-06-02T22:32:57.282794Z",
     "start_time": "2020-06-02T22:32:51.832176Z"
    }
   },
   "outputs": [
    {
     "data": {
      "text/plain": [
       "23887718"
      ]
     },
     "execution_count": 35,
     "metadata": {},
     "output_type": "execute_result"
    },
    {
     "data": {
      "text/plain": [
       "Row(VendorID=2, tpep_pickup_datetime=datetime.datetime(2015, 6, 2, 11, 19, 29), tpep_dropoff_datetime=datetime.datetime(2015, 6, 2, 11, 47, 52), passenger_count=1, trip_distance=1.63, pickup_longitude=-73.95442962646484, pickup_latitude=40.76414108276367, RateCodeID=1, store_and_fwd_flag='N', dropoff_longitude=-73.9747543334961, dropoff_latitude=40.754093170166016, payment_type=2, fare_amount=17.0, extra=0.0, mta_tax=0.5, tip_amount=0.0, tolls_amount=0.0, improvement_surcharge=0.3, total_amount=17.8)"
      ]
     },
     "execution_count": 35,
     "metadata": {},
     "output_type": "execute_result"
    }
   ],
   "source": [
    "df_2015.count()\n",
    "df_2015.head()"
   ]
  },
  {
   "cell_type": "code",
   "execution_count": 37,
   "metadata": {
    "ExecuteTime": {
     "end_time": "2020-06-02T22:33:09.568817Z",
     "start_time": "2020-06-02T22:33:06.619023Z"
    }
   },
   "outputs": [
    {
     "data": {
      "text/plain": [
       "16563579"
      ]
     },
     "execution_count": 37,
     "metadata": {},
     "output_type": "execute_result"
    },
    {
     "data": {
      "text/plain": [
       "Row(VendorID=1, tpep_pickup_datetime=datetime.datetime(2018, 6, 1, 0, 15, 40), tpep_dropoff_datetime=datetime.datetime(2018, 6, 1, 0, 16, 46), passenger_count=1, trip_distance=0.0, RatecodeID=1, store_and_fwd_flag='N', PULocationID=145, DOLocationID=145, payment_type=2, fare_amount=3.0, extra=0.5, mta_tax=0.5, tip_amount=0.0, tolls_amount=0.0, improvement_surcharge=0.3, total_amount=4.3)"
      ]
     },
     "execution_count": 37,
     "metadata": {},
     "output_type": "execute_result"
    }
   ],
   "source": [
    "df_2018.count()\n",
    "df_2018.head()"
   ]
  },
  {
   "cell_type": "code",
   "execution_count": 38,
   "metadata": {
    "ExecuteTime": {
     "end_time": "2020-06-02T22:33:56.021007Z",
     "start_time": "2020-06-02T22:33:32.425709Z"
    }
   },
   "outputs": [
    {
     "name": "stdout",
     "output_type": "stream",
     "text": [
      "+--------+\n",
      "|VendorID|\n",
      "+--------+\n",
      "|       1|\n",
      "|       2|\n",
      "+--------+\n",
      "\n",
      "+---------------+\n",
      "|passenger_count|\n",
      "+---------------+\n",
      "|              1|\n",
      "|              6|\n",
      "|              3|\n",
      "|              5|\n",
      "|              9|\n",
      "|              4|\n",
      "|              8|\n",
      "|              7|\n",
      "|              2|\n",
      "|              0|\n",
      "+---------------+\n",
      "\n"
     ]
    }
   ],
   "source": [
    "df_2015.select('VendorID').distinct().show()\n",
    "df_2015.select('passenger_count').distinct().show()"
   ]
  },
  {
   "cell_type": "code",
   "execution_count": 39,
   "metadata": {
    "ExecuteTime": {
     "end_time": "2020-06-02T22:34:17.793140Z",
     "start_time": "2020-06-02T22:34:04.839804Z"
    }
   },
   "outputs": [
    {
     "name": "stdout",
     "output_type": "stream",
     "text": [
      "+--------+\n",
      "|VendorID|\n",
      "+--------+\n",
      "|       1|\n",
      "|       4|\n",
      "|       2|\n",
      "+--------+\n",
      "\n",
      "+---------------+\n",
      "|passenger_count|\n",
      "+---------------+\n",
      "|              1|\n",
      "|              6|\n",
      "|              3|\n",
      "|              5|\n",
      "|              9|\n",
      "|              4|\n",
      "|              8|\n",
      "|              7|\n",
      "|              2|\n",
      "|              0|\n",
      "+---------------+\n",
      "\n"
     ]
    }
   ],
   "source": [
    "df_2018.select('VendorID').distinct().show()\n",
    "df_2018.select('passenger_count').distinct().show()"
   ]
  },
  {
   "cell_type": "code",
   "execution_count": 53,
   "metadata": {
    "ExecuteTime": {
     "end_time": "2020-06-02T23:12:51.551868Z",
     "start_time": "2020-06-02T23:12:42.686083Z"
    },
    "scrolled": true
   },
   "outputs": [
    {
     "name": "stdout",
     "output_type": "stream",
     "text": [
      "+-----+\n",
      "|Month|\n",
      "+-----+\n",
      "|   12|\n",
      "|    1|\n",
      "|    7|\n",
      "|    2|\n",
      "+-----+\n",
      "\n"
     ]
    }
   ],
   "source": [
    "# Dataframe for months January year 2018\n",
    "df_2018_01.select('Month').distinct().show()"
   ]
  },
  {
   "cell_type": "code",
   "execution_count": 94,
   "metadata": {
    "ExecuteTime": {
     "end_time": "2020-06-03T00:08:46.680650Z",
     "start_time": "2020-06-03T00:08:19.293960Z"
    }
   },
   "outputs": [
    {
     "name": "stdout",
     "output_type": "stream",
     "text": [
      "+--------+---------------+---+-----+----+---------------------+-------------+------------+\n",
      "|VendorID|passenger_count|Day|Month|Year|tpep_dropoff_datetime|trip_distance|payment_type|\n",
      "+--------+---------------+---+-----+----+---------------------+-------------+------------+\n",
      "|       2|              1|  1|    2|2018|  2018-02-01 00:11:25|         1.25|           2|\n",
      "|       2|              1|  1|    2|2018|  2018-02-01 01:51:53|         6.12|           1|\n",
      "|       2|              1|  1|    2|2018|  2018-02-01 04:30:44|         5.97|           1|\n",
      "|       2|              1|  1|    2|2018|  2018-02-01 07:28:56|         1.25|           2|\n",
      "|       2|              2|  1|    2|2018|  2018-02-01 07:52:38|         3.07|           1|\n",
      "|       2|              1|  1|    2|2018|  2018-02-01 08:15:34|         0.91|           1|\n",
      "|       2|              1|  1|    2|2018|  2018-02-01 08:32:54|         1.99|           1|\n",
      "|       2|              1|  1|    2|2018|  2018-02-01 09:05:34|         5.15|           1|\n",
      "|       2|              1|  1|    2|2018|  2018-02-01 09:47:33|         4.63|           1|\n",
      "|       2|              1|  1|    2|2018|  2018-02-01 09:54:56|         0.49|           1|\n",
      "|       2|              2|  1|    2|2018|  2018-02-01 11:02:03|          3.5|           1|\n",
      "|       2|              1|  1|    2|2018|  2018-02-01 11:22:26|         1.09|           1|\n",
      "|       2|              1|  1|    2|2018|  2018-02-01 11:46:13|         3.48|           2|\n",
      "|       2|              2|  1|    2|2018|  2018-02-01 12:33:41|         3.24|           1|\n",
      "|       2|              2|  1|    2|2018|  2018-02-01 12:56:26|         1.77|           2|\n",
      "|       2|              1|  1|    2|2018|  2018-02-01 13:03:28|         0.48|           1|\n",
      "|       2|              1|  1|    2|2018|  2018-02-01 13:54:29|         1.07|           2|\n",
      "|       2|              1|  1|    2|2018|  2018-02-01 14:24:35|         1.45|           2|\n",
      "|       2|              1|  1|    2|2018|  2018-02-01 14:42:50|         1.94|           1|\n",
      "|       2|              1|  1|    2|2018|  2018-02-01 15:10:39|          2.6|           1|\n",
      "+--------+---------------+---+-----+----+---------------------+-------------+------------+\n",
      "only showing top 20 rows\n",
      "\n"
     ]
    }
   ],
   "source": [
    "df_2018_01.where(\"Month = 2\").select(\"VendorID\", \"passenger_count\", \"Day\", \"Month\", \"Year\", \"tpep_dropoff_datetime\", \"trip_distance\", \"payment_type\" ).show(20)"
   ]
  },
  {
   "cell_type": "code",
   "execution_count": 48,
   "metadata": {
    "ExecuteTime": {
     "end_time": "2020-06-02T22:42:58.831800Z",
     "start_time": "2020-06-02T22:42:37.476304Z"
    },
    "scrolled": true
   },
   "outputs": [
    {
     "name": "stdout",
     "output_type": "stream",
     "text": [
      "+-----+\n",
      "|Month|\n",
      "+-----+\n",
      "|   12|\n",
      "|    1|\n",
      "|    6|\n",
      "|    3|\n",
      "|    5|\n",
      "|    9|\n",
      "|    4|\n",
      "|    8|\n",
      "|    7|\n",
      "|   10|\n",
      "|   11|\n",
      "|    2|\n",
      "+-----+\n",
      "\n"
     ]
    }
   ],
   "source": [
    "# Dataframe for months June and July year 2018\n",
    "df_2018.select('Month').distinct().show()"
   ]
  },
  {
   "cell_type": "code",
   "execution_count": 58,
   "metadata": {
    "ExecuteTime": {
     "end_time": "2020-06-02T23:16:48.565871Z",
     "start_time": "2020-06-02T23:16:24.070493Z"
    }
   },
   "outputs": [
    {
     "name": "stdout",
     "output_type": "stream",
     "text": [
      "+--------+---------------+---+-----+----+---------------------+-------------+------------+\n",
      "|VendorID|passenger_count|Day|Month|Year|tpep_dropoff_datetime|trip_distance|payment_type|\n",
      "+--------+---------------+---+-----+----+---------------------+-------------+------------+\n",
      "|       2|              1| 31|   12|2008|  2008-12-31 14:21:38|         9.79|           1|\n",
      "|       2|              5| 31|   12|2008|  2008-12-31 15:55:02|         1.74|           1|\n",
      "|       2|              1| 14|   10|2018|  2018-10-14 17:53:44|         2.37|           2|\n",
      "|       2|              1| 14|   10|2018|  2018-10-14 18:06:49|         1.64|           1|\n",
      "|       2|              1| 14|   10|2018|  2018-10-14 18:12:04|         0.61|           2|\n",
      "|       2|              1|  5|   11|2018|  2018-11-05 00:34:24|         3.14|           1|\n",
      "|       2|              1|  5|   11|2018|  2018-11-05 00:57:51|         1.54|           1|\n",
      "|       2|              1| 26|   11|2018|  2018-11-26 08:47:22|         2.09|           1|\n",
      "|       2|              1| 26|   11|2018|  2018-11-26 08:57:00|          0.7|           2|\n",
      "|       2|              1| 26|   11|2018|  2018-11-26 09:10:01|         1.84|           2|\n",
      "|       2|              1| 17|   12|2018|  2018-12-17 16:42:50|         1.53|           1|\n",
      "|       2|              5| 31|   12|2008|  2008-12-31 17:38:19|          5.2|           2|\n",
      "|       2|              2| 17|   12|2018|  2018-12-17 17:10:27|         0.91|           2|\n",
      "|       2|              1| 31|   12|2008|  2008-12-31 07:44:54|         0.86|           1|\n",
      "|       2|              2| 31|   12|2008|  2008-12-31 13:46:51|          1.8|           1|\n",
      "|       2|              1| 18|   10|2018|  2018-10-18 17:24:40|         1.32|           2|\n",
      "|       2|              1| 18|   10|2018|  2018-10-18 17:34:47|         0.76|           1|\n",
      "|       2|              1| 18|   10|2018|  2018-10-18 17:42:27|         1.01|           1|\n",
      "|       2|              1| 18|   10|2018|  2018-10-18 23:59:49|         1.55|           1|\n",
      "|       2|              1|  9|   11|2018|  2018-11-09 00:06:01|         1.07|           1|\n",
      "+--------+---------------+---+-----+----+---------------------+-------------+------------+\n",
      "only showing top 20 rows\n",
      "\n"
     ]
    }
   ],
   "source": [
    "# Data from 2018 is corrupt as fuck, the supposed data for months June July contains information for all 12 months\n",
    "# There are also values for 2008 wtf\n",
    "df_2018.where(\"Month > 9\").select(\"VendorID\", \"passenger_count\", \"Day\", \"Month\", \"Year\", \"tpep_dropoff_datetime\", \"trip_distance\", \"payment_type\" ).show(20)"
   ]
  },
  {
   "cell_type": "code",
   "execution_count": 55,
   "metadata": {
    "ExecuteTime": {
     "end_time": "2020-06-02T23:15:17.529547Z",
     "start_time": "2020-06-02T23:15:17.405713Z"
    }
   },
   "outputs": [
    {
     "name": "stdout",
     "output_type": "stream",
     "text": [
      "+--------+---------------+---+-----+----+---------------------+-------------+------------+\n",
      "|VendorID|passenger_count|Day|Month|Year|tpep_dropoff_datetime|trip_distance|payment_type|\n",
      "+--------+---------------+---+-----+----+---------------------+-------------+------------+\n",
      "|       2|              1|  2|    6|2015|  2015-06-02 11:47:52|         1.63|           2|\n",
      "|       2|              1|  2|    6|2015|  2015-06-02 11:27:56|         0.46|           1|\n",
      "|       2|              1|  2|    6|2015|  2015-06-02 11:30:30|         0.87|           1|\n",
      "|       2|              1|  2|    6|2015|  2015-06-02 11:39:02|         2.13|           1|\n",
      "|       1|              1|  2|    6|2015|  2015-06-02 11:32:49|          1.4|           2|\n",
      "|       1|              1|  2|    6|2015|  2015-06-02 11:28:48|          1.4|           1|\n",
      "|       1|              1|  2|    6|2015|  2015-06-02 11:38:46|          1.8|           1|\n",
      "|       1|              4|  2|    6|2015|  2015-06-02 12:36:46|         11.9|           1|\n",
      "|       2|              1|  2|    6|2015|  2015-06-02 11:45:19|         1.27|           2|\n",
      "|       1|              1|  2|    6|2015|  2015-06-02 11:23:50|          0.6|           1|\n",
      "|       2|              3|  2|    6|2015|  2015-06-02 11:19:43|         0.01|           2|\n",
      "|       2|              1|  2|    6|2015|  2015-06-02 11:36:43|         1.65|           1|\n",
      "|       2|              1|  2|    6|2015|  2015-06-02 11:34:34|         1.14|           2|\n",
      "|       1|              2|  2|    6|2015|  2015-06-02 11:23:56|          0.5|           1|\n",
      "|       2|              1|  2|    6|2015|  2015-06-02 11:29:59|         1.28|           2|\n",
      "|       1|              2|  2|    6|2015|  2015-06-02 11:22:33|          0.6|           2|\n",
      "|       2|              1|  2|    6|2015|  2015-06-02 11:38:10|         1.41|           1|\n",
      "|       1|              1|  2|    6|2015|  2015-06-02 11:30:31|          0.7|           2|\n",
      "|       1|              1|  2|    6|2015|  2015-06-02 11:42:03|          1.9|           1|\n",
      "|       1|              1|  2|    6|2015|  2015-06-02 11:26:48|          1.1|           2|\n",
      "+--------+---------------+---+-----+----+---------------------+-------------+------------+\n",
      "only showing top 20 rows\n",
      "\n"
     ]
    }
   ],
   "source": [
    "df_2015 = df_2015.withColumn(\"Day\", fn.dayofmonth(\"tpep_pickup_datetime\")).withColumn(\"Month\", fn.month(\"tpep_pickup_datetime\")).withColumn(\"Year\", fn.year(\"tpep_pickup_datetime\"))\n",
    "df_2015.select(\"VendorID\", \"passenger_count\", \"Day\", \"Month\", \"Year\",\"tpep_dropoff_datetime\", \"trip_distance\", \"payment_type\" )\\\n",
    ".show()"
   ]
  },
  {
   "cell_type": "code",
   "execution_count": 56,
   "metadata": {
    "ExecuteTime": {
     "end_time": "2020-06-02T23:15:42.335467Z",
     "start_time": "2020-06-02T23:15:42.256384Z"
    }
   },
   "outputs": [
    {
     "name": "stdout",
     "output_type": "stream",
     "text": [
      "+--------+---------------+---+-----+----+---------------------+-------------+------------+\n",
      "|VendorID|passenger_count|Day|Month|Year|tpep_dropoff_datetime|trip_distance|payment_type|\n",
      "+--------+---------------+---+-----+----+---------------------+-------------+------------+\n",
      "|       1|              1|  1|    1|2018|  2018-01-01 00:24:23|          0.5|           2|\n",
      "|       1|              1|  1|    1|2018|  2018-01-01 01:03:05|          2.7|           2|\n",
      "|       1|              2|  1|    1|2018|  2018-01-01 00:14:21|          0.8|           1|\n",
      "|       1|              1|  1|    1|2018|  2018-01-01 00:52:51|         10.2|           2|\n",
      "|       1|              2|  1|    1|2018|  2018-01-01 00:27:06|          2.5|           1|\n",
      "|       1|              3|  1|    1|2018|  2018-01-01 00:32:48|          0.5|           2|\n",
      "|       1|              2|  1|    1|2018|  2018-01-01 00:48:24|          1.7|           1|\n",
      "|       1|              1|  1|    1|2018|  2018-01-01 00:51:53|          0.7|           1|\n",
      "|       1|              1|  1|    1|2018|  2018-01-01 01:01:05|          1.0|           1|\n",
      "|       1|              1|  1|    1|2018|  2018-01-01 00:22:24|          0.7|           2|\n",
      "|       1|              1|  1|    1|2018|  2018-01-01 00:46:49|          0.6|           1|\n",
      "|       1|              1|  1|    1|2018|  2018-01-01 01:17:33|          3.5|           2|\n",
      "|       2|              1|  1|    1|2018|  2018-01-01 00:22:05|         1.04|           2|\n",
      "|       2|              1|  1|    1|2018|  2018-01-01 00:34:20|         1.22|           2|\n",
      "|       2|              1|  1|    1|2018|  2018-01-01 00:53:43|         1.92|           2|\n",
      "|       1|              1|  1|    1|2018|  2018-01-01 00:52:59|          5.7|           1|\n",
      "|       2|              1|  1|    1|2018|  2018-01-01 01:13:20|         3.74|           1|\n",
      "|       1|              2|  1|    1|2018|  2018-01-01 00:25:58|          0.6|           1|\n",
      "|       1|              1|  1|    1|2018|  2018-01-01 01:07:56|         10.9|           2|\n",
      "|       2|              5|  1|    1|2018|  2018-01-01 00:21:38|         1.22|           2|\n",
      "+--------+---------------+---+-----+----+---------------------+-------------+------------+\n",
      "only showing top 20 rows\n",
      "\n"
     ]
    }
   ],
   "source": [
    "df_2018_01 = df_2018_01.withColumn(\"Day\", fn.dayofmonth(\"tpep_pickup_datetime\")).withColumn(\"Month\", fn.month(\"tpep_pickup_datetime\")).withColumn(\"Year\", fn.year(\"tpep_pickup_datetime\"))\n",
    "df_2018_01.select(\"VendorID\", \"passenger_count\", \"Day\", \"Month\",\"Year\", \"tpep_dropoff_datetime\", \"trip_distance\", \"payment_type\" )\\\n",
    ".show()"
   ]
  },
  {
   "cell_type": "code",
   "execution_count": 57,
   "metadata": {
    "ExecuteTime": {
     "end_time": "2020-06-02T23:16:03.032907Z",
     "start_time": "2020-06-02T23:16:02.935557Z"
    }
   },
   "outputs": [
    {
     "name": "stdout",
     "output_type": "stream",
     "text": [
      "+--------+---------------+---+-----+----+---------------------+-------------+------------+\n",
      "|VendorID|passenger_count|Day|Month|Year|tpep_dropoff_datetime|trip_distance|payment_type|\n",
      "+--------+---------------+---+-----+----+---------------------+-------------+------------+\n",
      "|       1|              1|  1|    6|2018|  2018-06-01 00:16:46|          0.0|           2|\n",
      "|       1|              1|  1|    6|2018|  2018-06-01 00:09:18|          1.0|           1|\n",
      "|       1|              1|  1|    6|2018|  2018-06-01 00:29:46|          3.3|           2|\n",
      "|       1|              3|  1|    6|2018|  2018-06-01 00:51:29|          0.0|           2|\n",
      "|       1|              1|  1|    6|2018|  2018-06-01 00:55:10|          0.0|           2|\n",
      "|       1|              1|  1|    6|2018|  2018-06-01 00:24:01|          2.0|           1|\n",
      "|       1|              2|  1|    6|2018|  2018-06-01 00:13:01|          1.5|           1|\n",
      "|       1|              1|  1|    6|2018|  2018-06-01 00:16:52|          0.7|           1|\n",
      "|       1|              1|  1|    6|2018|  2018-06-01 01:08:43|          5.7|           2|\n",
      "|       2|              1|  1|    6|2018|  2018-06-01 00:23:16|         0.85|           2|\n",
      "|       2|              1|  1|    6|2018|  2018-06-01 00:47:24|         6.25|           1|\n",
      "|       1|              1|  1|    6|2018|  2018-06-01 00:57:23|          3.5|           1|\n",
      "|       1|              1|  1|    6|2018|  2018-06-01 00:40:07|          3.0|           1|\n",
      "|       1|              4|  1|    6|2018|  2018-06-01 01:08:33|          2.6|           2|\n",
      "|       1|              1|  1|    6|2018|  2018-06-01 00:39:17|         10.0|           2|\n",
      "|       1|              1|  1|    6|2018|  2018-06-01 00:51:15|          4.6|           1|\n",
      "|       2|              1|  1|    6|2018|  2018-06-01 00:08:05|         0.75|           1|\n",
      "|       2|              1|  1|    6|2018|  2018-06-01 00:52:20|         3.94|           1|\n",
      "|       1|              1|  1|    6|2018|  2018-06-01 00:30:01|          1.4|           1|\n",
      "|       1|              2|  1|    6|2018|  2018-06-01 00:26:26|          0.0|           2|\n",
      "+--------+---------------+---+-----+----+---------------------+-------------+------------+\n",
      "only showing top 20 rows\n",
      "\n"
     ]
    }
   ],
   "source": [
    "df_2018 = df_2018.withColumn(\"Day\", fn.dayofmonth(\"tpep_pickup_datetime\")).withColumn(\"Month\", fn.month(\"tpep_pickup_datetime\")).withColumn(\"Year\", fn.year(\"tpep_pickup_datetime\"))\n",
    "df_2018.select(\"VendorID\", \"passenger_count\", \"Day\", \"Month\", \"Year\", \"tpep_dropoff_datetime\", \"trip_distance\", \"payment_type\" )\\\n",
    ".show()"
   ]
  },
  {
   "cell_type": "code",
   "execution_count": 28,
   "metadata": {
    "ExecuteTime": {
     "end_time": "2020-06-02T22:17:48.028216Z",
     "start_time": "2020-06-02T22:14:40.229612Z"
    }
   },
   "outputs": [],
   "source": [
    "#Ok so this line does a nice job creating the parquet files dividing into month, day and then passenger count for 2015\n",
    "df_2015.repartition(\"Month\", \"Day\", \"passenger_count\").write.partitionBy(\"Month\", \"Day\", \"passenger_count\").parquet(\"parquets/yellow_tripdata_2015.parquet\")"
   ]
  },
  {
   "cell_type": "code",
   "execution_count": 47,
   "metadata": {
    "ExecuteTime": {
     "end_time": "2020-06-02T22:38:39.051753Z",
     "start_time": "2020-06-02T22:37:36.797314Z"
    }
   },
   "outputs": [],
   "source": [
    "#Ok so this line does a nice job creating the parquet files dividing into month, day and then passenger count for 2018\n",
    "# The data is corrupt as fuck so the amount of files created are more than expected\n",
    "df_2018.repartition(\"Month\", \"Day\", \"passenger_count\").write.partitionBy(\"Month\", \"Day\", \"passenger_count\").parquet(\"parquets/yellow_tripdata_2018.parquet\")"
   ]
  },
  {
   "cell_type": "markdown",
   "metadata": {
    "nteract": {
     "transient": {
      "deleting": false
     }
    }
   },
   "source": [
    "# Investigate (at least) one month of data in 2015\n",
    "\n",
    "From now on, you will be using **the parquet files you created for 2015**.\n",
    "\n",
    "We shall visualize several features of taxi traffic during one calendar month\n",
    "in 2015 and the same calendar month in 2018.\n",
    "\n",
    "**Hint.** In order to build appealing graphics, you may stick to `matplotlib + seaborn`, you can use also\n",
    "`plotly`, which is used a lot to build interactive graphics, but you can use whatever you want."
   ]
  },
  {
   "cell_type": "code",
   "execution_count": 6,
   "metadata": {
    "ExecuteTime": {
     "end_time": "2020-06-03T11:50:04.619845Z",
     "start_time": "2020-06-03T11:50:02.971843Z"
    }
   },
   "outputs": [],
   "source": [
    "df_2015_Ju = pd.read_parquet(\"parquets/yellow_tripdata_2015.parquet/Month=6\")"
   ]
  },
  {
   "cell_type": "code",
   "execution_count": 12,
   "metadata": {
    "ExecuteTime": {
     "end_time": "2020-06-03T10:24:20.555136Z",
     "start_time": "2020-06-03T10:24:20.546760Z"
    }
   },
   "outputs": [
    {
     "data": {
      "text/plain": [
       "(12324935, 20)"
      ]
     },
     "execution_count": 12,
     "metadata": {},
     "output_type": "execute_result"
    }
   ],
   "source": [
    "df_2015_Ju.shape"
   ]
  },
  {
   "cell_type": "code",
   "execution_count": 7,
   "metadata": {
    "ExecuteTime": {
     "end_time": "2020-06-03T16:41:33.212323Z",
     "start_time": "2020-06-03T16:41:30.180269Z"
    }
   },
   "outputs": [],
   "source": [
    "df_2015_June = spark.read.parquet(\"parquets/yellow_tripdata_2015.parquet/Month=6\")"
   ]
  },
  {
   "cell_type": "code",
   "execution_count": 14,
   "metadata": {
    "ExecuteTime": {
     "end_time": "2020-06-03T17:29:54.312499Z",
     "start_time": "2020-06-03T17:29:53.737755Z"
    }
   },
   "outputs": [
    {
     "name": "stdout",
     "output_type": "stream",
     "text": [
      "+--------+---------------+--------------------+\n",
      "|VendorID|passenger_count|tpep_pickup_datetime|\n",
      "+--------+---------------+--------------------+\n",
      "|       2|              1| 2015-06-05 12:53:54|\n",
      "|       1|              1| 2015-06-05 00:00:00|\n",
      "|       2|              1| 2015-06-05 12:53:55|\n",
      "|       1|              1| 2015-06-05 00:00:01|\n",
      "|       1|              1| 2015-06-05 12:53:56|\n",
      "|       2|              1| 2015-06-05 00:00:02|\n",
      "|       2|              1| 2015-06-05 12:53:57|\n",
      "|       1|              1| 2015-06-05 00:00:03|\n",
      "|       1|              1| 2015-06-05 12:53:57|\n",
      "|       1|              1| 2015-06-05 00:00:05|\n",
      "|       1|              1| 2015-06-05 12:53:59|\n",
      "|       1|              1| 2015-06-05 00:00:06|\n",
      "|       2|              1| 2015-06-05 12:53:59|\n",
      "|       2|              1| 2015-06-05 00:00:03|\n",
      "|       2|              1| 2015-06-05 12:54:00|\n",
      "|       2|              1| 2015-06-05 00:00:06|\n",
      "|       1|              1| 2015-06-05 12:54:01|\n",
      "|       2|              1| 2015-06-05 00:00:07|\n",
      "|       2|              1| 2015-06-05 12:54:01|\n",
      "|       1|              1| 2015-06-05 00:00:08|\n",
      "+--------+---------------+--------------------+\n",
      "only showing top 20 rows\n",
      "\n"
     ]
    }
   ],
   "source": [
    "df_2015_June.select(\"VendorID\", \"passenger_count\", \"tpep_pickup_datetime\").show()"
   ]
  },
  {
   "cell_type": "markdown",
   "metadata": {},
   "source": [
    "The following longitudes and lattitudes encompass Newark and JFK airports, Northern Manhattan and Verazzano bridge."
   ]
  },
  {
   "cell_type": "code",
   "execution_count": 30,
   "metadata": {
    "ExecuteTime": {
     "end_time": "2020-06-03T12:03:43.322609Z",
     "start_time": "2020-06-03T12:03:43.313453Z"
    },
    "jupyter": {
     "outputs_hidden": false,
     "source_hidden": false
    },
    "nteract": {
     "transient": {
      "deleting": false
     }
    }
   },
   "outputs": [],
   "source": [
    "long_min = -74.10\n",
    "long_max = -73.70\n",
    "lat_min = 40.58\n",
    "lat_max = 40.90"
   ]
  },
  {
   "cell_type": "markdown",
   "metadata": {},
   "source": [
    "1. Using these boundaries, **filter the 2015 data** (using pickup and dropoff longitude and latitude) and count the number of trips for each value of `passenger_count` and make a plot of that."
   ]
  },
  {
   "cell_type": "code",
   "execution_count": 31,
   "metadata": {
    "ExecuteTime": {
     "end_time": "2020-06-03T12:03:44.376872Z",
     "start_time": "2020-06-03T12:03:44.165045Z"
    }
   },
   "outputs": [],
   "source": [
    "query1 = \"(pickup_longitude BETWEEN {0} AND {1} AND pickup_latitude BETWEEN {2} AND {3}) AND (dropoff_longitude BETWEEN {0} AND {1} AND dropoff_latitude BETWEEN {2} AND {3})\".format(long_min, long_max, lat_min, lat_max)\n",
    "df_coordinates = df_2015_June.where(query1)"
   ]
  },
  {
   "cell_type": "code",
   "execution_count": 24,
   "metadata": {
    "ExecuteTime": {
     "end_time": "2020-06-03T10:42:37.987951Z",
     "start_time": "2020-06-03T10:42:33.497120Z"
    }
   },
   "outputs": [],
   "source": [
    "filtered_count = df_coordinates.groupBy(\"passenger_count\").count().toPandas()\n",
    "filtered_count"
   ]
  },
  {
   "cell_type": "code",
   "execution_count": 25,
   "metadata": {
    "ExecuteTime": {
     "end_time": "2020-06-03T10:42:40.156635Z",
     "start_time": "2020-06-03T10:42:39.560566Z"
    }
   },
   "outputs": [
    {
     "data": {
      "text/html": [
       "<div>\n",
       "<style scoped>\n",
       "    .dataframe tbody tr th:only-of-type {\n",
       "        vertical-align: middle;\n",
       "    }\n",
       "\n",
       "    .dataframe tbody tr th {\n",
       "        vertical-align: top;\n",
       "    }\n",
       "\n",
       "    .dataframe thead th {\n",
       "        text-align: right;\n",
       "    }\n",
       "</style>\n",
       "<table border=\"1\" class=\"dataframe\">\n",
       "  <thead>\n",
       "    <tr style=\"text-align: right;\">\n",
       "      <th></th>\n",
       "      <th>passenger_count</th>\n",
       "      <th>count</th>\n",
       "    </tr>\n",
       "  </thead>\n",
       "  <tbody>\n",
       "    <tr>\n",
       "      <td>0</td>\n",
       "      <td>1</td>\n",
       "      <td>8517735</td>\n",
       "    </tr>\n",
       "    <tr>\n",
       "      <td>1</td>\n",
       "      <td>6</td>\n",
       "      <td>427582</td>\n",
       "    </tr>\n",
       "    <tr>\n",
       "      <td>2</td>\n",
       "      <td>3</td>\n",
       "      <td>514124</td>\n",
       "    </tr>\n",
       "    <tr>\n",
       "      <td>3</td>\n",
       "      <td>5</td>\n",
       "      <td>667755</td>\n",
       "    </tr>\n",
       "    <tr>\n",
       "      <td>4</td>\n",
       "      <td>9</td>\n",
       "      <td>14</td>\n",
       "    </tr>\n",
       "    <tr>\n",
       "      <td>5</td>\n",
       "      <td>4</td>\n",
       "      <td>243582</td>\n",
       "    </tr>\n",
       "    <tr>\n",
       "      <td>6</td>\n",
       "      <td>8</td>\n",
       "      <td>3</td>\n",
       "    </tr>\n",
       "    <tr>\n",
       "      <td>7</td>\n",
       "      <td>7</td>\n",
       "      <td>18</td>\n",
       "    </tr>\n",
       "    <tr>\n",
       "      <td>8</td>\n",
       "      <td>2</td>\n",
       "      <td>1714304</td>\n",
       "    </tr>\n",
       "    <tr>\n",
       "      <td>9</td>\n",
       "      <td>0</td>\n",
       "      <td>1406</td>\n",
       "    </tr>\n",
       "  </tbody>\n",
       "</table>\n",
       "</div>"
      ],
      "text/plain": [
       "   passenger_count    count\n",
       "0                1  8517735\n",
       "1                6   427582\n",
       "2                3   514124\n",
       "3                5   667755\n",
       "4                9       14\n",
       "5                4   243582\n",
       "6                8        3\n",
       "7                7       18\n",
       "8                2  1714304\n",
       "9                0     1406"
      ]
     },
     "execution_count": 25,
     "metadata": {},
     "output_type": "execute_result"
    },
    {
     "data": {
      "text/plain": [
       "Text(0, 0.5, 'Number of trips')"
      ]
     },
     "execution_count": 25,
     "metadata": {},
     "output_type": "execute_result"
    },
    {
     "data": {
      "text/plain": [
       "Text(0.5, 0, 'Number of passengers')"
      ]
     },
     "execution_count": 25,
     "metadata": {},
     "output_type": "execute_result"
    },
    {
     "data": {
      "image/png": "[encoded data removed]",
      "text/plain": [
       "<Figure size 1080x720 with 1 Axes>"
      ]
     },
     "metadata": {},
     "output_type": "display_data"
    }
   ],
   "source": [
    "fig = plt.figure(figsize=(15,10))\n",
    "sns.set()\n",
    "g = sns.barplot(x = \"passenger_count\", y = \"count\", data = filtered_count)\n",
    "\n",
    "#g.set_title(\"Number of trips for each passenger count\")\n",
    "plt.ylabel(\"Number of trips\")\n",
    "plt.xlabel(\"Number of passengers\")\n",
    "plt.show(g)"
   ]
  },
  {
   "cell_type": "markdown",
   "metadata": {
    "nteract": {
     "transient": {
      "deleting": false
     }
    }
   },
   "source": [
    "Trips with $0$ or larger than $7$ passengers are pretty rare.\n",
    "We suspect these to be outliers. \n",
    "We need to explore these trips further in order order to understand what might be wrong\n",
    "with them"
   ]
  },
  {
   "cell_type": "code",
   "execution_count": 26,
   "metadata": {
    "ExecuteTime": {
     "end_time": "2020-06-03T10:42:44.749473Z",
     "start_time": "2020-06-03T10:42:43.541088Z"
    }
   },
   "outputs": [],
   "source": [
    "zero_passenger_df = df_2015_June.where(\"passenger_count = 0\").toPandas()\n",
    "plus6_passenger_df = df_2015_June.where(\"passenger_count > 6\").toPandas()"
   ]
  },
  {
   "cell_type": "markdown",
   "metadata": {},
   "source": [
    "1. What's special with trips with zero passengers?"
   ]
  },
  {
   "cell_type": "code",
   "execution_count": 15,
   "metadata": {
    "ExecuteTime": {
     "end_time": "2020-06-03T09:19:12.694419Z",
     "start_time": "2020-06-03T09:19:12.621392Z"
    }
   },
   "outputs": [
    {
     "data": {
      "text/html": [
       "<div>\n",
       "<style scoped>\n",
       "    .dataframe tbody tr th:only-of-type {\n",
       "        vertical-align: middle;\n",
       "    }\n",
       "\n",
       "    .dataframe tbody tr th {\n",
       "        vertical-align: top;\n",
       "    }\n",
       "\n",
       "    .dataframe thead th {\n",
       "        text-align: right;\n",
       "    }\n",
       "</style>\n",
       "<table border=\"1\" class=\"dataframe\">\n",
       "  <thead>\n",
       "    <tr style=\"text-align: right;\">\n",
       "      <th></th>\n",
       "      <th>VendorID</th>\n",
       "      <th>tpep_pickup_datetime</th>\n",
       "      <th>tpep_dropoff_datetime</th>\n",
       "      <th>trip_distance</th>\n",
       "      <th>pickup_longitude</th>\n",
       "      <th>pickup_latitude</th>\n",
       "      <th>RateCodeID</th>\n",
       "      <th>store_and_fwd_flag</th>\n",
       "      <th>dropoff_longitude</th>\n",
       "      <th>dropoff_latitude</th>\n",
       "      <th>payment_type</th>\n",
       "      <th>fare_amount</th>\n",
       "      <th>extra</th>\n",
       "      <th>mta_tax</th>\n",
       "      <th>tip_amount</th>\n",
       "      <th>tolls_amount</th>\n",
       "      <th>improvement_surcharge</th>\n",
       "      <th>total_amount</th>\n",
       "      <th>Day</th>\n",
       "      <th>passenger_count</th>\n",
       "    </tr>\n",
       "  </thead>\n",
       "  <tbody>\n",
       "    <tr>\n",
       "      <td>0</td>\n",
       "      <td>1</td>\n",
       "      <td>2015-06-09 00:17:15</td>\n",
       "      <td>2015-06-09 00:17:18</td>\n",
       "      <td>0.00</td>\n",
       "      <td>-73.987358</td>\n",
       "      <td>40.731770</td>\n",
       "      <td>5</td>\n",
       "      <td>N</td>\n",
       "      <td>-73.987350</td>\n",
       "      <td>40.731777</td>\n",
       "      <td>1</td>\n",
       "      <td>20.80</td>\n",
       "      <td>0.0</td>\n",
       "      <td>0.0</td>\n",
       "      <td>1.50</td>\n",
       "      <td>0.0</td>\n",
       "      <td>0.3</td>\n",
       "      <td>22.60</td>\n",
       "      <td>9</td>\n",
       "      <td>0</td>\n",
       "    </tr>\n",
       "    <tr>\n",
       "      <td>1</td>\n",
       "      <td>1</td>\n",
       "      <td>2015-06-09 00:31:34</td>\n",
       "      <td>2015-06-09 00:35:37</td>\n",
       "      <td>0.70</td>\n",
       "      <td>0.000000</td>\n",
       "      <td>0.000000</td>\n",
       "      <td>1</td>\n",
       "      <td>N</td>\n",
       "      <td>0.000000</td>\n",
       "      <td>0.000000</td>\n",
       "      <td>1</td>\n",
       "      <td>5.00</td>\n",
       "      <td>0.5</td>\n",
       "      <td>0.5</td>\n",
       "      <td>1.50</td>\n",
       "      <td>0.0</td>\n",
       "      <td>0.3</td>\n",
       "      <td>7.80</td>\n",
       "      <td>9</td>\n",
       "      <td>0</td>\n",
       "    </tr>\n",
       "    <tr>\n",
       "      <td>2</td>\n",
       "      <td>1</td>\n",
       "      <td>2015-06-09 01:37:51</td>\n",
       "      <td>2015-06-09 01:49:06</td>\n",
       "      <td>2.70</td>\n",
       "      <td>0.000000</td>\n",
       "      <td>0.000000</td>\n",
       "      <td>1</td>\n",
       "      <td>Y</td>\n",
       "      <td>0.000000</td>\n",
       "      <td>0.000000</td>\n",
       "      <td>1</td>\n",
       "      <td>11.00</td>\n",
       "      <td>0.5</td>\n",
       "      <td>0.5</td>\n",
       "      <td>2.45</td>\n",
       "      <td>0.0</td>\n",
       "      <td>0.3</td>\n",
       "      <td>14.75</td>\n",
       "      <td>9</td>\n",
       "      <td>0</td>\n",
       "    </tr>\n",
       "    <tr>\n",
       "      <td>3</td>\n",
       "      <td>2</td>\n",
       "      <td>2015-06-09 01:28:03</td>\n",
       "      <td>2015-06-09 01:42:52</td>\n",
       "      <td>5.42</td>\n",
       "      <td>-73.991493</td>\n",
       "      <td>40.750088</td>\n",
       "      <td>5</td>\n",
       "      <td>N</td>\n",
       "      <td>-74.043991</td>\n",
       "      <td>40.786510</td>\n",
       "      <td>1</td>\n",
       "      <td>40.00</td>\n",
       "      <td>0.0</td>\n",
       "      <td>0.0</td>\n",
       "      <td>4.00</td>\n",
       "      <td>0.0</td>\n",
       "      <td>0.3</td>\n",
       "      <td>44.30</td>\n",
       "      <td>9</td>\n",
       "      <td>0</td>\n",
       "    </tr>\n",
       "    <tr>\n",
       "      <td>4</td>\n",
       "      <td>1</td>\n",
       "      <td>2015-06-09 02:02:50</td>\n",
       "      <td>2015-06-09 02:54:45</td>\n",
       "      <td>17.60</td>\n",
       "      <td>0.000000</td>\n",
       "      <td>0.000000</td>\n",
       "      <td>1</td>\n",
       "      <td>Y</td>\n",
       "      <td>0.000000</td>\n",
       "      <td>0.000000</td>\n",
       "      <td>1</td>\n",
       "      <td>54.00</td>\n",
       "      <td>0.5</td>\n",
       "      <td>0.5</td>\n",
       "      <td>5.00</td>\n",
       "      <td>0.0</td>\n",
       "      <td>0.3</td>\n",
       "      <td>60.30</td>\n",
       "      <td>9</td>\n",
       "      <td>0</td>\n",
       "    </tr>\n",
       "    <tr>\n",
       "      <td>...</td>\n",
       "      <td>...</td>\n",
       "      <td>...</td>\n",
       "      <td>...</td>\n",
       "      <td>...</td>\n",
       "      <td>...</td>\n",
       "      <td>...</td>\n",
       "      <td>...</td>\n",
       "      <td>...</td>\n",
       "      <td>...</td>\n",
       "      <td>...</td>\n",
       "      <td>...</td>\n",
       "      <td>...</td>\n",
       "      <td>...</td>\n",
       "      <td>...</td>\n",
       "      <td>...</td>\n",
       "      <td>...</td>\n",
       "      <td>...</td>\n",
       "      <td>...</td>\n",
       "      <td>...</td>\n",
       "      <td>...</td>\n",
       "    </tr>\n",
       "    <tr>\n",
       "      <td>1549</td>\n",
       "      <td>1</td>\n",
       "      <td>2015-06-24 22:33:24</td>\n",
       "      <td>2015-06-24 22:47:58</td>\n",
       "      <td>4.50</td>\n",
       "      <td>-73.988609</td>\n",
       "      <td>40.751278</td>\n",
       "      <td>5</td>\n",
       "      <td>N</td>\n",
       "      <td>-74.044800</td>\n",
       "      <td>40.743198</td>\n",
       "      <td>1</td>\n",
       "      <td>0.01</td>\n",
       "      <td>0.0</td>\n",
       "      <td>0.0</td>\n",
       "      <td>0.00</td>\n",
       "      <td>0.0</td>\n",
       "      <td>0.3</td>\n",
       "      <td>0.31</td>\n",
       "      <td>24</td>\n",
       "      <td>0</td>\n",
       "    </tr>\n",
       "    <tr>\n",
       "      <td>1550</td>\n",
       "      <td>1</td>\n",
       "      <td>2015-06-24 23:05:43</td>\n",
       "      <td>2015-06-24 23:11:39</td>\n",
       "      <td>1.10</td>\n",
       "      <td>-73.985756</td>\n",
       "      <td>40.756668</td>\n",
       "      <td>1</td>\n",
       "      <td>N</td>\n",
       "      <td>-73.987610</td>\n",
       "      <td>40.744144</td>\n",
       "      <td>2</td>\n",
       "      <td>6.00</td>\n",
       "      <td>0.5</td>\n",
       "      <td>0.5</td>\n",
       "      <td>0.00</td>\n",
       "      <td>0.0</td>\n",
       "      <td>0.3</td>\n",
       "      <td>7.30</td>\n",
       "      <td>24</td>\n",
       "      <td>0</td>\n",
       "    </tr>\n",
       "    <tr>\n",
       "      <td>1551</td>\n",
       "      <td>1</td>\n",
       "      <td>2015-06-24 22:45:52</td>\n",
       "      <td>2015-06-24 23:00:48</td>\n",
       "      <td>0.60</td>\n",
       "      <td>-73.988426</td>\n",
       "      <td>40.756374</td>\n",
       "      <td>1</td>\n",
       "      <td>N</td>\n",
       "      <td>-73.983902</td>\n",
       "      <td>40.759686</td>\n",
       "      <td>2</td>\n",
       "      <td>10.00</td>\n",
       "      <td>0.5</td>\n",
       "      <td>0.5</td>\n",
       "      <td>0.00</td>\n",
       "      <td>0.0</td>\n",
       "      <td>0.3</td>\n",
       "      <td>11.30</td>\n",
       "      <td>24</td>\n",
       "      <td>0</td>\n",
       "    </tr>\n",
       "    <tr>\n",
       "      <td>1552</td>\n",
       "      <td>1</td>\n",
       "      <td>2015-06-24 23:12:40</td>\n",
       "      <td>2015-06-24 23:27:09</td>\n",
       "      <td>3.10</td>\n",
       "      <td>0.000000</td>\n",
       "      <td>0.000000</td>\n",
       "      <td>1</td>\n",
       "      <td>N</td>\n",
       "      <td>-74.007591</td>\n",
       "      <td>40.705975</td>\n",
       "      <td>1</td>\n",
       "      <td>12.50</td>\n",
       "      <td>0.5</td>\n",
       "      <td>0.5</td>\n",
       "      <td>2.75</td>\n",
       "      <td>0.0</td>\n",
       "      <td>0.3</td>\n",
       "      <td>16.55</td>\n",
       "      <td>24</td>\n",
       "      <td>0</td>\n",
       "    </tr>\n",
       "    <tr>\n",
       "      <td>1553</td>\n",
       "      <td>1</td>\n",
       "      <td>2015-06-24 23:20:01</td>\n",
       "      <td>2015-06-24 23:23:55</td>\n",
       "      <td>0.50</td>\n",
       "      <td>-73.994759</td>\n",
       "      <td>40.724960</td>\n",
       "      <td>1</td>\n",
       "      <td>N</td>\n",
       "      <td>-74.002205</td>\n",
       "      <td>40.729496</td>\n",
       "      <td>1</td>\n",
       "      <td>4.50</td>\n",
       "      <td>0.5</td>\n",
       "      <td>0.5</td>\n",
       "      <td>1.00</td>\n",
       "      <td>0.0</td>\n",
       "      <td>0.3</td>\n",
       "      <td>6.80</td>\n",
       "      <td>24</td>\n",
       "      <td>0</td>\n",
       "    </tr>\n",
       "  </tbody>\n",
       "</table>\n",
       "<p>1554 rows × 20 columns</p>\n",
       "</div>"
      ],
      "text/plain": [
       "      VendorID tpep_pickup_datetime tpep_dropoff_datetime  trip_distance  \\\n",
       "0            1  2015-06-09 00:17:15   2015-06-09 00:17:18           0.00   \n",
       "1            1  2015-06-09 00:31:34   2015-06-09 00:35:37           0.70   \n",
       "2            1  2015-06-09 01:37:51   2015-06-09 01:49:06           2.70   \n",
       "3            2  2015-06-09 01:28:03   2015-06-09 01:42:52           5.42   \n",
       "4            1  2015-06-09 02:02:50   2015-06-09 02:54:45          17.60   \n",
       "...        ...                  ...                   ...            ...   \n",
       "1549         1  2015-06-24 22:33:24   2015-06-24 22:47:58           4.50   \n",
       "1550         1  2015-06-24 23:05:43   2015-06-24 23:11:39           1.10   \n",
       "1551         1  2015-06-24 22:45:52   2015-06-24 23:00:48           0.60   \n",
       "1552         1  2015-06-24 23:12:40   2015-06-24 23:27:09           3.10   \n",
       "1553         1  2015-06-24 23:20:01   2015-06-24 23:23:55           0.50   \n",
       "\n",
       "      pickup_longitude  pickup_latitude  RateCodeID store_and_fwd_flag  \\\n",
       "0           -73.987358        40.731770           5                  N   \n",
       "1             0.000000         0.000000           1                  N   \n",
       "2             0.000000         0.000000           1                  Y   \n",
       "3           -73.991493        40.750088           5                  N   \n",
       "4             0.000000         0.000000           1                  Y   \n",
       "...                ...              ...         ...                ...   \n",
       "1549        -73.988609        40.751278           5                  N   \n",
       "1550        -73.985756        40.756668           1                  N   \n",
       "1551        -73.988426        40.756374           1                  N   \n",
       "1552          0.000000         0.000000           1                  N   \n",
       "1553        -73.994759        40.724960           1                  N   \n",
       "\n",
       "      dropoff_longitude  dropoff_latitude  payment_type  fare_amount  extra  \\\n",
       "0            -73.987350         40.731777             1        20.80    0.0   \n",
       "1              0.000000          0.000000             1         5.00    0.5   \n",
       "2              0.000000          0.000000             1        11.00    0.5   \n",
       "3            -74.043991         40.786510             1        40.00    0.0   \n",
       "4              0.000000          0.000000             1        54.00    0.5   \n",
       "...                 ...               ...           ...          ...    ...   \n",
       "1549         -74.044800         40.743198             1         0.01    0.0   \n",
       "1550         -73.987610         40.744144             2         6.00    0.5   \n",
       "1551         -73.983902         40.759686             2        10.00    0.5   \n",
       "1552         -74.007591         40.705975             1        12.50    0.5   \n",
       "1553         -74.002205         40.729496             1         4.50    0.5   \n",
       "\n",
       "      mta_tax  tip_amount  tolls_amount  improvement_surcharge  total_amount  \\\n",
       "0         0.0        1.50           0.0                    0.3         22.60   \n",
       "1         0.5        1.50           0.0                    0.3          7.80   \n",
       "2         0.5        2.45           0.0                    0.3         14.75   \n",
       "3         0.0        4.00           0.0                    0.3         44.30   \n",
       "4         0.5        5.00           0.0                    0.3         60.30   \n",
       "...       ...         ...           ...                    ...           ...   \n",
       "1549      0.0        0.00           0.0                    0.3          0.31   \n",
       "1550      0.5        0.00           0.0                    0.3          7.30   \n",
       "1551      0.5        0.00           0.0                    0.3         11.30   \n",
       "1552      0.5        2.75           0.0                    0.3         16.55   \n",
       "1553      0.5        1.00           0.0                    0.3          6.80   \n",
       "\n",
       "      Day  passenger_count  \n",
       "0       9                0  \n",
       "1       9                0  \n",
       "2       9                0  \n",
       "3       9                0  \n",
       "4       9                0  \n",
       "...   ...              ...  \n",
       "1549   24                0  \n",
       "1550   24                0  \n",
       "1551   24                0  \n",
       "1552   24                0  \n",
       "1553   24                0  \n",
       "\n",
       "[1554 rows x 20 columns]"
      ]
     },
     "execution_count": 15,
     "metadata": {},
     "output_type": "execute_result"
    }
   ],
   "source": [
    "zero_passenger_df"
   ]
  },
  {
   "cell_type": "markdown",
   "metadata": {},
   "source": [
    "2. What's special with trips with more than $6$ passengers?"
   ]
  },
  {
   "cell_type": "code",
   "execution_count": 11,
   "metadata": {
    "ExecuteTime": {
     "end_time": "2020-06-03T01:06:17.300901Z",
     "start_time": "2020-06-03T01:06:17.277013Z"
    }
   },
   "outputs": [
    {
     "data": {
      "text/html": [
       "<div>\n",
       "<style scoped>\n",
       "    .dataframe tbody tr th:only-of-type {\n",
       "        vertical-align: middle;\n",
       "    }\n",
       "\n",
       "    .dataframe tbody tr th {\n",
       "        vertical-align: top;\n",
       "    }\n",
       "\n",
       "    .dataframe thead th {\n",
       "        text-align: right;\n",
       "    }\n",
       "</style>\n",
       "<table border=\"1\" class=\"dataframe\">\n",
       "  <thead>\n",
       "    <tr style=\"text-align: right;\">\n",
       "      <th></th>\n",
       "      <th>VendorID</th>\n",
       "      <th>tpep_pickup_datetime</th>\n",
       "      <th>tpep_dropoff_datetime</th>\n",
       "      <th>trip_distance</th>\n",
       "      <th>pickup_longitude</th>\n",
       "      <th>pickup_latitude</th>\n",
       "      <th>RateCodeID</th>\n",
       "      <th>store_and_fwd_flag</th>\n",
       "      <th>dropoff_longitude</th>\n",
       "      <th>dropoff_latitude</th>\n",
       "      <th>payment_type</th>\n",
       "      <th>fare_amount</th>\n",
       "      <th>extra</th>\n",
       "      <th>mta_tax</th>\n",
       "      <th>tip_amount</th>\n",
       "      <th>tolls_amount</th>\n",
       "      <th>improvement_surcharge</th>\n",
       "      <th>total_amount</th>\n",
       "      <th>Day</th>\n",
       "      <th>passenger_count</th>\n",
       "    </tr>\n",
       "  </thead>\n",
       "  <tbody>\n",
       "    <tr>\n",
       "      <td>0</td>\n",
       "      <td>2</td>\n",
       "      <td>2015-06-07 10:57:37</td>\n",
       "      <td>2015-06-07 10:57:42</td>\n",
       "      <td>0.00</td>\n",
       "      <td>-73.965828</td>\n",
       "      <td>40.795212</td>\n",
       "      <td>5</td>\n",
       "      <td>N</td>\n",
       "      <td>-73.965828</td>\n",
       "      <td>40.795212</td>\n",
       "      <td>2</td>\n",
       "      <td>7.20</td>\n",
       "      <td>0.0</td>\n",
       "      <td>0.5</td>\n",
       "      <td>0.00</td>\n",
       "      <td>0.00</td>\n",
       "      <td>0.3</td>\n",
       "      <td>8.00</td>\n",
       "      <td>7</td>\n",
       "      <td>7</td>\n",
       "    </tr>\n",
       "    <tr>\n",
       "      <td>1</td>\n",
       "      <td>2</td>\n",
       "      <td>2015-06-07 10:57:37</td>\n",
       "      <td>2015-06-07 10:57:42</td>\n",
       "      <td>0.00</td>\n",
       "      <td>-73.965828</td>\n",
       "      <td>40.795212</td>\n",
       "      <td>5</td>\n",
       "      <td>N</td>\n",
       "      <td>-73.965828</td>\n",
       "      <td>40.795212</td>\n",
       "      <td>3</td>\n",
       "      <td>-7.20</td>\n",
       "      <td>0.0</td>\n",
       "      <td>-0.5</td>\n",
       "      <td>0.00</td>\n",
       "      <td>0.00</td>\n",
       "      <td>-0.3</td>\n",
       "      <td>-8.00</td>\n",
       "      <td>7</td>\n",
       "      <td>7</td>\n",
       "    </tr>\n",
       "    <tr>\n",
       "      <td>2</td>\n",
       "      <td>2</td>\n",
       "      <td>2015-06-07 13:49:07</td>\n",
       "      <td>2015-06-07 15:08:06</td>\n",
       "      <td>39.85</td>\n",
       "      <td>-73.871040</td>\n",
       "      <td>40.773750</td>\n",
       "      <td>5</td>\n",
       "      <td>N</td>\n",
       "      <td>-74.047852</td>\n",
       "      <td>40.781754</td>\n",
       "      <td>1</td>\n",
       "      <td>70.00</td>\n",
       "      <td>0.0</td>\n",
       "      <td>0.5</td>\n",
       "      <td>19.97</td>\n",
       "      <td>29.04</td>\n",
       "      <td>0.3</td>\n",
       "      <td>119.81</td>\n",
       "      <td>7</td>\n",
       "      <td>7</td>\n",
       "    </tr>\n",
       "    <tr>\n",
       "      <td>3</td>\n",
       "      <td>2</td>\n",
       "      <td>2015-06-07 23:16:57</td>\n",
       "      <td>2015-06-07 23:16:59</td>\n",
       "      <td>0.00</td>\n",
       "      <td>0.000000</td>\n",
       "      <td>0.000000</td>\n",
       "      <td>5</td>\n",
       "      <td>N</td>\n",
       "      <td>-73.974197</td>\n",
       "      <td>40.778740</td>\n",
       "      <td>1</td>\n",
       "      <td>70.00</td>\n",
       "      <td>0.0</td>\n",
       "      <td>0.5</td>\n",
       "      <td>0.00</td>\n",
       "      <td>0.00</td>\n",
       "      <td>0.3</td>\n",
       "      <td>70.80</td>\n",
       "      <td>7</td>\n",
       "      <td>7</td>\n",
       "    </tr>\n",
       "    <tr>\n",
       "      <td>4</td>\n",
       "      <td>2</td>\n",
       "      <td>2015-06-07 03:27:48</td>\n",
       "      <td>2015-06-07 03:32:31</td>\n",
       "      <td>0.00</td>\n",
       "      <td>-73.996292</td>\n",
       "      <td>40.753616</td>\n",
       "      <td>5</td>\n",
       "      <td>N</td>\n",
       "      <td>-73.996346</td>\n",
       "      <td>40.753643</td>\n",
       "      <td>2</td>\n",
       "      <td>90.00</td>\n",
       "      <td>0.0</td>\n",
       "      <td>0.0</td>\n",
       "      <td>0.00</td>\n",
       "      <td>0.00</td>\n",
       "      <td>0.3</td>\n",
       "      <td>90.30</td>\n",
       "      <td>7</td>\n",
       "      <td>9</td>\n",
       "    </tr>\n",
       "    <tr>\n",
       "      <td>5</td>\n",
       "      <td>2</td>\n",
       "      <td>2015-06-07 03:27:48</td>\n",
       "      <td>2015-06-07 03:32:31</td>\n",
       "      <td>0.00</td>\n",
       "      <td>-73.996292</td>\n",
       "      <td>40.753616</td>\n",
       "      <td>5</td>\n",
       "      <td>N</td>\n",
       "      <td>-73.996346</td>\n",
       "      <td>40.753643</td>\n",
       "      <td>3</td>\n",
       "      <td>-90.00</td>\n",
       "      <td>0.0</td>\n",
       "      <td>0.0</td>\n",
       "      <td>0.00</td>\n",
       "      <td>0.00</td>\n",
       "      <td>-0.3</td>\n",
       "      <td>-90.30</td>\n",
       "      <td>7</td>\n",
       "      <td>9</td>\n",
       "    </tr>\n",
       "    <tr>\n",
       "      <td>6</td>\n",
       "      <td>2</td>\n",
       "      <td>2015-06-03 17:33:24</td>\n",
       "      <td>2015-06-03 17:33:29</td>\n",
       "      <td>0.00</td>\n",
       "      <td>-74.177727</td>\n",
       "      <td>40.690384</td>\n",
       "      <td>5</td>\n",
       "      <td>N</td>\n",
       "      <td>-74.177750</td>\n",
       "      <td>40.690403</td>\n",
       "      <td>1</td>\n",
       "      <td>70.00</td>\n",
       "      <td>0.0</td>\n",
       "      <td>0.0</td>\n",
       "      <td>0.00</td>\n",
       "      <td>0.00</td>\n",
       "      <td>0.3</td>\n",
       "      <td>70.30</td>\n",
       "      <td>3</td>\n",
       "      <td>7</td>\n",
       "    </tr>\n",
       "    <tr>\n",
       "      <td>7</td>\n",
       "      <td>2</td>\n",
       "      <td>2015-06-03 19:53:11</td>\n",
       "      <td>2015-06-03 19:53:15</td>\n",
       "      <td>0.03</td>\n",
       "      <td>0.000000</td>\n",
       "      <td>0.000000</td>\n",
       "      <td>5</td>\n",
       "      <td>N</td>\n",
       "      <td>0.000000</td>\n",
       "      <td>0.000000</td>\n",
       "      <td>2</td>\n",
       "      <td>70.00</td>\n",
       "      <td>0.0</td>\n",
       "      <td>0.0</td>\n",
       "      <td>0.00</td>\n",
       "      <td>0.00</td>\n",
       "      <td>0.3</td>\n",
       "      <td>70.30</td>\n",
       "      <td>3</td>\n",
       "      <td>7</td>\n",
       "    </tr>\n",
       "    <tr>\n",
       "      <td>8</td>\n",
       "      <td>1</td>\n",
       "      <td>2015-06-03 20:49:12</td>\n",
       "      <td>2015-06-03 20:56:50</td>\n",
       "      <td>0.80</td>\n",
       "      <td>-73.977844</td>\n",
       "      <td>40.758900</td>\n",
       "      <td>1</td>\n",
       "      <td>N</td>\n",
       "      <td>-73.988213</td>\n",
       "      <td>40.756008</td>\n",
       "      <td>2</td>\n",
       "      <td>6.00</td>\n",
       "      <td>0.5</td>\n",
       "      <td>0.5</td>\n",
       "      <td>0.00</td>\n",
       "      <td>0.00</td>\n",
       "      <td>0.3</td>\n",
       "      <td>7.30</td>\n",
       "      <td>3</td>\n",
       "      <td>7</td>\n",
       "    </tr>\n",
       "    <tr>\n",
       "      <td>9</td>\n",
       "      <td>2</td>\n",
       "      <td>2015-06-21 04:57:33</td>\n",
       "      <td>2015-06-21 04:57:37</td>\n",
       "      <td>0.00</td>\n",
       "      <td>-73.994164</td>\n",
       "      <td>40.732151</td>\n",
       "      <td>5</td>\n",
       "      <td>N</td>\n",
       "      <td>-73.994164</td>\n",
       "      <td>40.732151</td>\n",
       "      <td>1</td>\n",
       "      <td>7.77</td>\n",
       "      <td>0.0</td>\n",
       "      <td>0.5</td>\n",
       "      <td>0.05</td>\n",
       "      <td>0.00</td>\n",
       "      <td>0.0</td>\n",
       "      <td>8.32</td>\n",
       "      <td>21</td>\n",
       "      <td>8</td>\n",
       "    </tr>\n",
       "  </tbody>\n",
       "</table>\n",
       "</div>"
      ],
      "text/plain": [
       "   VendorID tpep_pickup_datetime tpep_dropoff_datetime  trip_distance  \\\n",
       "0         2  2015-06-07 10:57:37   2015-06-07 10:57:42           0.00   \n",
       "1         2  2015-06-07 10:57:37   2015-06-07 10:57:42           0.00   \n",
       "2         2  2015-06-07 13:49:07   2015-06-07 15:08:06          39.85   \n",
       "3         2  2015-06-07 23:16:57   2015-06-07 23:16:59           0.00   \n",
       "4         2  2015-06-07 03:27:48   2015-06-07 03:32:31           0.00   \n",
       "5         2  2015-06-07 03:27:48   2015-06-07 03:32:31           0.00   \n",
       "6         2  2015-06-03 17:33:24   2015-06-03 17:33:29           0.00   \n",
       "7         2  2015-06-03 19:53:11   2015-06-03 19:53:15           0.03   \n",
       "8         1  2015-06-03 20:49:12   2015-06-03 20:56:50           0.80   \n",
       "9         2  2015-06-21 04:57:33   2015-06-21 04:57:37           0.00   \n",
       "\n",
       "   pickup_longitude  pickup_latitude  RateCodeID store_and_fwd_flag  \\\n",
       "0        -73.965828        40.795212           5                  N   \n",
       "1        -73.965828        40.795212           5                  N   \n",
       "2        -73.871040        40.773750           5                  N   \n",
       "3          0.000000         0.000000           5                  N   \n",
       "4        -73.996292        40.753616           5                  N   \n",
       "5        -73.996292        40.753616           5                  N   \n",
       "6        -74.177727        40.690384           5                  N   \n",
       "7          0.000000         0.000000           5                  N   \n",
       "8        -73.977844        40.758900           1                  N   \n",
       "9        -73.994164        40.732151           5                  N   \n",
       "\n",
       "   dropoff_longitude  dropoff_latitude  payment_type  fare_amount  extra  \\\n",
       "0         -73.965828         40.795212             2         7.20    0.0   \n",
       "1         -73.965828         40.795212             3        -7.20    0.0   \n",
       "2         -74.047852         40.781754             1        70.00    0.0   \n",
       "3         -73.974197         40.778740             1        70.00    0.0   \n",
       "4         -73.996346         40.753643             2        90.00    0.0   \n",
       "5         -73.996346         40.753643             3       -90.00    0.0   \n",
       "6         -74.177750         40.690403             1        70.00    0.0   \n",
       "7           0.000000          0.000000             2        70.00    0.0   \n",
       "8         -73.988213         40.756008             2         6.00    0.5   \n",
       "9         -73.994164         40.732151             1         7.77    0.0   \n",
       "\n",
       "   mta_tax  tip_amount  tolls_amount  improvement_surcharge  total_amount  \\\n",
       "0      0.5        0.00          0.00                    0.3          8.00   \n",
       "1     -0.5        0.00          0.00                   -0.3         -8.00   \n",
       "2      0.5       19.97         29.04                    0.3        119.81   \n",
       "3      0.5        0.00          0.00                    0.3         70.80   \n",
       "4      0.0        0.00          0.00                    0.3         90.30   \n",
       "5      0.0        0.00          0.00                   -0.3        -90.30   \n",
       "6      0.0        0.00          0.00                    0.3         70.30   \n",
       "7      0.0        0.00          0.00                    0.3         70.30   \n",
       "8      0.5        0.00          0.00                    0.3          7.30   \n",
       "9      0.5        0.05          0.00                    0.0          8.32   \n",
       "\n",
       "   Day  passenger_count  \n",
       "0    7                7  \n",
       "1    7                7  \n",
       "2    7                7  \n",
       "3    7                7  \n",
       "4    7                9  \n",
       "5    7                9  \n",
       "6    3                7  \n",
       "7    3                7  \n",
       "8    3                7  \n",
       "9   21                8  "
      ]
     },
     "execution_count": 11,
     "metadata": {},
     "output_type": "execute_result"
    }
   ],
   "source": [
    "plus6_passenger_df.head(10)"
   ]
  },
  {
   "cell_type": "markdown",
   "metadata": {},
   "source": [
    "3. What is the largest distance travelled during this month? Is it the first taxi on the moon?"
   ]
  },
  {
   "cell_type": "code",
   "execution_count": 27,
   "metadata": {
    "ExecuteTime": {
     "end_time": "2020-06-03T10:42:53.502905Z",
     "start_time": "2020-06-03T10:42:50.940640Z"
    }
   },
   "outputs": [
    {
     "name": "stdout",
     "output_type": "stream",
     "text": [
      "Largest distance travelled this month: 10,083,318.0 miles\n",
      "Distance from Earth to the Moon: 238,900 miles\n"
     ]
    }
   ],
   "source": [
    "max_distance = df_coordinates.agg({\"trip_distance\": \"max\"}).collect()[0][0]\n",
    "print(\"Largest distance travelled this month: {:,} miles\".format(max_distance))\n",
    "print(\"Distance from Earth to the Moon: 238,900 miles\")"
   ]
  },
  {
   "cell_type": "markdown",
   "metadata": {},
   "source": [
    "4. Plot the distribution of the `trip_distance` (using an histogram for instance) during year 2015. Focus on trips with non-zero trip distance and trip distance less than 30 miles."
   ]
  },
  {
   "cell_type": "code",
   "execution_count": 161,
   "metadata": {
    "ExecuteTime": {
     "end_time": "2020-06-03T22:07:23.745848Z",
     "start_time": "2020-06-03T22:07:23.728467Z"
    }
   },
   "outputs": [
    {
     "ename": "NameError",
     "evalue": "name 'df_2015_Ju' is not defined",
     "output_type": "error",
     "traceback": [
      "\u001b[0;31m---------------------------------------------------------------------------\u001b[0m",
      "\u001b[0;31mNameError\u001b[0m                                 Traceback (most recent call last)",
      "\u001b[0;32m<ipython-input-161-99c06e58bd3e>\u001b[0m in \u001b[0;36m<module>\u001b[0;34m\u001b[0m\n\u001b[1;32m      1\u001b[0m \u001b[0;31m#distance_travelling = df_2015_Ju.where(\"trip_distance BETWEEN 0 AND 30\") THIS IS DONE WITH SPARK!\u001b[0m\u001b[0;34m\u001b[0m\u001b[0;34m\u001b[0m\u001b[0;34m\u001b[0m\u001b[0m\n\u001b[0;32m----> 2\u001b[0;31m \u001b[0mdistance_travelling\u001b[0m \u001b[0;34m=\u001b[0m \u001b[0mdf_2015_Ju\u001b[0m\u001b[0;34m[\u001b[0m\u001b[0;34m(\u001b[0m\u001b[0mdf_2015_Ju\u001b[0m\u001b[0;34m[\u001b[0m\u001b[0;34m'trip_distance'\u001b[0m\u001b[0;34m]\u001b[0m \u001b[0;34m>\u001b[0m \u001b[0;36m0\u001b[0m\u001b[0;34m)\u001b[0m \u001b[0;34m&\u001b[0m \u001b[0;34m(\u001b[0m\u001b[0mdf_2015_Ju\u001b[0m\u001b[0;34m[\u001b[0m\u001b[0;34m'trip_distance'\u001b[0m\u001b[0;34m]\u001b[0m \u001b[0;34m<\u001b[0m \u001b[0;36m30\u001b[0m\u001b[0;34m)\u001b[0m\u001b[0;34m]\u001b[0m\u001b[0;34m\u001b[0m\u001b[0;34m\u001b[0m\u001b[0m\n\u001b[0m",
      "\u001b[0;31mNameError\u001b[0m: name 'df_2015_Ju' is not defined"
     ]
    }
   ],
   "source": [
    "#distance_travelling = df_2015_Ju.where(\"trip_distance BETWEEN 0 AND 30\") THIS IS DONE WITH SPARK!\n",
    "distance_travelling = df_2015_Ju[(df_2015_Ju['trip_distance'] > 0) & (df_2015_Ju['trip_distance'] < 30)]"
   ]
  },
  {
   "cell_type": "code",
   "execution_count": 10,
   "metadata": {
    "ExecuteTime": {
     "end_time": "2020-06-03T11:50:41.354501Z",
     "start_time": "2020-06-03T11:50:39.102696Z"
    }
   },
   "outputs": [
    {
     "data": {
      "text/html": [
       "<div>\n",
       "<style scoped>\n",
       "    .dataframe tbody tr th:only-of-type {\n",
       "        vertical-align: middle;\n",
       "    }\n",
       "\n",
       "    .dataframe tbody tr th {\n",
       "        vertical-align: top;\n",
       "    }\n",
       "\n",
       "    .dataframe thead th {\n",
       "        text-align: right;\n",
       "    }\n",
       "</style>\n",
       "<table border=\"1\" class=\"dataframe\">\n",
       "  <thead>\n",
       "    <tr style=\"text-align: right;\">\n",
       "      <th></th>\n",
       "      <th>VendorID</th>\n",
       "      <th>tpep_pickup_datetime</th>\n",
       "      <th>tpep_dropoff_datetime</th>\n",
       "      <th>trip_distance</th>\n",
       "      <th>pickup_longitude</th>\n",
       "      <th>pickup_latitude</th>\n",
       "      <th>RateCodeID</th>\n",
       "      <th>store_and_fwd_flag</th>\n",
       "      <th>dropoff_longitude</th>\n",
       "      <th>dropoff_latitude</th>\n",
       "      <th>...</th>\n",
       "      <th>fare_amount</th>\n",
       "      <th>extra</th>\n",
       "      <th>mta_tax</th>\n",
       "      <th>tip_amount</th>\n",
       "      <th>tolls_amount</th>\n",
       "      <th>improvement_surcharge</th>\n",
       "      <th>total_amount</th>\n",
       "      <th>Day</th>\n",
       "      <th>passenger_count</th>\n",
       "      <th>Week_day</th>\n",
       "    </tr>\n",
       "  </thead>\n",
       "  <tbody>\n",
       "    <tr>\n",
       "      <td>0</td>\n",
       "      <td>1</td>\n",
       "      <td>2015-06-01 00:03:42</td>\n",
       "      <td>2015-06-01 00:22:09</td>\n",
       "      <td>7.90</td>\n",
       "      <td>-73.885246</td>\n",
       "      <td>40.773014</td>\n",
       "      <td>1</td>\n",
       "      <td>N</td>\n",
       "      <td>-73.976089</td>\n",
       "      <td>40.741604</td>\n",
       "      <td>...</td>\n",
       "      <td>23.50</td>\n",
       "      <td>0.5</td>\n",
       "      <td>0.5</td>\n",
       "      <td>6.05</td>\n",
       "      <td>5.54</td>\n",
       "      <td>0.3</td>\n",
       "      <td>36.39</td>\n",
       "      <td>1</td>\n",
       "      <td>0</td>\n",
       "      <td>Monday</td>\n",
       "    </tr>\n",
       "    <tr>\n",
       "      <td>1</td>\n",
       "      <td>1</td>\n",
       "      <td>2015-06-01 00:24:34</td>\n",
       "      <td>2015-06-01 00:36:48</td>\n",
       "      <td>3.20</td>\n",
       "      <td>-73.970543</td>\n",
       "      <td>40.762291</td>\n",
       "      <td>1</td>\n",
       "      <td>N</td>\n",
       "      <td>-74.006783</td>\n",
       "      <td>40.744137</td>\n",
       "      <td>...</td>\n",
       "      <td>12.50</td>\n",
       "      <td>0.5</td>\n",
       "      <td>0.5</td>\n",
       "      <td>0.00</td>\n",
       "      <td>0.00</td>\n",
       "      <td>0.3</td>\n",
       "      <td>13.80</td>\n",
       "      <td>1</td>\n",
       "      <td>0</td>\n",
       "      <td>Monday</td>\n",
       "    </tr>\n",
       "    <tr>\n",
       "      <td>2</td>\n",
       "      <td>1</td>\n",
       "      <td>2015-06-01 00:34:27</td>\n",
       "      <td>2015-06-01 00:43:03</td>\n",
       "      <td>2.70</td>\n",
       "      <td>-73.998894</td>\n",
       "      <td>40.727909</td>\n",
       "      <td>1</td>\n",
       "      <td>N</td>\n",
       "      <td>-73.984367</td>\n",
       "      <td>40.759300</td>\n",
       "      <td>...</td>\n",
       "      <td>10.00</td>\n",
       "      <td>0.5</td>\n",
       "      <td>0.5</td>\n",
       "      <td>0.00</td>\n",
       "      <td>0.00</td>\n",
       "      <td>0.3</td>\n",
       "      <td>11.30</td>\n",
       "      <td>1</td>\n",
       "      <td>0</td>\n",
       "      <td>Monday</td>\n",
       "    </tr>\n",
       "    <tr>\n",
       "      <td>5</td>\n",
       "      <td>1</td>\n",
       "      <td>2015-06-01 05:58:29</td>\n",
       "      <td>2015-06-01 06:07:09</td>\n",
       "      <td>4.50</td>\n",
       "      <td>-74.142174</td>\n",
       "      <td>40.713539</td>\n",
       "      <td>5</td>\n",
       "      <td>N</td>\n",
       "      <td>-74.177399</td>\n",
       "      <td>40.695328</td>\n",
       "      <td>...</td>\n",
       "      <td>0.01</td>\n",
       "      <td>0.0</td>\n",
       "      <td>0.0</td>\n",
       "      <td>0.00</td>\n",
       "      <td>0.00</td>\n",
       "      <td>0.3</td>\n",
       "      <td>0.31</td>\n",
       "      <td>1</td>\n",
       "      <td>0</td>\n",
       "      <td>Monday</td>\n",
       "    </tr>\n",
       "    <tr>\n",
       "      <td>6</td>\n",
       "      <td>1</td>\n",
       "      <td>2015-06-01 06:07:21</td>\n",
       "      <td>2015-06-01 06:11:15</td>\n",
       "      <td>1.30</td>\n",
       "      <td>-73.969536</td>\n",
       "      <td>40.766346</td>\n",
       "      <td>1</td>\n",
       "      <td>N</td>\n",
       "      <td>-73.957382</td>\n",
       "      <td>40.782661</td>\n",
       "      <td>...</td>\n",
       "      <td>6.00</td>\n",
       "      <td>0.5</td>\n",
       "      <td>0.5</td>\n",
       "      <td>0.00</td>\n",
       "      <td>0.00</td>\n",
       "      <td>0.3</td>\n",
       "      <td>7.30</td>\n",
       "      <td>1</td>\n",
       "      <td>0</td>\n",
       "      <td>Monday</td>\n",
       "    </tr>\n",
       "    <tr>\n",
       "      <td>...</td>\n",
       "      <td>...</td>\n",
       "      <td>...</td>\n",
       "      <td>...</td>\n",
       "      <td>...</td>\n",
       "      <td>...</td>\n",
       "      <td>...</td>\n",
       "      <td>...</td>\n",
       "      <td>...</td>\n",
       "      <td>...</td>\n",
       "      <td>...</td>\n",
       "      <td>...</td>\n",
       "      <td>...</td>\n",
       "      <td>...</td>\n",
       "      <td>...</td>\n",
       "      <td>...</td>\n",
       "      <td>...</td>\n",
       "      <td>...</td>\n",
       "      <td>...</td>\n",
       "      <td>...</td>\n",
       "      <td>...</td>\n",
       "      <td>...</td>\n",
       "    </tr>\n",
       "    <tr>\n",
       "      <td>12324929</td>\n",
       "      <td>2</td>\n",
       "      <td>2015-06-09 23:59:41</td>\n",
       "      <td>2015-06-10 00:20:42</td>\n",
       "      <td>9.68</td>\n",
       "      <td>-73.982430</td>\n",
       "      <td>40.691875</td>\n",
       "      <td>1</td>\n",
       "      <td>N</td>\n",
       "      <td>-73.844086</td>\n",
       "      <td>40.731636</td>\n",
       "      <td>...</td>\n",
       "      <td>28.00</td>\n",
       "      <td>0.5</td>\n",
       "      <td>0.5</td>\n",
       "      <td>0.00</td>\n",
       "      <td>0.00</td>\n",
       "      <td>0.3</td>\n",
       "      <td>29.30</td>\n",
       "      <td>9</td>\n",
       "      <td>6</td>\n",
       "      <td>Tuesday</td>\n",
       "    </tr>\n",
       "    <tr>\n",
       "      <td>12324930</td>\n",
       "      <td>2</td>\n",
       "      <td>2015-06-09 23:59:44</td>\n",
       "      <td>2015-06-10 00:13:14</td>\n",
       "      <td>3.14</td>\n",
       "      <td>-74.004745</td>\n",
       "      <td>40.748005</td>\n",
       "      <td>1</td>\n",
       "      <td>N</td>\n",
       "      <td>-74.013420</td>\n",
       "      <td>40.709503</td>\n",
       "      <td>...</td>\n",
       "      <td>13.00</td>\n",
       "      <td>0.5</td>\n",
       "      <td>0.5</td>\n",
       "      <td>3.58</td>\n",
       "      <td>0.00</td>\n",
       "      <td>0.3</td>\n",
       "      <td>17.88</td>\n",
       "      <td>9</td>\n",
       "      <td>6</td>\n",
       "      <td>Tuesday</td>\n",
       "    </tr>\n",
       "    <tr>\n",
       "      <td>12324931</td>\n",
       "      <td>2</td>\n",
       "      <td>2015-06-09 23:59:54</td>\n",
       "      <td>2015-06-10 00:04:11</td>\n",
       "      <td>0.74</td>\n",
       "      <td>-73.988922</td>\n",
       "      <td>40.743919</td>\n",
       "      <td>1</td>\n",
       "      <td>N</td>\n",
       "      <td>-73.988174</td>\n",
       "      <td>40.734917</td>\n",
       "      <td>...</td>\n",
       "      <td>5.00</td>\n",
       "      <td>0.5</td>\n",
       "      <td>0.5</td>\n",
       "      <td>1.26</td>\n",
       "      <td>0.00</td>\n",
       "      <td>0.3</td>\n",
       "      <td>7.56</td>\n",
       "      <td>9</td>\n",
       "      <td>6</td>\n",
       "      <td>Tuesday</td>\n",
       "    </tr>\n",
       "    <tr>\n",
       "      <td>12324932</td>\n",
       "      <td>1</td>\n",
       "      <td>2015-06-09 23:59:41</td>\n",
       "      <td>2015-06-10 00:16:41</td>\n",
       "      <td>3.50</td>\n",
       "      <td>-73.991951</td>\n",
       "      <td>40.753578</td>\n",
       "      <td>1</td>\n",
       "      <td>N</td>\n",
       "      <td>-73.950684</td>\n",
       "      <td>40.774994</td>\n",
       "      <td>...</td>\n",
       "      <td>14.50</td>\n",
       "      <td>0.5</td>\n",
       "      <td>0.5</td>\n",
       "      <td>3.15</td>\n",
       "      <td>0.00</td>\n",
       "      <td>0.3</td>\n",
       "      <td>18.95</td>\n",
       "      <td>9</td>\n",
       "      <td>6</td>\n",
       "      <td>Tuesday</td>\n",
       "    </tr>\n",
       "    <tr>\n",
       "      <td>12324933</td>\n",
       "      <td>2</td>\n",
       "      <td>2015-06-09 23:59:43</td>\n",
       "      <td>2015-06-10 00:12:32</td>\n",
       "      <td>3.07</td>\n",
       "      <td>-73.982269</td>\n",
       "      <td>40.775669</td>\n",
       "      <td>1</td>\n",
       "      <td>N</td>\n",
       "      <td>-73.978539</td>\n",
       "      <td>40.741089</td>\n",
       "      <td>...</td>\n",
       "      <td>12.00</td>\n",
       "      <td>0.5</td>\n",
       "      <td>0.5</td>\n",
       "      <td>1.70</td>\n",
       "      <td>0.00</td>\n",
       "      <td>0.3</td>\n",
       "      <td>15.00</td>\n",
       "      <td>9</td>\n",
       "      <td>6</td>\n",
       "      <td>Tuesday</td>\n",
       "    </tr>\n",
       "  </tbody>\n",
       "</table>\n",
       "<p>12244410 rows × 21 columns</p>\n",
       "</div>"
      ],
      "text/plain": [
       "          VendorID tpep_pickup_datetime tpep_dropoff_datetime  trip_distance  \\\n",
       "0                1  2015-06-01 00:03:42   2015-06-01 00:22:09           7.90   \n",
       "1                1  2015-06-01 00:24:34   2015-06-01 00:36:48           3.20   \n",
       "2                1  2015-06-01 00:34:27   2015-06-01 00:43:03           2.70   \n",
       "5                1  2015-06-01 05:58:29   2015-06-01 06:07:09           4.50   \n",
       "6                1  2015-06-01 06:07:21   2015-06-01 06:11:15           1.30   \n",
       "...            ...                  ...                   ...            ...   \n",
       "12324929         2  2015-06-09 23:59:41   2015-06-10 00:20:42           9.68   \n",
       "12324930         2  2015-06-09 23:59:44   2015-06-10 00:13:14           3.14   \n",
       "12324931         2  2015-06-09 23:59:54   2015-06-10 00:04:11           0.74   \n",
       "12324932         1  2015-06-09 23:59:41   2015-06-10 00:16:41           3.50   \n",
       "12324933         2  2015-06-09 23:59:43   2015-06-10 00:12:32           3.07   \n",
       "\n",
       "          pickup_longitude  pickup_latitude  RateCodeID store_and_fwd_flag  \\\n",
       "0               -73.885246        40.773014           1                  N   \n",
       "1               -73.970543        40.762291           1                  N   \n",
       "2               -73.998894        40.727909           1                  N   \n",
       "5               -74.142174        40.713539           5                  N   \n",
       "6               -73.969536        40.766346           1                  N   \n",
       "...                    ...              ...         ...                ...   \n",
       "12324929        -73.982430        40.691875           1                  N   \n",
       "12324930        -74.004745        40.748005           1                  N   \n",
       "12324931        -73.988922        40.743919           1                  N   \n",
       "12324932        -73.991951        40.753578           1                  N   \n",
       "12324933        -73.982269        40.775669           1                  N   \n",
       "\n",
       "          dropoff_longitude  dropoff_latitude  ...  fare_amount  extra  \\\n",
       "0                -73.976089         40.741604  ...        23.50    0.5   \n",
       "1                -74.006783         40.744137  ...        12.50    0.5   \n",
       "2                -73.984367         40.759300  ...        10.00    0.5   \n",
       "5                -74.177399         40.695328  ...         0.01    0.0   \n",
       "6                -73.957382         40.782661  ...         6.00    0.5   \n",
       "...                     ...               ...  ...          ...    ...   \n",
       "12324929         -73.844086         40.731636  ...        28.00    0.5   \n",
       "12324930         -74.013420         40.709503  ...        13.00    0.5   \n",
       "12324931         -73.988174         40.734917  ...         5.00    0.5   \n",
       "12324932         -73.950684         40.774994  ...        14.50    0.5   \n",
       "12324933         -73.978539         40.741089  ...        12.00    0.5   \n",
       "\n",
       "          mta_tax  tip_amount  tolls_amount  improvement_surcharge  \\\n",
       "0             0.5        6.05          5.54                    0.3   \n",
       "1             0.5        0.00          0.00                    0.3   \n",
       "2             0.5        0.00          0.00                    0.3   \n",
       "5             0.0        0.00          0.00                    0.3   \n",
       "6             0.5        0.00          0.00                    0.3   \n",
       "...           ...         ...           ...                    ...   \n",
       "12324929      0.5        0.00          0.00                    0.3   \n",
       "12324930      0.5        3.58          0.00                    0.3   \n",
       "12324931      0.5        1.26          0.00                    0.3   \n",
       "12324932      0.5        3.15          0.00                    0.3   \n",
       "12324933      0.5        1.70          0.00                    0.3   \n",
       "\n",
       "          total_amount  Day passenger_count Week_day  \n",
       "0                36.39    1               0   Monday  \n",
       "1                13.80    1               0   Monday  \n",
       "2                11.30    1               0   Monday  \n",
       "5                 0.31    1               0   Monday  \n",
       "6                 7.30    1               0   Monday  \n",
       "...                ...  ...             ...      ...  \n",
       "12324929         29.30    9               6  Tuesday  \n",
       "12324930         17.88    9               6  Tuesday  \n",
       "12324931          7.56    9               6  Tuesday  \n",
       "12324932         18.95    9               6  Tuesday  \n",
       "12324933         15.00    9               6  Tuesday  \n",
       "\n",
       "[12244410 rows x 21 columns]"
      ]
     },
     "execution_count": 10,
     "metadata": {},
     "output_type": "execute_result"
    }
   ],
   "source": [
    "distance_travelling"
   ]
  },
  {
   "cell_type": "code",
   "execution_count": 17,
   "metadata": {
    "ExecuteTime": {
     "end_time": "2020-06-03T10:41:10.041521Z",
     "start_time": "2020-06-03T10:41:10.025509Z"
    }
   },
   "outputs": [
    {
     "data": {
      "text/plain": [
       "pandas.core.frame.DataFrame"
      ]
     },
     "execution_count": 17,
     "metadata": {},
     "output_type": "execute_result"
    },
    {
     "data": {
      "text/plain": [
       "(12244410, 20)"
      ]
     },
     "execution_count": 17,
     "metadata": {},
     "output_type": "execute_result"
    }
   ],
   "source": [
    "type(distance_travelling)\n",
    "distance_travelling.shape"
   ]
  },
  {
   "cell_type": "code",
   "execution_count": 160,
   "metadata": {
    "ExecuteTime": {
     "end_time": "2020-06-03T22:07:17.927538Z",
     "start_time": "2020-06-03T22:07:17.909662Z"
    }
   },
   "outputs": [
    {
     "ename": "NameError",
     "evalue": "name 'distance_travelling' is not defined",
     "output_type": "error",
     "traceback": [
      "\u001b[0;31m---------------------------------------------------------------------------\u001b[0m",
      "\u001b[0;31mNameError\u001b[0m                                 Traceback (most recent call last)",
      "\u001b[0;32m<ipython-input-160-629491ca47b6>\u001b[0m in \u001b[0;36m<module>\u001b[0;34m\u001b[0m\n\u001b[1;32m      1\u001b[0m \u001b[0mfig\u001b[0m \u001b[0;34m=\u001b[0m \u001b[0mplt\u001b[0m\u001b[0;34m.\u001b[0m\u001b[0mfigure\u001b[0m\u001b[0;34m(\u001b[0m\u001b[0mfigsize\u001b[0m\u001b[0;34m=\u001b[0m\u001b[0;34m(\u001b[0m\u001b[0;36m10\u001b[0m\u001b[0;34m,\u001b[0m\u001b[0;36m5\u001b[0m\u001b[0;34m)\u001b[0m\u001b[0;34m)\u001b[0m\u001b[0;34m\u001b[0m\u001b[0;34m\u001b[0m\u001b[0m\n\u001b[1;32m      2\u001b[0m \u001b[0msns\u001b[0m\u001b[0;34m.\u001b[0m\u001b[0mset\u001b[0m\u001b[0;34m(\u001b[0m\u001b[0;34m)\u001b[0m\u001b[0;34m\u001b[0m\u001b[0;34m\u001b[0m\u001b[0m\n\u001b[0;32m----> 3\u001b[0;31m \u001b[0mg\u001b[0m \u001b[0;34m=\u001b[0m \u001b[0msns\u001b[0m\u001b[0;34m.\u001b[0m\u001b[0mdistplot\u001b[0m\u001b[0;34m(\u001b[0m\u001b[0mdistance_travelling\u001b[0m\u001b[0;34m[\u001b[0m\u001b[0;34m\"trip_distance\"\u001b[0m\u001b[0;34m]\u001b[0m\u001b[0;34m)\u001b[0m\u001b[0;34m\u001b[0m\u001b[0;34m\u001b[0m\u001b[0m\n\u001b[0m\u001b[1;32m      4\u001b[0m \u001b[0;34m\u001b[0m\u001b[0m\n\u001b[1;32m      5\u001b[0m \u001b[0mg\u001b[0m\u001b[0;34m.\u001b[0m\u001b[0mset_title\u001b[0m\u001b[0;34m(\u001b[0m\u001b[0;34m\"Trip distance distribution\"\u001b[0m\u001b[0;34m)\u001b[0m\u001b[0;34m\u001b[0m\u001b[0;34m\u001b[0m\u001b[0m\n",
      "\u001b[0;31mNameError\u001b[0m: name 'distance_travelling' is not defined"
     ]
    },
    {
     "data": {
      "text/plain": [
       "<Figure size 720x360 with 0 Axes>"
      ]
     },
     "metadata": {},
     "output_type": "display_data"
    }
   ],
   "source": [
    "fig = plt.figure(figsize=(10,5))\n",
    "sns.set()\n",
    "g = sns.distplot(distance_travelling[\"trip_distance\"])\n",
    "\n",
    "g.set_title(\"Trip distance distribution\")\n",
    "plt.ylabel(\"Distribution\")\n",
    "plt.xlabel(\"Distance in miles\")\n",
    "plt.show(g)"
   ]
  },
  {
   "cell_type": "markdown",
   "metadata": {},
   "source": [
    "Let's look at what Spark does for these computations\n",
    "\n",
    "1. Use the `explain` method or have a look at the [Spark UI](http://localhost:4040/SQL/) to analyze the job. You should be able to assess \n",
    "    - Parsed Logical Plan\n",
    "    - Analyzed Logical Plan\n",
    "    - Optimized Logical Plan\n",
    "    - Physical Plan\n",
    "1. Do the Analyzed Logical Plan and Optimized Logical Plan differ? Spot the differences if any. How would a RDBMS proceed with such a query?\n",
    "1. How does the physical plan differ from the Optimized Logical Plan? What are the keywords you would not expects in a RDBMS? What is their meaning? \n",
    "1. Inspect the stages on [Spark UI](http://localhost:4040/stages/stage). How many *stages* are necessary to complete the Spark job? What are the roles of `HashAggregate` and `Exchange hashpartitioning`?\n",
    "1. Does the physical plan perform `shuffle` operations? If yes how many?\n",
    "1. What are tasks with respect to stages (in Spark language)? How many tasks are your stages made of?"
   ]
  },
  {
   "cell_type": "markdown",
   "metadata": {
    "nteract": {
     "transient": {
      "deleting": false
     }
    }
   },
   "source": [
    "Now, compute the following and produce relevant plots:\n",
    "\n",
    "1. Break down the trip distance distribution for each day of week"
   ]
  },
  {
   "cell_type": "code",
   "execution_count": 28,
   "metadata": {
    "ExecuteTime": {
     "end_time": "2020-06-03T11:04:09.471100Z",
     "start_time": "2020-06-03T11:04:09.457799Z"
    }
   },
   "outputs": [
    {
     "data": {
      "text/plain": [
       "VendorID                          int32\n",
       "tpep_pickup_datetime     datetime64[ns]\n",
       "tpep_dropoff_datetime    datetime64[ns]\n",
       "trip_distance                   float64\n",
       "pickup_longitude                float64\n",
       "pickup_latitude                 float64\n",
       "RateCodeID                        int32\n",
       "store_and_fwd_flag               object\n",
       "dropoff_longitude               float64\n",
       "dropoff_latitude                float64\n",
       "payment_type                      int32\n",
       "fare_amount                     float64\n",
       "extra                           float64\n",
       "mta_tax                         float64\n",
       "tip_amount                      float64\n",
       "tolls_amount                    float64\n",
       "improvement_surcharge           float64\n",
       "total_amount                    float64\n",
       "Day                            category\n",
       "passenger_count                category\n",
       "dtype: object"
      ]
     },
     "execution_count": 28,
     "metadata": {},
     "output_type": "execute_result"
    }
   ],
   "source": [
    "distance_travelling.dtypes"
   ]
  },
  {
   "cell_type": "code",
   "execution_count": 8,
   "metadata": {
    "ExecuteTime": {
     "end_time": "2020-06-03T11:50:21.040262Z",
     "start_time": "2020-06-03T11:50:18.394467Z"
    }
   },
   "outputs": [
    {
     "data": {
      "text/plain": [
       "0            Monday\n",
       "1            Monday\n",
       "2            Monday\n",
       "5            Monday\n",
       "6            Monday\n",
       "             ...   \n",
       "12324929    Tuesday\n",
       "12324930    Tuesday\n",
       "12324931    Tuesday\n",
       "12324932    Tuesday\n",
       "12324933    Tuesday\n",
       "Name: tpep_pickup_datetime, Length: 12244410, dtype: object"
      ]
     },
     "execution_count": 8,
     "metadata": {},
     "output_type": "execute_result"
    }
   ],
   "source": [
    "week_days = distance_travelling['tpep_pickup_datetime'].dt.weekday_name\n",
    "week_days"
   ]
  },
  {
   "cell_type": "code",
   "execution_count": 11,
   "metadata": {
    "ExecuteTime": {
     "end_time": "2020-06-03T11:51:15.827677Z",
     "start_time": "2020-06-03T11:51:15.041530Z"
    }
   },
   "outputs": [],
   "source": [
    "distance_travelling.loc[:,'Week_day'] = week_days.values"
   ]
  },
  {
   "cell_type": "code",
   "execution_count": 12,
   "metadata": {
    "ExecuteTime": {
     "end_time": "2020-06-03T11:51:26.690375Z",
     "start_time": "2020-06-03T11:51:26.683207Z"
    }
   },
   "outputs": [
    {
     "data": {
      "text/plain": [
       "VendorID                          int32\n",
       "tpep_pickup_datetime     datetime64[ns]\n",
       "tpep_dropoff_datetime    datetime64[ns]\n",
       "trip_distance                   float64\n",
       "pickup_longitude                float64\n",
       "pickup_latitude                 float64\n",
       "RateCodeID                        int32\n",
       "store_and_fwd_flag               object\n",
       "dropoff_longitude               float64\n",
       "dropoff_latitude                float64\n",
       "payment_type                      int32\n",
       "fare_amount                     float64\n",
       "extra                           float64\n",
       "mta_tax                         float64\n",
       "tip_amount                      float64\n",
       "tolls_amount                    float64\n",
       "improvement_surcharge           float64\n",
       "total_amount                    float64\n",
       "Day                            category\n",
       "passenger_count                category\n",
       "Week_day                         object\n",
       "dtype: object"
      ]
     },
     "execution_count": 12,
     "metadata": {},
     "output_type": "execute_result"
    }
   ],
   "source": [
    "distance_travelling.dtypes"
   ]
  },
  {
   "cell_type": "code",
   "execution_count": 16,
   "metadata": {
    "ExecuteTime": {
     "end_time": "2020-06-03T11:54:30.971648Z",
     "start_time": "2020-06-03T11:54:22.738432Z"
    }
   },
   "outputs": [],
   "source": [
    "mon = distance_travelling[distance_travelling[\"Week_day\"] == \"Monday\"][\"trip_distance\"]\n",
    "tues = distance_travelling[distance_travelling[\"Week_day\"] == \"Tuesday\"][\"trip_distance\"]\n",
    "wedn = distance_travelling[distance_travelling[\"Week_day\"] == \"Wednesday\"][\"trip_distance\"]\n",
    "thur = distance_travelling[distance_travelling[\"Week_day\"] == \"Thursday\"][\"trip_distance\"]\n",
    "fri = distance_travelling[distance_travelling[\"Week_day\"] == \"Friday\"][\"trip_distance\"]\n",
    "sat = distance_travelling[distance_travelling[\"Week_day\"] == \"Saturday\"][\"trip_distance\"]\n",
    "sun = distance_travelling[distance_travelling[\"Week_day\"] == \"Sunday\"][\"trip_distance\"]"
   ]
  },
  {
   "cell_type": "code",
   "execution_count": 48,
   "metadata": {
    "ExecuteTime": {
     "end_time": "2020-06-03T12:58:37.390865Z",
     "start_time": "2020-06-03T12:58:35.875532Z"
    }
   },
   "outputs": [
    {
     "data": {
      "text/plain": [
       "Text(0, 0.5, 'Distribution')"
      ]
     },
     "execution_count": 48,
     "metadata": {},
     "output_type": "execute_result"
    },
    {
     "data": {
      "text/plain": [
       "Text(0.5, 0, 'Distance in miles')"
      ]
     },
     "execution_count": 48,
     "metadata": {},
     "output_type": "execute_result"
    },
    {
     "data": {
      "text/plain": [
       "Text(0.5, 1.0, 'Monday trip distance')"
      ]
     },
     "execution_count": 48,
     "metadata": {},
     "output_type": "execute_result"
    },
    {
     "data": {
      "text/plain": [
       "Text(0.5, 1.0, 'Tuesday trip distance')"
      ]
     },
     "execution_count": 48,
     "metadata": {},
     "output_type": "execute_result"
    },
    {
     "data": {
      "image/png": "[encoded data removed]",
      "text/plain": [
       "<Figure size 1080x720 with 2 Axes>"
      ]
     },
     "metadata": {},
     "output_type": "display_data"
    }
   ],
   "source": [
    "fig, axes = plt.subplots(1, 2,figsize=(15, 10), sharey=True)\n",
    "sns.set()\n",
    "plt.ylabel(\"Distribution\")\n",
    "plt.xlabel(\"Distance in miles\")\n",
    "sns.distplot(mon, ax=axes[0]).set_title(\"Monday trip distance\")\n",
    "sns.distplot(tues, ax=axes[1]).set_title(\"Tuesday trip distance\")\n",
    "#sns.distplot(wedn, ax=axes[0, 2]).set_title(\"Wednesday trip distance\")\n",
    "#sns.distplot(thur, ax=axes[1, 0]).set_title(\"Thursday trip distance\")\n",
    "#sns.distplot(fri, ax=axes[1, 1]).set_title(\"Friday trip distance\")\n",
    "#sns.distplot(sat, ax=axes[1, 2]).set_title(\"Saturday trip distance\")\n",
    "#sns.distplot(sun, ax=axes[2, 0]).set_title(\"Sunday trip distance\")\n",
    "\n",
    "fig.subplots_adjust(left=0.08, right=0.98, bottom=0.05, top=0.9, hspace=0.4, wspace=0.3)\n"
   ]
  },
  {
   "cell_type": "code",
   "execution_count": 58,
   "metadata": {
    "ExecuteTime": {
     "end_time": "2020-06-03T11:42:44.476774Z",
     "start_time": "2020-06-03T11:42:43.703496Z"
    }
   },
   "outputs": [
    {
     "data": {
      "text/plain": [
       "Text(0.5, 1.0, 'Trip distance distribution for Monday')"
      ]
     },
     "execution_count": 58,
     "metadata": {},
     "output_type": "execute_result"
    },
    {
     "data": {
      "text/plain": [
       "Text(0, 0.5, 'Distribution')"
      ]
     },
     "execution_count": 58,
     "metadata": {},
     "output_type": "execute_result"
    },
    {
     "data": {
      "text/plain": [
       "Text(0.5, 0, 'Distance in miles')"
      ]
     },
     "execution_count": 58,
     "metadata": {},
     "output_type": "execute_result"
    },
    {
     "data": {
      "image/png": "[encoded data removed]",
      "text/plain": [
       "<Figure size 1080x720 with 1 Axes>"
      ]
     },
     "metadata": {},
     "output_type": "display_data"
    }
   ],
   "source": [
    "fig = plt.figure(figsize=(15,10))\n",
    "sns.set()\n",
    "g = sns.distplot(mon[\"trip_distance\"])\n",
    "\n",
    "g.set_title(\"Trip distance distribution for Monday\")\n",
    "plt.ylabel(\"Distribution\")\n",
    "plt.xlabel(\"Distance in miles\")\n",
    "plt.show(g)"
   ]
  },
  {
   "cell_type": "code",
   "execution_count": 49,
   "metadata": {
    "ExecuteTime": {
     "end_time": "2020-06-03T12:59:13.816787Z",
     "start_time": "2020-06-03T12:59:13.041783Z"
    }
   },
   "outputs": [
    {
     "data": {
      "text/plain": [
       "Text(0.5, 1.0, 'Trip distance distribution for Monday')"
      ]
     },
     "execution_count": 49,
     "metadata": {},
     "output_type": "execute_result"
    },
    {
     "data": {
      "text/plain": [
       "Text(0, 0.5, 'Distribution')"
      ]
     },
     "execution_count": 49,
     "metadata": {},
     "output_type": "execute_result"
    },
    {
     "data": {
      "text/plain": [
       "Text(0.5, 0, 'Distance in miles')"
      ]
     },
     "execution_count": 49,
     "metadata": {},
     "output_type": "execute_result"
    },
    {
     "data": {
      "image/png": "[encoded data removed]",
      "text/plain": [
       "<Figure size 1080x720 with 1 Axes>"
      ]
     },
     "metadata": {},
     "output_type": "display_data"
    }
   ],
   "source": [
    "fig = plt.figure(figsize=(15,10))\n",
    "sns.set()\n",
    "g = sns.distplot(tues)\n",
    "\n",
    "g.set_title(\"Trip distance distribution for Monday\")\n",
    "plt.ylabel(\"Distribution\")\n",
    "plt.xlabel(\"Distance in miles\")\n",
    "plt.show(g)"
   ]
  },
  {
   "cell_type": "markdown",
   "metadata": {},
   "source": [
    "2. Count the number of distinct pickup location"
   ]
  },
  {
   "cell_type": "code",
   "execution_count": 37,
   "metadata": {
    "ExecuteTime": {
     "end_time": "2020-06-03T12:06:54.166241Z",
     "start_time": "2020-06-03T12:06:47.251791Z"
    }
   },
   "outputs": [
    {
     "data": {
      "text/plain": [
       "9204026"
      ]
     },
     "execution_count": 37,
     "metadata": {},
     "output_type": "execute_result"
    }
   ],
   "source": [
    "df_coordinates.select(\"pickup_longitude\", \"pickup_latitude\").distinct().count()"
   ]
  },
  {
   "cell_type": "markdown",
   "metadata": {},
   "source": [
    "3. Compute and display tips and profits as a function of the pickup location"
   ]
  },
  {
   "cell_type": "code",
   "execution_count": null,
   "metadata": {},
   "outputs": [],
   "source": []
  },
  {
   "cell_type": "markdown",
   "metadata": {
    "nteract": {
     "transient": {
      "deleting": false
     }
    }
   },
   "source": [
    "# Investigate one month of trips data in 2015 and 2018\n",
    "\n",
    " Consider one month of trips data from `yellow` taxis for each year\n",
    "\n",
    "1. Filter and cache/persist the result"
   ]
  },
  {
   "cell_type": "code",
   "execution_count": 23,
   "metadata": {
    "ExecuteTime": {
     "end_time": "2020-06-03T17:57:01.090984Z",
     "start_time": "2020-06-03T17:57:01.086428Z"
    }
   },
   "outputs": [],
   "source": [
    "import plotly.express as px\n",
    "\n",
    "import plotly.graph_objs as go"
   ]
  },
  {
   "cell_type": "code",
   "execution_count": 10,
   "metadata": {
    "ExecuteTime": {
     "end_time": "2020-06-03T17:24:13.165348Z",
     "start_time": "2020-06-03T17:24:12.971904Z"
    }
   },
   "outputs": [],
   "source": [
    "df_2015_06 = spark.read.parquet(\"parquets/yellow_tripdata_2015.parquet/Month=6\").cache()"
   ]
  },
  {
   "cell_type": "markdown",
   "metadata": {},
   "source": [
    "## Assessing seasonalities and looking at time series\n",
    "\n",
    "Compute and plot the following time series indexed by day of the week and hour of day:\n",
    "\n",
    "1. The number of pickups"
   ]
  },
  {
   "cell_type": "code",
   "execution_count": 107,
   "metadata": {
    "ExecuteTime": {
     "end_time": "2020-06-03T21:16:02.030624Z",
     "start_time": "2020-06-03T21:16:02.013557Z"
    }
   },
   "outputs": [
    {
     "data": {
      "text/plain": [
       "DataFrame[VendorID: int, tpep_pickup_datetime: timestamp, tpep_dropoff_datetime: timestamp, trip_distance: double, pickup_longitude: double, pickup_latitude: double, RateCodeID: int, store_and_fwd_flag: string, dropoff_longitude: double, dropoff_latitude: double, payment_type: int, fare_amount: double, extra: double, mta_tax: double, tip_amount: double, tolls_amount: double, improvement_surcharge: double, total_amount: double, Day: int, passenger_count: int, Week_day: string, Hour: int]"
      ]
     },
     "execution_count": 107,
     "metadata": {},
     "output_type": "execute_result"
    }
   ],
   "source": [
    "df_2015_06\n",
    "\n",
    "\n",
    "df_2015_06 = df_2015_06.withColumn(\"week_day\", fn.date_format(\"tpep_pickup_datetime\", \"EEEE\")).withColumn(\"Hour\", fn.hour(\"tpep_pickup_datetime\"))"
   ]
  },
  {
   "cell_type": "code",
   "execution_count": 96,
   "metadata": {
    "ExecuteTime": {
     "end_time": "2020-06-03T21:14:01.472449Z",
     "start_time": "2020-06-03T21:14:01.358608Z"
    }
   },
   "outputs": [
    {
     "name": "stdout",
     "output_type": "stream",
     "text": [
      "+--------+---------------+--------------------+--------+----+\n",
      "|VendorID|passenger_count|tpep_pickup_datetime|Week_day|Hour|\n",
      "+--------+---------------+--------------------+--------+----+\n",
      "|       2|              1| 2015-06-05 12:53:54|  Friday|  12|\n",
      "|       1|              1| 2015-06-05 00:00:00|  Friday|   0|\n",
      "|       2|              1| 2015-06-05 12:53:55|  Friday|  12|\n",
      "|       1|              1| 2015-06-05 00:00:01|  Friday|   0|\n",
      "|       1|              1| 2015-06-05 12:53:56|  Friday|  12|\n",
      "|       2|              1| 2015-06-05 00:00:02|  Friday|   0|\n",
      "|       2|              1| 2015-06-05 12:53:57|  Friday|  12|\n",
      "|       1|              1| 2015-06-05 00:00:03|  Friday|   0|\n",
      "|       1|              1| 2015-06-05 12:53:57|  Friday|  12|\n",
      "|       1|              1| 2015-06-05 00:00:05|  Friday|   0|\n",
      "|       1|              1| 2015-06-05 12:53:59|  Friday|  12|\n",
      "|       1|              1| 2015-06-05 00:00:06|  Friday|   0|\n",
      "|       2|              1| 2015-06-05 12:53:59|  Friday|  12|\n",
      "|       2|              1| 2015-06-05 00:00:03|  Friday|   0|\n",
      "|       2|              1| 2015-06-05 12:54:00|  Friday|  12|\n",
      "|       2|              1| 2015-06-05 00:00:06|  Friday|   0|\n",
      "|       1|              1| 2015-06-05 12:54:01|  Friday|  12|\n",
      "|       2|              1| 2015-06-05 00:00:07|  Friday|   0|\n",
      "|       2|              1| 2015-06-05 12:54:01|  Friday|  12|\n",
      "|       1|              1| 2015-06-05 00:00:08|  Friday|   0|\n",
      "+--------+---------------+--------------------+--------+----+\n",
      "only showing top 20 rows\n",
      "\n"
     ]
    }
   ],
   "source": [
    "df_2015_06.select(\"VendorID\", \"passenger_count\",\"tpep_pickup_datetime\", \"week_day\",\"Hour\").show()"
   ]
  },
  {
   "cell_type": "code",
   "execution_count": 109,
   "metadata": {
    "ExecuteTime": {
     "end_time": "2020-06-03T21:16:07.755483Z",
     "start_time": "2020-06-03T21:16:07.747344Z"
    }
   },
   "outputs": [],
   "source": [
    "number_pickups_weekday_hour = df_2015_06.groupby(\"week_day\", \"Hour\").count()"
   ]
  },
  {
   "cell_type": "code",
   "execution_count": 113,
   "metadata": {
    "ExecuteTime": {
     "end_time": "2020-06-03T21:16:59.278862Z",
     "start_time": "2020-06-03T21:16:59.145588Z"
    }
   },
   "outputs": [
    {
     "data": {
      "text/html": [
       "<div>\n",
       "<style scoped>\n",
       "    .dataframe tbody tr th:only-of-type {\n",
       "        vertical-align: middle;\n",
       "    }\n",
       "\n",
       "    .dataframe tbody tr th {\n",
       "        vertical-align: top;\n",
       "    }\n",
       "\n",
       "    .dataframe thead th {\n",
       "        text-align: right;\n",
       "    }\n",
       "</style>\n",
       "<table border=\"1\" class=\"dataframe\">\n",
       "  <thead>\n",
       "    <tr style=\"text-align: right;\">\n",
       "      <th></th>\n",
       "      <th>week_day</th>\n",
       "      <th>Hour</th>\n",
       "      <th>count</th>\n",
       "    </tr>\n",
       "  </thead>\n",
       "  <tbody>\n",
       "    <tr>\n",
       "      <td>0</td>\n",
       "      <td>Thursday</td>\n",
       "      <td>7</td>\n",
       "      <td>78789</td>\n",
       "    </tr>\n",
       "    <tr>\n",
       "      <td>1</td>\n",
       "      <td>Sunday</td>\n",
       "      <td>1</td>\n",
       "      <td>86386</td>\n",
       "    </tr>\n",
       "    <tr>\n",
       "      <td>2</td>\n",
       "      <td>Sunday</td>\n",
       "      <td>19</td>\n",
       "      <td>75124</td>\n",
       "    </tr>\n",
       "    <tr>\n",
       "      <td>3</td>\n",
       "      <td>Monday</td>\n",
       "      <td>8</td>\n",
       "      <td>104469</td>\n",
       "    </tr>\n",
       "    <tr>\n",
       "      <td>4</td>\n",
       "      <td>Wednesday</td>\n",
       "      <td>6</td>\n",
       "      <td>45923</td>\n",
       "    </tr>\n",
       "    <tr>\n",
       "      <td>...</td>\n",
       "      <td>...</td>\n",
       "      <td>...</td>\n",
       "      <td>...</td>\n",
       "    </tr>\n",
       "    <tr>\n",
       "      <td>163</td>\n",
       "      <td>Saturday</td>\n",
       "      <td>2</td>\n",
       "      <td>70581</td>\n",
       "    </tr>\n",
       "    <tr>\n",
       "      <td>164</td>\n",
       "      <td>Saturday</td>\n",
       "      <td>21</td>\n",
       "      <td>91191</td>\n",
       "    </tr>\n",
       "    <tr>\n",
       "      <td>165</td>\n",
       "      <td>Sunday</td>\n",
       "      <td>21</td>\n",
       "      <td>75243</td>\n",
       "    </tr>\n",
       "    <tr>\n",
       "      <td>166</td>\n",
       "      <td>Tuesday</td>\n",
       "      <td>8</td>\n",
       "      <td>113831</td>\n",
       "    </tr>\n",
       "    <tr>\n",
       "      <td>167</td>\n",
       "      <td>Sunday</td>\n",
       "      <td>13</td>\n",
       "      <td>77084</td>\n",
       "    </tr>\n",
       "  </tbody>\n",
       "</table>\n",
       "<p>168 rows × 3 columns</p>\n",
       "</div>"
      ],
      "text/plain": [
       "      week_day  Hour   count\n",
       "0     Thursday     7   78789\n",
       "1       Sunday     1   86386\n",
       "2       Sunday    19   75124\n",
       "3       Monday     8  104469\n",
       "4    Wednesday     6   45923\n",
       "..         ...   ...     ...\n",
       "163   Saturday     2   70581\n",
       "164   Saturday    21   91191\n",
       "165     Sunday    21   75243\n",
       "166    Tuesday     8  113831\n",
       "167     Sunday    13   77084\n",
       "\n",
       "[168 rows x 3 columns]"
      ]
     },
     "execution_count": 113,
     "metadata": {},
     "output_type": "execute_result"
    }
   ],
   "source": [
    "pickups_df = number_pickups_weekday_hour.toPandas()\n",
    "pickups_df"
   ]
  },
  {
   "cell_type": "code",
   "execution_count": 115,
   "metadata": {
    "ExecuteTime": {
     "end_time": "2020-06-03T21:17:15.568468Z",
     "start_time": "2020-06-03T21:17:15.559451Z"
    }
   },
   "outputs": [],
   "source": [
    "import calendar\n",
    "\n",
    "pickups_df[\"week_day\"] = pd.Categorical(pickups_df.week_day, categories=calendar.day_name[0:], ordered=True)\n",
    "pickups_df = pickups_df.sort_values([\"week_day\",\"Hour\"])"
   ]
  },
  {
   "cell_type": "code",
   "execution_count": 117,
   "metadata": {
    "ExecuteTime": {
     "end_time": "2020-06-03T21:17:21.007776Z",
     "start_time": "2020-06-03T21:17:20.927223Z"
    }
   },
   "outputs": [
    {
     "data": {
      "application/vnd.plotly.v1+json": {
       "config": {
        "plotlyServerURL": "https://plot.ly"
       },
       "data": [
        {
         "hovertemplate": "week_day=Monday<br>Hour=%{x}<br>count=%{y}<extra></extra>",
         "legendgroup": "Monday",
         "line": {
          "color": "#636efa",
          "dash": "solid"
         },
         "mode": "lines",
         "name": "Monday",
         "orientation": "v",
         "showlegend": true,
         "type": "scatter",
         "x": [
          0,
          1,
          2,
          3,
          4,
          5,
          6,
          7,
          8,
          9,
          10,
          11,
          12,
          13,
          14,
          15,
          16,
          17,
          18,
          19,
          20,
          21,
          22,
          23
         ],
         "xaxis": "x",
         "y": [
          49003,
          31439,
          20289,
          13271,
          14163,
          23089,
          56725,
          88768,
          104469,
          99254,
          90740,
          90837,
          92567,
          91676,
          100203,
          93780,
          83864,
          99619,
          121153,
          122172,
          111814,
          118341,
          104909,
          79290
         ],
         "yaxis": "y"
        },
        {
         "hovertemplate": "week_day=Tuesday<br>Hour=%{x}<br>count=%{y}<extra></extra>",
         "legendgroup": "Tuesday",
         "line": {
          "color": "#EF553B",
          "dash": "solid"
         },
         "mode": "lines",
         "name": "Tuesday",
         "orientation": "v",
         "showlegend": true,
         "type": "scatter",
         "x": [
          0,
          1,
          2,
          3,
          4,
          5,
          6,
          7,
          8,
          9,
          10,
          11,
          12,
          13,
          14,
          15,
          16,
          17,
          18,
          19,
          20,
          21,
          22,
          23
         ],
         "xaxis": "x",
         "y": [
          51050,
          31262,
          18777,
          11848,
          11760,
          20974,
          56943,
          94672,
          113831,
          108406,
          97244,
          96826,
          100338,
          101270,
          105082,
          95881,
          80519,
          101582,
          122511,
          128430,
          120721,
          128311,
          118441,
          93400
         ],
         "yaxis": "y"
        },
        {
         "hovertemplate": "week_day=Wednesday<br>Hour=%{x}<br>count=%{y}<extra></extra>",
         "legendgroup": "Wednesday",
         "line": {
          "color": "#00cc96",
          "dash": "solid"
         },
         "mode": "lines",
         "name": "Wednesday",
         "orientation": "v",
         "showlegend": true,
         "type": "scatter",
         "x": [
          0,
          1,
          2,
          3,
          4,
          5,
          6,
          7,
          8,
          9,
          10,
          11,
          12,
          13,
          14,
          15,
          16,
          17,
          18,
          19,
          20,
          21,
          22,
          23
         ],
         "xaxis": "x",
         "y": [
          55074,
          30751,
          18619,
          12278,
          11387,
          17386,
          45923,
          78856,
          93774,
          86471,
          78427,
          80611,
          82471,
          81006,
          82660,
          75987,
          63717,
          79153,
          99627,
          108760,
          103672,
          109958,
          103946,
          86731
         ],
         "yaxis": "y"
        },
        {
         "hovertemplate": "week_day=Thursday<br>Hour=%{x}<br>count=%{y}<extra></extra>",
         "legendgroup": "Thursday",
         "line": {
          "color": "#ab63fa",
          "dash": "solid"
         },
         "mode": "lines",
         "name": "Thursday",
         "orientation": "v",
         "showlegend": true,
         "type": "scatter",
         "x": [
          0,
          1,
          2,
          3,
          4,
          5,
          6,
          7,
          8,
          9,
          10,
          11,
          12,
          13,
          14,
          15,
          16,
          17,
          18,
          19,
          20,
          21,
          22,
          23
         ],
         "xaxis": "x",
         "y": [
          60268,
          35659,
          22027,
          14633,
          12833,
          18317,
          45982,
          78789,
          93541,
          89186,
          80947,
          81162,
          83059,
          82631,
          85229,
          77242,
          62951,
          79145,
          101378,
          109715,
          104657,
          110763,
          106292,
          97131
         ],
         "yaxis": "y"
        },
        {
         "hovertemplate": "week_day=Friday<br>Hour=%{x}<br>count=%{y}<extra></extra>",
         "legendgroup": "Friday",
         "line": {
          "color": "#FFA15A",
          "dash": "solid"
         },
         "mode": "lines",
         "name": "Friday",
         "orientation": "v",
         "showlegend": true,
         "type": "scatter",
         "x": [
          0,
          1,
          2,
          3,
          4,
          5,
          6,
          7,
          8,
          9,
          10,
          11,
          12,
          13,
          14,
          15,
          16,
          17,
          18,
          19,
          20,
          21,
          22,
          23
         ],
         "xaxis": "x",
         "y": [
          79200,
          51206,
          32982,
          21932,
          17602,
          19588,
          44261,
          73118,
          89976,
          85023,
          80276,
          81437,
          81209,
          78321,
          81542,
          73947,
          62454,
          79939,
          102284,
          108942,
          97710,
          101498,
          106565,
          105276
         ],
         "yaxis": "y"
        },
        {
         "hovertemplate": "week_day=Saturday<br>Hour=%{x}<br>count=%{y}<extra></extra>",
         "legendgroup": "Saturday",
         "line": {
          "color": "#19d3f3",
          "dash": "solid"
         },
         "mode": "lines",
         "name": "Saturday",
         "orientation": "v",
         "showlegend": true,
         "type": "scatter",
         "x": [
          0,
          1,
          2,
          3,
          4,
          5,
          6,
          7,
          8,
          9,
          10,
          11,
          12,
          13,
          14,
          15,
          16,
          17,
          18,
          19,
          20,
          21,
          22,
          23
         ],
         "xaxis": "x",
         "y": [
          100836,
          86982,
          70581,
          52760,
          34577,
          17964,
          20897,
          30893,
          42622,
          59369,
          70576,
          78737,
          85136,
          84702,
          83388,
          83367,
          75171,
          84283,
          95871,
          101238,
          85081,
          91191,
          98496,
          102817
         ],
         "yaxis": "y"
        },
        {
         "hovertemplate": "week_day=Sunday<br>Hour=%{x}<br>count=%{y}<extra></extra>",
         "legendgroup": "Sunday",
         "line": {
          "color": "#FF6692",
          "dash": "solid"
         },
         "mode": "lines",
         "name": "Sunday",
         "orientation": "v",
         "showlegend": true,
         "type": "scatter",
         "x": [
          0,
          1,
          2,
          3,
          4,
          5,
          6,
          7,
          8,
          9,
          10,
          11,
          12,
          13,
          14,
          15,
          16,
          17,
          18,
          19,
          20,
          21,
          22,
          23
         ],
         "xaxis": "x",
         "y": [
          96168,
          86386,
          71433,
          53948,
          34875,
          16492,
          16775,
          22455,
          32514,
          46857,
          64165,
          72517,
          77480,
          77084,
          76999,
          72928,
          69081,
          74638,
          79332,
          75124,
          69451,
          75243,
          73526,
          63345
         ],
         "yaxis": "y"
        }
       ],
       "layout": {
        "legend": {
         "title": {
          "text": "week_day"
         },
         "tracegroupgap": 0
        },
        "margin": {
         "t": 60
        },
        "template": {
         "data": {
          "bar": [
           {
            "error_x": {
             "color": "#2a3f5f"
            },
            "error_y": {
             "color": "#2a3f5f"
            },
            "marker": {
             "line": {
              "color": "#E5ECF6",
              "width": 0.5
             }
            },
            "type": "bar"
           }
          ],
          "barpolar": [
           {
            "marker": {
             "line": {
              "color": "#E5ECF6",
              "width": 0.5
             }
            },
            "type": "barpolar"
           }
          ],
          "carpet": [
           {
            "aaxis": {
             "endlinecolor": "#2a3f5f",
             "gridcolor": "white",
             "linecolor": "white",
             "minorgridcolor": "white",
             "startlinecolor": "#2a3f5f"
            },
            "baxis": {
             "endlinecolor": "#2a3f5f",
             "gridcolor": "white",
             "linecolor": "white",
             "minorgridcolor": "white",
             "startlinecolor": "#2a3f5f"
            },
            "type": "carpet"
           }
          ],
          "choropleth": [
           {
            "colorbar": {
             "outlinewidth": 0,
             "ticks": ""
            },
            "type": "choropleth"
           }
          ],
          "contour": [
           {
            "colorbar": {
             "outlinewidth": 0,
             "ticks": ""
            },
            "colorscale": [
             [
              0,
              "#0d0887"
             ],
             [
              0.1111111111111111,
              "#46039f"
             ],
             [
              0.2222222222222222,
              "#7201a8"
             ],
             [
              0.3333333333333333,
              "#9c179e"
             ],
             [
              0.4444444444444444,
              "#bd3786"
             ],
             [
              0.5555555555555556,
              "#d8576b"
             ],
             [
              0.6666666666666666,
              "#ed7953"
             ],
             [
              0.7777777777777778,
              "#fb9f3a"
             ],
             [
              0.8888888888888888,
              "#fdca26"
             ],
             [
              1,
              "#f0f921"
             ]
            ],
            "type": "contour"
           }
          ],
          "contourcarpet": [
           {
            "colorbar": {
             "outlinewidth": 0,
             "ticks": ""
            },
            "type": "contourcarpet"
           }
          ],
          "heatmap": [
           {
            "colorbar": {
             "outlinewidth": 0,
             "ticks": ""
            },
            "colorscale": [
             [
              0,
              "#0d0887"
             ],
             [
              0.1111111111111111,
              "#46039f"
             ],
             [
              0.2222222222222222,
              "#7201a8"
             ],
             [
              0.3333333333333333,
              "#9c179e"
             ],
             [
              0.4444444444444444,
              "#bd3786"
             ],
             [
              0.5555555555555556,
              "#d8576b"
             ],
             [
              0.6666666666666666,
              "#ed7953"
             ],
             [
              0.7777777777777778,
              "#fb9f3a"
             ],
             [
              0.8888888888888888,
              "#fdca26"
             ],
             [
              1,
              "#f0f921"
             ]
            ],
            "type": "heatmap"
           }
          ],
          "heatmapgl": [
           {
            "colorbar": {
             "outlinewidth": 0,
             "ticks": ""
            },
            "colorscale": [
             [
              0,
              "#0d0887"
             ],
             [
              0.1111111111111111,
              "#46039f"
             ],
             [
              0.2222222222222222,
              "#7201a8"
             ],
             [
              0.3333333333333333,
              "#9c179e"
             ],
             [
              0.4444444444444444,
              "#bd3786"
             ],
             [
              0.5555555555555556,
              "#d8576b"
             ],
             [
              0.6666666666666666,
              "#ed7953"
             ],
             [
              0.7777777777777778,
              "#fb9f3a"
             ],
             [
              0.8888888888888888,
              "#fdca26"
             ],
             [
              1,
              "#f0f921"
             ]
            ],
            "type": "heatmapgl"
           }
          ],
          "histogram": [
           {
            "marker": {
             "colorbar": {
              "outlinewidth": 0,
              "ticks": ""
             }
            },
            "type": "histogram"
           }
          ],
          "histogram2d": [
           {
            "colorbar": {
             "outlinewidth": 0,
             "ticks": ""
            },
            "colorscale": [
             [
              0,
              "#0d0887"
             ],
             [
              0.1111111111111111,
              "#46039f"
             ],
             [
              0.2222222222222222,
              "#7201a8"
             ],
             [
              0.3333333333333333,
              "#9c179e"
             ],
             [
              0.4444444444444444,
              "#bd3786"
             ],
             [
              0.5555555555555556,
              "#d8576b"
             ],
             [
              0.6666666666666666,
              "#ed7953"
             ],
             [
              0.7777777777777778,
              "#fb9f3a"
             ],
             [
              0.8888888888888888,
              "#fdca26"
             ],
             [
              1,
              "#f0f921"
             ]
            ],
            "type": "histogram2d"
           }
          ],
          "histogram2dcontour": [
           {
            "colorbar": {
             "outlinewidth": 0,
             "ticks": ""
            },
            "colorscale": [
             [
              0,
              "#0d0887"
             ],
             [
              0.1111111111111111,
              "#46039f"
             ],
             [
              0.2222222222222222,
              "#7201a8"
             ],
             [
              0.3333333333333333,
              "#9c179e"
             ],
             [
              0.4444444444444444,
              "#bd3786"
             ],
             [
              0.5555555555555556,
              "#d8576b"
             ],
             [
              0.6666666666666666,
              "#ed7953"
             ],
             [
              0.7777777777777778,
              "#fb9f3a"
             ],
             [
              0.8888888888888888,
              "#fdca26"
             ],
             [
              1,
              "#f0f921"
             ]
            ],
            "type": "histogram2dcontour"
           }
          ],
          "mesh3d": [
           {
            "colorbar": {
             "outlinewidth": 0,
             "ticks": ""
            },
            "type": "mesh3d"
           }
          ],
          "parcoords": [
           {
            "line": {
             "colorbar": {
              "outlinewidth": 0,
              "ticks": ""
             }
            },
            "type": "parcoords"
           }
          ],
          "pie": [
           {
            "automargin": true,
            "type": "pie"
           }
          ],
          "scatter": [
           {
            "marker": {
             "colorbar": {
              "outlinewidth": 0,
              "ticks": ""
             }
            },
            "type": "scatter"
           }
          ],
          "scatter3d": [
           {
            "line": {
             "colorbar": {
              "outlinewidth": 0,
              "ticks": ""
             }
            },
            "marker": {
             "colorbar": {
              "outlinewidth": 0,
              "ticks": ""
             }
            },
            "type": "scatter3d"
           }
          ],
          "scattercarpet": [
           {
            "marker": {
             "colorbar": {
              "outlinewidth": 0,
              "ticks": ""
             }
            },
            "type": "scattercarpet"
           }
          ],
          "scattergeo": [
           {
            "marker": {
             "colorbar": {
              "outlinewidth": 0,
              "ticks": ""
             }
            },
            "type": "scattergeo"
           }
          ],
          "scattergl": [
           {
            "marker": {
             "colorbar": {
              "outlinewidth": 0,
              "ticks": ""
             }
            },
            "type": "scattergl"
           }
          ],
          "scattermapbox": [
           {
            "marker": {
             "colorbar": {
              "outlinewidth": 0,
              "ticks": ""
             }
            },
            "type": "scattermapbox"
           }
          ],
          "scatterpolar": [
           {
            "marker": {
             "colorbar": {
              "outlinewidth": 0,
              "ticks": ""
             }
            },
            "type": "scatterpolar"
           }
          ],
          "scatterpolargl": [
           {
            "marker": {
             "colorbar": {
              "outlinewidth": 0,
              "ticks": ""
             }
            },
            "type": "scatterpolargl"
           }
          ],
          "scatterternary": [
           {
            "marker": {
             "colorbar": {
              "outlinewidth": 0,
              "ticks": ""
             }
            },
            "type": "scatterternary"
           }
          ],
          "surface": [
           {
            "colorbar": {
             "outlinewidth": 0,
             "ticks": ""
            },
            "colorscale": [
             [
              0,
              "#0d0887"
             ],
             [
              0.1111111111111111,
              "#46039f"
             ],
             [
              0.2222222222222222,
              "#7201a8"
             ],
             [
              0.3333333333333333,
              "#9c179e"
             ],
             [
              0.4444444444444444,
              "#bd3786"
             ],
             [
              0.5555555555555556,
              "#d8576b"
             ],
             [
              0.6666666666666666,
              "#ed7953"
             ],
             [
              0.7777777777777778,
              "#fb9f3a"
             ],
             [
              0.8888888888888888,
              "#fdca26"
             ],
             [
              1,
              "#f0f921"
             ]
            ],
            "type": "surface"
           }
          ],
          "table": [
           {
            "cells": {
             "fill": {
              "color": "#EBF0F8"
             },
             "line": {
              "color": "white"
             }
            },
            "header": {
             "fill": {
              "color": "#C8D4E3"
             },
             "line": {
              "color": "white"
             }
            },
            "type": "table"
           }
          ]
         },
         "layout": {
          "annotationdefaults": {
           "arrowcolor": "#2a3f5f",
           "arrowhead": 0,
           "arrowwidth": 1
          },
          "coloraxis": {
           "colorbar": {
            "outlinewidth": 0,
            "ticks": ""
           }
          },
          "colorscale": {
           "diverging": [
            [
             0,
             "#8e0152"
            ],
            [
             0.1,
             "#c51b7d"
            ],
            [
             0.2,
             "#de77ae"
            ],
            [
             0.3,
             "#f1b6da"
            ],
            [
             0.4,
             "#fde0ef"
            ],
            [
             0.5,
             "#f7f7f7"
            ],
            [
             0.6,
             "#e6f5d0"
            ],
            [
             0.7,
             "#b8e186"
            ],
            [
             0.8,
             "#7fbc41"
            ],
            [
             0.9,
             "#4d9221"
            ],
            [
             1,
             "#276419"
            ]
           ],
           "sequential": [
            [
             0,
             "#0d0887"
            ],
            [
             0.1111111111111111,
             "#46039f"
            ],
            [
             0.2222222222222222,
             "#7201a8"
            ],
            [
             0.3333333333333333,
             "#9c179e"
            ],
            [
             0.4444444444444444,
             "#bd3786"
            ],
            [
             0.5555555555555556,
             "#d8576b"
            ],
            [
             0.6666666666666666,
             "#ed7953"
            ],
            [
             0.7777777777777778,
             "#fb9f3a"
            ],
            [
             0.8888888888888888,
             "#fdca26"
            ],
            [
             1,
             "#f0f921"
            ]
           ],
           "sequentialminus": [
            [
             0,
             "#0d0887"
            ],
            [
             0.1111111111111111,
             "#46039f"
            ],
            [
             0.2222222222222222,
             "#7201a8"
            ],
            [
             0.3333333333333333,
             "#9c179e"
            ],
            [
             0.4444444444444444,
             "#bd3786"
            ],
            [
             0.5555555555555556,
             "#d8576b"
            ],
            [
             0.6666666666666666,
             "#ed7953"
            ],
            [
             0.7777777777777778,
             "#fb9f3a"
            ],
            [
             0.8888888888888888,
             "#fdca26"
            ],
            [
             1,
             "#f0f921"
            ]
           ]
          },
          "colorway": [
           "#636efa",
           "#EF553B",
           "#00cc96",
           "#ab63fa",
           "#FFA15A",
           "#19d3f3",
           "#FF6692",
           "#B6E880",
           "#FF97FF",
           "#FECB52"
          ],
          "font": {
           "color": "#2a3f5f"
          },
          "geo": {
           "bgcolor": "white",
           "lakecolor": "white",
           "landcolor": "#E5ECF6",
           "showlakes": true,
           "showland": true,
           "subunitcolor": "white"
          },
          "hoverlabel": {
           "align": "left"
          },
          "hovermode": "closest",
          "mapbox": {
           "style": "light"
          },
          "paper_bgcolor": "white",
          "plot_bgcolor": "#E5ECF6",
          "polar": {
           "angularaxis": {
            "gridcolor": "white",
            "linecolor": "white",
            "ticks": ""
           },
           "bgcolor": "#E5ECF6",
           "radialaxis": {
            "gridcolor": "white",
            "linecolor": "white",
            "ticks": ""
           }
          },
          "scene": {
           "xaxis": {
            "backgroundcolor": "#E5ECF6",
            "gridcolor": "white",
            "gridwidth": 2,
            "linecolor": "white",
            "showbackground": true,
            "ticks": "",
            "zerolinecolor": "white"
           },
           "yaxis": {
            "backgroundcolor": "#E5ECF6",
            "gridcolor": "white",
            "gridwidth": 2,
            "linecolor": "white",
            "showbackground": true,
            "ticks": "",
            "zerolinecolor": "white"
           },
           "zaxis": {
            "backgroundcolor": "#E5ECF6",
            "gridcolor": "white",
            "gridwidth": 2,
            "linecolor": "white",
            "showbackground": true,
            "ticks": "",
            "zerolinecolor": "white"
           }
          },
          "shapedefaults": {
           "line": {
            "color": "#2a3f5f"
           }
          },
          "ternary": {
           "aaxis": {
            "gridcolor": "white",
            "linecolor": "white",
            "ticks": ""
           },
           "baxis": {
            "gridcolor": "white",
            "linecolor": "white",
            "ticks": ""
           },
           "bgcolor": "#E5ECF6",
           "caxis": {
            "gridcolor": "white",
            "linecolor": "white",
            "ticks": ""
           }
          },
          "title": {
           "x": 0.05
          },
          "xaxis": {
           "automargin": true,
           "gridcolor": "white",
           "linecolor": "white",
           "ticks": "",
           "title": {
            "standoff": 15
           },
           "zerolinecolor": "white",
           "zerolinewidth": 2
          },
          "yaxis": {
           "automargin": true,
           "gridcolor": "white",
           "linecolor": "white",
           "ticks": "",
           "title": {
            "standoff": 15
           },
           "zerolinecolor": "white",
           "zerolinewidth": 2
          }
         }
        },
        "xaxis": {
         "anchor": "y",
         "domain": [
          0,
          1
         ],
         "title": {
          "text": "Hour"
         }
        },
        "yaxis": {
         "anchor": "x",
         "domain": [
          0,
          1
         ],
         "title": {
          "text": "count"
         }
        }
       }
      },
      "text/html": [
       "<div>\n",
       "        \n",
       "        \n",
       "            <div id=\"6e5b57d2-1ab3-4ad8-b1f4-686240073437\" class=\"plotly-graph-div\" style=\"height:525px; width:100%;\"></div>\n",
       "            <script type=\"text/javascript\">\n",
       "                require([\"plotly\"], function(Plotly) {\n",
       "                    window.PLOTLYENV=window.PLOTLYENV || {};\n",
       "                    \n",
       "                if (document.getElementById(\"6e5b57d2-1ab3-4ad8-b1f4-686240073437\")) {\n",
       "                    Plotly.newPlot(\n",
       "                        '6e5b57d2-1ab3-4ad8-b1f4-686240073437',\n",
       "                        [{\"hovertemplate\": \"week_day=Monday<br>Hour=%{x}<br>count=%{y}<extra></extra>\", \"legendgroup\": \"Monday\", \"line\": {\"color\": \"#636efa\", \"dash\": \"solid\"}, \"mode\": \"lines\", \"name\": \"Monday\", \"orientation\": \"v\", \"showlegend\": true, \"type\": \"scatter\", \"x\": [0, 1, 2, 3, 4, 5, 6, 7, 8, 9, 10, 11, 12, 13, 14, 15, 16, 17, 18, 19, 20, 21, 22, 23], \"xaxis\": \"x\", \"y\": [49003, 31439, 20289, 13271, 14163, 23089, 56725, 88768, 104469, 99254, 90740, 90837, 92567, 91676, 100203, 93780, 83864, 99619, 121153, 122172, 111814, 118341, 104909, 79290], \"yaxis\": \"y\"}, {\"hovertemplate\": \"week_day=Tuesday<br>Hour=%{x}<br>count=%{y}<extra></extra>\", \"legendgroup\": \"Tuesday\", \"line\": {\"color\": \"#EF553B\", \"dash\": \"solid\"}, \"mode\": \"lines\", \"name\": \"Tuesday\", \"orientation\": \"v\", \"showlegend\": true, \"type\": \"scatter\", \"x\": [0, 1, 2, 3, 4, 5, 6, 7, 8, 9, 10, 11, 12, 13, 14, 15, 16, 17, 18, 19, 20, 21, 22, 23], \"xaxis\": \"x\", \"y\": [51050, 31262, 18777, 11848, 11760, 20974, 56943, 94672, 113831, 108406, 97244, 96826, 100338, 101270, 105082, 95881, 80519, 101582, 122511, 128430, 120721, 128311, 118441, 93400], \"yaxis\": \"y\"}, {\"hovertemplate\": \"week_day=Wednesday<br>Hour=%{x}<br>count=%{y}<extra></extra>\", \"legendgroup\": \"Wednesday\", \"line\": {\"color\": \"#00cc96\", \"dash\": \"solid\"}, \"mode\": \"lines\", \"name\": \"Wednesday\", \"orientation\": \"v\", \"showlegend\": true, \"type\": \"scatter\", \"x\": [0, 1, 2, 3, 4, 5, 6, 7, 8, 9, 10, 11, 12, 13, 14, 15, 16, 17, 18, 19, 20, 21, 22, 23], \"xaxis\": \"x\", \"y\": [55074, 30751, 18619, 12278, 11387, 17386, 45923, 78856, 93774, 86471, 78427, 80611, 82471, 81006, 82660, 75987, 63717, 79153, 99627, 108760, 103672, 109958, 103946, 86731], \"yaxis\": \"y\"}, {\"hovertemplate\": \"week_day=Thursday<br>Hour=%{x}<br>count=%{y}<extra></extra>\", \"legendgroup\": \"Thursday\", \"line\": {\"color\": \"#ab63fa\", \"dash\": \"solid\"}, \"mode\": \"lines\", \"name\": \"Thursday\", \"orientation\": \"v\", \"showlegend\": true, \"type\": \"scatter\", \"x\": [0, 1, 2, 3, 4, 5, 6, 7, 8, 9, 10, 11, 12, 13, 14, 15, 16, 17, 18, 19, 20, 21, 22, 23], \"xaxis\": \"x\", \"y\": [60268, 35659, 22027, 14633, 12833, 18317, 45982, 78789, 93541, 89186, 80947, 81162, 83059, 82631, 85229, 77242, 62951, 79145, 101378, 109715, 104657, 110763, 106292, 97131], \"yaxis\": \"y\"}, {\"hovertemplate\": \"week_day=Friday<br>Hour=%{x}<br>count=%{y}<extra></extra>\", \"legendgroup\": \"Friday\", \"line\": {\"color\": \"#FFA15A\", \"dash\": \"solid\"}, \"mode\": \"lines\", \"name\": \"Friday\", \"orientation\": \"v\", \"showlegend\": true, \"type\": \"scatter\", \"x\": [0, 1, 2, 3, 4, 5, 6, 7, 8, 9, 10, 11, 12, 13, 14, 15, 16, 17, 18, 19, 20, 21, 22, 23], \"xaxis\": \"x\", \"y\": [79200, 51206, 32982, 21932, 17602, 19588, 44261, 73118, 89976, 85023, 80276, 81437, 81209, 78321, 81542, 73947, 62454, 79939, 102284, 108942, 97710, 101498, 106565, 105276], \"yaxis\": \"y\"}, {\"hovertemplate\": \"week_day=Saturday<br>Hour=%{x}<br>count=%{y}<extra></extra>\", \"legendgroup\": \"Saturday\", \"line\": {\"color\": \"#19d3f3\", \"dash\": \"solid\"}, \"mode\": \"lines\", \"name\": \"Saturday\", \"orientation\": \"v\", \"showlegend\": true, \"type\": \"scatter\", \"x\": [0, 1, 2, 3, 4, 5, 6, 7, 8, 9, 10, 11, 12, 13, 14, 15, 16, 17, 18, 19, 20, 21, 22, 23], \"xaxis\": \"x\", \"y\": [100836, 86982, 70581, 52760, 34577, 17964, 20897, 30893, 42622, 59369, 70576, 78737, 85136, 84702, 83388, 83367, 75171, 84283, 95871, 101238, 85081, 91191, 98496, 102817], \"yaxis\": \"y\"}, {\"hovertemplate\": \"week_day=Sunday<br>Hour=%{x}<br>count=%{y}<extra></extra>\", \"legendgroup\": \"Sunday\", \"line\": {\"color\": \"#FF6692\", \"dash\": \"solid\"}, \"mode\": \"lines\", \"name\": \"Sunday\", \"orientation\": \"v\", \"showlegend\": true, \"type\": \"scatter\", \"x\": [0, 1, 2, 3, 4, 5, 6, 7, 8, 9, 10, 11, 12, 13, 14, 15, 16, 17, 18, 19, 20, 21, 22, 23], \"xaxis\": \"x\", \"y\": [96168, 86386, 71433, 53948, 34875, 16492, 16775, 22455, 32514, 46857, 64165, 72517, 77480, 77084, 76999, 72928, 69081, 74638, 79332, 75124, 69451, 75243, 73526, 63345], \"yaxis\": \"y\"}],\n",
       "                        {\"legend\": {\"title\": {\"text\": \"week_day\"}, \"tracegroupgap\": 0}, \"margin\": {\"t\": 60}, \"template\": {\"data\": {\"bar\": [{\"error_x\": {\"color\": \"#2a3f5f\"}, \"error_y\": {\"color\": \"#2a3f5f\"}, \"marker\": {\"line\": {\"color\": \"#E5ECF6\", \"width\": 0.5}}, \"type\": \"bar\"}], \"barpolar\": [{\"marker\": {\"line\": {\"color\": \"#E5ECF6\", \"width\": 0.5}}, \"type\": \"barpolar\"}], \"carpet\": [{\"aaxis\": {\"endlinecolor\": \"#2a3f5f\", \"gridcolor\": \"white\", \"linecolor\": \"white\", \"minorgridcolor\": \"white\", \"startlinecolor\": \"#2a3f5f\"}, \"baxis\": {\"endlinecolor\": \"#2a3f5f\", \"gridcolor\": \"white\", \"linecolor\": \"white\", \"minorgridcolor\": \"white\", \"startlinecolor\": \"#2a3f5f\"}, \"type\": \"carpet\"}], \"choropleth\": [{\"colorbar\": {\"outlinewidth\": 0, \"ticks\": \"\"}, \"type\": \"choropleth\"}], \"contour\": [{\"colorbar\": {\"outlinewidth\": 0, \"ticks\": \"\"}, \"colorscale\": [[0.0, \"#0d0887\"], [0.1111111111111111, \"#46039f\"], [0.2222222222222222, \"#7201a8\"], [0.3333333333333333, \"#9c179e\"], [0.4444444444444444, \"#bd3786\"], [0.5555555555555556, \"#d8576b\"], [0.6666666666666666, \"#ed7953\"], [0.7777777777777778, \"#fb9f3a\"], [0.8888888888888888, \"#fdca26\"], [1.0, \"#f0f921\"]], \"type\": \"contour\"}], \"contourcarpet\": [{\"colorbar\": {\"outlinewidth\": 0, \"ticks\": \"\"}, \"type\": \"contourcarpet\"}], \"heatmap\": [{\"colorbar\": {\"outlinewidth\": 0, \"ticks\": \"\"}, \"colorscale\": [[0.0, \"#0d0887\"], [0.1111111111111111, \"#46039f\"], [0.2222222222222222, \"#7201a8\"], [0.3333333333333333, \"#9c179e\"], [0.4444444444444444, \"#bd3786\"], [0.5555555555555556, \"#d8576b\"], [0.6666666666666666, \"#ed7953\"], [0.7777777777777778, \"#fb9f3a\"], [0.8888888888888888, \"#fdca26\"], [1.0, \"#f0f921\"]], \"type\": \"heatmap\"}], \"heatmapgl\": [{\"colorbar\": {\"outlinewidth\": 0, \"ticks\": \"\"}, \"colorscale\": [[0.0, \"#0d0887\"], [0.1111111111111111, \"#46039f\"], [0.2222222222222222, \"#7201a8\"], [0.3333333333333333, \"#9c179e\"], [0.4444444444444444, \"#bd3786\"], [0.5555555555555556, \"#d8576b\"], [0.6666666666666666, \"#ed7953\"], [0.7777777777777778, \"#fb9f3a\"], [0.8888888888888888, \"#fdca26\"], [1.0, \"#f0f921\"]], \"type\": \"heatmapgl\"}], \"histogram\": [{\"marker\": {\"colorbar\": {\"outlinewidth\": 0, \"ticks\": \"\"}}, \"type\": \"histogram\"}], \"histogram2d\": [{\"colorbar\": {\"outlinewidth\": 0, \"ticks\": \"\"}, \"colorscale\": [[0.0, \"#0d0887\"], [0.1111111111111111, \"#46039f\"], [0.2222222222222222, \"#7201a8\"], [0.3333333333333333, \"#9c179e\"], [0.4444444444444444, \"#bd3786\"], [0.5555555555555556, \"#d8576b\"], [0.6666666666666666, \"#ed7953\"], [0.7777777777777778, \"#fb9f3a\"], [0.8888888888888888, \"#fdca26\"], [1.0, \"#f0f921\"]], \"type\": \"histogram2d\"}], \"histogram2dcontour\": [{\"colorbar\": {\"outlinewidth\": 0, \"ticks\": \"\"}, \"colorscale\": [[0.0, \"#0d0887\"], [0.1111111111111111, \"#46039f\"], [0.2222222222222222, \"#7201a8\"], [0.3333333333333333, \"#9c179e\"], [0.4444444444444444, \"#bd3786\"], [0.5555555555555556, \"#d8576b\"], [0.6666666666666666, \"#ed7953\"], [0.7777777777777778, \"#fb9f3a\"], [0.8888888888888888, \"#fdca26\"], [1.0, \"#f0f921\"]], \"type\": \"histogram2dcontour\"}], \"mesh3d\": [{\"colorbar\": {\"outlinewidth\": 0, \"ticks\": \"\"}, \"type\": \"mesh3d\"}], \"parcoords\": [{\"line\": {\"colorbar\": {\"outlinewidth\": 0, \"ticks\": \"\"}}, \"type\": \"parcoords\"}], \"pie\": [{\"automargin\": true, \"type\": \"pie\"}], \"scatter\": [{\"marker\": {\"colorbar\": {\"outlinewidth\": 0, \"ticks\": \"\"}}, \"type\": \"scatter\"}], \"scatter3d\": [{\"line\": {\"colorbar\": {\"outlinewidth\": 0, \"ticks\": \"\"}}, \"marker\": {\"colorbar\": {\"outlinewidth\": 0, \"ticks\": \"\"}}, \"type\": \"scatter3d\"}], \"scattercarpet\": [{\"marker\": {\"colorbar\": {\"outlinewidth\": 0, \"ticks\": \"\"}}, \"type\": \"scattercarpet\"}], \"scattergeo\": [{\"marker\": {\"colorbar\": {\"outlinewidth\": 0, \"ticks\": \"\"}}, \"type\": \"scattergeo\"}], \"scattergl\": [{\"marker\": {\"colorbar\": {\"outlinewidth\": 0, \"ticks\": \"\"}}, \"type\": \"scattergl\"}], \"scattermapbox\": [{\"marker\": {\"colorbar\": {\"outlinewidth\": 0, \"ticks\": \"\"}}, \"type\": \"scattermapbox\"}], \"scatterpolar\": [{\"marker\": {\"colorbar\": {\"outlinewidth\": 0, \"ticks\": \"\"}}, \"type\": \"scatterpolar\"}], \"scatterpolargl\": [{\"marker\": {\"colorbar\": {\"outlinewidth\": 0, \"ticks\": \"\"}}, \"type\": \"scatterpolargl\"}], \"scatterternary\": [{\"marker\": {\"colorbar\": {\"outlinewidth\": 0, \"ticks\": \"\"}}, \"type\": \"scatterternary\"}], \"surface\": [{\"colorbar\": {\"outlinewidth\": 0, \"ticks\": \"\"}, \"colorscale\": [[0.0, \"#0d0887\"], [0.1111111111111111, \"#46039f\"], [0.2222222222222222, \"#7201a8\"], [0.3333333333333333, \"#9c179e\"], [0.4444444444444444, \"#bd3786\"], [0.5555555555555556, \"#d8576b\"], [0.6666666666666666, \"#ed7953\"], [0.7777777777777778, \"#fb9f3a\"], [0.8888888888888888, \"#fdca26\"], [1.0, \"#f0f921\"]], \"type\": \"surface\"}], \"table\": [{\"cells\": {\"fill\": {\"color\": \"#EBF0F8\"}, \"line\": {\"color\": \"white\"}}, \"header\": {\"fill\": {\"color\": \"#C8D4E3\"}, \"line\": {\"color\": \"white\"}}, \"type\": \"table\"}]}, \"layout\": {\"annotationdefaults\": {\"arrowcolor\": \"#2a3f5f\", \"arrowhead\": 0, \"arrowwidth\": 1}, \"coloraxis\": {\"colorbar\": {\"outlinewidth\": 0, \"ticks\": \"\"}}, \"colorscale\": {\"diverging\": [[0, \"#8e0152\"], [0.1, \"#c51b7d\"], [0.2, \"#de77ae\"], [0.3, \"#f1b6da\"], [0.4, \"#fde0ef\"], [0.5, \"#f7f7f7\"], [0.6, \"#e6f5d0\"], [0.7, \"#b8e186\"], [0.8, \"#7fbc41\"], [0.9, \"#4d9221\"], [1, \"#276419\"]], \"sequential\": [[0.0, \"#0d0887\"], [0.1111111111111111, \"#46039f\"], [0.2222222222222222, \"#7201a8\"], [0.3333333333333333, \"#9c179e\"], [0.4444444444444444, \"#bd3786\"], [0.5555555555555556, \"#d8576b\"], [0.6666666666666666, \"#ed7953\"], [0.7777777777777778, \"#fb9f3a\"], [0.8888888888888888, \"#fdca26\"], [1.0, \"#f0f921\"]], \"sequentialminus\": [[0.0, \"#0d0887\"], [0.1111111111111111, \"#46039f\"], [0.2222222222222222, \"#7201a8\"], [0.3333333333333333, \"#9c179e\"], [0.4444444444444444, \"#bd3786\"], [0.5555555555555556, \"#d8576b\"], [0.6666666666666666, \"#ed7953\"], [0.7777777777777778, \"#fb9f3a\"], [0.8888888888888888, \"#fdca26\"], [1.0, \"#f0f921\"]]}, \"colorway\": [\"#636efa\", \"#EF553B\", \"#00cc96\", \"#ab63fa\", \"#FFA15A\", \"#19d3f3\", \"#FF6692\", \"#B6E880\", \"#FF97FF\", \"#FECB52\"], \"font\": {\"color\": \"#2a3f5f\"}, \"geo\": {\"bgcolor\": \"white\", \"lakecolor\": \"white\", \"landcolor\": \"#E5ECF6\", \"showlakes\": true, \"showland\": true, \"subunitcolor\": \"white\"}, \"hoverlabel\": {\"align\": \"left\"}, \"hovermode\": \"closest\", \"mapbox\": {\"style\": \"light\"}, \"paper_bgcolor\": \"white\", \"plot_bgcolor\": \"#E5ECF6\", \"polar\": {\"angularaxis\": {\"gridcolor\": \"white\", \"linecolor\": \"white\", \"ticks\": \"\"}, \"bgcolor\": \"#E5ECF6\", \"radialaxis\": {\"gridcolor\": \"white\", \"linecolor\": \"white\", \"ticks\": \"\"}}, \"scene\": {\"xaxis\": {\"backgroundcolor\": \"#E5ECF6\", \"gridcolor\": \"white\", \"gridwidth\": 2, \"linecolor\": \"white\", \"showbackground\": true, \"ticks\": \"\", \"zerolinecolor\": \"white\"}, \"yaxis\": {\"backgroundcolor\": \"#E5ECF6\", \"gridcolor\": \"white\", \"gridwidth\": 2, \"linecolor\": \"white\", \"showbackground\": true, \"ticks\": \"\", \"zerolinecolor\": \"white\"}, \"zaxis\": {\"backgroundcolor\": \"#E5ECF6\", \"gridcolor\": \"white\", \"gridwidth\": 2, \"linecolor\": \"white\", \"showbackground\": true, \"ticks\": \"\", \"zerolinecolor\": \"white\"}}, \"shapedefaults\": {\"line\": {\"color\": \"#2a3f5f\"}}, \"ternary\": {\"aaxis\": {\"gridcolor\": \"white\", \"linecolor\": \"white\", \"ticks\": \"\"}, \"baxis\": {\"gridcolor\": \"white\", \"linecolor\": \"white\", \"ticks\": \"\"}, \"bgcolor\": \"#E5ECF6\", \"caxis\": {\"gridcolor\": \"white\", \"linecolor\": \"white\", \"ticks\": \"\"}}, \"title\": {\"x\": 0.05}, \"xaxis\": {\"automargin\": true, \"gridcolor\": \"white\", \"linecolor\": \"white\", \"ticks\": \"\", \"title\": {\"standoff\": 15}, \"zerolinecolor\": \"white\", \"zerolinewidth\": 2}, \"yaxis\": {\"automargin\": true, \"gridcolor\": \"white\", \"linecolor\": \"white\", \"ticks\": \"\", \"title\": {\"standoff\": 15}, \"zerolinecolor\": \"white\", \"zerolinewidth\": 2}}}, \"xaxis\": {\"anchor\": \"y\", \"domain\": [0.0, 1.0], \"title\": {\"text\": \"Hour\"}}, \"yaxis\": {\"anchor\": \"x\", \"domain\": [0.0, 1.0], \"title\": {\"text\": \"count\"}}},\n",
       "                        {\"responsive\": true}\n",
       "                    ).then(function(){\n",
       "                            \n",
       "var gd = document.getElementById('6e5b57d2-1ab3-4ad8-b1f4-686240073437');\n",
       "var x = new MutationObserver(function (mutations, observer) {{\n",
       "        var display = window.getComputedStyle(gd).display;\n",
       "        if (!display || display === 'none') {{\n",
       "            console.log([gd, 'removed!']);\n",
       "            Plotly.purge(gd);\n",
       "            observer.disconnect();\n",
       "        }}\n",
       "}});\n",
       "\n",
       "// Listen for the removal of the full notebook cells\n",
       "var notebookContainer = gd.closest('#notebook-container');\n",
       "if (notebookContainer) {{\n",
       "    x.observe(notebookContainer, {childList: true});\n",
       "}}\n",
       "\n",
       "// Listen for the clearing of the current output cell\n",
       "var outputEl = gd.closest('.output');\n",
       "if (outputEl) {{\n",
       "    x.observe(outputEl, {childList: true});\n",
       "}}\n",
       "\n",
       "                        })\n",
       "                };\n",
       "                });\n",
       "            </script>\n",
       "        </div>"
      ]
     },
     "metadata": {},
     "output_type": "display_data"
    }
   ],
   "source": [
    "fig = px.line(pickups_df, x='Hour', y='count', color = \"week_day\")\n",
    "#fig.update_layout(title_text=\"Number of pickups on Fridays\")\n",
    "#fig.update_xaxes(title_text='Hour of day')\n",
    "#fig.update_yaxes(title_text='Trips count')\n",
    "fig.show()\n"
   ]
  },
  {
   "cell_type": "code",
   "execution_count": 106,
   "metadata": {
    "ExecuteTime": {
     "end_time": "2020-06-03T21:15:32.335782Z",
     "start_time": "2020-06-03T21:15:32.331082Z"
    }
   },
   "outputs": [],
   "source": [
    "#Another way of visualizing but clearly needs to be fixed\n",
    "#fig = go.Figure(data=go.Scatter(x=pickups_df['Hour'], y=pickups_df['count'], mode='lines+markers'))\n",
    "\n",
    "#fig.update_layout(title='Population of USA States')\n",
    "#fig.show()"
   ]
  },
  {
   "cell_type": "markdown",
   "metadata": {},
   "source": [
    "2. The average fare"
   ]
  },
  {
   "cell_type": "code",
   "execution_count": 156,
   "metadata": {
    "ExecuteTime": {
     "end_time": "2020-06-03T21:54:47.801667Z",
     "start_time": "2020-06-03T21:54:47.792634Z"
    }
   },
   "outputs": [],
   "source": [
    "avg_fare_spark = df_2015_06.groupby(\"week_day\", \"Hour\").agg({\"total_amount\": \"avg\"})"
   ]
  },
  {
   "cell_type": "code",
   "execution_count": 157,
   "metadata": {
    "ExecuteTime": {
     "end_time": "2020-06-03T21:54:52.309787Z",
     "start_time": "2020-06-03T21:54:48.084099Z"
    }
   },
   "outputs": [],
   "source": [
    "avg_fare_df = avg_fare_spark.toPandas()"
   ]
  },
  {
   "cell_type": "code",
   "execution_count": 158,
   "metadata": {
    "ExecuteTime": {
     "end_time": "2020-06-03T21:54:52.318829Z",
     "start_time": "2020-06-03T21:54:52.311740Z"
    }
   },
   "outputs": [],
   "source": [
    "avg_fare_df[\"week_day\"] = pd.Categorical(avg_fare_df.week_day, categories=calendar.day_name[0:], ordered=True)\n",
    "avg_fare_df = avg_fare_df.sort_values([\"week_day\",\"Hour\"])"
   ]
  },
  {
   "cell_type": "code",
   "execution_count": 159,
   "metadata": {
    "ExecuteTime": {
     "end_time": "2020-06-03T21:54:52.398448Z",
     "start_time": "2020-06-03T21:54:52.320964Z"
    }
   },
   "outputs": [
    {
     "data": {
      "application/vnd.plotly.v1+json": {
       "config": {
        "plotlyServerURL": "https://plot.ly"
       },
       "data": [
        {
         "hovertemplate": "week_day=Monday<br>Hour=%{x}<br>avg(total_amount)=%{y}<extra></extra>",
         "legendgroup": "Monday",
         "line": {
          "color": "#636efa",
          "dash": "solid"
         },
         "mode": "lines",
         "name": "Monday",
         "orientation": "v",
         "showlegend": true,
         "type": "scatter",
         "x": [
          0,
          1,
          2,
          3,
          4,
          5,
          6,
          7,
          8,
          9,
          10,
          11,
          12,
          13,
          14,
          15,
          16,
          17,
          18,
          19,
          20,
          21,
          22,
          23
         ],
         "xaxis": "x",
         "y": [
          19.310664857251066,
          19.88617958586279,
          18.362946917048138,
          18.35753070605146,
          22.10000706065021,
          21.32621074970576,
          16.224714676066938,
          15.30259023522316,
          15.90049430932155,
          16.039150865460844,
          16.306179634122753,
          16.657920891269715,
          16.14491071332425,
          16.483655809593593,
          16.873873237332408,
          17.0858808914516,
          17.6369717638107,
          16.836736867468726,
          16.212564113151945,
          15.24755451331398,
          15.226550789708371,
          15.70136216527261,
          16.495081546868295,
          17.22007958128634
         ],
         "yaxis": "y"
        },
        {
         "hovertemplate": "week_day=Tuesday<br>Hour=%{x}<br>avg(total_amount)=%{y}<extra></extra>",
         "legendgroup": "Tuesday",
         "line": {
          "color": "#EF553B",
          "dash": "solid"
         },
         "mode": "lines",
         "name": "Tuesday",
         "orientation": "v",
         "showlegend": true,
         "type": "scatter",
         "x": [
          0,
          1,
          2,
          3,
          4,
          5,
          6,
          7,
          8,
          9,
          10,
          11,
          12,
          13,
          14,
          15,
          16,
          17,
          18,
          19,
          20,
          21,
          22,
          23
         ],
         "xaxis": "x",
         "y": [
          18.05433927521907,
          18.62348858038441,
          17.085875272940886,
          16.923236833221118,
          20.01867942176907,
          19.01266997234642,
          14.975349208856473,
          14.473177919553676,
          15.292301482023397,
          15.652974097376141,
          15.879446135494863,
          16.172683266891664,
          16.02207937172398,
          16.369003851091847,
          16.785800803183353,
          16.70939268468198,
          17.9669260671388,
          17.21509854108136,
          16.139578894958202,
          15.61992034571543,
          15.354138799381841,
          15.856056612451363,
          16.792656681387392,
          17.34505824411166
         ],
         "yaxis": "y"
        },
        {
         "hovertemplate": "week_day=Wednesday<br>Hour=%{x}<br>avg(total_amount)=%{y}<extra></extra>",
         "legendgroup": "Wednesday",
         "line": {
          "color": "#00cc96",
          "dash": "solid"
         },
         "mode": "lines",
         "name": "Wednesday",
         "orientation": "v",
         "showlegend": true,
         "type": "scatter",
         "x": [
          0,
          1,
          2,
          3,
          4,
          5,
          6,
          7,
          8,
          9,
          10,
          11,
          12,
          13,
          14,
          15,
          16,
          17,
          18,
          19,
          20,
          21,
          22,
          23
         ],
         "xaxis": "x",
         "y": [
          17.43151922867171,
          16.912452928358668,
          15.690299156775296,
          16.926390291579057,
          19.781072275402448,
          19.00181410330093,
          15.232172114188964,
          14.628974332962253,
          15.181686181673573,
          15.78973401487434,
          16.09444770296061,
          16.385138380619402,
          16.58646166531425,
          17.296175221590246,
          17.721968061942523,
          17.994444312844404,
          19.137699985874807,
          18.28919699822054,
          16.931101006758777,
          15.98931279882689,
          15.498606181035633,
          16.26538987613792,
          16.85403757720667,
          17.215821102030112
         ],
         "yaxis": "y"
        },
        {
         "hovertemplate": "week_day=Thursday<br>Hour=%{x}<br>avg(total_amount)=%{y}<extra></extra>",
         "legendgroup": "Thursday",
         "line": {
          "color": "#ab63fa",
          "dash": "solid"
         },
         "mode": "lines",
         "name": "Thursday",
         "orientation": "v",
         "showlegend": true,
         "type": "scatter",
         "x": [
          0,
          1,
          2,
          3,
          4,
          5,
          6,
          7,
          8,
          9,
          10,
          11,
          12,
          13,
          14,
          15,
          16,
          17,
          18,
          19,
          20,
          21,
          22,
          23
         ],
         "xaxis": "x",
         "y": [
          17.01443635096365,
          16.082930536469007,
          16.106065737503595,
          16.834490535092613,
          20.19479311150981,
          20.262699131952925,
          15.75702274802965,
          14.752946477301302,
          15.16807122010948,
          15.687071513468728,
          16.210620529483858,
          16.599046105321843,
          16.64040465211638,
          17.269626048337383,
          17.986372596184548,
          18.366279226329322,
          19.447360010166598,
          18.555014214418385,
          16.93123942078521,
          16.055957890903027,
          15.85105315459407,
          16.441868855126458,
          17.365000000003654,
          17.378996406917125
         ],
         "yaxis": "y"
        },
        {
         "hovertemplate": "week_day=Friday<br>Hour=%{x}<br>avg(total_amount)=%{y}<extra></extra>",
         "legendgroup": "Friday",
         "line": {
          "color": "#FFA15A",
          "dash": "solid"
         },
         "mode": "lines",
         "name": "Friday",
         "orientation": "v",
         "showlegend": true,
         "type": "scatter",
         "x": [
          0,
          1,
          2,
          3,
          4,
          5,
          6,
          7,
          8,
          9,
          10,
          11,
          12,
          13,
          14,
          15,
          16,
          17,
          18,
          19,
          20,
          21,
          22,
          23
         ],
         "xaxis": "x",
         "y": [
          16.87266616161706,
          16.22132093895046,
          15.81894184706678,
          16.634571402516308,
          19.918067833200226,
          20.56640596283342,
          24.17804365016348,
          14.964809759567164,
          15.342611918736536,
          15.679956247135195,
          16.09851985649666,
          16.46563048737234,
          16.81450676649308,
          17.29864634006342,
          17.823154570652733,
          17.97463210137085,
          18.915609888877665,
          17.679308222521296,
          16.16343797661714,
          15.587391272423279,
          15.222336198957944,
          15.53640387002886,
          16.35503598742816,
          16.684361107947407
         ],
         "yaxis": "y"
        },
        {
         "hovertemplate": "week_day=Saturday<br>Hour=%{x}<br>avg(total_amount)=%{y}<extra></extra>",
         "legendgroup": "Saturday",
         "line": {
          "color": "#19d3f3",
          "dash": "solid"
         },
         "mode": "lines",
         "name": "Saturday",
         "orientation": "v",
         "showlegend": true,
         "type": "scatter",
         "x": [
          0,
          1,
          2,
          3,
          4,
          5,
          6,
          7,
          8,
          9,
          10,
          11,
          12,
          13,
          14,
          15,
          16,
          17,
          18,
          19,
          20,
          21,
          22,
          23
         ],
         "xaxis": "x",
         "y": [
          16.550541969140212,
          15.881405578166204,
          15.632767883705954,
          16.175892532218803,
          17.636875090376112,
          20.282517256735122,
          19.43880078480045,
          16.361774188325874,
          15.198492327903676,
          14.099895399953423,
          13.936566254814402,
          14.308262443322315,
          14.32146671208313,
          14.624457864040327,
          15.154156353431786,
          15.267713363800473,
          15.167512471562668,
          15.20797479918824,
          14.603034494269176,
          14.363832849326547,
          14.575548712402867,
          16.31751762783606,
          15.01480192089144,
          15.641109835923938
         ],
         "yaxis": "y"
        },
        {
         "hovertemplate": "week_day=Sunday<br>Hour=%{x}<br>avg(total_amount)=%{y}<extra></extra>",
         "legendgroup": "Sunday",
         "line": {
          "color": "#FF6692",
          "dash": "solid"
         },
         "mode": "lines",
         "name": "Sunday",
         "orientation": "v",
         "showlegend": true,
         "type": "scatter",
         "x": [
          0,
          1,
          2,
          3,
          4,
          5,
          6,
          7,
          8,
          9,
          10,
          11,
          12,
          13,
          14,
          15,
          16,
          17,
          18,
          19,
          20,
          21,
          22,
          23
         ],
         "xaxis": "x",
         "y": [
          15.724181432498924,
          15.317281619711341,
          15.386731902624184,
          15.97883332097426,
          17.271834551968443,
          20.5901012612156,
          21.104461997017047,
          18.27565397461335,
          16.20604693362587,
          14.798355848642753,
          14.362439024390353,
          14.981351683056117,
          15.406058982967036,
          16.088058870846094,
          17.17376043845188,
          17.517552791798927,
          17.657968906070476,
          17.48673812267666,
          16.5400263449851,
          16.00838453756828,
          16.354819657027484,
          16.402966920515045,
          16.761028207712883,
          17.69472855000725
         ],
         "yaxis": "y"
        }
       ],
       "layout": {
        "legend": {
         "title": {
          "text": "week_day"
         },
         "tracegroupgap": 0
        },
        "margin": {
         "t": 60
        },
        "template": {
         "data": {
          "bar": [
           {
            "error_x": {
             "color": "#2a3f5f"
            },
            "error_y": {
             "color": "#2a3f5f"
            },
            "marker": {
             "line": {
              "color": "#E5ECF6",
              "width": 0.5
             }
            },
            "type": "bar"
           }
          ],
          "barpolar": [
           {
            "marker": {
             "line": {
              "color": "#E5ECF6",
              "width": 0.5
             }
            },
            "type": "barpolar"
           }
          ],
          "carpet": [
           {
            "aaxis": {
             "endlinecolor": "#2a3f5f",
             "gridcolor": "white",
             "linecolor": "white",
             "minorgridcolor": "white",
             "startlinecolor": "#2a3f5f"
            },
            "baxis": {
             "endlinecolor": "#2a3f5f",
             "gridcolor": "white",
             "linecolor": "white",
             "minorgridcolor": "white",
             "startlinecolor": "#2a3f5f"
            },
            "type": "carpet"
           }
          ],
          "choropleth": [
           {
            "colorbar": {
             "outlinewidth": 0,
             "ticks": ""
            },
            "type": "choropleth"
           }
          ],
          "contour": [
           {
            "colorbar": {
             "outlinewidth": 0,
             "ticks": ""
            },
            "colorscale": [
             [
              0,
              "#0d0887"
             ],
             [
              0.1111111111111111,
              "#46039f"
             ],
             [
              0.2222222222222222,
              "#7201a8"
             ],
             [
              0.3333333333333333,
              "#9c179e"
             ],
             [
              0.4444444444444444,
              "#bd3786"
             ],
             [
              0.5555555555555556,
              "#d8576b"
             ],
             [
              0.6666666666666666,
              "#ed7953"
             ],
             [
              0.7777777777777778,
              "#fb9f3a"
             ],
             [
              0.8888888888888888,
              "#fdca26"
             ],
             [
              1,
              "#f0f921"
             ]
            ],
            "type": "contour"
           }
          ],
          "contourcarpet": [
           {
            "colorbar": {
             "outlinewidth": 0,
             "ticks": ""
            },
            "type": "contourcarpet"
           }
          ],
          "heatmap": [
           {
            "colorbar": {
             "outlinewidth": 0,
             "ticks": ""
            },
            "colorscale": [
             [
              0,
              "#0d0887"
             ],
             [
              0.1111111111111111,
              "#46039f"
             ],
             [
              0.2222222222222222,
              "#7201a8"
             ],
             [
              0.3333333333333333,
              "#9c179e"
             ],
             [
              0.4444444444444444,
              "#bd3786"
             ],
             [
              0.5555555555555556,
              "#d8576b"
             ],
             [
              0.6666666666666666,
              "#ed7953"
             ],
             [
              0.7777777777777778,
              "#fb9f3a"
             ],
             [
              0.8888888888888888,
              "#fdca26"
             ],
             [
              1,
              "#f0f921"
             ]
            ],
            "type": "heatmap"
           }
          ],
          "heatmapgl": [
           {
            "colorbar": {
             "outlinewidth": 0,
             "ticks": ""
            },
            "colorscale": [
             [
              0,
              "#0d0887"
             ],
             [
              0.1111111111111111,
              "#46039f"
             ],
             [
              0.2222222222222222,
              "#7201a8"
             ],
             [
              0.3333333333333333,
              "#9c179e"
             ],
             [
              0.4444444444444444,
              "#bd3786"
             ],
             [
              0.5555555555555556,
              "#d8576b"
             ],
             [
              0.6666666666666666,
              "#ed7953"
             ],
             [
              0.7777777777777778,
              "#fb9f3a"
             ],
             [
              0.8888888888888888,
              "#fdca26"
             ],
             [
              1,
              "#f0f921"
             ]
            ],
            "type": "heatmapgl"
           }
          ],
          "histogram": [
           {
            "marker": {
             "colorbar": {
              "outlinewidth": 0,
              "ticks": ""
             }
            },
            "type": "histogram"
           }
          ],
          "histogram2d": [
           {
            "colorbar": {
             "outlinewidth": 0,
             "ticks": ""
            },
            "colorscale": [
             [
              0,
              "#0d0887"
             ],
             [
              0.1111111111111111,
              "#46039f"
             ],
             [
              0.2222222222222222,
              "#7201a8"
             ],
             [
              0.3333333333333333,
              "#9c179e"
             ],
             [
              0.4444444444444444,
              "#bd3786"
             ],
             [
              0.5555555555555556,
              "#d8576b"
             ],
             [
              0.6666666666666666,
              "#ed7953"
             ],
             [
              0.7777777777777778,
              "#fb9f3a"
             ],
             [
              0.8888888888888888,
              "#fdca26"
             ],
             [
              1,
              "#f0f921"
             ]
            ],
            "type": "histogram2d"
           }
          ],
          "histogram2dcontour": [
           {
            "colorbar": {
             "outlinewidth": 0,
             "ticks": ""
            },
            "colorscale": [
             [
              0,
              "#0d0887"
             ],
             [
              0.1111111111111111,
              "#46039f"
             ],
             [
              0.2222222222222222,
              "#7201a8"
             ],
             [
              0.3333333333333333,
              "#9c179e"
             ],
             [
              0.4444444444444444,
              "#bd3786"
             ],
             [
              0.5555555555555556,
              "#d8576b"
             ],
             [
              0.6666666666666666,
              "#ed7953"
             ],
             [
              0.7777777777777778,
              "#fb9f3a"
             ],
             [
              0.8888888888888888,
              "#fdca26"
             ],
             [
              1,
              "#f0f921"
             ]
            ],
            "type": "histogram2dcontour"
           }
          ],
          "mesh3d": [
           {
            "colorbar": {
             "outlinewidth": 0,
             "ticks": ""
            },
            "type": "mesh3d"
           }
          ],
          "parcoords": [
           {
            "line": {
             "colorbar": {
              "outlinewidth": 0,
              "ticks": ""
             }
            },
            "type": "parcoords"
           }
          ],
          "pie": [
           {
            "automargin": true,
            "type": "pie"
           }
          ],
          "scatter": [
           {
            "marker": {
             "colorbar": {
              "outlinewidth": 0,
              "ticks": ""
             }
            },
            "type": "scatter"
           }
          ],
          "scatter3d": [
           {
            "line": {
             "colorbar": {
              "outlinewidth": 0,
              "ticks": ""
             }
            },
            "marker": {
             "colorbar": {
              "outlinewidth": 0,
              "ticks": ""
             }
            },
            "type": "scatter3d"
           }
          ],
          "scattercarpet": [
           {
            "marker": {
             "colorbar": {
              "outlinewidth": 0,
              "ticks": ""
             }
            },
            "type": "scattercarpet"
           }
          ],
          "scattergeo": [
           {
            "marker": {
             "colorbar": {
              "outlinewidth": 0,
              "ticks": ""
             }
            },
            "type": "scattergeo"
           }
          ],
          "scattergl": [
           {
            "marker": {
             "colorbar": {
              "outlinewidth": 0,
              "ticks": ""
             }
            },
            "type": "scattergl"
           }
          ],
          "scattermapbox": [
           {
            "marker": {
             "colorbar": {
              "outlinewidth": 0,
              "ticks": ""
             }
            },
            "type": "scattermapbox"
           }
          ],
          "scatterpolar": [
           {
            "marker": {
             "colorbar": {
              "outlinewidth": 0,
              "ticks": ""
             }
            },
            "type": "scatterpolar"
           }
          ],
          "scatterpolargl": [
           {
            "marker": {
             "colorbar": {
              "outlinewidth": 0,
              "ticks": ""
             }
            },
            "type": "scatterpolargl"
           }
          ],
          "scatterternary": [
           {
            "marker": {
             "colorbar": {
              "outlinewidth": 0,
              "ticks": ""
             }
            },
            "type": "scatterternary"
           }
          ],
          "surface": [
           {
            "colorbar": {
             "outlinewidth": 0,
             "ticks": ""
            },
            "colorscale": [
             [
              0,
              "#0d0887"
             ],
             [
              0.1111111111111111,
              "#46039f"
             ],
             [
              0.2222222222222222,
              "#7201a8"
             ],
             [
              0.3333333333333333,
              "#9c179e"
             ],
             [
              0.4444444444444444,
              "#bd3786"
             ],
             [
              0.5555555555555556,
              "#d8576b"
             ],
             [
              0.6666666666666666,
              "#ed7953"
             ],
             [
              0.7777777777777778,
              "#fb9f3a"
             ],
             [
              0.8888888888888888,
              "#fdca26"
             ],
             [
              1,
              "#f0f921"
             ]
            ],
            "type": "surface"
           }
          ],
          "table": [
           {
            "cells": {
             "fill": {
              "color": "#EBF0F8"
             },
             "line": {
              "color": "white"
             }
            },
            "header": {
             "fill": {
              "color": "#C8D4E3"
             },
             "line": {
              "color": "white"
             }
            },
            "type": "table"
           }
          ]
         },
         "layout": {
          "annotationdefaults": {
           "arrowcolor": "#2a3f5f",
           "arrowhead": 0,
           "arrowwidth": 1
          },
          "coloraxis": {
           "colorbar": {
            "outlinewidth": 0,
            "ticks": ""
           }
          },
          "colorscale": {
           "diverging": [
            [
             0,
             "#8e0152"
            ],
            [
             0.1,
             "#c51b7d"
            ],
            [
             0.2,
             "#de77ae"
            ],
            [
             0.3,
             "#f1b6da"
            ],
            [
             0.4,
             "#fde0ef"
            ],
            [
             0.5,
             "#f7f7f7"
            ],
            [
             0.6,
             "#e6f5d0"
            ],
            [
             0.7,
             "#b8e186"
            ],
            [
             0.8,
             "#7fbc41"
            ],
            [
             0.9,
             "#4d9221"
            ],
            [
             1,
             "#276419"
            ]
           ],
           "sequential": [
            [
             0,
             "#0d0887"
            ],
            [
             0.1111111111111111,
             "#46039f"
            ],
            [
             0.2222222222222222,
             "#7201a8"
            ],
            [
             0.3333333333333333,
             "#9c179e"
            ],
            [
             0.4444444444444444,
             "#bd3786"
            ],
            [
             0.5555555555555556,
             "#d8576b"
            ],
            [
             0.6666666666666666,
             "#ed7953"
            ],
            [
             0.7777777777777778,
             "#fb9f3a"
            ],
            [
             0.8888888888888888,
             "#fdca26"
            ],
            [
             1,
             "#f0f921"
            ]
           ],
           "sequentialminus": [
            [
             0,
             "#0d0887"
            ],
            [
             0.1111111111111111,
             "#46039f"
            ],
            [
             0.2222222222222222,
             "#7201a8"
            ],
            [
             0.3333333333333333,
             "#9c179e"
            ],
            [
             0.4444444444444444,
             "#bd3786"
            ],
            [
             0.5555555555555556,
             "#d8576b"
            ],
            [
             0.6666666666666666,
             "#ed7953"
            ],
            [
             0.7777777777777778,
             "#fb9f3a"
            ],
            [
             0.8888888888888888,
             "#fdca26"
            ],
            [
             1,
             "#f0f921"
            ]
           ]
          },
          "colorway": [
           "#636efa",
           "#EF553B",
           "#00cc96",
           "#ab63fa",
           "#FFA15A",
           "#19d3f3",
           "#FF6692",
           "#B6E880",
           "#FF97FF",
           "#FECB52"
          ],
          "font": {
           "color": "#2a3f5f"
          },
          "geo": {
           "bgcolor": "white",
           "lakecolor": "white",
           "landcolor": "#E5ECF6",
           "showlakes": true,
           "showland": true,
           "subunitcolor": "white"
          },
          "hoverlabel": {
           "align": "left"
          },
          "hovermode": "closest",
          "mapbox": {
           "style": "light"
          },
          "paper_bgcolor": "white",
          "plot_bgcolor": "#E5ECF6",
          "polar": {
           "angularaxis": {
            "gridcolor": "white",
            "linecolor": "white",
            "ticks": ""
           },
           "bgcolor": "#E5ECF6",
           "radialaxis": {
            "gridcolor": "white",
            "linecolor": "white",
            "ticks": ""
           }
          },
          "scene": {
           "xaxis": {
            "backgroundcolor": "#E5ECF6",
            "gridcolor": "white",
            "gridwidth": 2,
            "linecolor": "white",
            "showbackground": true,
            "ticks": "",
            "zerolinecolor": "white"
           },
           "yaxis": {
            "backgroundcolor": "#E5ECF6",
            "gridcolor": "white",
            "gridwidth": 2,
            "linecolor": "white",
            "showbackground": true,
            "ticks": "",
            "zerolinecolor": "white"
           },
           "zaxis": {
            "backgroundcolor": "#E5ECF6",
            "gridcolor": "white",
            "gridwidth": 2,
            "linecolor": "white",
            "showbackground": true,
            "ticks": "",
            "zerolinecolor": "white"
           }
          },
          "shapedefaults": {
           "line": {
            "color": "#2a3f5f"
           }
          },
          "ternary": {
           "aaxis": {
            "gridcolor": "white",
            "linecolor": "white",
            "ticks": ""
           },
           "baxis": {
            "gridcolor": "white",
            "linecolor": "white",
            "ticks": ""
           },
           "bgcolor": "#E5ECF6",
           "caxis": {
            "gridcolor": "white",
            "linecolor": "white",
            "ticks": ""
           }
          },
          "title": {
           "x": 0.05
          },
          "xaxis": {
           "automargin": true,
           "gridcolor": "white",
           "linecolor": "white",
           "ticks": "",
           "title": {
            "standoff": 15
           },
           "zerolinecolor": "white",
           "zerolinewidth": 2
          },
          "yaxis": {
           "automargin": true,
           "gridcolor": "white",
           "linecolor": "white",
           "ticks": "",
           "title": {
            "standoff": 15
           },
           "zerolinecolor": "white",
           "zerolinewidth": 2
          }
         }
        },
        "xaxis": {
         "anchor": "y",
         "domain": [
          0,
          1
         ],
         "title": {
          "text": "Hour"
         }
        },
        "yaxis": {
         "anchor": "x",
         "domain": [
          0,
          1
         ],
         "title": {
          "text": "avg(total_amount)"
         }
        }
       }
      },
      "text/html": [
       "<div>\n",
       "        \n",
       "        \n",
       "            <div id=\"d95e5515-1d4b-4110-b42a-187b7eadfdab\" class=\"plotly-graph-div\" style=\"height:525px; width:100%;\"></div>\n",
       "            <script type=\"text/javascript\">\n",
       "                require([\"plotly\"], function(Plotly) {\n",
       "                    window.PLOTLYENV=window.PLOTLYENV || {};\n",
       "                    \n",
       "                if (document.getElementById(\"d95e5515-1d4b-4110-b42a-187b7eadfdab\")) {\n",
       "                    Plotly.newPlot(\n",
       "                        'd95e5515-1d4b-4110-b42a-187b7eadfdab',\n",
       "                        [{\"hovertemplate\": \"week_day=Monday<br>Hour=%{x}<br>avg(total_amount)=%{y}<extra></extra>\", \"legendgroup\": \"Monday\", \"line\": {\"color\": \"#636efa\", \"dash\": \"solid\"}, \"mode\": \"lines\", \"name\": \"Monday\", \"orientation\": \"v\", \"showlegend\": true, \"type\": \"scatter\", \"x\": [0, 1, 2, 3, 4, 5, 6, 7, 8, 9, 10, 11, 12, 13, 14, 15, 16, 17, 18, 19, 20, 21, 22, 23], \"xaxis\": \"x\", \"y\": [19.310664857251066, 19.88617958586279, 18.362946917048138, 18.35753070605146, 22.10000706065021, 21.32621074970576, 16.224714676066938, 15.30259023522316, 15.90049430932155, 16.039150865460844, 16.306179634122753, 16.657920891269715, 16.14491071332425, 16.483655809593593, 16.873873237332408, 17.0858808914516, 17.6369717638107, 16.836736867468726, 16.212564113151945, 15.24755451331398, 15.226550789708371, 15.70136216527261, 16.495081546868295, 17.22007958128634], \"yaxis\": \"y\"}, {\"hovertemplate\": \"week_day=Tuesday<br>Hour=%{x}<br>avg(total_amount)=%{y}<extra></extra>\", \"legendgroup\": \"Tuesday\", \"line\": {\"color\": \"#EF553B\", \"dash\": \"solid\"}, \"mode\": \"lines\", \"name\": \"Tuesday\", \"orientation\": \"v\", \"showlegend\": true, \"type\": \"scatter\", \"x\": [0, 1, 2, 3, 4, 5, 6, 7, 8, 9, 10, 11, 12, 13, 14, 15, 16, 17, 18, 19, 20, 21, 22, 23], \"xaxis\": \"x\", \"y\": [18.05433927521907, 18.62348858038441, 17.085875272940886, 16.923236833221118, 20.01867942176907, 19.01266997234642, 14.975349208856473, 14.473177919553676, 15.292301482023397, 15.652974097376141, 15.879446135494863, 16.172683266891664, 16.02207937172398, 16.369003851091847, 16.785800803183353, 16.70939268468198, 17.9669260671388, 17.21509854108136, 16.139578894958202, 15.61992034571543, 15.354138799381841, 15.856056612451363, 16.792656681387392, 17.34505824411166], \"yaxis\": \"y\"}, {\"hovertemplate\": \"week_day=Wednesday<br>Hour=%{x}<br>avg(total_amount)=%{y}<extra></extra>\", \"legendgroup\": \"Wednesday\", \"line\": {\"color\": \"#00cc96\", \"dash\": \"solid\"}, \"mode\": \"lines\", \"name\": \"Wednesday\", \"orientation\": \"v\", \"showlegend\": true, \"type\": \"scatter\", \"x\": [0, 1, 2, 3, 4, 5, 6, 7, 8, 9, 10, 11, 12, 13, 14, 15, 16, 17, 18, 19, 20, 21, 22, 23], \"xaxis\": \"x\", \"y\": [17.43151922867171, 16.912452928358668, 15.690299156775296, 16.926390291579057, 19.781072275402448, 19.00181410330093, 15.232172114188964, 14.628974332962253, 15.181686181673573, 15.78973401487434, 16.09444770296061, 16.385138380619402, 16.58646166531425, 17.296175221590246, 17.721968061942523, 17.994444312844404, 19.137699985874807, 18.28919699822054, 16.931101006758777, 15.98931279882689, 15.498606181035633, 16.26538987613792, 16.85403757720667, 17.215821102030112], \"yaxis\": \"y\"}, {\"hovertemplate\": \"week_day=Thursday<br>Hour=%{x}<br>avg(total_amount)=%{y}<extra></extra>\", \"legendgroup\": \"Thursday\", \"line\": {\"color\": \"#ab63fa\", \"dash\": \"solid\"}, \"mode\": \"lines\", \"name\": \"Thursday\", \"orientation\": \"v\", \"showlegend\": true, \"type\": \"scatter\", \"x\": [0, 1, 2, 3, 4, 5, 6, 7, 8, 9, 10, 11, 12, 13, 14, 15, 16, 17, 18, 19, 20, 21, 22, 23], \"xaxis\": \"x\", \"y\": [17.01443635096365, 16.082930536469007, 16.106065737503595, 16.834490535092613, 20.19479311150981, 20.262699131952925, 15.75702274802965, 14.752946477301302, 15.16807122010948, 15.687071513468728, 16.210620529483858, 16.599046105321843, 16.64040465211638, 17.269626048337383, 17.986372596184548, 18.366279226329322, 19.447360010166598, 18.555014214418385, 16.93123942078521, 16.055957890903027, 15.85105315459407, 16.441868855126458, 17.365000000003654, 17.378996406917125], \"yaxis\": \"y\"}, {\"hovertemplate\": \"week_day=Friday<br>Hour=%{x}<br>avg(total_amount)=%{y}<extra></extra>\", \"legendgroup\": \"Friday\", \"line\": {\"color\": \"#FFA15A\", \"dash\": \"solid\"}, \"mode\": \"lines\", \"name\": \"Friday\", \"orientation\": \"v\", \"showlegend\": true, \"type\": \"scatter\", \"x\": [0, 1, 2, 3, 4, 5, 6, 7, 8, 9, 10, 11, 12, 13, 14, 15, 16, 17, 18, 19, 20, 21, 22, 23], \"xaxis\": \"x\", \"y\": [16.87266616161706, 16.22132093895046, 15.81894184706678, 16.634571402516308, 19.918067833200226, 20.56640596283342, 24.17804365016348, 14.964809759567164, 15.342611918736536, 15.679956247135195, 16.09851985649666, 16.46563048737234, 16.81450676649308, 17.29864634006342, 17.823154570652733, 17.97463210137085, 18.915609888877665, 17.679308222521296, 16.16343797661714, 15.587391272423279, 15.222336198957944, 15.53640387002886, 16.35503598742816, 16.684361107947407], \"yaxis\": \"y\"}, {\"hovertemplate\": \"week_day=Saturday<br>Hour=%{x}<br>avg(total_amount)=%{y}<extra></extra>\", \"legendgroup\": \"Saturday\", \"line\": {\"color\": \"#19d3f3\", \"dash\": \"solid\"}, \"mode\": \"lines\", \"name\": \"Saturday\", \"orientation\": \"v\", \"showlegend\": true, \"type\": \"scatter\", \"x\": [0, 1, 2, 3, 4, 5, 6, 7, 8, 9, 10, 11, 12, 13, 14, 15, 16, 17, 18, 19, 20, 21, 22, 23], \"xaxis\": \"x\", \"y\": [16.550541969140212, 15.881405578166204, 15.632767883705954, 16.175892532218803, 17.636875090376112, 20.282517256735122, 19.43880078480045, 16.361774188325874, 15.198492327903676, 14.099895399953423, 13.936566254814402, 14.308262443322315, 14.32146671208313, 14.624457864040327, 15.154156353431786, 15.267713363800473, 15.167512471562668, 15.20797479918824, 14.603034494269176, 14.363832849326547, 14.575548712402867, 16.31751762783606, 15.01480192089144, 15.641109835923938], \"yaxis\": \"y\"}, {\"hovertemplate\": \"week_day=Sunday<br>Hour=%{x}<br>avg(total_amount)=%{y}<extra></extra>\", \"legendgroup\": \"Sunday\", \"line\": {\"color\": \"#FF6692\", \"dash\": \"solid\"}, \"mode\": \"lines\", \"name\": \"Sunday\", \"orientation\": \"v\", \"showlegend\": true, \"type\": \"scatter\", \"x\": [0, 1, 2, 3, 4, 5, 6, 7, 8, 9, 10, 11, 12, 13, 14, 15, 16, 17, 18, 19, 20, 21, 22, 23], \"xaxis\": \"x\", \"y\": [15.724181432498924, 15.317281619711341, 15.386731902624184, 15.97883332097426, 17.271834551968443, 20.5901012612156, 21.104461997017047, 18.27565397461335, 16.20604693362587, 14.798355848642753, 14.362439024390353, 14.981351683056117, 15.406058982967036, 16.088058870846094, 17.17376043845188, 17.517552791798927, 17.657968906070476, 17.48673812267666, 16.5400263449851, 16.00838453756828, 16.354819657027484, 16.402966920515045, 16.761028207712883, 17.69472855000725], \"yaxis\": \"y\"}],\n",
       "                        {\"legend\": {\"title\": {\"text\": \"week_day\"}, \"tracegroupgap\": 0}, \"margin\": {\"t\": 60}, \"template\": {\"data\": {\"bar\": [{\"error_x\": {\"color\": \"#2a3f5f\"}, \"error_y\": {\"color\": \"#2a3f5f\"}, \"marker\": {\"line\": {\"color\": \"#E5ECF6\", \"width\": 0.5}}, \"type\": \"bar\"}], \"barpolar\": [{\"marker\": {\"line\": {\"color\": \"#E5ECF6\", \"width\": 0.5}}, \"type\": \"barpolar\"}], \"carpet\": [{\"aaxis\": {\"endlinecolor\": \"#2a3f5f\", \"gridcolor\": \"white\", \"linecolor\": \"white\", \"minorgridcolor\": \"white\", \"startlinecolor\": \"#2a3f5f\"}, \"baxis\": {\"endlinecolor\": \"#2a3f5f\", \"gridcolor\": \"white\", \"linecolor\": \"white\", \"minorgridcolor\": \"white\", \"startlinecolor\": \"#2a3f5f\"}, \"type\": \"carpet\"}], \"choropleth\": [{\"colorbar\": {\"outlinewidth\": 0, \"ticks\": \"\"}, \"type\": \"choropleth\"}], \"contour\": [{\"colorbar\": {\"outlinewidth\": 0, \"ticks\": \"\"}, \"colorscale\": [[0.0, \"#0d0887\"], [0.1111111111111111, \"#46039f\"], [0.2222222222222222, \"#7201a8\"], [0.3333333333333333, \"#9c179e\"], [0.4444444444444444, \"#bd3786\"], [0.5555555555555556, \"#d8576b\"], [0.6666666666666666, \"#ed7953\"], [0.7777777777777778, \"#fb9f3a\"], [0.8888888888888888, \"#fdca26\"], [1.0, \"#f0f921\"]], \"type\": \"contour\"}], \"contourcarpet\": [{\"colorbar\": {\"outlinewidth\": 0, \"ticks\": \"\"}, \"type\": \"contourcarpet\"}], \"heatmap\": [{\"colorbar\": {\"outlinewidth\": 0, \"ticks\": \"\"}, \"colorscale\": [[0.0, \"#0d0887\"], [0.1111111111111111, \"#46039f\"], [0.2222222222222222, \"#7201a8\"], [0.3333333333333333, \"#9c179e\"], [0.4444444444444444, \"#bd3786\"], [0.5555555555555556, \"#d8576b\"], [0.6666666666666666, \"#ed7953\"], [0.7777777777777778, \"#fb9f3a\"], [0.8888888888888888, \"#fdca26\"], [1.0, \"#f0f921\"]], \"type\": \"heatmap\"}], \"heatmapgl\": [{\"colorbar\": {\"outlinewidth\": 0, \"ticks\": \"\"}, \"colorscale\": [[0.0, \"#0d0887\"], [0.1111111111111111, \"#46039f\"], [0.2222222222222222, \"#7201a8\"], [0.3333333333333333, \"#9c179e\"], [0.4444444444444444, \"#bd3786\"], [0.5555555555555556, \"#d8576b\"], [0.6666666666666666, \"#ed7953\"], [0.7777777777777778, \"#fb9f3a\"], [0.8888888888888888, \"#fdca26\"], [1.0, \"#f0f921\"]], \"type\": \"heatmapgl\"}], \"histogram\": [{\"marker\": {\"colorbar\": {\"outlinewidth\": 0, \"ticks\": \"\"}}, \"type\": \"histogram\"}], \"histogram2d\": [{\"colorbar\": {\"outlinewidth\": 0, \"ticks\": \"\"}, \"colorscale\": [[0.0, \"#0d0887\"], [0.1111111111111111, \"#46039f\"], [0.2222222222222222, \"#7201a8\"], [0.3333333333333333, \"#9c179e\"], [0.4444444444444444, \"#bd3786\"], [0.5555555555555556, \"#d8576b\"], [0.6666666666666666, \"#ed7953\"], [0.7777777777777778, \"#fb9f3a\"], [0.8888888888888888, \"#fdca26\"], [1.0, \"#f0f921\"]], \"type\": \"histogram2d\"}], \"histogram2dcontour\": [{\"colorbar\": {\"outlinewidth\": 0, \"ticks\": \"\"}, \"colorscale\": [[0.0, \"#0d0887\"], [0.1111111111111111, \"#46039f\"], [0.2222222222222222, \"#7201a8\"], [0.3333333333333333, \"#9c179e\"], [0.4444444444444444, \"#bd3786\"], [0.5555555555555556, \"#d8576b\"], [0.6666666666666666, \"#ed7953\"], [0.7777777777777778, \"#fb9f3a\"], [0.8888888888888888, \"#fdca26\"], [1.0, \"#f0f921\"]], \"type\": \"histogram2dcontour\"}], \"mesh3d\": [{\"colorbar\": {\"outlinewidth\": 0, \"ticks\": \"\"}, \"type\": \"mesh3d\"}], \"parcoords\": [{\"line\": {\"colorbar\": {\"outlinewidth\": 0, \"ticks\": \"\"}}, \"type\": \"parcoords\"}], \"pie\": [{\"automargin\": true, \"type\": \"pie\"}], \"scatter\": [{\"marker\": {\"colorbar\": {\"outlinewidth\": 0, \"ticks\": \"\"}}, \"type\": \"scatter\"}], \"scatter3d\": [{\"line\": {\"colorbar\": {\"outlinewidth\": 0, \"ticks\": \"\"}}, \"marker\": {\"colorbar\": {\"outlinewidth\": 0, \"ticks\": \"\"}}, \"type\": \"scatter3d\"}], \"scattercarpet\": [{\"marker\": {\"colorbar\": {\"outlinewidth\": 0, \"ticks\": \"\"}}, \"type\": \"scattercarpet\"}], \"scattergeo\": [{\"marker\": {\"colorbar\": {\"outlinewidth\": 0, \"ticks\": \"\"}}, \"type\": \"scattergeo\"}], \"scattergl\": [{\"marker\": {\"colorbar\": {\"outlinewidth\": 0, \"ticks\": \"\"}}, \"type\": \"scattergl\"}], \"scattermapbox\": [{\"marker\": {\"colorbar\": {\"outlinewidth\": 0, \"ticks\": \"\"}}, \"type\": \"scattermapbox\"}], \"scatterpolar\": [{\"marker\": {\"colorbar\": {\"outlinewidth\": 0, \"ticks\": \"\"}}, \"type\": \"scatterpolar\"}], \"scatterpolargl\": [{\"marker\": {\"colorbar\": {\"outlinewidth\": 0, \"ticks\": \"\"}}, \"type\": \"scatterpolargl\"}], \"scatterternary\": [{\"marker\": {\"colorbar\": {\"outlinewidth\": 0, \"ticks\": \"\"}}, \"type\": \"scatterternary\"}], \"surface\": [{\"colorbar\": {\"outlinewidth\": 0, \"ticks\": \"\"}, \"colorscale\": [[0.0, \"#0d0887\"], [0.1111111111111111, \"#46039f\"], [0.2222222222222222, \"#7201a8\"], [0.3333333333333333, \"#9c179e\"], [0.4444444444444444, \"#bd3786\"], [0.5555555555555556, \"#d8576b\"], [0.6666666666666666, \"#ed7953\"], [0.7777777777777778, \"#fb9f3a\"], [0.8888888888888888, \"#fdca26\"], [1.0, \"#f0f921\"]], \"type\": \"surface\"}], \"table\": [{\"cells\": {\"fill\": {\"color\": \"#EBF0F8\"}, \"line\": {\"color\": \"white\"}}, \"header\": {\"fill\": {\"color\": \"#C8D4E3\"}, \"line\": {\"color\": \"white\"}}, \"type\": \"table\"}]}, \"layout\": {\"annotationdefaults\": {\"arrowcolor\": \"#2a3f5f\", \"arrowhead\": 0, \"arrowwidth\": 1}, \"coloraxis\": {\"colorbar\": {\"outlinewidth\": 0, \"ticks\": \"\"}}, \"colorscale\": {\"diverging\": [[0, \"#8e0152\"], [0.1, \"#c51b7d\"], [0.2, \"#de77ae\"], [0.3, \"#f1b6da\"], [0.4, \"#fde0ef\"], [0.5, \"#f7f7f7\"], [0.6, \"#e6f5d0\"], [0.7, \"#b8e186\"], [0.8, \"#7fbc41\"], [0.9, \"#4d9221\"], [1, \"#276419\"]], \"sequential\": [[0.0, \"#0d0887\"], [0.1111111111111111, \"#46039f\"], [0.2222222222222222, \"#7201a8\"], [0.3333333333333333, \"#9c179e\"], [0.4444444444444444, \"#bd3786\"], [0.5555555555555556, \"#d8576b\"], [0.6666666666666666, \"#ed7953\"], [0.7777777777777778, \"#fb9f3a\"], [0.8888888888888888, \"#fdca26\"], [1.0, \"#f0f921\"]], \"sequentialminus\": [[0.0, \"#0d0887\"], [0.1111111111111111, \"#46039f\"], [0.2222222222222222, \"#7201a8\"], [0.3333333333333333, \"#9c179e\"], [0.4444444444444444, \"#bd3786\"], [0.5555555555555556, \"#d8576b\"], [0.6666666666666666, \"#ed7953\"], [0.7777777777777778, \"#fb9f3a\"], [0.8888888888888888, \"#fdca26\"], [1.0, \"#f0f921\"]]}, \"colorway\": [\"#636efa\", \"#EF553B\", \"#00cc96\", \"#ab63fa\", \"#FFA15A\", \"#19d3f3\", \"#FF6692\", \"#B6E880\", \"#FF97FF\", \"#FECB52\"], \"font\": {\"color\": \"#2a3f5f\"}, \"geo\": {\"bgcolor\": \"white\", \"lakecolor\": \"white\", \"landcolor\": \"#E5ECF6\", \"showlakes\": true, \"showland\": true, \"subunitcolor\": \"white\"}, \"hoverlabel\": {\"align\": \"left\"}, \"hovermode\": \"closest\", \"mapbox\": {\"style\": \"light\"}, \"paper_bgcolor\": \"white\", \"plot_bgcolor\": \"#E5ECF6\", \"polar\": {\"angularaxis\": {\"gridcolor\": \"white\", \"linecolor\": \"white\", \"ticks\": \"\"}, \"bgcolor\": \"#E5ECF6\", \"radialaxis\": {\"gridcolor\": \"white\", \"linecolor\": \"white\", \"ticks\": \"\"}}, \"scene\": {\"xaxis\": {\"backgroundcolor\": \"#E5ECF6\", \"gridcolor\": \"white\", \"gridwidth\": 2, \"linecolor\": \"white\", \"showbackground\": true, \"ticks\": \"\", \"zerolinecolor\": \"white\"}, \"yaxis\": {\"backgroundcolor\": \"#E5ECF6\", \"gridcolor\": \"white\", \"gridwidth\": 2, \"linecolor\": \"white\", \"showbackground\": true, \"ticks\": \"\", \"zerolinecolor\": \"white\"}, \"zaxis\": {\"backgroundcolor\": \"#E5ECF6\", \"gridcolor\": \"white\", \"gridwidth\": 2, \"linecolor\": \"white\", \"showbackground\": true, \"ticks\": \"\", \"zerolinecolor\": \"white\"}}, \"shapedefaults\": {\"line\": {\"color\": \"#2a3f5f\"}}, \"ternary\": {\"aaxis\": {\"gridcolor\": \"white\", \"linecolor\": \"white\", \"ticks\": \"\"}, \"baxis\": {\"gridcolor\": \"white\", \"linecolor\": \"white\", \"ticks\": \"\"}, \"bgcolor\": \"#E5ECF6\", \"caxis\": {\"gridcolor\": \"white\", \"linecolor\": \"white\", \"ticks\": \"\"}}, \"title\": {\"x\": 0.05}, \"xaxis\": {\"automargin\": true, \"gridcolor\": \"white\", \"linecolor\": \"white\", \"ticks\": \"\", \"title\": {\"standoff\": 15}, \"zerolinecolor\": \"white\", \"zerolinewidth\": 2}, \"yaxis\": {\"automargin\": true, \"gridcolor\": \"white\", \"linecolor\": \"white\", \"ticks\": \"\", \"title\": {\"standoff\": 15}, \"zerolinecolor\": \"white\", \"zerolinewidth\": 2}}}, \"xaxis\": {\"anchor\": \"y\", \"domain\": [0.0, 1.0], \"title\": {\"text\": \"Hour\"}}, \"yaxis\": {\"anchor\": \"x\", \"domain\": [0.0, 1.0], \"title\": {\"text\": \"avg(total_amount)\"}}},\n",
       "                        {\"responsive\": true}\n",
       "                    ).then(function(){\n",
       "                            \n",
       "var gd = document.getElementById('d95e5515-1d4b-4110-b42a-187b7eadfdab');\n",
       "var x = new MutationObserver(function (mutations, observer) {{\n",
       "        var display = window.getComputedStyle(gd).display;\n",
       "        if (!display || display === 'none') {{\n",
       "            console.log([gd, 'removed!']);\n",
       "            Plotly.purge(gd);\n",
       "            observer.disconnect();\n",
       "        }}\n",
       "}});\n",
       "\n",
       "// Listen for the removal of the full notebook cells\n",
       "var notebookContainer = gd.closest('#notebook-container');\n",
       "if (notebookContainer) {{\n",
       "    x.observe(notebookContainer, {childList: true});\n",
       "}}\n",
       "\n",
       "// Listen for the clearing of the current output cell\n",
       "var outputEl = gd.closest('.output');\n",
       "if (outputEl) {{\n",
       "    x.observe(outputEl, {childList: true});\n",
       "}}\n",
       "\n",
       "                        })\n",
       "                };\n",
       "                });\n",
       "            </script>\n",
       "        </div>"
      ]
     },
     "metadata": {},
     "output_type": "display_data"
    }
   ],
   "source": [
    "fig = px.line(avg_fare_df, x='Hour', y='avg(total_amount)', color = \"week_day\")\n",
    "#fig.update_layout(title_text=\"Number of pickups on Fridays\")\n",
    "#fig.update_xaxes(title_text='Hour of day')\n",
    "#fig.update_yaxes(title_text='Trips count')\n",
    "fig.show()\n"
   ]
  },
  {
   "cell_type": "markdown",
   "metadata": {},
   "source": [
    "3. The average trip duration"
   ]
  },
  {
   "cell_type": "code",
   "execution_count": 146,
   "metadata": {
    "ExecuteTime": {
     "end_time": "2020-06-03T21:50:23.482769Z",
     "start_time": "2020-06-03T21:50:23.460750Z"
    }
   },
   "outputs": [],
   "source": [
    "duration_spark = df_2015_06.withColumn(\"duration\", -1*(fn.col(\"tpep_pickup_datetime\").cast(\"long\") - fn.col(\"tpep_dropoff_datetime\").cast(\"long\"))/60)"
   ]
  },
  {
   "cell_type": "code",
   "execution_count": 150,
   "metadata": {
    "ExecuteTime": {
     "end_time": "2020-06-03T21:50:35.755489Z",
     "start_time": "2020-06-03T21:50:35.743582Z"
    }
   },
   "outputs": [],
   "source": [
    "avg_trip_spark = duration_spark.groupby(\"week_day\", \"Hour\").agg({\"duration\": \"avg\"})"
   ]
  },
  {
   "cell_type": "code",
   "execution_count": 151,
   "metadata": {
    "ExecuteTime": {
     "end_time": "2020-06-03T21:52:20.509951Z",
     "start_time": "2020-06-03T21:52:16.062558Z"
    }
   },
   "outputs": [],
   "source": [
    "avg_trip_df = avg_trip_spark.toPandas()"
   ]
  },
  {
   "cell_type": "code",
   "execution_count": 153,
   "metadata": {
    "ExecuteTime": {
     "end_time": "2020-06-03T21:52:58.629636Z",
     "start_time": "2020-06-03T21:52:58.613347Z"
    }
   },
   "outputs": [
    {
     "data": {
      "text/html": [
       "<div>\n",
       "<style scoped>\n",
       "    .dataframe tbody tr th:only-of-type {\n",
       "        vertical-align: middle;\n",
       "    }\n",
       "\n",
       "    .dataframe tbody tr th {\n",
       "        vertical-align: top;\n",
       "    }\n",
       "\n",
       "    .dataframe thead th {\n",
       "        text-align: right;\n",
       "    }\n",
       "</style>\n",
       "<table border=\"1\" class=\"dataframe\">\n",
       "  <thead>\n",
       "    <tr style=\"text-align: right;\">\n",
       "      <th></th>\n",
       "      <th>week_day</th>\n",
       "      <th>Hour</th>\n",
       "      <th>avg(duration)</th>\n",
       "    </tr>\n",
       "  </thead>\n",
       "  <tbody>\n",
       "    <tr>\n",
       "      <td>125</td>\n",
       "      <td>Monday</td>\n",
       "      <td>0</td>\n",
       "      <td>13.932658</td>\n",
       "    </tr>\n",
       "    <tr>\n",
       "      <td>49</td>\n",
       "      <td>Monday</td>\n",
       "      <td>1</td>\n",
       "      <td>13.903541</td>\n",
       "    </tr>\n",
       "    <tr>\n",
       "      <td>108</td>\n",
       "      <td>Monday</td>\n",
       "      <td>2</td>\n",
       "      <td>13.035377</td>\n",
       "    </tr>\n",
       "    <tr>\n",
       "      <td>56</td>\n",
       "      <td>Monday</td>\n",
       "      <td>3</td>\n",
       "      <td>13.013447</td>\n",
       "    </tr>\n",
       "    <tr>\n",
       "      <td>50</td>\n",
       "      <td>Monday</td>\n",
       "      <td>4</td>\n",
       "      <td>14.777594</td>\n",
       "    </tr>\n",
       "    <tr>\n",
       "      <td>...</td>\n",
       "      <td>...</td>\n",
       "      <td>...</td>\n",
       "      <td>...</td>\n",
       "    </tr>\n",
       "    <tr>\n",
       "      <td>2</td>\n",
       "      <td>Sunday</td>\n",
       "      <td>19</td>\n",
       "      <td>14.894301</td>\n",
       "    </tr>\n",
       "    <tr>\n",
       "      <td>131</td>\n",
       "      <td>Sunday</td>\n",
       "      <td>20</td>\n",
       "      <td>14.405560</td>\n",
       "    </tr>\n",
       "    <tr>\n",
       "      <td>165</td>\n",
       "      <td>Sunday</td>\n",
       "      <td>21</td>\n",
       "      <td>14.226036</td>\n",
       "    </tr>\n",
       "    <tr>\n",
       "      <td>95</td>\n",
       "      <td>Sunday</td>\n",
       "      <td>22</td>\n",
       "      <td>14.350846</td>\n",
       "    </tr>\n",
       "    <tr>\n",
       "      <td>93</td>\n",
       "      <td>Sunday</td>\n",
       "      <td>23</td>\n",
       "      <td>13.953269</td>\n",
       "    </tr>\n",
       "  </tbody>\n",
       "</table>\n",
       "<p>168 rows × 3 columns</p>\n",
       "</div>"
      ],
      "text/plain": [
       "    week_day  Hour  avg(duration)\n",
       "125   Monday     0      13.932658\n",
       "49    Monday     1      13.903541\n",
       "108   Monday     2      13.035377\n",
       "56    Monday     3      13.013447\n",
       "50    Monday     4      14.777594\n",
       "..       ...   ...            ...\n",
       "2     Sunday    19      14.894301\n",
       "131   Sunday    20      14.405560\n",
       "165   Sunday    21      14.226036\n",
       "95    Sunday    22      14.350846\n",
       "93    Sunday    23      13.953269\n",
       "\n",
       "[168 rows x 3 columns]"
      ]
     },
     "execution_count": 153,
     "metadata": {},
     "output_type": "execute_result"
    }
   ],
   "source": [
    "avg_trip_df[\"week_day\"] = pd.Categorical(avg_trip_df.week_day, categories=calendar.day_name[0:], ordered=True)\n",
    "avg_trip_df = avg_trip_df.sort_values([\"week_day\",\"Hour\"])\n",
    "avg_trip_df"
   ]
  },
  {
   "cell_type": "code",
   "execution_count": 154,
   "metadata": {
    "ExecuteTime": {
     "end_time": "2020-06-03T21:53:29.708093Z",
     "start_time": "2020-06-03T21:53:29.595540Z"
    }
   },
   "outputs": [
    {
     "data": {
      "application/vnd.plotly.v1+json": {
       "config": {
        "plotlyServerURL": "https://plot.ly"
       },
       "data": [
        {
         "hovertemplate": "week_day=Monday<br>Hour=%{x}<br>avg(duration)=%{y}<extra></extra>",
         "legendgroup": "Monday",
         "line": {
          "color": "#636efa",
          "dash": "solid"
         },
         "mode": "lines",
         "name": "Monday",
         "orientation": "v",
         "showlegend": true,
         "type": "scatter",
         "x": [
          0,
          1,
          2,
          3,
          4,
          5,
          6,
          7,
          8,
          9,
          10,
          11,
          12,
          13,
          14,
          15,
          16,
          17,
          18,
          19,
          20,
          21,
          22,
          23
         ],
         "xaxis": "x",
         "y": [
          13.932658204599703,
          13.903541249191594,
          13.035377133750668,
          13.013446612915354,
          14.77759420085198,
          13.349521417125027,
          12.986536212722166,
          14.02490030191063,
          15.791133254841117,
          15.996362027390997,
          16.4639256851077,
          16.966292920285866,
          16.521318072315157,
          16.524314433439418,
          17.365815561077724,
          18.35599150494063,
          17.134419814620532,
          16.517838129941758,
          14.785964854357772,
          12.667844923550486,
          12.298303730600214,
          12.480512671010036,
          13.372671076838051,
          13.578625719931084
         ],
         "yaxis": "y"
        },
        {
         "hovertemplate": "week_day=Tuesday<br>Hour=%{x}<br>avg(duration)=%{y}<extra></extra>",
         "legendgroup": "Tuesday",
         "line": {
          "color": "#EF553B",
          "dash": "solid"
         },
         "mode": "lines",
         "name": "Tuesday",
         "orientation": "v",
         "showlegend": true,
         "type": "scatter",
         "x": [
          0,
          1,
          2,
          3,
          4,
          5,
          6,
          7,
          8,
          9,
          10,
          11,
          12,
          13,
          14,
          15,
          16,
          17,
          18,
          19,
          20,
          21,
          22,
          23
         ],
         "xaxis": "x",
         "y": [
          13.674834802481186,
          13.67412620220502,
          12.397466758978174,
          12.1100931240153,
          14.068157596371881,
          11.991900289247013,
          11.798583086009959,
          13.754711354289832,
          15.801641907740414,
          16.566843009919523,
          16.77792614454365,
          17.590643697629364,
          16.983445288259084,
          17.098723873473546,
          17.89199989849194,
          18.109083308128476,
          18.074753784820928,
          17.952603971832314,
          16.268200134409664,
          14.010984193724173,
          12.76119758230411,
          13.463750185097233,
          13.93797150761413,
          13.835499464668075
         ],
         "yaxis": "y"
        },
        {
         "hovertemplate": "week_day=Wednesday<br>Hour=%{x}<br>avg(duration)=%{y}<extra></extra>",
         "legendgroup": "Wednesday",
         "line": {
          "color": "#00cc96",
          "dash": "solid"
         },
         "mode": "lines",
         "name": "Wednesday",
         "orientation": "v",
         "showlegend": true,
         "type": "scatter",
         "x": [
          0,
          1,
          2,
          3,
          4,
          5,
          6,
          7,
          8,
          9,
          10,
          11,
          12,
          13,
          14,
          15,
          16,
          17,
          18,
          19,
          20,
          21,
          22,
          23
         ],
         "xaxis": "x",
         "y": [
          13.311779302998328,
          12.677764950733351,
          12.822455556152324,
          12.641715534560447,
          12.959342525101734,
          12.215261321369653,
          12.095918893219743,
          13.8044333975855,
          15.671848451240896,
          16.62115930967218,
          16.998784432232075,
          17.654443562292897,
          18.15677712973856,
          18.67300529178906,
          19.55991108153885,
          19.983879479384658,
          20.20661885106543,
          19.360647311746416,
          17.172128874033397,
          15.085430611744506,
          13.662989203127893,
          13.81877050025167,
          14.940224411393121,
          14.785292648149674
         ],
         "yaxis": "y"
        },
        {
         "hovertemplate": "week_day=Thursday<br>Hour=%{x}<br>avg(duration)=%{y}<extra></extra>",
         "legendgroup": "Thursday",
         "line": {
          "color": "#ab63fa",
          "dash": "solid"
         },
         "mode": "lines",
         "name": "Thursday",
         "orientation": "v",
         "showlegend": true,
         "type": "scatter",
         "x": [
          0,
          1,
          2,
          3,
          4,
          5,
          6,
          7,
          8,
          9,
          10,
          11,
          12,
          13,
          14,
          15,
          16,
          17,
          18,
          19,
          20,
          21,
          22,
          23
         ],
         "xaxis": "x",
         "y": [
          14.391126025972834,
          12.289161221570986,
          46.17730512552772,
          12.496636597644605,
          13.783511260032757,
          13.196034649050986,
          12.389033752337806,
          13.866716377497736,
          15.552232354440026,
          16.535776728784036,
          17.501627402292026,
          18.145828302243306,
          17.98955983096352,
          18.548687740274975,
          19.96848744754331,
          30.358525370480642,
          20.91842994286565,
          19.687074988944303,
          17.120222829410757,
          14.833086633550527,
          13.997325708425246,
          14.844748396726988,
          15.699593886024704,
          14.869497379827262
         ],
         "yaxis": "y"
        },
        {
         "hovertemplate": "week_day=Friday<br>Hour=%{x}<br>avg(duration)=%{y}<extra></extra>",
         "legendgroup": "Friday",
         "line": {
          "color": "#FFA15A",
          "dash": "solid"
         },
         "mode": "lines",
         "name": "Friday",
         "orientation": "v",
         "showlegend": true,
         "type": "scatter",
         "x": [
          0,
          1,
          2,
          3,
          4,
          5,
          6,
          7,
          8,
          9,
          10,
          11,
          12,
          13,
          14,
          15,
          16,
          17,
          18,
          19,
          20,
          21,
          22,
          23
         ],
         "xaxis": "x",
         "y": [
          14.386625000000011,
          13.355969352549852,
          12.7829881955814,
          13.193026171803755,
          14.308410976025462,
          12.997148764549745,
          12.377274575811661,
          13.741009281800176,
          15.346495546960696,
          15.978132191681482,
          17.092903233843245,
          17.842545362263728,
          17.881281836578008,
          18.16142669271336,
          19.409752029628976,
          20.64702422004946,
          19.83754976996397,
          17.918770979538525,
          15.64180582169918,
          14.28495682718024,
          13.6931399037968,
          14.223918041078043,
          15.56636481646565,
          15.836453386020233
         ],
         "yaxis": "y"
        },
        {
         "hovertemplate": "week_day=Saturday<br>Hour=%{x}<br>avg(duration)=%{y}<extra></extra>",
         "legendgroup": "Saturday",
         "line": {
          "color": "#19d3f3",
          "dash": "solid"
         },
         "mode": "lines",
         "name": "Saturday",
         "orientation": "v",
         "showlegend": true,
         "type": "scatter",
         "x": [
          0,
          1,
          2,
          3,
          4,
          5,
          6,
          7,
          8,
          9,
          10,
          11,
          12,
          13,
          14,
          15,
          16,
          17,
          18,
          19,
          20,
          21,
          22,
          23
         ],
         "xaxis": "x",
         "y": [
          15.615358932656324,
          14.177556659232168,
          13.113731032430804,
          13.406147333838794,
          13.470327578062484,
          14.11311975803458,
          12.836288302946183,
          12.417762384143076,
          13.177060360064456,
          12.610516992594318,
          12.803216390841081,
          13.811927259949787,
          14.463357843137217,
          14.74332070080981,
          15.232300410930401,
          16.006264069315993,
          15.933711138604043,
          15.97833450003759,
          15.363818568701673,
          14.922347998445884,
          13.99187421398435,
          13.794376820811976,
          14.56630455382283,
          15.157200981679546
         ],
         "yaxis": "y"
        },
        {
         "hovertemplate": "week_day=Sunday<br>Hour=%{x}<br>avg(duration)=%{y}<extra></extra>",
         "legendgroup": "Sunday",
         "line": {
          "color": "#FF6692",
          "dash": "solid"
         },
         "mode": "lines",
         "name": "Sunday",
         "orientation": "v",
         "showlegend": true,
         "type": "scatter",
         "x": [
          0,
          1,
          2,
          3,
          4,
          5,
          6,
          7,
          8,
          9,
          10,
          11,
          12,
          13,
          14,
          15,
          16,
          17,
          18,
          19,
          20,
          21,
          22,
          23
         ],
         "xaxis": "x",
         "y": [
          14.919108573884508,
          13.994713649588187,
          13.361759970881863,
          13.249189342823966,
          13.705334767025073,
          14.00161290322579,
          13.785845007451533,
          12.617955911823632,
          12.344281437739657,
          11.805145798208702,
          12.386486661991203,
          13.446588386171625,
          14.40755980037856,
          15.266348182934689,
          16.563321601579133,
          17.24417347703675,
          17.369048653030536,
          16.979877765570667,
          16.438911368258314,
          14.894301199794146,
          14.405559795155352,
          14.226036087520994,
          14.350845732575314,
          13.953269134633134
         ],
         "yaxis": "y"
        }
       ],
       "layout": {
        "legend": {
         "title": {
          "text": "week_day"
         },
         "tracegroupgap": 0
        },
        "margin": {
         "t": 60
        },
        "template": {
         "data": {
          "bar": [
           {
            "error_x": {
             "color": "#2a3f5f"
            },
            "error_y": {
             "color": "#2a3f5f"
            },
            "marker": {
             "line": {
              "color": "#E5ECF6",
              "width": 0.5
             }
            },
            "type": "bar"
           }
          ],
          "barpolar": [
           {
            "marker": {
             "line": {
              "color": "#E5ECF6",
              "width": 0.5
             }
            },
            "type": "barpolar"
           }
          ],
          "carpet": [
           {
            "aaxis": {
             "endlinecolor": "#2a3f5f",
             "gridcolor": "white",
             "linecolor": "white",
             "minorgridcolor": "white",
             "startlinecolor": "#2a3f5f"
            },
            "baxis": {
             "endlinecolor": "#2a3f5f",
             "gridcolor": "white",
             "linecolor": "white",
             "minorgridcolor": "white",
             "startlinecolor": "#2a3f5f"
            },
            "type": "carpet"
           }
          ],
          "choropleth": [
           {
            "colorbar": {
             "outlinewidth": 0,
             "ticks": ""
            },
            "type": "choropleth"
           }
          ],
          "contour": [
           {
            "colorbar": {
             "outlinewidth": 0,
             "ticks": ""
            },
            "colorscale": [
             [
              0,
              "#0d0887"
             ],
             [
              0.1111111111111111,
              "#46039f"
             ],
             [
              0.2222222222222222,
              "#7201a8"
             ],
             [
              0.3333333333333333,
              "#9c179e"
             ],
             [
              0.4444444444444444,
              "#bd3786"
             ],
             [
              0.5555555555555556,
              "#d8576b"
             ],
             [
              0.6666666666666666,
              "#ed7953"
             ],
             [
              0.7777777777777778,
              "#fb9f3a"
             ],
             [
              0.8888888888888888,
              "#fdca26"
             ],
             [
              1,
              "#f0f921"
             ]
            ],
            "type": "contour"
           }
          ],
          "contourcarpet": [
           {
            "colorbar": {
             "outlinewidth": 0,
             "ticks": ""
            },
            "type": "contourcarpet"
           }
          ],
          "heatmap": [
           {
            "colorbar": {
             "outlinewidth": 0,
             "ticks": ""
            },
            "colorscale": [
             [
              0,
              "#0d0887"
             ],
             [
              0.1111111111111111,
              "#46039f"
             ],
             [
              0.2222222222222222,
              "#7201a8"
             ],
             [
              0.3333333333333333,
              "#9c179e"
             ],
             [
              0.4444444444444444,
              "#bd3786"
             ],
             [
              0.5555555555555556,
              "#d8576b"
             ],
             [
              0.6666666666666666,
              "#ed7953"
             ],
             [
              0.7777777777777778,
              "#fb9f3a"
             ],
             [
              0.8888888888888888,
              "#fdca26"
             ],
             [
              1,
              "#f0f921"
             ]
            ],
            "type": "heatmap"
           }
          ],
          "heatmapgl": [
           {
            "colorbar": {
             "outlinewidth": 0,
             "ticks": ""
            },
            "colorscale": [
             [
              0,
              "#0d0887"
             ],
             [
              0.1111111111111111,
              "#46039f"
             ],
             [
              0.2222222222222222,
              "#7201a8"
             ],
             [
              0.3333333333333333,
              "#9c179e"
             ],
             [
              0.4444444444444444,
              "#bd3786"
             ],
             [
              0.5555555555555556,
              "#d8576b"
             ],
             [
              0.6666666666666666,
              "#ed7953"
             ],
             [
              0.7777777777777778,
              "#fb9f3a"
             ],
             [
              0.8888888888888888,
              "#fdca26"
             ],
             [
              1,
              "#f0f921"
             ]
            ],
            "type": "heatmapgl"
           }
          ],
          "histogram": [
           {
            "marker": {
             "colorbar": {
              "outlinewidth": 0,
              "ticks": ""
             }
            },
            "type": "histogram"
           }
          ],
          "histogram2d": [
           {
            "colorbar": {
             "outlinewidth": 0,
             "ticks": ""
            },
            "colorscale": [
             [
              0,
              "#0d0887"
             ],
             [
              0.1111111111111111,
              "#46039f"
             ],
             [
              0.2222222222222222,
              "#7201a8"
             ],
             [
              0.3333333333333333,
              "#9c179e"
             ],
             [
              0.4444444444444444,
              "#bd3786"
             ],
             [
              0.5555555555555556,
              "#d8576b"
             ],
             [
              0.6666666666666666,
              "#ed7953"
             ],
             [
              0.7777777777777778,
              "#fb9f3a"
             ],
             [
              0.8888888888888888,
              "#fdca26"
             ],
             [
              1,
              "#f0f921"
             ]
            ],
            "type": "histogram2d"
           }
          ],
          "histogram2dcontour": [
           {
            "colorbar": {
             "outlinewidth": 0,
             "ticks": ""
            },
            "colorscale": [
             [
              0,
              "#0d0887"
             ],
             [
              0.1111111111111111,
              "#46039f"
             ],
             [
              0.2222222222222222,
              "#7201a8"
             ],
             [
              0.3333333333333333,
              "#9c179e"
             ],
             [
              0.4444444444444444,
              "#bd3786"
             ],
             [
              0.5555555555555556,
              "#d8576b"
             ],
             [
              0.6666666666666666,
              "#ed7953"
             ],
             [
              0.7777777777777778,
              "#fb9f3a"
             ],
             [
              0.8888888888888888,
              "#fdca26"
             ],
             [
              1,
              "#f0f921"
             ]
            ],
            "type": "histogram2dcontour"
           }
          ],
          "mesh3d": [
           {
            "colorbar": {
             "outlinewidth": 0,
             "ticks": ""
            },
            "type": "mesh3d"
           }
          ],
          "parcoords": [
           {
            "line": {
             "colorbar": {
              "outlinewidth": 0,
              "ticks": ""
             }
            },
            "type": "parcoords"
           }
          ],
          "pie": [
           {
            "automargin": true,
            "type": "pie"
           }
          ],
          "scatter": [
           {
            "marker": {
             "colorbar": {
              "outlinewidth": 0,
              "ticks": ""
             }
            },
            "type": "scatter"
           }
          ],
          "scatter3d": [
           {
            "line": {
             "colorbar": {
              "outlinewidth": 0,
              "ticks": ""
             }
            },
            "marker": {
             "colorbar": {
              "outlinewidth": 0,
              "ticks": ""
             }
            },
            "type": "scatter3d"
           }
          ],
          "scattercarpet": [
           {
            "marker": {
             "colorbar": {
              "outlinewidth": 0,
              "ticks": ""
             }
            },
            "type": "scattercarpet"
           }
          ],
          "scattergeo": [
           {
            "marker": {
             "colorbar": {
              "outlinewidth": 0,
              "ticks": ""
             }
            },
            "type": "scattergeo"
           }
          ],
          "scattergl": [
           {
            "marker": {
             "colorbar": {
              "outlinewidth": 0,
              "ticks": ""
             }
            },
            "type": "scattergl"
           }
          ],
          "scattermapbox": [
           {
            "marker": {
             "colorbar": {
              "outlinewidth": 0,
              "ticks": ""
             }
            },
            "type": "scattermapbox"
           }
          ],
          "scatterpolar": [
           {
            "marker": {
             "colorbar": {
              "outlinewidth": 0,
              "ticks": ""
             }
            },
            "type": "scatterpolar"
           }
          ],
          "scatterpolargl": [
           {
            "marker": {
             "colorbar": {
              "outlinewidth": 0,
              "ticks": ""
             }
            },
            "type": "scatterpolargl"
           }
          ],
          "scatterternary": [
           {
            "marker": {
             "colorbar": {
              "outlinewidth": 0,
              "ticks": ""
             }
            },
            "type": "scatterternary"
           }
          ],
          "surface": [
           {
            "colorbar": {
             "outlinewidth": 0,
             "ticks": ""
            },
            "colorscale": [
             [
              0,
              "#0d0887"
             ],
             [
              0.1111111111111111,
              "#46039f"
             ],
             [
              0.2222222222222222,
              "#7201a8"
             ],
             [
              0.3333333333333333,
              "#9c179e"
             ],
             [
              0.4444444444444444,
              "#bd3786"
             ],
             [
              0.5555555555555556,
              "#d8576b"
             ],
             [
              0.6666666666666666,
              "#ed7953"
             ],
             [
              0.7777777777777778,
              "#fb9f3a"
             ],
             [
              0.8888888888888888,
              "#fdca26"
             ],
             [
              1,
              "#f0f921"
             ]
            ],
            "type": "surface"
           }
          ],
          "table": [
           {
            "cells": {
             "fill": {
              "color": "#EBF0F8"
             },
             "line": {
              "color": "white"
             }
            },
            "header": {
             "fill": {
              "color": "#C8D4E3"
             },
             "line": {
              "color": "white"
             }
            },
            "type": "table"
           }
          ]
         },
         "layout": {
          "annotationdefaults": {
           "arrowcolor": "#2a3f5f",
           "arrowhead": 0,
           "arrowwidth": 1
          },
          "coloraxis": {
           "colorbar": {
            "outlinewidth": 0,
            "ticks": ""
           }
          },
          "colorscale": {
           "diverging": [
            [
             0,
             "#8e0152"
            ],
            [
             0.1,
             "#c51b7d"
            ],
            [
             0.2,
             "#de77ae"
            ],
            [
             0.3,
             "#f1b6da"
            ],
            [
             0.4,
             "#fde0ef"
            ],
            [
             0.5,
             "#f7f7f7"
            ],
            [
             0.6,
             "#e6f5d0"
            ],
            [
             0.7,
             "#b8e186"
            ],
            [
             0.8,
             "#7fbc41"
            ],
            [
             0.9,
             "#4d9221"
            ],
            [
             1,
             "#276419"
            ]
           ],
           "sequential": [
            [
             0,
             "#0d0887"
            ],
            [
             0.1111111111111111,
             "#46039f"
            ],
            [
             0.2222222222222222,
             "#7201a8"
            ],
            [
             0.3333333333333333,
             "#9c179e"
            ],
            [
             0.4444444444444444,
             "#bd3786"
            ],
            [
             0.5555555555555556,
             "#d8576b"
            ],
            [
             0.6666666666666666,
             "#ed7953"
            ],
            [
             0.7777777777777778,
             "#fb9f3a"
            ],
            [
             0.8888888888888888,
             "#fdca26"
            ],
            [
             1,
             "#f0f921"
            ]
           ],
           "sequentialminus": [
            [
             0,
             "#0d0887"
            ],
            [
             0.1111111111111111,
             "#46039f"
            ],
            [
             0.2222222222222222,
             "#7201a8"
            ],
            [
             0.3333333333333333,
             "#9c179e"
            ],
            [
             0.4444444444444444,
             "#bd3786"
            ],
            [
             0.5555555555555556,
             "#d8576b"
            ],
            [
             0.6666666666666666,
             "#ed7953"
            ],
            [
             0.7777777777777778,
             "#fb9f3a"
            ],
            [
             0.8888888888888888,
             "#fdca26"
            ],
            [
             1,
             "#f0f921"
            ]
           ]
          },
          "colorway": [
           "#636efa",
           "#EF553B",
           "#00cc96",
           "#ab63fa",
           "#FFA15A",
           "#19d3f3",
           "#FF6692",
           "#B6E880",
           "#FF97FF",
           "#FECB52"
          ],
          "font": {
           "color": "#2a3f5f"
          },
          "geo": {
           "bgcolor": "white",
           "lakecolor": "white",
           "landcolor": "#E5ECF6",
           "showlakes": true,
           "showland": true,
           "subunitcolor": "white"
          },
          "hoverlabel": {
           "align": "left"
          },
          "hovermode": "closest",
          "mapbox": {
           "style": "light"
          },
          "paper_bgcolor": "white",
          "plot_bgcolor": "#E5ECF6",
          "polar": {
           "angularaxis": {
            "gridcolor": "white",
            "linecolor": "white",
            "ticks": ""
           },
           "bgcolor": "#E5ECF6",
           "radialaxis": {
            "gridcolor": "white",
            "linecolor": "white",
            "ticks": ""
           }
          },
          "scene": {
           "xaxis": {
            "backgroundcolor": "#E5ECF6",
            "gridcolor": "white",
            "gridwidth": 2,
            "linecolor": "white",
            "showbackground": true,
            "ticks": "",
            "zerolinecolor": "white"
           },
           "yaxis": {
            "backgroundcolor": "#E5ECF6",
            "gridcolor": "white",
            "gridwidth": 2,
            "linecolor": "white",
            "showbackground": true,
            "ticks": "",
            "zerolinecolor": "white"
           },
           "zaxis": {
            "backgroundcolor": "#E5ECF6",
            "gridcolor": "white",
            "gridwidth": 2,
            "linecolor": "white",
            "showbackground": true,
            "ticks": "",
            "zerolinecolor": "white"
           }
          },
          "shapedefaults": {
           "line": {
            "color": "#2a3f5f"
           }
          },
          "ternary": {
           "aaxis": {
            "gridcolor": "white",
            "linecolor": "white",
            "ticks": ""
           },
           "baxis": {
            "gridcolor": "white",
            "linecolor": "white",
            "ticks": ""
           },
           "bgcolor": "#E5ECF6",
           "caxis": {
            "gridcolor": "white",
            "linecolor": "white",
            "ticks": ""
           }
          },
          "title": {
           "x": 0.05
          },
          "xaxis": {
           "automargin": true,
           "gridcolor": "white",
           "linecolor": "white",
           "ticks": "",
           "title": {
            "standoff": 15
           },
           "zerolinecolor": "white",
           "zerolinewidth": 2
          },
          "yaxis": {
           "automargin": true,
           "gridcolor": "white",
           "linecolor": "white",
           "ticks": "",
           "title": {
            "standoff": 15
           },
           "zerolinecolor": "white",
           "zerolinewidth": 2
          }
         }
        },
        "xaxis": {
         "anchor": "y",
         "domain": [
          0,
          1
         ],
         "title": {
          "text": "Hour"
         }
        },
        "yaxis": {
         "anchor": "x",
         "domain": [
          0,
          1
         ],
         "title": {
          "text": "avg(duration)"
         }
        }
       }
      },
      "text/html": [
       "<div>\n",
       "        \n",
       "        \n",
       "            <div id=\"91ffd695-0831-4e45-b6f8-831c039b776e\" class=\"plotly-graph-div\" style=\"height:525px; width:100%;\"></div>\n",
       "            <script type=\"text/javascript\">\n",
       "                require([\"plotly\"], function(Plotly) {\n",
       "                    window.PLOTLYENV=window.PLOTLYENV || {};\n",
       "                    \n",
       "                if (document.getElementById(\"91ffd695-0831-4e45-b6f8-831c039b776e\")) {\n",
       "                    Plotly.newPlot(\n",
       "                        '91ffd695-0831-4e45-b6f8-831c039b776e',\n",
       "                        [{\"hovertemplate\": \"week_day=Monday<br>Hour=%{x}<br>avg(duration)=%{y}<extra></extra>\", \"legendgroup\": \"Monday\", \"line\": {\"color\": \"#636efa\", \"dash\": \"solid\"}, \"mode\": \"lines\", \"name\": \"Monday\", \"orientation\": \"v\", \"showlegend\": true, \"type\": \"scatter\", \"x\": [0, 1, 2, 3, 4, 5, 6, 7, 8, 9, 10, 11, 12, 13, 14, 15, 16, 17, 18, 19, 20, 21, 22, 23], \"xaxis\": \"x\", \"y\": [13.932658204599703, 13.903541249191594, 13.035377133750668, 13.013446612915354, 14.77759420085198, 13.349521417125027, 12.986536212722166, 14.02490030191063, 15.791133254841117, 15.996362027390997, 16.4639256851077, 16.966292920285866, 16.521318072315157, 16.524314433439418, 17.365815561077724, 18.35599150494063, 17.134419814620532, 16.517838129941758, 14.785964854357772, 12.667844923550486, 12.298303730600214, 12.480512671010036, 13.372671076838051, 13.578625719931084], \"yaxis\": \"y\"}, {\"hovertemplate\": \"week_day=Tuesday<br>Hour=%{x}<br>avg(duration)=%{y}<extra></extra>\", \"legendgroup\": \"Tuesday\", \"line\": {\"color\": \"#EF553B\", \"dash\": \"solid\"}, \"mode\": \"lines\", \"name\": \"Tuesday\", \"orientation\": \"v\", \"showlegend\": true, \"type\": \"scatter\", \"x\": [0, 1, 2, 3, 4, 5, 6, 7, 8, 9, 10, 11, 12, 13, 14, 15, 16, 17, 18, 19, 20, 21, 22, 23], \"xaxis\": \"x\", \"y\": [13.674834802481186, 13.67412620220502, 12.397466758978174, 12.1100931240153, 14.068157596371881, 11.991900289247013, 11.798583086009959, 13.754711354289832, 15.801641907740414, 16.566843009919523, 16.77792614454365, 17.590643697629364, 16.983445288259084, 17.098723873473546, 17.89199989849194, 18.109083308128476, 18.074753784820928, 17.952603971832314, 16.268200134409664, 14.010984193724173, 12.76119758230411, 13.463750185097233, 13.93797150761413, 13.835499464668075], \"yaxis\": \"y\"}, {\"hovertemplate\": \"week_day=Wednesday<br>Hour=%{x}<br>avg(duration)=%{y}<extra></extra>\", \"legendgroup\": \"Wednesday\", \"line\": {\"color\": \"#00cc96\", \"dash\": \"solid\"}, \"mode\": \"lines\", \"name\": \"Wednesday\", \"orientation\": \"v\", \"showlegend\": true, \"type\": \"scatter\", \"x\": [0, 1, 2, 3, 4, 5, 6, 7, 8, 9, 10, 11, 12, 13, 14, 15, 16, 17, 18, 19, 20, 21, 22, 23], \"xaxis\": \"x\", \"y\": [13.311779302998328, 12.677764950733351, 12.822455556152324, 12.641715534560447, 12.959342525101734, 12.215261321369653, 12.095918893219743, 13.8044333975855, 15.671848451240896, 16.62115930967218, 16.998784432232075, 17.654443562292897, 18.15677712973856, 18.67300529178906, 19.55991108153885, 19.983879479384658, 20.20661885106543, 19.360647311746416, 17.172128874033397, 15.085430611744506, 13.662989203127893, 13.81877050025167, 14.940224411393121, 14.785292648149674], \"yaxis\": \"y\"}, {\"hovertemplate\": \"week_day=Thursday<br>Hour=%{x}<br>avg(duration)=%{y}<extra></extra>\", \"legendgroup\": \"Thursday\", \"line\": {\"color\": \"#ab63fa\", \"dash\": \"solid\"}, \"mode\": \"lines\", \"name\": \"Thursday\", \"orientation\": \"v\", \"showlegend\": true, \"type\": \"scatter\", \"x\": [0, 1, 2, 3, 4, 5, 6, 7, 8, 9, 10, 11, 12, 13, 14, 15, 16, 17, 18, 19, 20, 21, 22, 23], \"xaxis\": \"x\", \"y\": [14.391126025972834, 12.289161221570986, 46.17730512552772, 12.496636597644605, 13.783511260032757, 13.196034649050986, 12.389033752337806, 13.866716377497736, 15.552232354440026, 16.535776728784036, 17.501627402292026, 18.145828302243306, 17.98955983096352, 18.548687740274975, 19.96848744754331, 30.358525370480642, 20.91842994286565, 19.687074988944303, 17.120222829410757, 14.833086633550527, 13.997325708425246, 14.844748396726988, 15.699593886024704, 14.869497379827262], \"yaxis\": \"y\"}, {\"hovertemplate\": \"week_day=Friday<br>Hour=%{x}<br>avg(duration)=%{y}<extra></extra>\", \"legendgroup\": \"Friday\", \"line\": {\"color\": \"#FFA15A\", \"dash\": \"solid\"}, \"mode\": \"lines\", \"name\": \"Friday\", \"orientation\": \"v\", \"showlegend\": true, \"type\": \"scatter\", \"x\": [0, 1, 2, 3, 4, 5, 6, 7, 8, 9, 10, 11, 12, 13, 14, 15, 16, 17, 18, 19, 20, 21, 22, 23], \"xaxis\": \"x\", \"y\": [14.386625000000011, 13.355969352549852, 12.7829881955814, 13.193026171803755, 14.308410976025462, 12.997148764549745, 12.377274575811661, 13.741009281800176, 15.346495546960696, 15.978132191681482, 17.092903233843245, 17.842545362263728, 17.881281836578008, 18.16142669271336, 19.409752029628976, 20.64702422004946, 19.83754976996397, 17.918770979538525, 15.64180582169918, 14.28495682718024, 13.6931399037968, 14.223918041078043, 15.56636481646565, 15.836453386020233], \"yaxis\": \"y\"}, {\"hovertemplate\": \"week_day=Saturday<br>Hour=%{x}<br>avg(duration)=%{y}<extra></extra>\", \"legendgroup\": \"Saturday\", \"line\": {\"color\": \"#19d3f3\", \"dash\": \"solid\"}, \"mode\": \"lines\", \"name\": \"Saturday\", \"orientation\": \"v\", \"showlegend\": true, \"type\": \"scatter\", \"x\": [0, 1, 2, 3, 4, 5, 6, 7, 8, 9, 10, 11, 12, 13, 14, 15, 16, 17, 18, 19, 20, 21, 22, 23], \"xaxis\": \"x\", \"y\": [15.615358932656324, 14.177556659232168, 13.113731032430804, 13.406147333838794, 13.470327578062484, 14.11311975803458, 12.836288302946183, 12.417762384143076, 13.177060360064456, 12.610516992594318, 12.803216390841081, 13.811927259949787, 14.463357843137217, 14.74332070080981, 15.232300410930401, 16.006264069315993, 15.933711138604043, 15.97833450003759, 15.363818568701673, 14.922347998445884, 13.99187421398435, 13.794376820811976, 14.56630455382283, 15.157200981679546], \"yaxis\": \"y\"}, {\"hovertemplate\": \"week_day=Sunday<br>Hour=%{x}<br>avg(duration)=%{y}<extra></extra>\", \"legendgroup\": \"Sunday\", \"line\": {\"color\": \"#FF6692\", \"dash\": \"solid\"}, \"mode\": \"lines\", \"name\": \"Sunday\", \"orientation\": \"v\", \"showlegend\": true, \"type\": \"scatter\", \"x\": [0, 1, 2, 3, 4, 5, 6, 7, 8, 9, 10, 11, 12, 13, 14, 15, 16, 17, 18, 19, 20, 21, 22, 23], \"xaxis\": \"x\", \"y\": [14.919108573884508, 13.994713649588187, 13.361759970881863, 13.249189342823966, 13.705334767025073, 14.00161290322579, 13.785845007451533, 12.617955911823632, 12.344281437739657, 11.805145798208702, 12.386486661991203, 13.446588386171625, 14.40755980037856, 15.266348182934689, 16.563321601579133, 17.24417347703675, 17.369048653030536, 16.979877765570667, 16.438911368258314, 14.894301199794146, 14.405559795155352, 14.226036087520994, 14.350845732575314, 13.953269134633134], \"yaxis\": \"y\"}],\n",
       "                        {\"legend\": {\"title\": {\"text\": \"week_day\"}, \"tracegroupgap\": 0}, \"margin\": {\"t\": 60}, \"template\": {\"data\": {\"bar\": [{\"error_x\": {\"color\": \"#2a3f5f\"}, \"error_y\": {\"color\": \"#2a3f5f\"}, \"marker\": {\"line\": {\"color\": \"#E5ECF6\", \"width\": 0.5}}, \"type\": \"bar\"}], \"barpolar\": [{\"marker\": {\"line\": {\"color\": \"#E5ECF6\", \"width\": 0.5}}, \"type\": \"barpolar\"}], \"carpet\": [{\"aaxis\": {\"endlinecolor\": \"#2a3f5f\", \"gridcolor\": \"white\", \"linecolor\": \"white\", \"minorgridcolor\": \"white\", \"startlinecolor\": \"#2a3f5f\"}, \"baxis\": {\"endlinecolor\": \"#2a3f5f\", \"gridcolor\": \"white\", \"linecolor\": \"white\", \"minorgridcolor\": \"white\", \"startlinecolor\": \"#2a3f5f\"}, \"type\": \"carpet\"}], \"choropleth\": [{\"colorbar\": {\"outlinewidth\": 0, \"ticks\": \"\"}, \"type\": \"choropleth\"}], \"contour\": [{\"colorbar\": {\"outlinewidth\": 0, \"ticks\": \"\"}, \"colorscale\": [[0.0, \"#0d0887\"], [0.1111111111111111, \"#46039f\"], [0.2222222222222222, \"#7201a8\"], [0.3333333333333333, \"#9c179e\"], [0.4444444444444444, \"#bd3786\"], [0.5555555555555556, \"#d8576b\"], [0.6666666666666666, \"#ed7953\"], [0.7777777777777778, \"#fb9f3a\"], [0.8888888888888888, \"#fdca26\"], [1.0, \"#f0f921\"]], \"type\": \"contour\"}], \"contourcarpet\": [{\"colorbar\": {\"outlinewidth\": 0, \"ticks\": \"\"}, \"type\": \"contourcarpet\"}], \"heatmap\": [{\"colorbar\": {\"outlinewidth\": 0, \"ticks\": \"\"}, \"colorscale\": [[0.0, \"#0d0887\"], [0.1111111111111111, \"#46039f\"], [0.2222222222222222, \"#7201a8\"], [0.3333333333333333, \"#9c179e\"], [0.4444444444444444, \"#bd3786\"], [0.5555555555555556, \"#d8576b\"], [0.6666666666666666, \"#ed7953\"], [0.7777777777777778, \"#fb9f3a\"], [0.8888888888888888, \"#fdca26\"], [1.0, \"#f0f921\"]], \"type\": \"heatmap\"}], \"heatmapgl\": [{\"colorbar\": {\"outlinewidth\": 0, \"ticks\": \"\"}, \"colorscale\": [[0.0, \"#0d0887\"], [0.1111111111111111, \"#46039f\"], [0.2222222222222222, \"#7201a8\"], [0.3333333333333333, \"#9c179e\"], [0.4444444444444444, \"#bd3786\"], [0.5555555555555556, \"#d8576b\"], [0.6666666666666666, \"#ed7953\"], [0.7777777777777778, \"#fb9f3a\"], [0.8888888888888888, \"#fdca26\"], [1.0, \"#f0f921\"]], \"type\": \"heatmapgl\"}], \"histogram\": [{\"marker\": {\"colorbar\": {\"outlinewidth\": 0, \"ticks\": \"\"}}, \"type\": \"histogram\"}], \"histogram2d\": [{\"colorbar\": {\"outlinewidth\": 0, \"ticks\": \"\"}, \"colorscale\": [[0.0, \"#0d0887\"], [0.1111111111111111, \"#46039f\"], [0.2222222222222222, \"#7201a8\"], [0.3333333333333333, \"#9c179e\"], [0.4444444444444444, \"#bd3786\"], [0.5555555555555556, \"#d8576b\"], [0.6666666666666666, \"#ed7953\"], [0.7777777777777778, \"#fb9f3a\"], [0.8888888888888888, \"#fdca26\"], [1.0, \"#f0f921\"]], \"type\": \"histogram2d\"}], \"histogram2dcontour\": [{\"colorbar\": {\"outlinewidth\": 0, \"ticks\": \"\"}, \"colorscale\": [[0.0, \"#0d0887\"], [0.1111111111111111, \"#46039f\"], [0.2222222222222222, \"#7201a8\"], [0.3333333333333333, \"#9c179e\"], [0.4444444444444444, \"#bd3786\"], [0.5555555555555556, \"#d8576b\"], [0.6666666666666666, \"#ed7953\"], [0.7777777777777778, \"#fb9f3a\"], [0.8888888888888888, \"#fdca26\"], [1.0, \"#f0f921\"]], \"type\": \"histogram2dcontour\"}], \"mesh3d\": [{\"colorbar\": {\"outlinewidth\": 0, \"ticks\": \"\"}, \"type\": \"mesh3d\"}], \"parcoords\": [{\"line\": {\"colorbar\": {\"outlinewidth\": 0, \"ticks\": \"\"}}, \"type\": \"parcoords\"}], \"pie\": [{\"automargin\": true, \"type\": \"pie\"}], \"scatter\": [{\"marker\": {\"colorbar\": {\"outlinewidth\": 0, \"ticks\": \"\"}}, \"type\": \"scatter\"}], \"scatter3d\": [{\"line\": {\"colorbar\": {\"outlinewidth\": 0, \"ticks\": \"\"}}, \"marker\": {\"colorbar\": {\"outlinewidth\": 0, \"ticks\": \"\"}}, \"type\": \"scatter3d\"}], \"scattercarpet\": [{\"marker\": {\"colorbar\": {\"outlinewidth\": 0, \"ticks\": \"\"}}, \"type\": \"scattercarpet\"}], \"scattergeo\": [{\"marker\": {\"colorbar\": {\"outlinewidth\": 0, \"ticks\": \"\"}}, \"type\": \"scattergeo\"}], \"scattergl\": [{\"marker\": {\"colorbar\": {\"outlinewidth\": 0, \"ticks\": \"\"}}, \"type\": \"scattergl\"}], \"scattermapbox\": [{\"marker\": {\"colorbar\": {\"outlinewidth\": 0, \"ticks\": \"\"}}, \"type\": \"scattermapbox\"}], \"scatterpolar\": [{\"marker\": {\"colorbar\": {\"outlinewidth\": 0, \"ticks\": \"\"}}, \"type\": \"scatterpolar\"}], \"scatterpolargl\": [{\"marker\": {\"colorbar\": {\"outlinewidth\": 0, \"ticks\": \"\"}}, \"type\": \"scatterpolargl\"}], \"scatterternary\": [{\"marker\": {\"colorbar\": {\"outlinewidth\": 0, \"ticks\": \"\"}}, \"type\": \"scatterternary\"}], \"surface\": [{\"colorbar\": {\"outlinewidth\": 0, \"ticks\": \"\"}, \"colorscale\": [[0.0, \"#0d0887\"], [0.1111111111111111, \"#46039f\"], [0.2222222222222222, \"#7201a8\"], [0.3333333333333333, \"#9c179e\"], [0.4444444444444444, \"#bd3786\"], [0.5555555555555556, \"#d8576b\"], [0.6666666666666666, \"#ed7953\"], [0.7777777777777778, \"#fb9f3a\"], [0.8888888888888888, \"#fdca26\"], [1.0, \"#f0f921\"]], \"type\": \"surface\"}], \"table\": [{\"cells\": {\"fill\": {\"color\": \"#EBF0F8\"}, \"line\": {\"color\": \"white\"}}, \"header\": {\"fill\": {\"color\": \"#C8D4E3\"}, \"line\": {\"color\": \"white\"}}, \"type\": \"table\"}]}, \"layout\": {\"annotationdefaults\": {\"arrowcolor\": \"#2a3f5f\", \"arrowhead\": 0, \"arrowwidth\": 1}, \"coloraxis\": {\"colorbar\": {\"outlinewidth\": 0, \"ticks\": \"\"}}, \"colorscale\": {\"diverging\": [[0, \"#8e0152\"], [0.1, \"#c51b7d\"], [0.2, \"#de77ae\"], [0.3, \"#f1b6da\"], [0.4, \"#fde0ef\"], [0.5, \"#f7f7f7\"], [0.6, \"#e6f5d0\"], [0.7, \"#b8e186\"], [0.8, \"#7fbc41\"], [0.9, \"#4d9221\"], [1, \"#276419\"]], \"sequential\": [[0.0, \"#0d0887\"], [0.1111111111111111, \"#46039f\"], [0.2222222222222222, \"#7201a8\"], [0.3333333333333333, \"#9c179e\"], [0.4444444444444444, \"#bd3786\"], [0.5555555555555556, \"#d8576b\"], [0.6666666666666666, \"#ed7953\"], [0.7777777777777778, \"#fb9f3a\"], [0.8888888888888888, \"#fdca26\"], [1.0, \"#f0f921\"]], \"sequentialminus\": [[0.0, \"#0d0887\"], [0.1111111111111111, \"#46039f\"], [0.2222222222222222, \"#7201a8\"], [0.3333333333333333, \"#9c179e\"], [0.4444444444444444, \"#bd3786\"], [0.5555555555555556, \"#d8576b\"], [0.6666666666666666, \"#ed7953\"], [0.7777777777777778, \"#fb9f3a\"], [0.8888888888888888, \"#fdca26\"], [1.0, \"#f0f921\"]]}, \"colorway\": [\"#636efa\", \"#EF553B\", \"#00cc96\", \"#ab63fa\", \"#FFA15A\", \"#19d3f3\", \"#FF6692\", \"#B6E880\", \"#FF97FF\", \"#FECB52\"], \"font\": {\"color\": \"#2a3f5f\"}, \"geo\": {\"bgcolor\": \"white\", \"lakecolor\": \"white\", \"landcolor\": \"#E5ECF6\", \"showlakes\": true, \"showland\": true, \"subunitcolor\": \"white\"}, \"hoverlabel\": {\"align\": \"left\"}, \"hovermode\": \"closest\", \"mapbox\": {\"style\": \"light\"}, \"paper_bgcolor\": \"white\", \"plot_bgcolor\": \"#E5ECF6\", \"polar\": {\"angularaxis\": {\"gridcolor\": \"white\", \"linecolor\": \"white\", \"ticks\": \"\"}, \"bgcolor\": \"#E5ECF6\", \"radialaxis\": {\"gridcolor\": \"white\", \"linecolor\": \"white\", \"ticks\": \"\"}}, \"scene\": {\"xaxis\": {\"backgroundcolor\": \"#E5ECF6\", \"gridcolor\": \"white\", \"gridwidth\": 2, \"linecolor\": \"white\", \"showbackground\": true, \"ticks\": \"\", \"zerolinecolor\": \"white\"}, \"yaxis\": {\"backgroundcolor\": \"#E5ECF6\", \"gridcolor\": \"white\", \"gridwidth\": 2, \"linecolor\": \"white\", \"showbackground\": true, \"ticks\": \"\", \"zerolinecolor\": \"white\"}, \"zaxis\": {\"backgroundcolor\": \"#E5ECF6\", \"gridcolor\": \"white\", \"gridwidth\": 2, \"linecolor\": \"white\", \"showbackground\": true, \"ticks\": \"\", \"zerolinecolor\": \"white\"}}, \"shapedefaults\": {\"line\": {\"color\": \"#2a3f5f\"}}, \"ternary\": {\"aaxis\": {\"gridcolor\": \"white\", \"linecolor\": \"white\", \"ticks\": \"\"}, \"baxis\": {\"gridcolor\": \"white\", \"linecolor\": \"white\", \"ticks\": \"\"}, \"bgcolor\": \"#E5ECF6\", \"caxis\": {\"gridcolor\": \"white\", \"linecolor\": \"white\", \"ticks\": \"\"}}, \"title\": {\"x\": 0.05}, \"xaxis\": {\"automargin\": true, \"gridcolor\": \"white\", \"linecolor\": \"white\", \"ticks\": \"\", \"title\": {\"standoff\": 15}, \"zerolinecolor\": \"white\", \"zerolinewidth\": 2}, \"yaxis\": {\"automargin\": true, \"gridcolor\": \"white\", \"linecolor\": \"white\", \"ticks\": \"\", \"title\": {\"standoff\": 15}, \"zerolinecolor\": \"white\", \"zerolinewidth\": 2}}}, \"xaxis\": {\"anchor\": \"y\", \"domain\": [0.0, 1.0], \"title\": {\"text\": \"Hour\"}}, \"yaxis\": {\"anchor\": \"x\", \"domain\": [0.0, 1.0], \"title\": {\"text\": \"avg(duration)\"}}},\n",
       "                        {\"responsive\": true}\n",
       "                    ).then(function(){\n",
       "                            \n",
       "var gd = document.getElementById('91ffd695-0831-4e45-b6f8-831c039b776e');\n",
       "var x = new MutationObserver(function (mutations, observer) {{\n",
       "        var display = window.getComputedStyle(gd).display;\n",
       "        if (!display || display === 'none') {{\n",
       "            console.log([gd, 'removed!']);\n",
       "            Plotly.purge(gd);\n",
       "            observer.disconnect();\n",
       "        }}\n",
       "}});\n",
       "\n",
       "// Listen for the removal of the full notebook cells\n",
       "var notebookContainer = gd.closest('#notebook-container');\n",
       "if (notebookContainer) {{\n",
       "    x.observe(notebookContainer, {childList: true});\n",
       "}}\n",
       "\n",
       "// Listen for the clearing of the current output cell\n",
       "var outputEl = gd.closest('.output');\n",
       "if (outputEl) {{\n",
       "    x.observe(outputEl, {childList: true});\n",
       "}}\n",
       "\n",
       "                        })\n",
       "                };\n",
       "                });\n",
       "            </script>\n",
       "        </div>"
      ]
     },
     "metadata": {},
     "output_type": "display_data"
    }
   ],
   "source": [
    "fig = px.line(avg_trip_df, x='Hour', y='avg(duration)', color = \"week_day\")\n",
    "#fig.update_layout(title_text=\"Number of pickups on Fridays\")\n",
    "#fig.update_xaxes(title_text='Hour of day')\n",
    "#fig.update_yaxes(title_text='Trips count')\n",
    "fig.show()"
   ]
  },
  {
   "cell_type": "markdown",
   "metadata": {},
   "source": [
    "4. Plot the average number of ongoing trips"
   ]
  },
  {
   "cell_type": "code",
   "execution_count": null,
   "metadata": {},
   "outputs": [],
   "source": [
    "### WTF With this question? Haha ongoing? we are fucking looking at past data!!"
   ]
  },
  {
   "cell_type": "markdown",
   "metadata": {},
   "source": [
    "## Rides to the airports\n",
    "\n",
    "In order to find the longitude and lattitude of JFK and Newark airport as well as the longitude and magnitudes \n",
    "of Manhattan, you can use a service like [geojson.io](http://geojson.io/).\n",
    "Plot the following time series, indexed the day of the week and hour of the day"
   ]
  },
  {
   "cell_type": "code",
   "execution_count": null,
   "metadata": {},
   "outputs": [],
   "source": [
    "long_min = -74.10\n",
    "long_max = -73.70\n",
    "lat_min = 40.58\n",
    "lat_max = 40.90\n",
    "\n",
    "JFK_long = -73.78606796264648\n",
    "JFK_lat = 40.64274482191706"
   ]
  },
  {
   "cell_type": "markdown",
   "metadata": {},
   "source": [
    "1. Median duration of taxi trip leaving Midtown (Southern Manhattan) headed for JFK Airport"
   ]
  },
  {
   "cell_type": "code",
   "execution_count": null,
   "metadata": {},
   "outputs": [],
   "source": []
  },
  {
   "cell_type": "markdown",
   "metadata": {},
   "source": [
    "2. Median taxi duration of trip leaving from JFK Airport to Midtown (Southern Manhattan)"
   ]
  },
  {
   "cell_type": "code",
   "execution_count": 6,
   "metadata": {
    "ExecuteTime": {
     "end_time": "2020-06-03T09:17:53.512570Z",
     "start_time": "2020-06-03T09:17:53.094586Z"
    }
   },
   "outputs": [],
   "source": []
  },
  {
   "cell_type": "markdown",
   "metadata": {},
   "source": [
    "## Geographic information\n",
    "\n",
    "For this, you will need to find tools to display maps and to build choropeth maps.\n",
    "We let you look and find relevant tools to do this.\n",
    "\n",
    "1. Build a heatmap where color is a function of\n",
    "    1. number of `pickups`\n",
    "    2. number of `dropoffs`\n",
    "    3. number of `pickups` with dropoff at some airport (JFK, LaGuardia, Newark)\n",
    "2. Build a choropeth map where color is a function of\n",
    "    1. number of pickups in the area\n",
    "    1. ratio of number of payments by card/number of cash payments for pickups in the area\n",
    "    2. ratio of total fare/trip duration for dropoff in the area\n",
    "3. Build an interactive chorophet with a slider allowing the user to select an `hour of day` and where the color is a function of\n",
    "    1. average number of dropoffs in the area during that hour the day\n",
    "    2. average ratio of tip over total fare amount for pickups in the area at given hour of the day"
   ]
  },
  {
   "cell_type": "code",
   "execution_count": null,
   "metadata": {},
   "outputs": [],
   "source": [
    "spark.stop()"
   ]
  }
 ],
 "metadata": {
  "kernelspec": {
   "display_name": "Python 3",
   "language": "python",
   "name": "python3"
  },
  "language_info": {
   "codemirror_mode": {
    "name": "ipython",
    "version": 3
   },
   "file_extension": ".py",
   "mimetype": "text/x-python",
   "name": "python",
   "nbconvert_exporter": "python",
   "pygments_lexer": "ipython3",
   "version": "3.7.5"
  },
  "toc": {
   "base_numbering": 1,
   "nav_menu": {},
   "number_sections": true,
   "sideBar": true,
   "skip_h1_title": false,
   "title_cell": "Table of Contents",
   "title_sidebar": "Contents",
   "toc_cell": false,
   "toc_position": {
    "height": "calc(100% - 180px)",
    "left": "10px",
    "top": "150px",
    "width": "218.4103240966797px"
   },
   "toc_section_display": true,
   "toc_window_display": true
  }
 },
 "nbformat": 4,
 "nbformat_minor": 1
}
